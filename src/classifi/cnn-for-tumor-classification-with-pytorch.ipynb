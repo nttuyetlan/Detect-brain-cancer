{
 "cells": [
  {
   "cell_type": "markdown",
   "id": "08075b8a",
   "metadata": {
    "papermill": {
     "duration": 0.004733,
     "end_time": "2024-11-24T19:23:22.662265",
     "exception": false,
     "start_time": "2024-11-24T19:23:22.657532",
     "status": "completed"
    },
    "tags": []
   },
   "source": [
    "## **Import thư viện cần thiết**"
   ]
  },
  {
   "cell_type": "code",
   "execution_count": 1,
   "id": "a338743a",
   "metadata": {
    "execution": {
     "iopub.execute_input": "2024-11-24T19:23:22.671885Z",
     "iopub.status.busy": "2024-11-24T19:23:22.671131Z",
     "iopub.status.idle": "2024-11-24T19:23:24.361191Z",
     "shell.execute_reply": "2024-11-24T19:23:24.360545Z"
    },
    "papermill": {
     "duration": 1.696802,
     "end_time": "2024-11-24T19:23:24.363092",
     "exception": false,
     "start_time": "2024-11-24T19:23:22.666290",
     "status": "completed"
    },
    "tags": []
   },
   "outputs": [],
   "source": [
    "import numpy as np\n",
    "import pandas as pd\n",
    "import matplotlib.pyplot as plt\n",
    "import seaborn as sns\n",
    "import os\n",
    "import random\n",
    "\n",
    "from PIL import Image\n",
    "import copy\n",
    "import time\n",
    "\n",
    "import os\n",
    "os.environ[\"NO_ALBUMENTATIONS_UPDATE\"] = \"1\""
   ]
  },
  {
   "cell_type": "code",
   "execution_count": 2,
   "id": "51be0956",
   "metadata": {
    "execution": {
     "iopub.execute_input": "2024-11-24T19:23:24.372647Z",
     "iopub.status.busy": "2024-11-24T19:23:24.372030Z",
     "iopub.status.idle": "2024-11-24T19:23:29.587048Z",
     "shell.execute_reply": "2024-11-24T19:23:29.585999Z"
    },
    "papermill": {
     "duration": 5.221543,
     "end_time": "2024-11-24T19:23:29.588877",
     "exception": false,
     "start_time": "2024-11-24T19:23:24.367334",
     "status": "completed"
    },
    "tags": []
   },
   "outputs": [
    {
     "name": "stdout",
     "output_type": "stream",
     "text": [
      "Using device: cuda\n"
     ]
    }
   ],
   "source": [
    "import torch\n",
    "import torch.nn as nn\n",
    "import torch.optim as optim\n",
    "from torch.optim import lr_scheduler\n",
    "from torchvision import datasets, models, transforms\n",
    "from torch.utils.data import DataLoader, random_split\n",
    "from sklearn.metrics import confusion_matrix, classification_report\n",
    "\n",
    "import torch.nn.functional as F\n",
    "\n",
    "import albumentations as A\n",
    "from albumentations.pytorch import ToTensorV2\n",
    "\n",
    "device = torch.device(\"cuda\" if torch.cuda.is_available() else \"cpu\")\n",
    "print(f'Using device: {device}')\n"
   ]
  },
  {
   "cell_type": "markdown",
   "id": "fc196cf4",
   "metadata": {
    "papermill": {
     "duration": 0.003848,
     "end_time": "2024-11-24T19:23:29.598234",
     "exception": false,
     "start_time": "2024-11-24T19:23:29.594386",
     "status": "completed"
    },
    "tags": []
   },
   "source": [
    "## **Data Augmentation using Albumentations**"
   ]
  },
  {
   "cell_type": "code",
   "execution_count": 3,
   "id": "05d28cf6",
   "metadata": {
    "execution": {
     "iopub.execute_input": "2024-11-24T19:23:29.607667Z",
     "iopub.status.busy": "2024-11-24T19:23:29.606843Z",
     "iopub.status.idle": "2024-11-24T19:23:29.614399Z",
     "shell.execute_reply": "2024-11-24T19:23:29.613720Z"
    },
    "papermill": {
     "duration": 0.01377,
     "end_time": "2024-11-24T19:23:29.615898",
     "exception": false,
     "start_time": "2024-11-24T19:23:29.602128",
     "status": "completed"
    },
    "tags": []
   },
   "outputs": [],
   "source": [
    "data_transforms = {\n",
    "    'train': A.Compose([\n",
    "        A.Resize(224, 224),\n",
    "        A.RandomCrop(224, 224),\n",
    "        A.HorizontalFlip(),\n",
    "        A.RandomBrightnessContrast(),\n",
    "        A.Rotate(limit = 15),\n",
    "        A.CoarseDropout(max_holes = 1, max_height = 16, max_width = 16, fill_value = 0, mask_fill_value=None),\n",
    "        A.Normalize(mean= (0.485, 0.456, 0.406), std= (0.229, 0.224, 0.225)),\n",
    "        ToTensorV2(),\n",
    "    ]),\n",
    "    'val': A.Compose([\n",
    "        A.Resize(224, 224),\n",
    "        A.Normalize(mean=(0.485, 0.456, 0.406), std=(0.229, 0.224, 0.225)),\n",
    "        ToTensorV2(),\n",
    "    ])\n",
    "}"
   ]
  },
  {
   "cell_type": "markdown",
   "id": "dbf8261a",
   "metadata": {
    "papermill": {
     "duration": 0.003796,
     "end_time": "2024-11-24T19:23:29.623625",
     "exception": false,
     "start_time": "2024-11-24T19:23:29.619829",
     "status": "completed"
    },
    "tags": []
   },
   "source": [
    "## **Custom Dataset Loader**"
   ]
  },
  {
   "cell_type": "code",
   "execution_count": 4,
   "id": "1f5c5a0e",
   "metadata": {
    "execution": {
     "iopub.execute_input": "2024-11-24T19:23:29.632373Z",
     "iopub.status.busy": "2024-11-24T19:23:29.632104Z",
     "iopub.status.idle": "2024-11-24T19:23:29.636720Z",
     "shell.execute_reply": "2024-11-24T19:23:29.636089Z"
    },
    "papermill": {
     "duration": 0.010642,
     "end_time": "2024-11-24T19:23:29.638225",
     "exception": false,
     "start_time": "2024-11-24T19:23:29.627583",
     "status": "completed"
    },
    "tags": []
   },
   "outputs": [],
   "source": [
    "class CustomImageDataset(datasets.ImageFolder):\n",
    "    def __init__(self, root, transform=None):\n",
    "        super(CustomImageDataset, self).__init__(root, transform=None)\n",
    "        self.custom_transform = transform\n",
    "\n",
    "    def __getitem__(self, index):\n",
    "        image, label = super(CustomImageDataset, self).__getitem__(index)\n",
    "        image = np.array(image)\n",
    "        if self.custom_transform:\n",
    "            augmented = self.custom_transform(image = image)\n",
    "            image = augmented['image']\n",
    "        return image, label"
   ]
  },
  {
   "cell_type": "markdown",
   "id": "2688c71c",
   "metadata": {
    "papermill": {
     "duration": 0.003747,
     "end_time": "2024-11-24T19:23:29.645954",
     "exception": false,
     "start_time": "2024-11-24T19:23:29.642207",
     "status": "completed"
    },
    "tags": []
   },
   "source": [
    "## **Dataset Loading and Splitting**"
   ]
  },
  {
   "cell_type": "code",
   "execution_count": 5,
   "id": "7b9baea3",
   "metadata": {
    "execution": {
     "iopub.execute_input": "2024-11-24T19:23:29.654974Z",
     "iopub.status.busy": "2024-11-24T19:23:29.654505Z",
     "iopub.status.idle": "2024-11-24T19:23:34.153778Z",
     "shell.execute_reply": "2024-11-24T19:23:34.152902Z"
    },
    "papermill": {
     "duration": 4.506066,
     "end_time": "2024-11-24T19:23:34.155922",
     "exception": false,
     "start_time": "2024-11-24T19:23:29.649856",
     "status": "completed"
    },
    "tags": []
   },
   "outputs": [],
   "source": [
    "data_dir = '/kaggle/input/brain-tumor-mri-scans'\n",
    "full_dataset = CustomImageDataset(data_dir, transform=data_transforms['train'])\n",
    "\n",
    "train_size = int(0.7 * len(full_dataset))\n",
    "val_size = int(0.15 * len(full_dataset))\n",
    "test_size = len(full_dataset) - train_size - val_size\n",
    "train_dataset, val_dataset, test_dataset = random_split(full_dataset, [train_size, val_size, test_size])\n",
    "\n",
    "val_dataset.dataset.custom_transform = data_transforms['val']\n",
    "test_dataset.dataset.custom_transform = data_transforms['val']\n",
    "\n",
    "batch_size = 32\n",
    "train_loader = DataLoader(train_dataset, batch_size = batch_size, shuffle=True)\n",
    "val_loader = DataLoader(val_dataset, batch_size = batch_size, shuffle=False)\n",
    "test_loader = DataLoader(test_dataset, batch_size = batch_size, shuffle=False)\n"
   ]
  },
  {
   "cell_type": "markdown",
   "id": "cdd4baac",
   "metadata": {
    "papermill": {
     "duration": 0.003846,
     "end_time": "2024-11-24T19:23:34.164821",
     "exception": false,
     "start_time": "2024-11-24T19:23:34.160975",
     "status": "completed"
    },
    "tags": []
   },
   "source": [
    "## **Model Architecture**"
   ]
  },
  {
   "cell_type": "code",
   "execution_count": 6,
   "id": "841442f5",
   "metadata": {
    "execution": {
     "iopub.execute_input": "2024-11-24T19:23:34.173889Z",
     "iopub.status.busy": "2024-11-24T19:23:34.173615Z",
     "iopub.status.idle": "2024-11-24T19:23:34.620700Z",
     "shell.execute_reply": "2024-11-24T19:23:34.620020Z"
    },
    "papermill": {
     "duration": 0.453856,
     "end_time": "2024-11-24T19:23:34.622589",
     "exception": false,
     "start_time": "2024-11-24T19:23:34.168733",
     "status": "completed"
    },
    "tags": []
   },
   "outputs": [],
   "source": [
    "# Mô hình ResNet50\n",
    "# model = models.resnet50(pretrained=True)\n",
    "# num_ftrs = model.fc.in_features\n",
    "# model.fc = nn.Linear(num_ftrs, 4)\n",
    "# model = model.to(device)\n",
    "\n",
    "\n",
    "class CustomCNN(nn.Module):\n",
    "    def __init__(self, num_classes = 4):\n",
    "        super(CustomCNN, self).__init__()\n",
    "\n",
    "        # Convolution layers\n",
    "        self.conv1 = nn.Conv2d(3, 32, kernel_size=3, stride=1, padding=1)\n",
    "        self.conv2 = nn.Conv2d(32, 64, kernel_size=3, stride=1, padding=1)\n",
    "        self.conv3 = nn.Conv2d(64, 128, kernel_size=3, stride=1, padding=1)\n",
    "\n",
    "        # Pooling layer\n",
    "        self.pool = nn.MaxPool2d(kernel_size=2, stride=2)\n",
    "\n",
    "        # Fully connected layers \n",
    "        self.fc1 = nn.Linear(128 * 28 * 28, 256)\n",
    "        self.fc2 = nn.Linear(256, num_classes)\n",
    "\n",
    "        # Dropout to reduce overfitting\n",
    "        self.dropout = nn.Dropout(0.5)\n",
    "\n",
    "    def forward(self, x):\n",
    "        #Convolution + ReLU + Pooling\n",
    "        x = self.pool(F.relu(self.conv1(x)))\n",
    "        x = self.pool(F.relu(self.conv2(x)))\n",
    "        x = self.pool(F.relu(self.conv3(x)))\n",
    "\n",
    "        # Flatten the feature map\n",
    "        x = x.view(x.size(0), -1)\n",
    "\n",
    "        # Fully connected layers with dropout\n",
    "        x = F.relu(self.fc1(x))\n",
    "        x = self.dropout(x)\n",
    "        x = self.fc2(x)\n",
    "\n",
    "        return x\n",
    "\n",
    "model = CustomCNN(num_classes=4).to(device)"
   ]
  },
  {
   "cell_type": "markdown",
   "id": "6d6e7269",
   "metadata": {
    "papermill": {
     "duration": 0.003962,
     "end_time": "2024-11-24T19:23:34.631071",
     "exception": false,
     "start_time": "2024-11-24T19:23:34.627109",
     "status": "completed"
    },
    "tags": []
   },
   "source": [
    "## **Loss function and Optimizer**"
   ]
  },
  {
   "cell_type": "code",
   "execution_count": 7,
   "id": "a9a65ea4",
   "metadata": {
    "execution": {
     "iopub.execute_input": "2024-11-24T19:23:34.640479Z",
     "iopub.status.busy": "2024-11-24T19:23:34.639937Z",
     "iopub.status.idle": "2024-11-24T19:23:34.644197Z",
     "shell.execute_reply": "2024-11-24T19:23:34.643442Z"
    },
    "papermill": {
     "duration": 0.010726,
     "end_time": "2024-11-24T19:23:34.645682",
     "exception": false,
     "start_time": "2024-11-24T19:23:34.634956",
     "status": "completed"
    },
    "tags": []
   },
   "outputs": [],
   "source": [
    "criterion = nn.CrossEntropyLoss()\n",
    "optimizer = optim.Adam(model.parameters(), lr=0.001)\n",
    "scheduler = lr_scheduler.ReduceLROnPlateau(optimizer, mode='min', factor=0.1, patience=5)"
   ]
  },
  {
   "cell_type": "markdown",
   "id": "3d5893ff",
   "metadata": {
    "papermill": {
     "duration": 0.003733,
     "end_time": "2024-11-24T19:23:34.653427",
     "exception": false,
     "start_time": "2024-11-24T19:23:34.649694",
     "status": "completed"
    },
    "tags": []
   },
   "source": [
    "## **Training and Evaluation Functions**"
   ]
  },
  {
   "cell_type": "code",
   "execution_count": 8,
   "id": "e53d4f8e",
   "metadata": {
    "execution": {
     "iopub.execute_input": "2024-11-24T19:23:34.662418Z",
     "iopub.status.busy": "2024-11-24T19:23:34.661942Z",
     "iopub.status.idle": "2024-11-24T19:23:34.668435Z",
     "shell.execute_reply": "2024-11-24T19:23:34.667742Z"
    },
    "papermill": {
     "duration": 0.012631,
     "end_time": "2024-11-24T19:23:34.669931",
     "exception": false,
     "start_time": "2024-11-24T19:23:34.657300",
     "status": "completed"
    },
    "tags": []
   },
   "outputs": [],
   "source": [
    "def train_model(model, train_loader, val_loader, criterion, optimizer, scheduler, num_eposhs=25):\n",
    "    best_model_wts = copy.deepcopy(model.state_dict())\n",
    "    best_acc = 0.0\n",
    "    history = {'train_loss':[], 'val_loss':[], 'val_acc':[]}\n",
    "\n",
    "    for epoch in range(num_epochs):\n",
    "        print(f'Epoch {epoch + 1}/{num_epochs}')\n",
    "        model.train()\n",
    "        running_loss = 0.0\n",
    "        for inputs, labels in train_loader:\n",
    "            inputs, labels = inputs.to(device), labels.to(device)\n",
    "            optimizer.zero_grad()\n",
    "            outputs = model(inputs)\n",
    "            loss = criterion(outputs, labels)\n",
    "            loss.backward()\n",
    "            optimizer.step()\n",
    "            running_loss += loss.item()\n",
    "        val_loss, val_acc = evaluate_model(model, val_loader, criterion)\n",
    "        scheduler.step(val_loss)\n",
    "        print(f\"Train Loss: {running_loss/len(train_loader)}, Val Loss: {val_loss}, Val Acc: {val_acc}\")\n",
    "        history['train_loss'].append(running_loss/len(train_loader))\n",
    "        history['val_loss'].append(val_loss)\n",
    "        history['val_acc'].append(val_acc)\n",
    "\n",
    "        if val_acc > best_acc:\n",
    "            best_acc = val_acc\n",
    "            best_model_wts = copy.deepcopy(model.state_dict())\n",
    "\n",
    "    model.load_state_dict(best_model_wts)\n",
    "    return model, history\n"
   ]
  },
  {
   "cell_type": "code",
   "execution_count": 9,
   "id": "d6f032aa",
   "metadata": {
    "execution": {
     "iopub.execute_input": "2024-11-24T19:23:34.679045Z",
     "iopub.status.busy": "2024-11-24T19:23:34.678625Z",
     "iopub.status.idle": "2024-11-24T19:23:34.683539Z",
     "shell.execute_reply": "2024-11-24T19:23:34.682870Z"
    },
    "papermill": {
     "duration": 0.011062,
     "end_time": "2024-11-24T19:23:34.685019",
     "exception": false,
     "start_time": "2024-11-24T19:23:34.673957",
     "status": "completed"
    },
    "tags": []
   },
   "outputs": [],
   "source": [
    "def evaluate_model(model, data_loader, criterion):\n",
    "    model.eval()\n",
    "    running_loss = 0.0\n",
    "    correct = 0\n",
    "    total = 0\n",
    "    with torch.no_grad():\n",
    "        for inputs, labels in data_loader:\n",
    "            inputs, labels = inputs.to(device), labels.to(device)\n",
    "            outputs = model(inputs)\n",
    "            loss = criterion(outputs, labels)\n",
    "            running_loss += loss.item()\n",
    "            _, preds = torch.max(outputs, 1)\n",
    "            correct += (preds == labels).sum().item()\n",
    "            total += labels.size(0)\n",
    "    return running_loss / len(data_loader), 100 * correct / total"
   ]
  },
  {
   "cell_type": "markdown",
   "id": "d9e8ed34",
   "metadata": {
    "papermill": {
     "duration": 0.003984,
     "end_time": "2024-11-24T19:23:34.693062",
     "exception": false,
     "start_time": "2024-11-24T19:23:34.689078",
     "status": "completed"
    },
    "tags": []
   },
   "source": [
    "## **Training the model**"
   ]
  },
  {
   "cell_type": "code",
   "execution_count": 10,
   "id": "e815e9dd",
   "metadata": {
    "execution": {
     "iopub.execute_input": "2024-11-24T19:23:34.701871Z",
     "iopub.status.busy": "2024-11-24T19:23:34.701660Z",
     "iopub.status.idle": "2024-11-24T19:35:57.056004Z",
     "shell.execute_reply": "2024-11-24T19:35:57.055208Z"
    },
    "papermill": {
     "duration": 742.364866,
     "end_time": "2024-11-24T19:35:57.062071",
     "exception": false,
     "start_time": "2024-11-24T19:23:34.697205",
     "status": "completed"
    },
    "tags": []
   },
   "outputs": [
    {
     "name": "stdout",
     "output_type": "stream",
     "text": [
      "Epoch 1/25\n",
      "Train Loss: 0.7987141618867973, Val Loss: 0.43857301274935406, Val Acc: 83.47578347578347\n",
      "Epoch 2/25\n",
      "Train Loss: 0.384302482008934, Val Loss: 0.3202981515364213, Val Acc: 88.03418803418803\n",
      "Epoch 3/25\n",
      "Train Loss: 0.24541386653511943, Val Loss: 0.22241552286978925, Val Acc: 92.49762583095917\n",
      "Epoch 4/25\n",
      "Train Loss: 0.167238075688312, Val Loss: 0.18049217385211677, Val Acc: 94.11206077872744\n",
      "Epoch 5/25\n",
      "Train Loss: 0.11163430983599808, Val Loss: 0.19013670312635828, Val Acc: 93.44729344729345\n",
      "Epoch 6/25\n",
      "Train Loss: 0.08094768978159439, Val Loss: 0.18969469707967204, Val Acc: 94.20702754036087\n",
      "Epoch 7/25\n",
      "Train Loss: 0.0634402218021531, Val Loss: 0.1265538314385622, Val Acc: 96.58119658119658\n",
      "Epoch 8/25\n",
      "Train Loss: 0.04977840114068905, Val Loss: 0.17891353504224258, Val Acc: 95.44159544159544\n",
      "Epoch 9/25\n",
      "Train Loss: 0.03940229035765401, Val Loss: 0.13311431729093645, Val Acc: 96.01139601139602\n",
      "Epoch 10/25\n",
      "Train Loss: 0.033757337196102646, Val Loss: 0.2586437703928713, Val Acc: 93.9221272554606\n",
      "Epoch 11/25\n",
      "Train Loss: 0.025816845085028507, Val Loss: 0.1317548994821581, Val Acc: 96.67616334283001\n",
      "Epoch 12/25\n",
      "Train Loss: 0.030177773556243227, Val Loss: 0.15306714428306528, Val Acc: 95.53656220322887\n",
      "Epoch 13/25\n",
      "Train Loss: 0.0147735925123358, Val Loss: 0.2708921714378944, Val Acc: 94.77682811016145\n",
      "Epoch 14/25\n",
      "Train Loss: 0.013276218466045691, Val Loss: 0.17179776393723759, Val Acc: 96.86609686609687\n",
      "Epoch 15/25\n",
      "Train Loss: 0.00438609787708227, Val Loss: 0.1690031481081281, Val Acc: 97.15099715099716\n",
      "Epoch 16/25\n",
      "Train Loss: 0.006349349801823408, Val Loss: 0.16230219132690268, Val Acc: 97.05603038936373\n",
      "Epoch 17/25\n",
      "Train Loss: 0.004507902543164991, Val Loss: 0.15823007984771253, Val Acc: 97.05603038936373\n",
      "Epoch 18/25\n",
      "Train Loss: 0.0037131114769334847, Val Loss: 0.16280572097325188, Val Acc: 97.24596391263059\n",
      "Epoch 19/25\n",
      "Train Loss: 0.0039728298764929336, Val Loss: 0.15868221852173464, Val Acc: 97.24596391263059\n",
      "Epoch 20/25\n",
      "Train Loss: 0.0031542282427387642, Val Loss: 0.15780170469643603, Val Acc: 97.340930674264\n",
      "Epoch 21/25\n",
      "Train Loss: 0.002608640721669494, Val Loss: 0.15774144656659866, Val Acc: 97.340930674264\n",
      "Epoch 22/25\n",
      "Train Loss: 0.002460774362909681, Val Loss: 0.15750502399345295, Val Acc: 97.24596391263059\n",
      "Epoch 23/25\n",
      "Train Loss: 0.0022042083452976082, Val Loss: 0.15777166616559649, Val Acc: 97.15099715099716\n",
      "Epoch 24/25\n",
      "Train Loss: 0.0026261271613213775, Val Loss: 0.15703974943255272, Val Acc: 97.340930674264\n",
      "Epoch 25/25\n",
      "Train Loss: 0.004833913508098869, Val Loss: 0.1589081658025724, Val Acc: 97.24596391263059\n"
     ]
    }
   ],
   "source": [
    "num_epochs = 25\n",
    "model, history = train_model(model, train_loader, val_loader, criterion, optimizer, scheduler, num_epochs)"
   ]
  },
  {
   "cell_type": "markdown",
   "id": "74ab665c",
   "metadata": {
    "papermill": {
     "duration": 0.005237,
     "end_time": "2024-11-24T19:35:57.073830",
     "exception": false,
     "start_time": "2024-11-24T19:35:57.068593",
     "status": "completed"
    },
    "tags": []
   },
   "source": [
    "## **Evaluating the Model on the Test Set**"
   ]
  },
  {
   "cell_type": "code",
   "execution_count": 11,
   "id": "fb1a46fc",
   "metadata": {
    "execution": {
     "iopub.execute_input": "2024-11-24T19:35:57.085751Z",
     "iopub.status.busy": "2024-11-24T19:35:57.085432Z",
     "iopub.status.idle": "2024-11-24T19:36:08.397053Z",
     "shell.execute_reply": "2024-11-24T19:36:08.396216Z"
    },
    "papermill": {
     "duration": 11.319721,
     "end_time": "2024-11-24T19:36:08.398901",
     "exception": false,
     "start_time": "2024-11-24T19:35:57.079180",
     "status": "completed"
    },
    "tags": []
   },
   "outputs": [
    {
     "name": "stdout",
     "output_type": "stream",
     "text": [
      "Test Loss: 0.2562856428946058, Test Accuracy: 95.9203036053131%\n"
     ]
    }
   ],
   "source": [
    "test_loss, test_acc = evaluate_model(model, test_loader, criterion)\n",
    "print(f\"Test Loss: {test_loss}, Test Accuracy: {test_acc}%\")"
   ]
  },
  {
   "cell_type": "markdown",
   "id": "706c90ed",
   "metadata": {
    "papermill": {
     "duration": 0.0051,
     "end_time": "2024-11-24T19:36:08.409666",
     "exception": false,
     "start_time": "2024-11-24T19:36:08.404566",
     "status": "completed"
    },
    "tags": []
   },
   "source": [
    "## **Training and Validation Metrics for Model Comparison**"
   ]
  },
  {
   "cell_type": "code",
   "execution_count": 12,
   "id": "deb7f0a1",
   "metadata": {
    "execution": {
     "iopub.execute_input": "2024-11-24T19:36:08.420930Z",
     "iopub.status.busy": "2024-11-24T19:36:08.420634Z",
     "iopub.status.idle": "2024-11-24T19:36:08.965034Z",
     "shell.execute_reply": "2024-11-24T19:36:08.964197Z"
    },
    "papermill": {
     "duration": 0.552159,
     "end_time": "2024-11-24T19:36:08.966880",
     "exception": false,
     "start_time": "2024-11-24T19:36:08.414721",
     "status": "completed"
    },
    "tags": []
   },
   "outputs": [
    {
     "data": {
      "image/png": "[encoded data removed]",
      "text/plain": [
       "<Figure size 1000x500 with 1 Axes>"
      ]
     },
     "metadata": {},
     "output_type": "display_data"
    },
    {
     "data": {
      "image/png": "[encoded data removed]",
      "text/plain": [
       "<Figure size 1000x500 with 1 Axes>"
      ]
     },
     "metadata": {},
     "output_type": "display_data"
    }
   ],
   "source": [
    "plt.figure(figsize=(10, 5))\n",
    "plt.plot(history['train_loss'], label='Training Loss')\n",
    "plt.plot(history['val_loss'], label='Validation Loss')\n",
    "plt.title('Training and Validation Loss Over Epochs')\n",
    "plt.xlabel('Epochs')\n",
    "plt.ylabel('Loss')\n",
    "plt.legend()\n",
    "plt.grid()\n",
    "plt.show()\n",
    "#=============================================================\n",
    "plt.figure(figsize=(10, 5))\n",
    "plt.plot(history['val_acc'], label='Validation Accuracy')\n",
    "plt.title('Validation Accuracy Over Epochs')\n",
    "plt.xlabel('Epochs')\n",
    "plt.ylabel('Accuracy')\n",
    "plt.legend()\n",
    "plt.grid()\n",
    "plt.show()"
   ]
  },
  {
   "cell_type": "markdown",
   "id": "6c082051",
   "metadata": {
    "papermill": {
     "duration": 0.00608,
     "end_time": "2024-11-24T19:36:08.980077",
     "exception": false,
     "start_time": "2024-11-24T19:36:08.973997",
     "status": "completed"
    },
    "tags": []
   },
   "source": [
    "## **Confusion Matrix and Classification Report**"
   ]
  },
  {
   "cell_type": "code",
   "execution_count": 13,
   "id": "b8706a9e",
   "metadata": {
    "execution": {
     "iopub.execute_input": "2024-11-24T19:36:08.993568Z",
     "iopub.status.busy": "2024-11-24T19:36:08.993314Z",
     "iopub.status.idle": "2024-11-24T19:36:08.999621Z",
     "shell.execute_reply": "2024-11-24T19:36:08.998725Z"
    },
    "papermill": {
     "duration": 0.014939,
     "end_time": "2024-11-24T19:36:09.001206",
     "exception": false,
     "start_time": "2024-11-24T19:36:08.986267",
     "status": "completed"
    },
    "tags": []
   },
   "outputs": [],
   "source": [
    "def plot_confusion_matrix(model, data_loader, classes):\n",
    "    model.eval()\n",
    "    all_preds = []\n",
    "    all_labels = []\n",
    "    with torch.no_grad():\n",
    "        for inputs, labels in data_loader:\n",
    "            inputs, labels = inputs.to(device), labels.to(device)\n",
    "            outputs = model(inputs)\n",
    "            _, preds = torch.max(outputs, 1)\n",
    "            all_preds.extend(preds.cpu().numpy())\n",
    "            all_labels.extend(labels.cpu().numpy())\n",
    "\n",
    "    cm = confusion_matrix(all_labels, all_preds)\n",
    "    plt.figure(figsize=(8,6))\n",
    "    sns.heatmap(cm, annot=True, fmt='d', cmap='Blues', xticklabels=classes, yticklabels=classes)\n",
    "    plt.xlabel('Predicted')\n",
    "    plt.ylabel('Actual')\n",
    "    plt.title('Confusion Matrix')\n",
    "    plt.show()\n",
    "\n",
    "    return all_preds, all_labels"
   ]
  },
  {
   "cell_type": "code",
   "execution_count": 14,
   "id": "d8c7c177",
   "metadata": {
    "execution": {
     "iopub.execute_input": "2024-11-24T19:36:09.014864Z",
     "iopub.status.busy": "2024-11-24T19:36:09.014644Z",
     "iopub.status.idle": "2024-11-24T19:36:13.272477Z",
     "shell.execute_reply": "2024-11-24T19:36:13.271473Z"
    },
    "papermill": {
     "duration": 4.26675,
     "end_time": "2024-11-24T19:36:13.274322",
     "exception": false,
     "start_time": "2024-11-24T19:36:09.007572",
     "status": "completed"
    },
    "tags": []
   },
   "outputs": [
    {
     "data": {
      "image/png": "[encoded data removed]",
      "text/plain": [
       "<Figure size 800x600 with 2 Axes>"
      ]
     },
     "metadata": {},
     "output_type": "display_data"
    },
    {
     "name": "stdout",
     "output_type": "stream",
     "text": [
      "Classification Report:\n",
      "              precision    recall  f1-score   support\n",
      "\n",
      "      glioma       0.98      0.95      0.96       244\n",
      "     healthy       0.96      0.98      0.97       300\n",
      "  meningioma       0.92      0.92      0.92       250\n",
      "   pituitary       0.98      0.98      0.98       260\n",
      "\n",
      "    accuracy                           0.96      1054\n",
      "   macro avg       0.96      0.96      0.96      1054\n",
      "weighted avg       0.96      0.96      0.96      1054\n",
      "\n"
     ]
    }
   ],
   "source": [
    "classes = ['glioma', 'healthy', 'meningioma', 'pituitary']\n",
    "all_preds, all_labels = plot_confusion_matrix(model, test_loader, classes)\n",
    "print('Classification Report:')\n",
    "print(classification_report(all_labels, all_preds, target_names=classes))"
   ]
  },
  {
   "cell_type": "markdown",
   "id": "4ba83e6d",
   "metadata": {
    "papermill": {
     "duration": 0.007072,
     "end_time": "2024-11-24T19:36:13.288683",
     "exception": false,
     "start_time": "2024-11-24T19:36:13.281611",
     "status": "completed"
    },
    "tags": []
   },
   "source": [
    "## **Saving The Model**"
   ]
  },
  {
   "cell_type": "code",
   "execution_count": 15,
   "id": "36129ca2",
   "metadata": {
    "execution": {
     "iopub.execute_input": "2024-11-24T19:36:13.303664Z",
     "iopub.status.busy": "2024-11-24T19:36:13.303387Z",
     "iopub.status.idle": "2024-11-24T19:36:13.516879Z",
     "shell.execute_reply": "2024-11-24T19:36:13.515885Z"
    },
    "papermill": {
     "duration": 0.22311,
     "end_time": "2024-11-24T19:36:13.518947",
     "exception": false,
     "start_time": "2024-11-24T19:36:13.295837",
     "status": "completed"
    },
    "tags": []
   },
   "outputs": [
    {
     "name": "stdout",
     "output_type": "stream",
     "text": [
      "Model saved at /kaggle/working/brain_tumor_model2.pth\n"
     ]
    }
   ],
   "source": [
    "model_path = '/kaggle/working/brain_tumor_model2.pth'\n",
    "torch.save(model.state_dict(), model_path)\n",
    "print(f'Model saved at {model_path}')"
   ]
  }
 ],
 "metadata": {
  "kaggle": {
   "accelerator": "nvidiaTeslaT4",
   "dataSources": [
    {
     "datasetId": 672377,
     "sourceId": 1183165,
     "sourceType": "datasetVersion"
    },
    {
     "datasetId": 1608934,
     "sourceId": 2645886,
     "sourceType": "datasetVersion"
    },
    {
     "datasetId": 5712845,
     "sourceId": 9408599,
     "sourceType": "datasetVersion"
    }
   ],
   "dockerImageVersionId": 30786,
   "isGpuEnabled": true,
   "isInternetEnabled": true,
   "language": "python",
   "sourceType": "notebook"
  },
  "kernelspec": {
   "display_name": "Python 3",
   "language": "python",
   "name": "python3"
  },
  "language_info": {
   "codemirror_mode": {
    "name": "ipython",
    "version": 3
   },
   "file_extension": ".py",
   "mimetype": "text/x-python",
   "name": "python",
   "nbconvert_exporter": "python",
   "pygments_lexer": "ipython3",
   "version": "3.10.14"
  },
  "papermill": {
   "default_parameters": {},
   "duration": 774.576455,
   "end_time": "2024-11-24T19:36:15.047264",
   "environment_variables": {},
   "exception": null,
   "input_path": "__notebook__.ipynb",
   "output_path": "__notebook__.ipynb",
   "parameters": {},
   "start_time": "2024-11-24T19:23:20.470809",
   "version": "2.6.0"
  }
 },
 "nbformat": 4,
 "nbformat_minor": 5
}

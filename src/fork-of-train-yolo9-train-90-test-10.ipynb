{
 "cells": [
  {
   "cell_type": "markdown",
   "id": "51ffe3be",
   "metadata": {
    "papermill": {
     "duration": 0.017712,
     "end_time": "2024-10-24T06:43:28.589219",
     "exception": false,
     "start_time": "2024-10-24T06:43:28.571507",
     "status": "completed"
    },
    "tags": []
   },
   "source": [
    "## Import thư viện cần thiết"
   ]
  },
  {
   "cell_type": "code",
   "execution_count": 1,
   "id": "2270de10",
   "metadata": {
    "execution": {
     "iopub.execute_input": "2024-10-24T06:43:28.622717Z",
     "iopub.status.busy": "2024-10-24T06:43:28.621703Z",
     "iopub.status.idle": "2024-10-24T06:43:32.433147Z",
     "shell.execute_reply": "2024-10-24T06:43:32.432328Z"
    },
    "papermill": {
     "duration": 3.830607,
     "end_time": "2024-10-24T06:43:32.435639",
     "exception": false,
     "start_time": "2024-10-24T06:43:28.605032",
     "status": "completed"
    },
    "tags": []
   },
   "outputs": [],
   "source": [
    "import numpy as np\n",
    "import pandas as pd\n",
    "import matplotlib.pyplot as plt\n",
    "import os\n",
    "import shutil\n",
    "import cv2\n",
    "import random\n",
    "from sklearn.model_selection import train_test_split"
   ]
  },
  {
   "cell_type": "markdown",
   "id": "9d3fc9e4",
   "metadata": {
    "papermill": {
     "duration": 0.015321,
     "end_time": "2024-10-24T06:43:32.467156",
     "exception": false,
     "start_time": "2024-10-24T06:43:32.451835",
     "status": "completed"
    },
    "tags": []
   },
   "source": [
    "## Đọc dữ liệu của data"
   ]
  },
  {
   "cell_type": "code",
   "execution_count": 2,
   "id": "0d8f889a",
   "metadata": {
    "execution": {
     "iopub.execute_input": "2024-10-24T06:43:32.499941Z",
     "iopub.status.busy": "2024-10-24T06:43:32.499465Z",
     "iopub.status.idle": "2024-10-24T06:43:32.506390Z",
     "shell.execute_reply": "2024-10-24T06:43:32.505553Z"
    },
    "papermill": {
     "duration": 0.025476,
     "end_time": "2024-10-24T06:43:32.508275",
     "exception": false,
     "start_time": "2024-10-24T06:43:32.482799",
     "status": "completed"
    },
    "tags": []
   },
   "outputs": [],
   "source": [
    "def read_images_and_labels(image_dir, label_dir):\n",
    "    image_list = []\n",
    "    label_files_list = []\n",
    "    \n",
    "    # Lặp qua tất cả các file trong thư mục label\n",
    "    for label_file in os.listdir(label_dir):\n",
    "        if label_file.endswith('.txt'):\n",
    "            image_name = os.path.splitext(label_file)[0] + '.jpg'\n",
    "            image_path = os.path.join(image_dir, image_name)\n",
    "            \n",
    "            # Kiểm tra nếu file ảnh tồn tại\n",
    "            if os.path.exists(image_path):\n",
    "                # Đọc ảnh và chuyển sang ảnh xám\n",
    "                image = cv2.imread(image_path, cv2.IMREAD_GRAYSCALE)\n",
    "                if image is not None:\n",
    "                    image_list.append(image)\n",
    "                    label_files_list.append(label_file)\n",
    "    \n",
    "    return image_list, label_files_list"
   ]
  },
  {
   "cell_type": "markdown",
   "id": "9897b717",
   "metadata": {
    "papermill": {
     "duration": 0.015049,
     "end_time": "2024-10-24T06:43:32.538975",
     "exception": false,
     "start_time": "2024-10-24T06:43:32.523926",
     "status": "completed"
    },
    "tags": []
   },
   "source": [
    "## Chia data ảnh gốc thành 90% 10%. Trong đó 10% ảnh gốc làm tập test"
   ]
  },
  {
   "cell_type": "code",
   "execution_count": 3,
   "id": "72f89aea",
   "metadata": {
    "execution": {
     "iopub.execute_input": "2024-10-24T06:43:32.571373Z",
     "iopub.status.busy": "2024-10-24T06:43:32.570689Z",
     "iopub.status.idle": "2024-10-24T06:43:32.581631Z",
     "shell.execute_reply": "2024-10-24T06:43:32.580770Z"
    },
    "papermill": {
     "duration": 0.029202,
     "end_time": "2024-10-24T06:43:32.583551",
     "exception": false,
     "start_time": "2024-10-24T06:43:32.554349",
     "status": "completed"
    },
    "tags": []
   },
   "outputs": [],
   "source": [
    "def split_data(image_dir, label_dir, output_dir, test_size=0.1, random_state=42):\n",
    "    # Lấy danh sách các file hình ảnh và file label\n",
    "    image_files = sorted([f for f in os.listdir(image_dir) if f.endswith('.jpg')])\n",
    "    label_files = sorted([f for f in os.listdir(label_dir) if f.endswith('.txt')])\n",
    "\n",
    "    # Kiểm tra số lượng file hình và file label có khớp nhau không\n",
    "    assert len(image_files) == len(label_files), \"Số lượng file hình ảnh và file label không khớp\"\n",
    "\n",
    "    # Tách dữ liệu thành tập train và test\n",
    "    train_images, test_images, train_labels, test_labels = train_test_split(\n",
    "        image_files, label_files, test_size=test_size, random_state=random_state\n",
    "    )\n",
    "\n",
    "    # Tạo thư mục đầu ra cho train và test nếu chưa tồn tại\n",
    "    train_image_dir = os.path.join(output_dir, 'train', 'images')\n",
    "    test_image_dir = os.path.join(output_dir, 'test', 'images')\n",
    "    train_label_dir = os.path.join(output_dir, 'train', 'labels')\n",
    "    test_label_dir = os.path.join(output_dir, 'test', 'labels')\n",
    "\n",
    "    os.makedirs(train_image_dir, exist_ok=True)\n",
    "    os.makedirs(test_image_dir, exist_ok=True)\n",
    "    os.makedirs(train_label_dir, exist_ok=True)\n",
    "    os.makedirs(test_label_dir, exist_ok=True)\n",
    "\n",
    "    # Sao chép file train\n",
    "    for img, lbl in zip(train_images, train_labels):\n",
    "        shutil.copy(os.path.join(image_dir, img), os.path.join(train_image_dir, img))\n",
    "        shutil.copy(os.path.join(label_dir, lbl), os.path.join(train_label_dir, lbl))\n",
    "\n",
    "    # Sao chép file test\n",
    "    for img, lbl in zip(test_images, test_labels):\n",
    "        shutil.copy(os.path.join(image_dir, img), os.path.join(test_image_dir, img))\n",
    "        shutil.copy(os.path.join(label_dir, lbl), os.path.join(test_label_dir, lbl))\n",
    "\n",
    "    print(f'Data split completed. Train and test data saved to {output_dir}')"
   ]
  },
  {
   "cell_type": "code",
   "execution_count": 4,
   "id": "80a3d45c",
   "metadata": {
    "execution": {
     "iopub.execute_input": "2024-10-24T06:43:32.615356Z",
     "iopub.status.busy": "2024-10-24T06:43:32.615077Z",
     "iopub.status.idle": "2024-10-24T06:43:37.732486Z",
     "shell.execute_reply": "2024-10-24T06:43:37.731466Z"
    },
    "papermill": {
     "duration": 5.135873,
     "end_time": "2024-10-24T06:43:37.734678",
     "exception": false,
     "start_time": "2024-10-24T06:43:32.598805",
     "status": "completed"
    },
    "tags": []
   },
   "outputs": [
    {
     "name": "stdout",
     "output_type": "stream",
     "text": [
      "Data split completed. Train and test data saved to /kaggle/working/brain_tumor_object_detection_split_90_10/axial\n"
     ]
    }
   ],
   "source": [
    "image_dir = '/kaggle/input/dataset-traindatabraintumor-80-image-processing/brain_tumor_object_detection/axial/images'\n",
    "label_dir = '/kaggle/input/dataset-traindatabraintumor-80-image-processing/brain_tumor_object_detection/axial/labels'\n",
    "output_dir = '/kaggle/working/brain_tumor_object_detection_split_90_10/axial'\n",
    "split_data(image_dir, label_dir, output_dir, test_size=0.1)"
   ]
  },
  {
   "cell_type": "code",
   "execution_count": 5,
   "id": "730b20b3",
   "metadata": {
    "execution": {
     "iopub.execute_input": "2024-10-24T06:43:37.767792Z",
     "iopub.status.busy": "2024-10-24T06:43:37.767463Z",
     "iopub.status.idle": "2024-10-24T06:43:43.183664Z",
     "shell.execute_reply": "2024-10-24T06:43:43.182495Z"
    },
    "papermill": {
     "duration": 5.43514,
     "end_time": "2024-10-24T06:43:43.186102",
     "exception": false,
     "start_time": "2024-10-24T06:43:37.750962",
     "status": "completed"
    },
    "tags": []
   },
   "outputs": [
    {
     "name": "stdout",
     "output_type": "stream",
     "text": [
      "Data split completed. Train and test data saved to /kaggle/working/brain_tumor_object_detection_split_90_10/coronal\n"
     ]
    }
   ],
   "source": [
    "image_dir = '/kaggle/input/dataset-traindatabraintumor-80-image-processing/brain_tumor_object_detection/coronal/images'\n",
    "label_dir = '/kaggle/input/dataset-traindatabraintumor-80-image-processing/brain_tumor_object_detection/coronal/labels'\n",
    "output_dir = '/kaggle/working/brain_tumor_object_detection_split_90_10/coronal'\n",
    "split_data(image_dir, label_dir, output_dir, test_size=0.1)"
   ]
  },
  {
   "cell_type": "code",
   "execution_count": 6,
   "id": "2fa47240",
   "metadata": {
    "execution": {
     "iopub.execute_input": "2024-10-24T06:43:43.219589Z",
     "iopub.status.busy": "2024-10-24T06:43:43.219252Z",
     "iopub.status.idle": "2024-10-24T06:43:47.769672Z",
     "shell.execute_reply": "2024-10-24T06:43:47.768786Z"
    },
    "papermill": {
     "duration": 4.569237,
     "end_time": "2024-10-24T06:43:47.771933",
     "exception": false,
     "start_time": "2024-10-24T06:43:43.202696",
     "status": "completed"
    },
    "tags": []
   },
   "outputs": [
    {
     "name": "stdout",
     "output_type": "stream",
     "text": [
      "Data split completed. Train and test data saved to /kaggle/working/brain_tumor_object_detection_split_90_10/sagittal\n"
     ]
    }
   ],
   "source": [
    "image_dir = '/kaggle/input/dataset-traindatabraintumor-80-image-processing/brain_tumor_object_detection/sagittal/images'\n",
    "label_dir = '/kaggle/input/dataset-traindatabraintumor-80-image-processing/brain_tumor_object_detection/sagittal/labels'\n",
    "output_dir = '/kaggle/working/brain_tumor_object_detection_split_90_10/sagittal'\n",
    "split_data(image_dir, label_dir, output_dir, test_size=0.1)"
   ]
  },
  {
   "cell_type": "code",
   "execution_count": 7,
   "id": "0e6e3441",
   "metadata": {
    "execution": {
     "iopub.execute_input": "2024-10-24T06:43:47.805756Z",
     "iopub.status.busy": "2024-10-24T06:43:47.805432Z",
     "iopub.status.idle": "2024-10-24T06:43:47.809863Z",
     "shell.execute_reply": "2024-10-24T06:43:47.809051Z"
    },
    "papermill": {
     "duration": 0.023471,
     "end_time": "2024-10-24T06:43:47.811764",
     "exception": false,
     "start_time": "2024-10-24T06:43:47.788293",
     "status": "completed"
    },
    "tags": []
   },
   "outputs": [],
   "source": [
    "# import shutil\n",
    "# import os\n",
    "\n",
    "# def xoa_thu_muc(duong_dan):\n",
    "#     try:\n",
    "#         # Kiểm tra xem đường dẫn có tồn tại không\n",
    "#         if os.path.exists(duong_dan):\n",
    "#             # Xóa thư mục và tất cả nội dung bên trong\n",
    "#             shutil.rmtree(duong_dan)\n",
    "#             print(f\"Đã xóa thư mục: {duong_dan}\")\n",
    "#         else:\n",
    "#             print(\"Thư mục không tồn tại.\")\n",
    "#     except Exception as e:\n",
    "#         print(f\"Có lỗi xảy ra: {e}\")\n",
    "\n",
    "# # Ví dụ sử dụng\n",
    "# xoa_thu_muc('/kaggle/working/brain_tumor_object_detection_90_10_processImage/coronal/test')\n"
   ]
  },
  {
   "cell_type": "markdown",
   "id": "ae8ede86",
   "metadata": {
    "papermill": {
     "duration": 0.015723,
     "end_time": "2024-10-24T06:43:47.843217",
     "exception": false,
     "start_time": "2024-10-24T06:43:47.827494",
     "status": "completed"
    },
    "tags": []
   },
   "source": [
    "## Xử lý ảnh trên 90% ảnh gốc"
   ]
  },
  {
   "cell_type": "code",
   "execution_count": 8,
   "id": "251b6c6d",
   "metadata": {
    "execution": {
     "iopub.execute_input": "2024-10-24T06:43:47.875883Z",
     "iopub.status.busy": "2024-10-24T06:43:47.875553Z",
     "iopub.status.idle": "2024-10-24T06:43:47.879745Z",
     "shell.execute_reply": "2024-10-24T06:43:47.879010Z"
    },
    "papermill": {
     "duration": 0.022888,
     "end_time": "2024-10-24T06:43:47.881626",
     "exception": false,
     "start_time": "2024-10-24T06:43:47.858738",
     "status": "completed"
    },
    "tags": []
   },
   "outputs": [],
   "source": [
    "# Đường lnk lấy dataset\n",
    "axial_train_dataset = '/kaggle/working/brain_tumor_object_detection_split_90_10/axial/train/'\n",
    "coronal_train_dataset = '/kaggle/working/brain_tumor_object_detection_split_90_10/coronal/train/'\n",
    "sagittal_train_dataset = '/kaggle/working/brain_tumor_object_detection_split_90_10/sagittal/train/'"
   ]
  },
  {
   "cell_type": "code",
   "execution_count": 9,
   "id": "9710d67b",
   "metadata": {
    "execution": {
     "iopub.execute_input": "2024-10-24T06:43:47.914586Z",
     "iopub.status.busy": "2024-10-24T06:43:47.913878Z",
     "iopub.status.idle": "2024-10-24T06:43:48.499938Z",
     "shell.execute_reply": "2024-10-24T06:43:48.499147Z"
    },
    "papermill": {
     "duration": 0.604769,
     "end_time": "2024-10-24T06:43:48.502356",
     "exception": false,
     "start_time": "2024-10-24T06:43:47.897587",
     "status": "completed"
    },
    "tags": []
   },
   "outputs": [],
   "source": [
    "axial_img,  axial_label = read_images_and_labels(axial_train_dataset + \"images\", axial_train_dataset + \"labels\")\n",
    "coronal_img,  coronal_label = read_images_and_labels(coronal_train_dataset + \"images\", coronal_train_dataset + \"labels\")\n",
    "sagittal_img,  sagittal_label = read_images_and_labels(sagittal_train_dataset + \"images\", sagittal_train_dataset + \"labels\")"
   ]
  },
  {
   "cell_type": "markdown",
   "id": "69a925d2",
   "metadata": {
    "papermill": {
     "duration": 0.015362,
     "end_time": "2024-10-24T06:43:48.534106",
     "exception": false,
     "start_time": "2024-10-24T06:43:48.518744",
     "status": "completed"
    },
    "tags": []
   },
   "source": [
    "## Cắt bỏ đường viền toàn bộ ảnh tập train"
   ]
  },
  {
   "cell_type": "code",
   "execution_count": 10,
   "id": "6d673079",
   "metadata": {
    "execution": {
     "iopub.execute_input": "2024-10-24T06:43:48.566560Z",
     "iopub.status.busy": "2024-10-24T06:43:48.566276Z",
     "iopub.status.idle": "2024-10-24T06:43:48.579626Z",
     "shell.execute_reply": "2024-10-24T06:43:48.578856Z"
    },
    "papermill": {
     "duration": 0.031802,
     "end_time": "2024-10-24T06:43:48.581415",
     "exception": false,
     "start_time": "2024-10-24T06:43:48.549613",
     "status": "completed"
    },
    "tags": []
   },
   "outputs": [],
   "source": [
    "def crop_images_with_bounding_box(image_list, label_files_list, label_dir, output_label_dir):\n",
    "    cropped_images = []\n",
    "\n",
    "    # Tạo thư mục đầu ra nếu chưa có\n",
    "    if not os.path.exists(output_label_dir):\n",
    "        os.makedirs(output_label_dir)\n",
    "\n",
    "    for img, label_file in zip(image_list, label_files_list):\n",
    "        label_path = os.path.join(label_dir, label_file)\n",
    "        print(label_path)\n",
    "        output_label_path = os.path.join(output_label_dir, label_file)\n",
    "\n",
    "        # Đọc nội dung file nhãn\n",
    "        with open(label_path, 'r') as f:\n",
    "            labels = [list(map(float, line.strip().split())) for line in f.readlines()]\n",
    "\n",
    "        # Ngưỡng Otsu để cắt hình ảnh\n",
    "        thresh = cv2.threshold(img, 0, 255, cv2.THRESH_BINARY + cv2.THRESH_OTSU)[1]\n",
    "        hh, ww = thresh.shape\n",
    "\n",
    "        # Làm đen hai hàng cuối cùng của ảnh nhị phân\n",
    "        thresh[hh-3:hh, 0:ww] = 0\n",
    "\n",
    "        # Tìm giới hạn của các pixel trắng\n",
    "        white = np.where(thresh == 255)\n",
    "        if white[0].size > 0:  # Kiểm tra xem có pixel trắng không\n",
    "            xmin, ymin, xmax, ymax = np.min(white[1]), np.min(white[0]), np.max(white[1]), np.max(white[0])\n",
    "\n",
    "            # Cắt ảnh gốc theo các giới hạn\n",
    "            crop = img[ymin:ymax + 3, xmin:xmax]\n",
    "            cropped_images.append(crop)\n",
    "\n",
    "            # Điều chỉnh bounding boxes cho phù hợp với hình ảnh đã cắt\n",
    "            new_labels = []\n",
    "            for label in labels:\n",
    "                label_class = int(label[0])  # Nhãn là kiểu int\n",
    "                x_center, y_center, width, height = label[1:]\n",
    "\n",
    "                # Tính lại tọa độ dựa trên phần cắt\n",
    "                new_x_center = (x_center * ww - xmin) / (xmax - xmin)\n",
    "                new_y_center = (y_center * hh - ymin) / (ymax - ymin)\n",
    "                new_width = width * ww / (xmax - xmin)\n",
    "                new_height = height * hh / (ymax - ymin)\n",
    "\n",
    "                # Lưu lại nhãn sau khi điều chỉnh\n",
    "                new_labels.append([label_class, new_x_center, new_y_center, new_width, new_height])\n",
    "\n",
    "            # Ghi nhãn mới vào file trong thư mục output\n",
    "            with open(output_label_path, 'w') as f_out:\n",
    "                for new_label in new_labels:\n",
    "                    # Ghi nhãn với định dạng label (int) và các tọa độ bounding box (float)\n",
    "                    f_out.write(f\"{int(new_label[0])} {' '.join(map(lambda x: f'{x:.6f}', new_label[1:]))}\\n\")\n",
    "\n",
    "        else:\n",
    "            # Nếu không có pixel trắng, giữ nguyên ảnh và nhãn, ghi lại nhãn cũ\n",
    "            cropped_images.append(img)\n",
    "            with open(output_label_path, 'w') as f_out:\n",
    "                for label in labels:\n",
    "                    # Ghi nhãn gốc với định dạng label (int) và tọa độ bounding box (float)\n",
    "                    f_out.write(f\"{int(label[0])} {' '.join(map(lambda x: f'{x:.6f}', label[1:]))}\\n\")\n",
    "\n",
    "    return cropped_images"
   ]
  },
  {
   "cell_type": "code",
   "execution_count": 11,
   "id": "555811ab",
   "metadata": {
    "_kg_hide-input": true,
    "_kg_hide-output": true,
    "collapsed": true,
    "execution": {
     "iopub.execute_input": "2024-10-24T06:43:48.613385Z",
     "iopub.status.busy": "2024-10-24T06:43:48.613120Z",
     "iopub.status.idle": "2024-10-24T06:43:50.835763Z",
     "shell.execute_reply": "2024-10-24T06:43:50.834852Z"
    },
    "jupyter": {
     "outputs_hidden": true
    },
    "papermill": {
     "duration": 2.241745,
     "end_time": "2024-10-24T06:43:50.838643",
     "exception": false,
     "start_time": "2024-10-24T06:43:48.596898",
     "status": "completed"
    },
    "tags": []
   },
   "outputs": [
    {
     "name": "stdout",
     "output_type": "stream",
     "text": [
      "/kaggle/working/brain_tumor_object_detection_split_90_10/axial/train/labels/00169_141.txt\n",
      "/kaggle/working/brain_tumor_object_detection_split_90_10/axial/train/labels/00072_81.txt\n",
      "/kaggle/working/brain_tumor_object_detection_split_90_10/axial/train/labels/00165_135.txt\n",
      "/kaggle/working/brain_tumor_object_detection_split_90_10/axial/train/labels/00022_81.txt\n",
      "/kaggle/working/brain_tumor_object_detection_split_90_10/axial/train/labels/00045_136.txt\n",
      "/kaggle/working/brain_tumor_object_detection_split_90_10/axial/train/labels/00296_124.txt\n",
      "/kaggle/working/brain_tumor_object_detection_split_90_10/axial/train/labels/00151_15.txt\n",
      "/kaggle/working/brain_tumor_object_detection_split_90_10/axial/train/labels/00340_121.txt\n",
      "/kaggle/working/brain_tumor_object_detection_split_90_10/axial/train/labels/00081_107.txt\n",
      "/kaggle/working/brain_tumor_object_detection_split_90_10/axial/train/labels/00254_79.txt\n",
      "/kaggle/working/brain_tumor_object_detection_split_90_10/axial/train/labels/00099_129.txt\n",
      "/kaggle/working/brain_tumor_object_detection_split_90_10/axial/train/labels/00306_115.txt\n",
      "/kaggle/working/brain_tumor_object_detection_split_90_10/axial/train/labels/00317_20.txt\n",
      "/kaggle/working/brain_tumor_object_detection_split_90_10/axial/train/labels/00350_135.txt\n",
      "/kaggle/working/brain_tumor_object_detection_split_90_10/axial/train/labels/00084_123.txt\n",
      "/kaggle/working/brain_tumor_object_detection_split_90_10/axial/train/labels/00322_114.txt\n",
      "/kaggle/working/brain_tumor_object_detection_split_90_10/axial/train/labels/00296_118.txt\n",
      "/kaggle/working/brain_tumor_object_detection_split_90_10/axial/train/labels/00022_77.txt\n",
      "/kaggle/working/brain_tumor_object_detection_split_90_10/axial/train/labels/00148_20.txt\n",
      "/kaggle/working/brain_tumor_object_detection_split_90_10/axial/train/labels/00095_224.txt\n",
      "/kaggle/working/brain_tumor_object_detection_split_90_10/axial/train/labels/00151_10.txt\n",
      "/kaggle/working/brain_tumor_object_detection_split_90_10/axial/train/labels/00090_169.txt\n",
      "/kaggle/working/brain_tumor_object_detection_split_90_10/axial/train/labels/00099_145.txt\n",
      "/kaggle/working/brain_tumor_object_detection_split_90_10/axial/train/labels/00340_132.txt\n",
      "/kaggle/working/brain_tumor_object_detection_split_90_10/axial/train/labels/00165_118.txt\n",
      "/kaggle/working/brain_tumor_object_detection_split_90_10/axial/train/labels/00294_23.txt\n",
      "/kaggle/working/brain_tumor_object_detection_split_90_10/axial/train/labels/00124_11.txt\n",
      "/kaggle/working/brain_tumor_object_detection_split_90_10/axial/train/labels/00322_130.txt\n",
      "/kaggle/working/brain_tumor_object_detection_split_90_10/axial/train/labels/00281_117.txt\n",
      "/kaggle/working/brain_tumor_object_detection_split_90_10/axial/train/labels/00313_118.txt\n",
      "/kaggle/working/brain_tumor_object_detection_split_90_10/axial/train/labels/00317_27.txt\n",
      "/kaggle/working/brain_tumor_object_detection_split_90_10/axial/train/labels/00296_132.txt\n",
      "/kaggle/working/brain_tumor_object_detection_split_90_10/axial/train/labels/00306_96.txt\n",
      "/kaggle/working/brain_tumor_object_detection_split_90_10/axial/train/labels/00090_181.txt\n",
      "/kaggle/working/brain_tumor_object_detection_split_90_10/axial/train/labels/00169_134.txt\n",
      "/kaggle/working/brain_tumor_object_detection_split_90_10/axial/train/labels/00150_11.txt\n",
      "/kaggle/working/brain_tumor_object_detection_split_90_10/axial/train/labels/00021_53.txt\n",
      "/kaggle/working/brain_tumor_object_detection_split_90_10/axial/train/labels/00097_68.txt\n",
      "/kaggle/working/brain_tumor_object_detection_split_90_10/axial/train/labels/00104_16.txt\n",
      "/kaggle/working/brain_tumor_object_detection_split_90_10/axial/train/labels/00317_24.txt\n",
      "/kaggle/working/brain_tumor_object_detection_split_90_10/axial/train/labels/00304_107.txt\n",
      "/kaggle/working/brain_tumor_object_detection_split_90_10/axial/train/labels/00332_141.txt\n",
      "/kaggle/working/brain_tumor_object_detection_split_90_10/axial/train/labels/00250_104.txt\n",
      "/kaggle/working/brain_tumor_object_detection_split_90_10/axial/train/labels/00130_94.txt\n",
      "/kaggle/working/brain_tumor_object_detection_split_90_10/axial/train/labels/00311_123.txt\n",
      "/kaggle/working/brain_tumor_object_detection_split_90_10/axial/train/labels/00350_145.txt\n",
      "/kaggle/working/brain_tumor_object_detection_split_90_10/axial/train/labels/00334_95.txt\n",
      "/kaggle/working/brain_tumor_object_detection_split_90_10/axial/train/labels/00072_66.txt\n",
      "/kaggle/working/brain_tumor_object_detection_split_90_10/axial/train/labels/00350_157.txt\n",
      "/kaggle/working/brain_tumor_object_detection_split_90_10/axial/train/labels/00359_115.txt\n",
      "/kaggle/working/brain_tumor_object_detection_split_90_10/axial/train/labels/00322_134.txt\n",
      "/kaggle/working/brain_tumor_object_detection_split_90_10/axial/train/labels/00285_93.txt\n",
      "/kaggle/working/brain_tumor_object_detection_split_90_10/axial/train/labels/00172_92.txt\n",
      "/kaggle/working/brain_tumor_object_detection_split_90_10/axial/train/labels/00322_147.txt\n",
      "/kaggle/working/brain_tumor_object_detection_split_90_10/axial/train/labels/00273_103.txt\n",
      "/kaggle/working/brain_tumor_object_detection_split_90_10/axial/train/labels/00130_112.txt\n",
      "/kaggle/working/brain_tumor_object_detection_split_90_10/axial/train/labels/00313_130.txt\n",
      "/kaggle/working/brain_tumor_object_detection_split_90_10/axial/train/labels/00095_226.txt\n",
      "/kaggle/working/brain_tumor_object_detection_split_90_10/axial/train/labels/00271_106.txt\n",
      "/kaggle/working/brain_tumor_object_detection_split_90_10/axial/train/labels/00148_19.txt\n",
      "/kaggle/working/brain_tumor_object_detection_split_90_10/axial/train/labels/00311_111.txt\n",
      "/kaggle/working/brain_tumor_object_detection_split_90_10/axial/train/labels/00360_87.txt\n",
      "/kaggle/working/brain_tumor_object_detection_split_90_10/axial/train/labels/00183_86.txt\n",
      "/kaggle/working/brain_tumor_object_detection_split_90_10/axial/train/labels/00305_107.txt\n",
      "/kaggle/working/brain_tumor_object_detection_split_90_10/axial/train/labels/00072_80.txt\n",
      "/kaggle/working/brain_tumor_object_detection_split_90_10/axial/train/labels/00088_145.txt\n",
      "/kaggle/working/brain_tumor_object_detection_split_90_10/axial/train/labels/00240_157.txt\n",
      "/kaggle/working/brain_tumor_object_detection_split_90_10/axial/train/labels/00104_18.txt\n",
      "/kaggle/working/brain_tumor_object_detection_split_90_10/axial/train/labels/00018_109.txt\n",
      "/kaggle/working/brain_tumor_object_detection_split_90_10/axial/train/labels/00081_80.txt\n",
      "/kaggle/working/brain_tumor_object_detection_split_90_10/axial/train/labels/00044_111.txt\n",
      "/kaggle/working/brain_tumor_object_detection_split_90_10/axial/train/labels/00130_100.txt\n",
      "/kaggle/working/brain_tumor_object_detection_split_90_10/axial/train/labels/00064_220.txt\n",
      "/kaggle/working/brain_tumor_object_detection_split_90_10/axial/train/labels/00334_108.txt\n",
      "/kaggle/working/brain_tumor_object_detection_split_90_10/axial/train/labels/00053_235.txt\n",
      "/kaggle/working/brain_tumor_object_detection_split_90_10/axial/train/labels/00246_103.txt\n",
      "/kaggle/working/brain_tumor_object_detection_split_90_10/axial/train/labels/00097_72.txt\n",
      "/kaggle/working/brain_tumor_object_detection_split_90_10/axial/train/labels/00332_147.txt\n",
      "/kaggle/working/brain_tumor_object_detection_split_90_10/axial/train/labels/00045_118.txt\n",
      "/kaggle/working/brain_tumor_object_detection_split_90_10/axial/train/labels/00072_76.txt\n",
      "/kaggle/working/brain_tumor_object_detection_split_90_10/axial/train/labels/00124_12.txt\n",
      "/kaggle/working/brain_tumor_object_detection_split_90_10/axial/train/labels/00322_122.txt\n",
      "/kaggle/working/brain_tumor_object_detection_split_90_10/axial/train/labels/00088_108.txt\n",
      "/kaggle/working/brain_tumor_object_detection_split_90_10/axial/train/labels/00322_140.txt\n",
      "/kaggle/working/brain_tumor_object_detection_split_90_10/axial/train/labels/00305_97.txt\n",
      "/kaggle/working/brain_tumor_object_detection_split_90_10/axial/train/labels/00271_145.txt\n",
      "/kaggle/working/brain_tumor_object_detection_split_90_10/axial/train/labels/00123_16.txt\n",
      "/kaggle/working/brain_tumor_object_detection_split_90_10/axial/train/labels/00352_103.txt\n",
      "/kaggle/working/brain_tumor_object_detection_split_90_10/axial/train/labels/00334_120.txt\n",
      "/kaggle/working/brain_tumor_object_detection_split_90_10/axial/train/labels/00130_81.txt\n",
      "/kaggle/working/brain_tumor_object_detection_split_90_10/axial/train/labels/00250_120.txt\n",
      "/kaggle/working/brain_tumor_object_detection_split_90_10/axial/train/labels/00018_117.txt\n",
      "/kaggle/working/brain_tumor_object_detection_split_90_10/axial/train/labels/00260_142.txt\n",
      "/kaggle/working/brain_tumor_object_detection_split_90_10/axial/train/labels/00088_129.txt\n",
      "/kaggle/working/brain_tumor_object_detection_split_90_10/axial/train/labels/00099_154.txt\n",
      "/kaggle/working/brain_tumor_object_detection_split_90_10/axial/train/labels/00172_114.txt\n",
      "/kaggle/working/brain_tumor_object_detection_split_90_10/axial/train/labels/00151_13.txt\n",
      "/kaggle/working/brain_tumor_object_detection_split_90_10/axial/train/labels/00053_253.txt\n",
      "/kaggle/working/brain_tumor_object_detection_split_90_10/axial/train/labels/00151_12.txt\n",
      "/kaggle/working/brain_tumor_object_detection_split_90_10/axial/train/labels/00112_11.txt\n",
      "/kaggle/working/brain_tumor_object_detection_split_90_10/axial/train/labels/00350_128.txt\n",
      "/kaggle/working/brain_tumor_object_detection_split_90_10/axial/train/labels/00053_277.txt\n",
      "/kaggle/working/brain_tumor_object_detection_split_90_10/axial/train/labels/00099_149.txt\n",
      "/kaggle/working/brain_tumor_object_detection_split_90_10/axial/train/labels/00167_125.txt\n",
      "/kaggle/working/brain_tumor_object_detection_split_90_10/axial/train/labels/00172_108.txt\n",
      "/kaggle/working/brain_tumor_object_detection_split_90_10/axial/train/labels/00150_10.txt\n",
      "/kaggle/working/brain_tumor_object_detection_split_90_10/axial/train/labels/00294_20.txt\n",
      "/kaggle/working/brain_tumor_object_detection_split_90_10/axial/train/labels/00281_98.txt\n",
      "/kaggle/working/brain_tumor_object_detection_split_90_10/axial/train/labels/00304_119.txt\n",
      "/kaggle/working/brain_tumor_object_detection_split_90_10/axial/train/labels/00317_25.txt\n",
      "/kaggle/working/brain_tumor_object_detection_split_90_10/axial/train/labels/00169_142.txt\n",
      "/kaggle/working/brain_tumor_object_detection_split_90_10/axial/train/labels/00104_17.txt\n",
      "/kaggle/working/brain_tumor_object_detection_split_90_10/axial/train/labels/00253_79.txt\n",
      "/kaggle/working/brain_tumor_object_detection_split_90_10/axial/train/labels/00088_150.txt\n",
      "/kaggle/working/brain_tumor_object_detection_split_90_10/axial/train/labels/00260_121.txt\n",
      "/kaggle/working/brain_tumor_object_detection_split_90_10/axial/train/labels/00084_145.txt\n",
      "/kaggle/working/brain_tumor_object_detection_split_90_10/axial/train/labels/00304_98.txt\n",
      "/kaggle/working/brain_tumor_object_detection_split_90_10/axial/train/labels/00165_111.txt\n",
      "/kaggle/working/brain_tumor_object_detection_split_90_10/axial/train/labels/00158_96.txt\n",
      "/kaggle/working/brain_tumor_object_detection_split_90_10/axial/train/labels/00172_96.txt\n",
      "/kaggle/working/brain_tumor_object_detection_split_90_10/axial/train/labels/00296_125.txt\n",
      "/kaggle/working/brain_tumor_object_detection_split_90_10/axial/train/labels/00271_130.txt\n",
      "/kaggle/working/brain_tumor_object_detection_split_90_10/axial/train/labels/00167_127.txt\n",
      "/kaggle/working/brain_tumor_object_detection_split_90_10/axial/train/labels/00099_139.txt\n",
      "/kaggle/working/brain_tumor_object_detection_split_90_10/axial/train/labels/00053_207.txt\n",
      "/kaggle/working/brain_tumor_object_detection_split_90_10/axial/train/labels/00151_14.txt\n",
      "/kaggle/working/brain_tumor_object_detection_split_90_10/axial/train/labels/00111_110.txt\n",
      "/kaggle/working/brain_tumor_object_detection_split_90_10/axial/train/labels/00352_97.txt\n",
      "/kaggle/working/brain_tumor_object_detection_split_90_10/axial/train/labels/00260_113.txt\n",
      "/kaggle/working/brain_tumor_object_detection_split_90_10/axial/train/labels/00022_88.txt\n",
      "/kaggle/working/brain_tumor_object_detection_split_90_10/axial/train/labels/00072_77.txt\n",
      "/kaggle/working/brain_tumor_object_detection_split_90_10/axial/train/labels/00158_86.txt\n",
      "/kaggle/working/brain_tumor_object_detection_split_90_10/axial/train/labels/00116_12.txt\n",
      "/kaggle/working/brain_tumor_object_detection_split_90_10/axial/train/labels/00022_83.txt\n",
      "/kaggle/working/brain_tumor_object_detection_split_90_10/axial/train/labels/00263_123.txt\n",
      "/kaggle/working/brain_tumor_object_detection_split_90_10/axial/train/labels/00328_94.txt\n",
      "/kaggle/working/brain_tumor_object_detection_split_90_10/axial/train/labels/00095_188.txt\n",
      "/kaggle/working/brain_tumor_object_detection_split_90_10/axial/train/labels/00329_90.txt\n",
      "/kaggle/working/brain_tumor_object_detection_split_90_10/axial/train/labels/00053_269.txt\n",
      "/kaggle/working/brain_tumor_object_detection_split_90_10/axial/train/labels/00097_77.txt\n",
      "/kaggle/working/brain_tumor_object_detection_split_90_10/axial/train/labels/00104_15.txt\n",
      "/kaggle/working/brain_tumor_object_detection_split_90_10/axial/train/labels/00022_75.txt\n",
      "/kaggle/working/brain_tumor_object_detection_split_90_10/axial/train/labels/00284_149.txt\n",
      "/kaggle/working/brain_tumor_object_detection_split_90_10/axial/train/labels/00169_112.txt\n",
      "/kaggle/working/brain_tumor_object_detection_split_90_10/axial/train/labels/00022_85.txt\n",
      "/kaggle/working/brain_tumor_object_detection_split_90_10/axial/train/labels/00291_22.txt\n",
      "/kaggle/working/brain_tumor_object_detection_split_90_10/axial/train/labels/00123_10.txt\n",
      "/kaggle/working/brain_tumor_object_detection_split_90_10/axial/train/labels/00317_22.txt\n",
      "/kaggle/working/brain_tumor_object_detection_split_90_10/axial/train/labels/00360_96.txt\n",
      "/kaggle/working/brain_tumor_object_detection_split_90_10/axial/train/labels/00053_263.txt\n",
      "/kaggle/working/brain_tumor_object_detection_split_90_10/axial/train/labels/00116_15.txt\n",
      "/kaggle/working/brain_tumor_object_detection_split_90_10/axial/train/labels/00097_79.txt\n",
      "/kaggle/working/brain_tumor_object_detection_split_90_10/axial/train/labels/00084_160.txt\n",
      "/kaggle/working/brain_tumor_object_detection_split_90_10/axial/train/labels/00097_70.txt\n",
      "/kaggle/working/brain_tumor_object_detection_split_90_10/axial/train/labels/00263_117.txt\n",
      "/kaggle/working/brain_tumor_object_detection_split_90_10/axial/train/labels/00270_13.txt\n",
      "/kaggle/working/brain_tumor_object_detection_split_90_10/axial/train/labels/00306_109.txt\n",
      "/kaggle/working/brain_tumor_object_detection_split_90_10/axial/train/labels/00260_119.txt\n",
      "/kaggle/working/brain_tumor_object_detection_split_90_10/axial/train/labels/00104_19.txt\n",
      "/kaggle/working/brain_tumor_object_detection_split_90_10/axial/train/labels/00328_90.txt\n",
      "/kaggle/working/brain_tumor_object_detection_split_90_10/axial/train/labels/00084_156.txt\n",
      "/kaggle/working/brain_tumor_object_detection_split_90_10/axial/train/labels/00130_107.txt\n",
      "/kaggle/working/brain_tumor_object_detection_split_90_10/axial/train/labels/00350_151.txt\n",
      "/kaggle/working/brain_tumor_object_detection_split_90_10/axial/train/labels/00305_98.txt\n",
      "/kaggle/working/brain_tumor_object_detection_split_90_10/axial/train/labels/00099_130.txt\n",
      "/kaggle/working/brain_tumor_object_detection_split_90_10/axial/train/labels/00112_10.txt\n",
      "/kaggle/working/brain_tumor_object_detection_split_90_10/axial/train/labels/00340_119.txt\n",
      "/kaggle/working/brain_tumor_object_detection_split_90_10/axial/train/labels/00246_96.txt\n",
      "/kaggle/working/brain_tumor_object_detection_split_90_10/axial/train/labels/00254_89.txt\n",
      "/kaggle/working/brain_tumor_object_detection_split_90_10/axial/train/labels/00165_125.txt\n",
      "/kaggle/working/brain_tumor_object_detection_split_90_10/axial/train/labels/00322_121.txt\n",
      "/kaggle/working/brain_tumor_object_detection_split_90_10/axial/train/labels/00088_137.txt\n",
      "/kaggle/working/brain_tumor_object_detection_split_90_10/axial/train/labels/00317_21.txt\n",
      "/kaggle/working/brain_tumor_object_detection_split_90_10/axial/train/labels/00122_10.txt\n",
      "/kaggle/working/brain_tumor_object_detection_split_90_10/axial/train/labels/00123_13.txt\n",
      "/kaggle/working/brain_tumor_object_detection_split_90_10/axial/train/labels/00322_115.txt\n",
      "/kaggle/working/brain_tumor_object_detection_split_90_10/axial/train/labels/00322_108.txt\n",
      "/kaggle/working/brain_tumor_object_detection_split_90_10/axial/train/labels/00313_124.txt\n",
      "/kaggle/working/brain_tumor_object_detection_split_90_10/axial/train/labels/00018_121.txt\n",
      "/kaggle/working/brain_tumor_object_detection_split_90_10/axial/train/labels/00250_121.txt\n",
      "/kaggle/working/brain_tumor_object_detection_split_90_10/axial/train/labels/00044_109.txt\n",
      "/kaggle/working/brain_tumor_object_detection_split_90_10/axial/train/labels/00296_130.txt\n",
      "/kaggle/working/brain_tumor_object_detection_split_90_10/axial/train/labels/00306_92.txt\n",
      "/kaggle/working/brain_tumor_object_detection_split_90_10/axial/train/labels/00299_101.txt\n",
      "/kaggle/working/brain_tumor_object_detection_split_90_10/axial/train/labels/00281_116.txt\n",
      "/kaggle/working/brain_tumor_object_detection_split_90_10/axial/train/labels/00158_115.txt\n",
      "/kaggle/working/brain_tumor_object_detection_split_90_10/axial/train/labels/00116_11.txt\n",
      "/kaggle/working/brain_tumor_object_detection_split_90_10/axial/train/labels/00124_6.txt\n",
      "/kaggle/working/brain_tumor_object_detection_split_90_10/axial/train/labels/00018_134.txt\n",
      "/kaggle/working/brain_tumor_object_detection_split_90_10/axial/train/labels/00061_172.txt\n",
      "/kaggle/working/brain_tumor_object_detection_split_90_10/axial/train/labels/00165_110.txt\n",
      "/kaggle/working/brain_tumor_object_detection_split_90_10/axial/train/labels/00045_127.txt\n",
      "/kaggle/working/brain_tumor_object_detection_split_90_10/axial/train/labels/00240_144.txt\n",
      "/kaggle/working/brain_tumor_object_detection_split_90_10/axial/train/labels/00359_116.txt\n",
      "/kaggle/working/brain_tumor_object_detection_split_90_10/axial/train/labels/00158_102.txt\n",
      "/kaggle/working/brain_tumor_object_detection_split_90_10/axial/train/labels/00112_12.txt\n",
      "/kaggle/working/brain_tumor_object_detection_split_90_10/axial/train/labels/00338_15.txt\n",
      "/kaggle/working/brain_tumor_object_detection_split_90_10/axial/train/labels/00311_118.txt\n",
      "/kaggle/working/brain_tumor_object_detection_split_90_10/axial/train/labels/00303_85.txt\n",
      "/kaggle/working/brain_tumor_object_detection_split_90_10/axial/train/labels/00176_104.txt\n",
      "/kaggle/working/brain_tumor_object_detection_split_90_10/axial/train/labels/00240_134.txt\n",
      "/kaggle/working/brain_tumor_object_detection_split_90_10/axial/train/labels/00169_149.txt\n",
      "/kaggle/working/brain_tumor_object_detection_split_90_10/axial/train/labels/00350_126.txt\n",
      "/kaggle/working/brain_tumor_object_detection_split_90_10/axial/train/labels/00281_128.txt\n",
      "/kaggle/working/brain_tumor_object_detection_split_90_10/axial/train/labels/00019_75.txt\n",
      "/kaggle/working/brain_tumor_object_detection_split_90_10/axial/train/labels/00095_212.txt\n",
      "/kaggle/working/brain_tumor_object_detection_split_90_10/axial/train/labels/00150_8.txt\n",
      "/kaggle/working/brain_tumor_object_detection_split_90_10/axial/train/labels/00022_87.txt\n",
      "/kaggle/working/brain_tumor_object_detection_split_90_10/axial/train/labels/00306_102.txt\n",
      "/kaggle/working/brain_tumor_object_detection_split_90_10/axial/train/labels/00260_115.txt\n",
      "/kaggle/working/brain_tumor_object_detection_split_90_10/axial/train/labels/00095_170.txt\n",
      "/kaggle/working/brain_tumor_object_detection_split_90_10/axial/train/labels/00097_80.txt\n",
      "/kaggle/working/brain_tumor_object_detection_split_90_10/axial/train/labels/00329_87.txt\n",
      "/kaggle/working/brain_tumor_object_detection_split_90_10/axial/train/labels/00305_105.txt\n",
      "/kaggle/working/brain_tumor_object_detection_split_90_10/axial/train/labels/00148_22.txt\n",
      "/kaggle/working/brain_tumor_object_detection_split_90_10/axial/train/labels/00099_137.txt\n",
      "/kaggle/working/brain_tumor_object_detection_split_90_10/axial/train/labels/00240_138.txt\n",
      "/kaggle/working/brain_tumor_object_detection_split_90_10/axial/train/labels/00340_128.txt\n",
      "/kaggle/working/brain_tumor_object_detection_split_90_10/axial/train/labels/00088_153.txt\n",
      "/kaggle/working/brain_tumor_object_detection_split_90_10/axial/train/labels/00165_129.txt\n",
      "/kaggle/working/brain_tumor_object_detection_split_90_10/axial/train/labels/00116_14.txt\n",
      "/kaggle/working/brain_tumor_object_detection_split_90_10/axial/train/labels/00245_101.txt\n",
      "/kaggle/working/brain_tumor_object_detection_split_90_10/axial/train/labels/00240_151.txt\n",
      "/kaggle/working/brain_tumor_object_detection_split_90_10/axial/train/labels/00169_127.txt\n",
      "/kaggle/working/brain_tumor_object_detection_split_90_10/axial/train/labels/00122_11.txt\n",
      "/kaggle/working/brain_tumor_object_detection_split_90_10/axial/train/labels/00282_87.txt\n",
      "/kaggle/working/brain_tumor_object_detection_split_90_10/axial/train/labels/00263_130.txt\n",
      "/kaggle/working/brain_tumor_object_detection_split_90_10/axial/train/labels/00359_103.txt\n",
      "/kaggle/working/brain_tumor_object_detection_split_90_10/axial/train/labels/00088_136.txt\n",
      "/kaggle/working/brain_tumor_object_detection_split_90_10/axial/train/labels/00130_88.txt\n",
      "/kaggle/working/brain_tumor_object_detection_split_90_10/axial/train/labels/00122_8.txt\n",
      "/kaggle/working/brain_tumor_object_detection_split_90_10/axial/train/labels/00053_237.txt\n",
      "/kaggle/working/brain_tumor_object_detection_split_90_10/axial/train/labels/00350_139.txt\n",
      "/kaggle/working/brain_tumor_object_detection_split_90_10/axial/train/labels/00084_152.txt\n",
      "/kaggle/working/brain_tumor_object_detection_split_90_10/axial/train/labels/00097_81.txt\n",
      "/kaggle/working/brain_tumor_object_detection_split_90_10/axial/train/labels/00097_83.txt\n",
      "/kaggle/working/brain_tumor_object_detection_split_90_10/axial/train/labels/00281_104.txt\n",
      "/kaggle/working/brain_tumor_object_detection_split_90_10/axial/train/labels/00271_111.txt\n",
      "/kaggle/working/brain_tumor_object_detection_split_90_10/axial/train/labels/00130_119.txt\n",
      "/kaggle/working/brain_tumor_object_detection_split_90_10/axial/train/labels/00334_91.txt\n",
      "/kaggle/working/brain_tumor_object_detection_split_90_10/axial/train/labels/00116_16.txt\n",
      "/kaggle/working/brain_tumor_object_detection_split_90_10/axial/train/labels/00053_221.txt\n",
      "/kaggle/working/brain_tumor_object_detection_split_90_10/axial/train/labels/00165_123.txt\n",
      "/kaggle/working/brain_tumor_object_detection_split_90_10/axial/train/labels/00270_11.txt\n",
      "/kaggle/working/brain_tumor_object_detection_split_90_10/axial/train/labels/00359_121.txt\n",
      "/kaggle/working/brain_tumor_object_detection_split_90_10/axial/train/labels/00123_11.txt\n",
      "/kaggle/working/brain_tumor_object_detection_split_90_10/axial/train/labels/00281_122.txt\n",
      "/kaggle/working/brain_tumor_object_detection_split_90_10/axial/train/labels/00254_83.txt\n",
      "/kaggle/working/brain_tumor_object_detection_split_90_10/axial/train/labels/00250_115.txt\n",
      "/kaggle/working/brain_tumor_object_detection_split_90_10/axial/train/labels/00360_90.txt\n",
      "/kaggle/working/brain_tumor_object_detection_split_90_10/axial/train/labels/00151_17.txt\n",
      "/kaggle/working/brain_tumor_object_detection_split_90_10/axial/train/labels/00097_74.txt\n",
      "/kaggle/working/brain_tumor_object_detection_split_90_10/axial/train/labels/00285_87.txt\n",
      "/kaggle/working/brain_tumor_object_detection_split_90_10/axial/train/labels/00271_128.txt\n",
      "/kaggle/working/brain_tumor_object_detection_split_90_10/axial/train/labels/00158_90.txt\n",
      "/kaggle/working/brain_tumor_object_detection_split_90_10/axial/train/labels/00303_81.txt\n",
      "/kaggle/working/brain_tumor_object_detection_split_90_10/axial/train/labels/00311_105.txt\n",
      "/kaggle/working/brain_tumor_object_detection_split_90_10/axial/train/labels/00095_236.txt\n",
      "/kaggle/working/brain_tumor_object_detection_split_90_10/axial/train/labels/00260_130.txt\n",
      "/kaggle/working/brain_tumor_object_detection_split_90_10/axial/train/labels/00304_101.txt\n",
      "/kaggle/working/brain_tumor_object_detection_split_90_10/axial/train/labels/00334_121.txt\n",
      "/kaggle/working/brain_tumor_object_detection_split_90_10/axial/train/labels/00124_7.txt\n",
      "/kaggle/working/brain_tumor_object_detection_split_90_10/axial/train/labels/00282_99.txt\n",
      "/kaggle/working/brain_tumor_object_detection_split_90_10/axial/train/labels/00273_86.txt\n",
      "/kaggle/working/brain_tumor_object_detection_split_90_10/axial/train/labels/00340_126.txt\n",
      "/kaggle/working/brain_tumor_object_detection_split_90_10/axial/train/labels/00022_86.txt\n",
      "/kaggle/working/brain_tumor_object_detection_split_90_10/axial/train/labels/00018_126.txt\n",
      "/kaggle/working/brain_tumor_object_detection_split_90_10/axial/train/labels/00263_133.txt\n",
      "/kaggle/working/brain_tumor_object_detection_split_90_10/axial/train/labels/00064_158.txt\n",
      "/kaggle/working/brain_tumor_object_detection_split_90_10/axial/train/labels/00130_114.txt\n",
      "/kaggle/working/brain_tumor_object_detection_split_90_10/axial/train/labels/00081_98.txt\n",
      "/kaggle/working/brain_tumor_object_detection_split_90_10/axial/train/labels/00022_73.txt\n",
      "/kaggle/working/brain_tumor_object_detection_split_90_10/axial/train/labels/00172_102.txt\n",
      "/kaggle/working/brain_tumor_object_detection_split_90_10/axial/train/labels/00328_100.txt\n",
      "/kaggle/working/brain_tumor_object_detection_split_90_10/axial/train/labels/00273_109.txt\n",
      "/kaggle/working/brain_tumor_object_detection_split_90_10/axial/train/labels/00088_143.txt\n",
      "/kaggle/working/brain_tumor_object_detection_split_90_10/axial/train/labels/00291_24.txt\n",
      "/kaggle/working/brain_tumor_object_detection_split_90_10/axial/train/labels/00123_15.txt\n",
      "/kaggle/working/brain_tumor_object_detection_split_90_10/axial/train/labels/00072_73.txt\n",
      "/kaggle/working/brain_tumor_object_detection_split_90_10/axial/train/labels/00334_114.txt\n",
      "/kaggle/working/brain_tumor_object_detection_split_90_10/axial/train/labels/00148_24.txt\n",
      "/kaggle/working/brain_tumor_object_detection_split_90_10/axial/train/labels/00271_124.txt\n",
      "/kaggle/working/brain_tumor_object_detection_split_90_10/axial/train/labels/00322_127.txt\n",
      "/kaggle/working/brain_tumor_object_detection_split_90_10/axial/train/labels/00064_170.txt\n",
      "/kaggle/working/brain_tumor_object_detection_split_90_10/axial/train/labels/00165_116.txt\n",
      "/kaggle/working/brain_tumor_object_detection_split_90_10/axial/train/labels/00313_133.txt\n",
      "/kaggle/working/brain_tumor_object_detection_split_90_10/axial/train/labels/00263_125.txt\n",
      "/kaggle/working/brain_tumor_object_detection_split_90_10/axial/train/labels/00282_93.txt\n",
      "/kaggle/working/brain_tumor_object_detection_split_90_10/axial/train/labels/00095_200.txt\n",
      "/kaggle/working/brain_tumor_object_detection_split_90_10/axial/train/labels/00359_109.txt\n",
      "/kaggle/working/brain_tumor_object_detection_split_90_10/axial/train/labels/00273_90.txt\n",
      "/kaggle/working/brain_tumor_object_detection_split_90_10/axial/train/labels/00273_96.txt\n",
      "/kaggle/working/brain_tumor_object_detection_split_90_10/axial/train/labels/00260_125.txt\n",
      "/kaggle/working/brain_tumor_object_detection_split_90_10/axial/train/labels/00294_21.txt\n",
      "/kaggle/working/brain_tumor_object_detection_split_90_10/axial/train/labels/00122_9.txt\n",
      "/kaggle/working/brain_tumor_object_detection_split_90_10/axial/train/labels/00340_138.txt\n",
      "/kaggle/working/brain_tumor_object_detection_split_90_10/axial/train/labels/00260_136.txt\n",
      "/kaggle/working/brain_tumor_object_detection_split_90_10/axial/train/labels/00130_78.txt\n",
      "/kaggle/working/brain_tumor_object_detection_split_90_10/axial/train/labels/00313_119.txt\n",
      "/kaggle/working/brain_tumor_object_detection_split_90_10/axial/train/labels/00124_8.txt\n",
      "/kaggle/working/brain_tumor_object_detection_split_90_10/axial/train/labels/00253_85.txt\n",
      "/kaggle/working/brain_tumor_object_detection_split_90_10/axial/train/labels/00176_89.txt\n",
      "/kaggle/working/brain_tumor_object_detection_split_90_10/axial/train/labels/00183_80.txt\n",
      "/kaggle/working/brain_tumor_object_detection_split_90_10/axial/train/labels/00317_23.txt\n",
      "/kaggle/working/brain_tumor_object_detection_split_90_10/axial/train/labels/00271_134.txt\n",
      "/kaggle/working/brain_tumor_object_detection_split_90_10/axial/train/labels/00350_132.txt\n",
      "/kaggle/working/brain_tumor_object_detection_split_90_10/axial/train/labels/00158_114.txt\n",
      "/kaggle/working/brain_tumor_object_detection_split_90_10/axial/train/labels/00359_123.txt\n",
      "/kaggle/working/brain_tumor_object_detection_split_90_10/axial/train/labels/00019_66.txt\n",
      "/kaggle/working/brain_tumor_object_detection_split_90_10/axial/train/labels/00124_10.txt\n",
      "/kaggle/working/brain_tumor_object_detection_split_90_10/axial/train/labels/00081_89.txt\n",
      "/kaggle/working/brain_tumor_object_detection_split_90_10/axial/train/labels/00158_108.txt\n",
      "/kaggle/working/brain_tumor_object_detection_split_90_10/axial/train/labels/00282_83.txt\n",
      "/kaggle/working/brain_tumor_object_detection_split_90_10/axial/train/labels/00116_8.txt\n",
      "/kaggle/working/brain_tumor_object_detection_split_90_10/axial/train/labels/00317_28.txt\n",
      "/kaggle/working/brain_tumor_object_detection_split_90_10/axial/train/labels/00019_85.txt\n",
      "/kaggle/working/brain_tumor_object_detection_split_90_10/axial/train/labels/00250_110.txt\n",
      "/kaggle/working/brain_tumor_object_detection_split_90_10/axial/train/labels/00311_117.txt\n",
      "/kaggle/working/brain_tumor_object_detection_split_90_10/axial/train/labels/00088_122.txt\n",
      "/kaggle/working/brain_tumor_object_detection_split_90_10/axial/train/labels/00271_117.txt\n",
      "/kaggle/working/brain_tumor_object_detection_split_90_10/axial/train/labels/00359_97.txt\n",
      "/kaggle/working/brain_tumor_object_detection_split_90_10/axial/train/labels/00018_111.txt\n",
      "/kaggle/working/brain_tumor_object_detection_split_90_10/axial/train/labels/00263_109.txt\n",
      "/kaggle/working/brain_tumor_object_detection_split_90_10/axial/train/labels/00291_23.txt\n",
      "/kaggle/working/brain_tumor_object_detection_split_90_10/axial/train/labels/00097_76.txt\n",
      "/kaggle/working/brain_tumor_object_detection_split_90_10/axial/train/labels/00123_14.txt\n",
      "/kaggle/working/brain_tumor_object_detection_split_90_10/axial/train/labels/00304_113.txt\n",
      "/kaggle/working/brain_tumor_object_detection_split_90_10/axial/train/labels/00097_65.txt\n",
      "/kaggle/working/brain_tumor_object_detection_split_90_10/axial/train/labels/00253_92.txt\n",
      "/kaggle/working/brain_tumor_object_detection_split_90_10/axial/train/labels/00305_116.txt\n",
      "/kaggle/working/brain_tumor_object_detection_split_90_10/axial/train/labels/00281_110.txt\n",
      "/kaggle/working/brain_tumor_object_detection_split_90_10/axial/train/labels/00294_22.txt\n",
      "/kaggle/working/brain_tumor_object_detection_split_90_10/axial/train/labels/00084_137.txt\n",
      "/kaggle/working/brain_tumor_object_detection_split_90_10/coronal/train/labels/84 (3).txt\n",
      "/kaggle/working/brain_tumor_object_detection_split_90_10/coronal/train/labels/93 (3).txt\n",
      "/kaggle/working/brain_tumor_object_detection_split_90_10/coronal/train/labels/113 (2).txt\n",
      "/kaggle/working/brain_tumor_object_detection_split_90_10/coronal/train/labels/92.txt\n",
      "/kaggle/working/brain_tumor_object_detection_split_90_10/coronal/train/labels/116.txt\n",
      "/kaggle/working/brain_tumor_object_detection_split_90_10/coronal/train/labels/80 (6).txt\n",
      "/kaggle/working/brain_tumor_object_detection_split_90_10/coronal/train/labels/112.txt\n",
      "/kaggle/working/brain_tumor_object_detection_split_90_10/coronal/train/labels/92 (2).txt\n",
      "/kaggle/working/brain_tumor_object_detection_split_90_10/coronal/train/labels/87 (5).txt\n",
      "/kaggle/working/brain_tumor_object_detection_split_90_10/coronal/train/labels/68 (5).txt\n",
      "/kaggle/working/brain_tumor_object_detection_split_90_10/coronal/train/labels/60 (2).txt\n",
      "/kaggle/working/brain_tumor_object_detection_split_90_10/coronal/train/labels/85 (5).txt\n",
      "/kaggle/working/brain_tumor_object_detection_split_90_10/coronal/train/labels/62.txt\n",
      "/kaggle/working/brain_tumor_object_detection_split_90_10/coronal/train/labels/67 (10).txt\n",
      "/kaggle/working/brain_tumor_object_detection_split_90_10/coronal/train/labels/69 (7).txt\n",
      "/kaggle/working/brain_tumor_object_detection_split_90_10/coronal/train/labels/94.txt\n",
      "/kaggle/working/brain_tumor_object_detection_split_90_10/coronal/train/labels/81 (6).txt\n",
      "/kaggle/working/brain_tumor_object_detection_split_90_10/coronal/train/labels/64 (7).txt\n",
      "/kaggle/working/brain_tumor_object_detection_split_90_10/coronal/train/labels/100 (3).txt\n",
      "/kaggle/working/brain_tumor_object_detection_split_90_10/coronal/train/labels/91 (3).txt\n",
      "/kaggle/working/brain_tumor_object_detection_split_90_10/coronal/train/labels/65 (4).txt\n",
      "/kaggle/working/brain_tumor_object_detection_split_90_10/coronal/train/labels/53 (3).txt\n",
      "/kaggle/working/brain_tumor_object_detection_split_90_10/coronal/train/labels/96 (5).txt\n",
      "/kaggle/working/brain_tumor_object_detection_split_90_10/coronal/train/labels/72 (5).txt\n",
      "/kaggle/working/brain_tumor_object_detection_split_90_10/coronal/train/labels/65 (5).txt\n",
      "/kaggle/working/brain_tumor_object_detection_split_90_10/coronal/train/labels/81 (5).txt\n",
      "/kaggle/working/brain_tumor_object_detection_split_90_10/coronal/train/labels/72 (8).txt\n",
      "/kaggle/working/brain_tumor_object_detection_split_90_10/coronal/train/labels/36.txt\n",
      "/kaggle/working/brain_tumor_object_detection_split_90_10/coronal/train/labels/72 (10).txt\n",
      "/kaggle/working/brain_tumor_object_detection_split_90_10/coronal/train/labels/92 (5).txt\n",
      "/kaggle/working/brain_tumor_object_detection_split_90_10/coronal/train/labels/70 (9).txt\n",
      "/kaggle/working/brain_tumor_object_detection_split_90_10/coronal/train/labels/60 (8).txt\n",
      "/kaggle/working/brain_tumor_object_detection_split_90_10/coronal/train/labels/99.txt\n",
      "/kaggle/working/brain_tumor_object_detection_split_90_10/coronal/train/labels/67 (11).txt\n",
      "/kaggle/working/brain_tumor_object_detection_split_90_10/coronal/train/labels/89 (4).txt\n",
      "/kaggle/working/brain_tumor_object_detection_split_90_10/coronal/train/labels/68 (4).txt\n",
      "/kaggle/working/brain_tumor_object_detection_split_90_10/coronal/train/labels/75 (4).txt\n",
      "/kaggle/working/brain_tumor_object_detection_split_90_10/coronal/train/labels/83 (2).txt\n",
      "/kaggle/working/brain_tumor_object_detection_split_90_10/coronal/train/labels/64 (4).txt\n",
      "/kaggle/working/brain_tumor_object_detection_split_90_10/coronal/train/labels/76 (12).txt\n",
      "/kaggle/working/brain_tumor_object_detection_split_90_10/coronal/train/labels/95 (4).txt\n",
      "/kaggle/working/brain_tumor_object_detection_split_90_10/coronal/train/labels/62 (6).txt\n",
      "/kaggle/working/brain_tumor_object_detection_split_90_10/coronal/train/labels/74 (6).txt\n",
      "/kaggle/working/brain_tumor_object_detection_split_90_10/coronal/train/labels/59 (5).txt\n",
      "/kaggle/working/brain_tumor_object_detection_split_90_10/coronal/train/labels/72 (9).txt\n",
      "/kaggle/working/brain_tumor_object_detection_split_90_10/coronal/train/labels/71.txt\n",
      "/kaggle/working/brain_tumor_object_detection_split_90_10/coronal/train/labels/75.txt\n",
      "/kaggle/working/brain_tumor_object_detection_split_90_10/coronal/train/labels/59 (4).txt\n",
      "/kaggle/working/brain_tumor_object_detection_split_90_10/coronal/train/labels/104.txt\n",
      "/kaggle/working/brain_tumor_object_detection_split_90_10/coronal/train/labels/65 (8).txt\n",
      "/kaggle/working/brain_tumor_object_detection_split_90_10/coronal/train/labels/67 (9).txt\n",
      "/kaggle/working/brain_tumor_object_detection_split_90_10/coronal/train/labels/75 (7).txt\n",
      "/kaggle/working/brain_tumor_object_detection_split_90_10/coronal/train/labels/70 (11).txt\n",
      "/kaggle/working/brain_tumor_object_detection_split_90_10/coronal/train/labels/78.txt\n",
      "/kaggle/working/brain_tumor_object_detection_split_90_10/coronal/train/labels/74.txt\n",
      "/kaggle/working/brain_tumor_object_detection_split_90_10/coronal/train/labels/89 (5).txt\n",
      "/kaggle/working/brain_tumor_object_detection_split_90_10/coronal/train/labels/72.txt\n",
      "/kaggle/working/brain_tumor_object_detection_split_90_10/coronal/train/labels/61 (7).txt\n",
      "/kaggle/working/brain_tumor_object_detection_split_90_10/coronal/train/labels/65 (11).txt\n",
      "/kaggle/working/brain_tumor_object_detection_split_90_10/coronal/train/labels/92 (4).txt\n",
      "/kaggle/working/brain_tumor_object_detection_split_90_10/coronal/train/labels/54 (5).txt\n",
      "/kaggle/working/brain_tumor_object_detection_split_90_10/coronal/train/labels/45.txt\n",
      "/kaggle/working/brain_tumor_object_detection_split_90_10/coronal/train/labels/17.txt\n",
      "/kaggle/working/brain_tumor_object_detection_split_90_10/coronal/train/labels/69 (4).txt\n",
      "/kaggle/working/brain_tumor_object_detection_split_90_10/coronal/train/labels/108.txt\n",
      "/kaggle/working/brain_tumor_object_detection_split_90_10/coronal/train/labels/58 (5).txt\n",
      "/kaggle/working/brain_tumor_object_detection_split_90_10/coronal/train/labels/61 (3).txt\n",
      "/kaggle/working/brain_tumor_object_detection_split_90_10/coronal/train/labels/64 (5).txt\n",
      "/kaggle/working/brain_tumor_object_detection_split_90_10/coronal/train/labels/91 (2).txt\n",
      "/kaggle/working/brain_tumor_object_detection_split_90_10/coronal/train/labels/67 (8).txt\n",
      "/kaggle/working/brain_tumor_object_detection_split_90_10/coronal/train/labels/104 (3).txt\n",
      "/kaggle/working/brain_tumor_object_detection_split_90_10/coronal/train/labels/69.txt\n",
      "/kaggle/working/brain_tumor_object_detection_split_90_10/coronal/train/labels/80 (3).txt\n",
      "/kaggle/working/brain_tumor_object_detection_split_90_10/coronal/train/labels/74 (11).txt\n",
      "/kaggle/working/brain_tumor_object_detection_split_90_10/coronal/train/labels/73 (6).txt\n",
      "/kaggle/working/brain_tumor_object_detection_split_90_10/coronal/train/labels/59 (2).txt\n",
      "/kaggle/working/brain_tumor_object_detection_split_90_10/coronal/train/labels/40.txt\n",
      "/kaggle/working/brain_tumor_object_detection_split_90_10/coronal/train/labels/94 (5).txt\n",
      "/kaggle/working/brain_tumor_object_detection_split_90_10/coronal/train/labels/53.txt\n",
      "/kaggle/working/brain_tumor_object_detection_split_90_10/coronal/train/labels/102 (3).txt\n",
      "/kaggle/working/brain_tumor_object_detection_split_90_10/coronal/train/labels/109 (2).txt\n",
      "/kaggle/working/brain_tumor_object_detection_split_90_10/coronal/train/labels/82.txt\n",
      "/kaggle/working/brain_tumor_object_detection_split_90_10/coronal/train/labels/54 (4).txt\n",
      "/kaggle/working/brain_tumor_object_detection_split_90_10/coronal/train/labels/67 (5).txt\n",
      "/kaggle/working/brain_tumor_object_detection_split_90_10/coronal/train/labels/15.txt\n",
      "/kaggle/working/brain_tumor_object_detection_split_90_10/coronal/train/labels/89 (3).txt\n",
      "/kaggle/working/brain_tumor_object_detection_split_90_10/coronal/train/labels/79 (9).txt\n",
      "/kaggle/working/brain_tumor_object_detection_split_90_10/coronal/train/labels/78 (5).txt\n",
      "/kaggle/working/brain_tumor_object_detection_split_90_10/coronal/train/labels/60 (4).txt\n",
      "/kaggle/working/brain_tumor_object_detection_split_90_10/coronal/train/labels/95.txt\n",
      "/kaggle/working/brain_tumor_object_detection_split_90_10/coronal/train/labels/79 (10).txt\n",
      "/kaggle/working/brain_tumor_object_detection_split_90_10/coronal/train/labels/67 (2).txt\n",
      "/kaggle/working/brain_tumor_object_detection_split_90_10/coronal/train/labels/74 (2).txt\n",
      "/kaggle/working/brain_tumor_object_detection_split_90_10/coronal/train/labels/71 (4).txt\n",
      "/kaggle/working/brain_tumor_object_detection_split_90_10/coronal/train/labels/76 (11).txt\n",
      "/kaggle/working/brain_tumor_object_detection_split_90_10/coronal/train/labels/66 (6).txt\n",
      "/kaggle/working/brain_tumor_object_detection_split_90_10/coronal/train/labels/72 (11).txt\n",
      "/kaggle/working/brain_tumor_object_detection_split_90_10/coronal/train/labels/58 (4).txt\n",
      "/kaggle/working/brain_tumor_object_detection_split_90_10/coronal/train/labels/79 (12).txt\n",
      "/kaggle/working/brain_tumor_object_detection_split_90_10/coronal/train/labels/48 (4).txt\n",
      "/kaggle/working/brain_tumor_object_detection_split_90_10/coronal/train/labels/54 (2).txt\n",
      "/kaggle/working/brain_tumor_object_detection_split_90_10/coronal/train/labels/73 (3).txt\n",
      "/kaggle/working/brain_tumor_object_detection_split_90_10/coronal/train/labels/66 (9).txt\n",
      "/kaggle/working/brain_tumor_object_detection_split_90_10/coronal/train/labels/76.txt\n",
      "/kaggle/working/brain_tumor_object_detection_split_90_10/coronal/train/labels/80 (7).txt\n",
      "/kaggle/working/brain_tumor_object_detection_split_90_10/coronal/train/labels/93 (4).txt\n",
      "/kaggle/working/brain_tumor_object_detection_split_90_10/coronal/train/labels/84 (4).txt\n",
      "/kaggle/working/brain_tumor_object_detection_split_90_10/coronal/train/labels/75 (2).txt\n",
      "/kaggle/working/brain_tumor_object_detection_split_90_10/coronal/train/labels/74 (3).txt\n",
      "/kaggle/working/brain_tumor_object_detection_split_90_10/coronal/train/labels/64 (6).txt\n",
      "/kaggle/working/brain_tumor_object_detection_split_90_10/coronal/train/labels/46 (2).txt\n",
      "/kaggle/working/brain_tumor_object_detection_split_90_10/coronal/train/labels/79 (3).txt\n",
      "/kaggle/working/brain_tumor_object_detection_split_90_10/coronal/train/labels/112 (2).txt\n",
      "/kaggle/working/brain_tumor_object_detection_split_90_10/coronal/train/labels/74 (5).txt\n",
      "/kaggle/working/brain_tumor_object_detection_split_90_10/coronal/train/labels/62 (10).txt\n",
      "/kaggle/working/brain_tumor_object_detection_split_90_10/coronal/train/labels/77 (6).txt\n",
      "/kaggle/working/brain_tumor_object_detection_split_90_10/coronal/train/labels/118.txt\n",
      "/kaggle/working/brain_tumor_object_detection_split_90_10/coronal/train/labels/83 (3).txt\n",
      "/kaggle/working/brain_tumor_object_detection_split_90_10/coronal/train/labels/62 (8).txt\n",
      "/kaggle/working/brain_tumor_object_detection_split_90_10/coronal/train/labels/76 (10).txt\n",
      "/kaggle/working/brain_tumor_object_detection_split_90_10/coronal/train/labels/93 (5).txt\n",
      "/kaggle/working/brain_tumor_object_detection_split_90_10/coronal/train/labels/66 (3).txt\n",
      "/kaggle/working/brain_tumor_object_detection_split_90_10/coronal/train/labels/48 (3).txt\n",
      "/kaggle/working/brain_tumor_object_detection_split_90_10/coronal/train/labels/62 (9).txt\n",
      "/kaggle/working/brain_tumor_object_detection_split_90_10/coronal/train/labels/73 (2).txt\n",
      "/kaggle/working/brain_tumor_object_detection_split_90_10/coronal/train/labels/58.txt\n",
      "/kaggle/working/brain_tumor_object_detection_split_90_10/coronal/train/labels/48.txt\n",
      "/kaggle/working/brain_tumor_object_detection_split_90_10/coronal/train/labels/68 (8).txt\n",
      "/kaggle/working/brain_tumor_object_detection_split_90_10/coronal/train/labels/57 (4).txt\n",
      "/kaggle/working/brain_tumor_object_detection_split_90_10/coronal/train/labels/99 (3).txt\n",
      "/kaggle/working/brain_tumor_object_detection_split_90_10/coronal/train/labels/66 (2).txt\n",
      "/kaggle/working/brain_tumor_object_detection_split_90_10/coronal/train/labels/65 (12).txt\n",
      "/kaggle/working/brain_tumor_object_detection_split_90_10/coronal/train/labels/102 (4).txt\n",
      "/kaggle/working/brain_tumor_object_detection_split_90_10/coronal/train/labels/70 (5).txt\n",
      "/kaggle/working/brain_tumor_object_detection_split_90_10/coronal/train/labels/88.txt\n",
      "/kaggle/working/brain_tumor_object_detection_split_90_10/coronal/train/labels/66 (12).txt\n",
      "/kaggle/working/brain_tumor_object_detection_split_90_10/coronal/train/labels/90.txt\n",
      "/kaggle/working/brain_tumor_object_detection_split_90_10/coronal/train/labels/63 (8).txt\n",
      "/kaggle/working/brain_tumor_object_detection_split_90_10/coronal/train/labels/63 (5).txt\n",
      "/kaggle/working/brain_tumor_object_detection_split_90_10/coronal/train/labels/44.txt\n",
      "/kaggle/working/brain_tumor_object_detection_split_90_10/coronal/train/labels/60 (11).txt\n",
      "/kaggle/working/brain_tumor_object_detection_split_90_10/coronal/train/labels/60 (3).txt\n",
      "/kaggle/working/brain_tumor_object_detection_split_90_10/coronal/train/labels/80 (2).txt\n",
      "/kaggle/working/brain_tumor_object_detection_split_90_10/coronal/train/labels/72 (3).txt\n",
      "/kaggle/working/brain_tumor_object_detection_split_90_10/coronal/train/labels/73 (4).txt\n",
      "/kaggle/working/brain_tumor_object_detection_split_90_10/coronal/train/labels/73 (5).txt\n",
      "/kaggle/working/brain_tumor_object_detection_split_90_10/coronal/train/labels/106 (2).txt\n",
      "/kaggle/working/brain_tumor_object_detection_split_90_10/coronal/train/labels/65 (9).txt\n",
      "/kaggle/working/brain_tumor_object_detection_split_90_10/coronal/train/labels/86.txt\n",
      "/kaggle/working/brain_tumor_object_detection_split_90_10/coronal/train/labels/19.txt\n",
      "/kaggle/working/brain_tumor_object_detection_split_90_10/coronal/train/labels/20.txt\n",
      "/kaggle/working/brain_tumor_object_detection_split_90_10/coronal/train/labels/74 (7).txt\n",
      "/kaggle/working/brain_tumor_object_detection_split_90_10/coronal/train/labels/55 (4).txt\n",
      "/kaggle/working/brain_tumor_object_detection_split_90_10/coronal/train/labels/68 (6).txt\n",
      "/kaggle/working/brain_tumor_object_detection_split_90_10/coronal/train/labels/72 (7).txt\n",
      "/kaggle/working/brain_tumor_object_detection_split_90_10/coronal/train/labels/80 (4).txt\n",
      "/kaggle/working/brain_tumor_object_detection_split_90_10/coronal/train/labels/87.txt\n",
      "/kaggle/working/brain_tumor_object_detection_split_90_10/coronal/train/labels/77 (2).txt\n",
      "/kaggle/working/brain_tumor_object_detection_split_90_10/coronal/train/labels/65.txt\n",
      "/kaggle/working/brain_tumor_object_detection_split_90_10/coronal/train/labels/56.txt\n",
      "/kaggle/working/brain_tumor_object_detection_split_90_10/coronal/train/labels/79 (11).txt\n",
      "/kaggle/working/brain_tumor_object_detection_split_90_10/coronal/train/labels/71 (6).txt\n",
      "/kaggle/working/brain_tumor_object_detection_split_90_10/coronal/train/labels/115.txt\n",
      "/kaggle/working/brain_tumor_object_detection_split_90_10/coronal/train/labels/68 (2).txt\n",
      "/kaggle/working/brain_tumor_object_detection_split_90_10/coronal/train/labels/64 (3).txt\n",
      "/kaggle/working/brain_tumor_object_detection_split_90_10/coronal/train/labels/67.txt\n",
      "/kaggle/working/brain_tumor_object_detection_split_90_10/coronal/train/labels/63 (4).txt\n",
      "/kaggle/working/brain_tumor_object_detection_split_90_10/coronal/train/labels/72 (2).txt\n",
      "/kaggle/working/brain_tumor_object_detection_split_90_10/coronal/train/labels/62 (5).txt\n",
      "/kaggle/working/brain_tumor_object_detection_split_90_10/coronal/train/labels/33.txt\n",
      "/kaggle/working/brain_tumor_object_detection_split_90_10/coronal/train/labels/66 (4).txt\n",
      "/kaggle/working/brain_tumor_object_detection_split_90_10/coronal/train/labels/62 (13).txt\n",
      "/kaggle/working/brain_tumor_object_detection_split_90_10/coronal/train/labels/114.txt\n",
      "/kaggle/working/brain_tumor_object_detection_split_90_10/coronal/train/labels/83 (4).txt\n",
      "/kaggle/working/brain_tumor_object_detection_split_90_10/coronal/train/labels/76 (2).txt\n",
      "/kaggle/working/brain_tumor_object_detection_split_90_10/coronal/train/labels/76 (5).txt\n",
      "/kaggle/working/brain_tumor_object_detection_split_90_10/coronal/train/labels/55 (5).txt\n",
      "/kaggle/working/brain_tumor_object_detection_split_90_10/coronal/train/labels/60 (7).txt\n",
      "/kaggle/working/brain_tumor_object_detection_split_90_10/coronal/train/labels/82 (2).txt\n",
      "/kaggle/working/brain_tumor_object_detection_split_90_10/coronal/train/labels/59 (7).txt\n",
      "/kaggle/working/brain_tumor_object_detection_split_90_10/coronal/train/labels/62 (15).txt\n",
      "/kaggle/working/brain_tumor_object_detection_split_90_10/coronal/train/labels/62 (11).txt\n",
      "/kaggle/working/brain_tumor_object_detection_split_90_10/coronal/train/labels/89 (2).txt\n",
      "/kaggle/working/brain_tumor_object_detection_split_90_10/coronal/train/labels/51.txt\n",
      "/kaggle/working/brain_tumor_object_detection_split_90_10/coronal/train/labels/76 (7).txt\n",
      "/kaggle/working/brain_tumor_object_detection_split_90_10/coronal/train/labels/62 (4).txt\n",
      "/kaggle/working/brain_tumor_object_detection_split_90_10/coronal/train/labels/138.txt\n",
      "/kaggle/working/brain_tumor_object_detection_split_90_10/coronal/train/labels/70 (3).txt\n",
      "/kaggle/working/brain_tumor_object_detection_split_90_10/coronal/train/labels/70 (2).txt\n",
      "/kaggle/working/brain_tumor_object_detection_split_90_10/coronal/train/labels/58 (6).txt\n",
      "/kaggle/working/brain_tumor_object_detection_split_90_10/coronal/train/labels/69 (5).txt\n",
      "/kaggle/working/brain_tumor_object_detection_split_90_10/coronal/train/labels/93 (6).txt\n",
      "/kaggle/working/brain_tumor_object_detection_split_90_10/coronal/train/labels/53 (2).txt\n",
      "/kaggle/working/brain_tumor_object_detection_split_90_10/coronal/train/labels/57 (2).txt\n",
      "/kaggle/working/brain_tumor_object_detection_split_90_10/coronal/train/labels/92 (3).txt\n",
      "/kaggle/working/brain_tumor_object_detection_split_90_10/coronal/train/labels/79 (6).txt\n",
      "/kaggle/working/brain_tumor_object_detection_split_90_10/coronal/train/labels/91 (4).txt\n",
      "/kaggle/working/brain_tumor_object_detection_split_90_10/coronal/train/labels/61 (6).txt\n",
      "/kaggle/working/brain_tumor_object_detection_split_90_10/coronal/train/labels/87 (2).txt\n",
      "/kaggle/working/brain_tumor_object_detection_split_90_10/coronal/train/labels/67 (7).txt\n",
      "/kaggle/working/brain_tumor_object_detection_split_90_10/coronal/train/labels/68 (9).txt\n",
      "/kaggle/working/brain_tumor_object_detection_split_90_10/coronal/train/labels/64 (2).txt\n",
      "/kaggle/working/brain_tumor_object_detection_split_90_10/coronal/train/labels/76 (8).txt\n",
      "/kaggle/working/brain_tumor_object_detection_split_90_10/coronal/train/labels/63.txt\n",
      "/kaggle/working/brain_tumor_object_detection_split_90_10/coronal/train/labels/76 (3).txt\n",
      "/kaggle/working/brain_tumor_object_detection_split_90_10/coronal/train/labels/74 (10).txt\n",
      "/kaggle/working/brain_tumor_object_detection_split_90_10/coronal/train/labels/102 (2).txt\n",
      "/kaggle/working/brain_tumor_object_detection_split_90_10/coronal/train/labels/35.txt\n",
      "/kaggle/working/brain_tumor_object_detection_split_90_10/coronal/train/labels/62 (2).txt\n",
      "/kaggle/working/brain_tumor_object_detection_split_90_10/coronal/train/labels/98 (3).txt\n",
      "/kaggle/working/brain_tumor_object_detection_split_90_10/coronal/train/labels/74 (12).txt\n",
      "/kaggle/working/brain_tumor_object_detection_split_90_10/coronal/train/labels/94 (4).txt\n",
      "/kaggle/working/brain_tumor_object_detection_split_90_10/coronal/train/labels/66 (10).txt\n",
      "/kaggle/working/brain_tumor_object_detection_split_90_10/coronal/train/labels/61 (2).txt\n",
      "/kaggle/working/brain_tumor_object_detection_split_90_10/coronal/train/labels/59 (3).txt\n",
      "/kaggle/working/brain_tumor_object_detection_split_90_10/coronal/train/labels/79.txt\n",
      "/kaggle/working/brain_tumor_object_detection_split_90_10/coronal/train/labels/50.txt\n",
      "/kaggle/working/brain_tumor_object_detection_split_90_10/coronal/train/labels/111.txt\n",
      "/kaggle/working/brain_tumor_object_detection_split_90_10/coronal/train/labels/72 (6).txt\n",
      "/kaggle/working/brain_tumor_object_detection_split_90_10/coronal/train/labels/41.txt\n",
      "/kaggle/working/brain_tumor_object_detection_split_90_10/coronal/train/labels/62 (3).txt\n",
      "/kaggle/working/brain_tumor_object_detection_split_90_10/coronal/train/labels/106.txt\n",
      "/kaggle/working/brain_tumor_object_detection_split_90_10/coronal/train/labels/81 (4).txt\n",
      "/kaggle/working/brain_tumor_object_detection_split_90_10/coronal/train/labels/57.txt\n",
      "/kaggle/working/brain_tumor_object_detection_split_90_10/coronal/train/labels/13.txt\n",
      "/kaggle/working/brain_tumor_object_detection_split_90_10/coronal/train/labels/83.txt\n",
      "/kaggle/working/brain_tumor_object_detection_split_90_10/coronal/train/labels/95 (2).txt\n",
      "/kaggle/working/brain_tumor_object_detection_split_90_10/coronal/train/labels/67 (4).txt\n",
      "/kaggle/working/brain_tumor_object_detection_split_90_10/coronal/train/labels/110.txt\n",
      "/kaggle/working/brain_tumor_object_detection_split_90_10/coronal/train/labels/97 (2).txt\n",
      "/kaggle/working/brain_tumor_object_detection_split_90_10/coronal/train/labels/97.txt\n",
      "/kaggle/working/brain_tumor_object_detection_split_90_10/coronal/train/labels/66 (5).txt\n",
      "/kaggle/working/brain_tumor_object_detection_split_90_10/coronal/train/labels/92 (6).txt\n",
      "/kaggle/working/brain_tumor_object_detection_split_90_10/coronal/train/labels/57 (3).txt\n",
      "/kaggle/working/brain_tumor_object_detection_split_90_10/coronal/train/labels/77.txt\n",
      "/kaggle/working/brain_tumor_object_detection_split_90_10/coronal/train/labels/60 (9).txt\n",
      "/kaggle/working/brain_tumor_object_detection_split_90_10/coronal/train/labels/75 (3).txt\n",
      "/kaggle/working/brain_tumor_object_detection_split_90_10/coronal/train/labels/93 (2).txt\n",
      "/kaggle/working/brain_tumor_object_detection_split_90_10/coronal/train/labels/77 (3).txt\n",
      "/kaggle/working/brain_tumor_object_detection_split_90_10/coronal/train/labels/144.txt\n",
      "/kaggle/working/brain_tumor_object_detection_split_90_10/coronal/train/labels/72 (4).txt\n",
      "/kaggle/working/brain_tumor_object_detection_split_90_10/coronal/train/labels/82 (5).txt\n",
      "/kaggle/working/brain_tumor_object_detection_split_90_10/coronal/train/labels/85 (3).txt\n",
      "/kaggle/working/brain_tumor_object_detection_split_90_10/coronal/train/labels/65 (7).txt\n",
      "/kaggle/working/brain_tumor_object_detection_split_90_10/coronal/train/labels/70 (10).txt\n",
      "/kaggle/working/brain_tumor_object_detection_split_90_10/coronal/train/labels/69 (3).txt\n",
      "/kaggle/working/brain_tumor_object_detection_split_90_10/coronal/train/labels/80.txt\n",
      "/kaggle/working/brain_tumor_object_detection_split_90_10/coronal/train/labels/66 (8).txt\n",
      "/kaggle/working/brain_tumor_object_detection_split_90_10/coronal/train/labels/63 (3).txt\n",
      "/kaggle/working/brain_tumor_object_detection_split_90_10/coronal/train/labels/65 (10).txt\n",
      "/kaggle/working/brain_tumor_object_detection_split_90_10/coronal/train/labels/34.txt\n",
      "/kaggle/working/brain_tumor_object_detection_split_90_10/coronal/train/labels/67 (3).txt\n",
      "/kaggle/working/brain_tumor_object_detection_split_90_10/coronal/train/labels/68 (3).txt\n",
      "/kaggle/working/brain_tumor_object_detection_split_90_10/coronal/train/labels/98 (4).txt\n",
      "/kaggle/working/brain_tumor_object_detection_split_90_10/coronal/train/labels/90 (2).txt\n",
      "/kaggle/working/brain_tumor_object_detection_split_90_10/coronal/train/labels/70.txt\n",
      "/kaggle/working/brain_tumor_object_detection_split_90_10/coronal/train/labels/96 (3).txt\n",
      "/kaggle/working/brain_tumor_object_detection_split_90_10/coronal/train/labels/60 (10).txt\n",
      "/kaggle/working/brain_tumor_object_detection_split_90_10/coronal/train/labels/79 (5).txt\n",
      "/kaggle/working/brain_tumor_object_detection_split_90_10/coronal/train/labels/80 (5).txt\n",
      "/kaggle/working/brain_tumor_object_detection_split_90_10/coronal/train/labels/60 (5).txt\n",
      "/kaggle/working/brain_tumor_object_detection_split_90_10/coronal/train/labels/48 (5).txt\n",
      "/kaggle/working/brain_tumor_object_detection_split_90_10/coronal/train/labels/61.txt\n",
      "/kaggle/working/brain_tumor_object_detection_split_90_10/coronal/train/labels/87 (4).txt\n",
      "/kaggle/working/brain_tumor_object_detection_split_90_10/coronal/train/labels/81 (2).txt\n",
      "/kaggle/working/brain_tumor_object_detection_split_90_10/coronal/train/labels/97 (3).txt\n",
      "/kaggle/working/brain_tumor_object_detection_split_90_10/coronal/train/labels/90 (3).txt\n",
      "/kaggle/working/brain_tumor_object_detection_split_90_10/coronal/train/labels/52.txt\n",
      "/kaggle/working/brain_tumor_object_detection_split_90_10/coronal/train/labels/65 (6).txt\n",
      "/kaggle/working/brain_tumor_object_detection_split_90_10/coronal/train/labels/91 (5).txt\n",
      "/kaggle/working/brain_tumor_object_detection_split_90_10/coronal/train/labels/70 (7).txt\n",
      "/kaggle/working/brain_tumor_object_detection_split_90_10/coronal/train/labels/57 (5).txt\n",
      "/kaggle/working/brain_tumor_object_detection_split_90_10/coronal/train/labels/58 (2).txt\n",
      "/kaggle/working/brain_tumor_object_detection_split_90_10/coronal/train/labels/128.txt\n",
      "/kaggle/working/brain_tumor_object_detection_split_90_10/coronal/train/labels/46 (3).txt\n",
      "/kaggle/working/brain_tumor_object_detection_split_90_10/coronal/train/labels/59 (6).txt\n",
      "/kaggle/working/brain_tumor_object_detection_split_90_10/coronal/train/labels/76 (9).txt\n",
      "/kaggle/working/brain_tumor_object_detection_split_90_10/coronal/train/labels/68.txt\n",
      "/kaggle/working/brain_tumor_object_detection_split_90_10/coronal/train/labels/78 (2).txt\n",
      "/kaggle/working/brain_tumor_object_detection_split_90_10/coronal/train/labels/42.txt\n",
      "/kaggle/working/brain_tumor_object_detection_split_90_10/coronal/train/labels/50 (4).txt\n",
      "/kaggle/working/brain_tumor_object_detection_split_90_10/coronal/train/labels/62 (14).txt\n",
      "/kaggle/working/brain_tumor_object_detection_split_90_10/coronal/train/labels/94 (3).txt\n",
      "/kaggle/working/brain_tumor_object_detection_split_90_10/coronal/train/labels/50 (3).txt\n",
      "/kaggle/working/brain_tumor_object_detection_split_90_10/coronal/train/labels/103.txt\n",
      "/kaggle/working/brain_tumor_object_detection_split_90_10/coronal/train/labels/79 (7).txt\n",
      "/kaggle/working/brain_tumor_object_detection_split_90_10/coronal/train/labels/88 (2).txt\n",
      "/kaggle/working/brain_tumor_object_detection_split_90_10/coronal/train/labels/84.txt\n",
      "/kaggle/working/brain_tumor_object_detection_split_90_10/coronal/train/labels/86 (2).txt\n",
      "/kaggle/working/brain_tumor_object_detection_split_90_10/coronal/train/labels/103 (2).txt\n",
      "/kaggle/working/brain_tumor_object_detection_split_90_10/coronal/train/labels/63 (7).txt\n",
      "/kaggle/working/brain_tumor_object_detection_split_90_10/coronal/train/labels/96 (4).txt\n",
      "/kaggle/working/brain_tumor_object_detection_split_90_10/coronal/train/labels/94 (6).txt\n",
      "/kaggle/working/brain_tumor_object_detection_split_90_10/coronal/train/labels/74 (9).txt\n",
      "/kaggle/working/brain_tumor_object_detection_split_90_10/coronal/train/labels/100.txt\n",
      "/kaggle/working/brain_tumor_object_detection_split_90_10/coronal/train/labels/64 (8).txt\n",
      "/kaggle/working/brain_tumor_object_detection_split_90_10/coronal/train/labels/83 (5).txt\n",
      "/kaggle/working/brain_tumor_object_detection_split_90_10/coronal/train/labels/96.txt\n",
      "/kaggle/working/brain_tumor_object_detection_split_90_10/coronal/train/labels/94 (2).txt\n",
      "/kaggle/working/brain_tumor_object_detection_split_90_10/coronal/train/labels/62 (7).txt\n",
      "/kaggle/working/brain_tumor_object_detection_split_90_10/coronal/train/labels/47.txt\n",
      "/kaggle/working/brain_tumor_object_detection_split_90_10/coronal/train/labels/75 (8).txt\n",
      "/kaggle/working/brain_tumor_object_detection_split_90_10/coronal/train/labels/55.txt\n",
      "/kaggle/working/brain_tumor_object_detection_split_90_10/coronal/train/labels/70 (8).txt\n",
      "/kaggle/working/brain_tumor_object_detection_split_90_10/coronal/train/labels/65 (2).txt\n",
      "/kaggle/working/brain_tumor_object_detection_split_90_10/coronal/train/labels/71 (5).txt\n",
      "/kaggle/working/brain_tumor_object_detection_split_90_10/coronal/train/labels/69 (2).txt\n",
      "/kaggle/working/brain_tumor_object_detection_split_90_10/coronal/train/labels/56 (2).txt\n",
      "/kaggle/working/brain_tumor_object_detection_split_90_10/coronal/train/labels/124.txt\n",
      "/kaggle/working/brain_tumor_object_detection_split_90_10/coronal/train/labels/98 (2).txt\n",
      "/kaggle/working/brain_tumor_object_detection_split_90_10/coronal/train/labels/71 (2).txt\n",
      "/kaggle/working/brain_tumor_object_detection_split_90_10/coronal/train/labels/75 (10).txt\n",
      "/kaggle/working/brain_tumor_object_detection_split_90_10/coronal/train/labels/109.txt\n",
      "/kaggle/working/brain_tumor_object_detection_split_90_10/coronal/train/labels/60 (6).txt\n",
      "/kaggle/working/brain_tumor_object_detection_split_90_10/coronal/train/labels/71 (3).txt\n",
      "/kaggle/working/brain_tumor_object_detection_split_90_10/coronal/train/labels/75 (9).txt\n",
      "/kaggle/working/brain_tumor_object_detection_split_90_10/coronal/train/labels/66 (7).txt\n",
      "/kaggle/working/brain_tumor_object_detection_split_90_10/coronal/train/labels/70 (6).txt\n",
      "/kaggle/working/brain_tumor_object_detection_split_90_10/coronal/train/labels/85 (4).txt\n",
      "/kaggle/working/brain_tumor_object_detection_split_90_10/coronal/train/labels/77 (5).txt\n",
      "/kaggle/working/brain_tumor_object_detection_split_90_10/coronal/train/labels/79 (2).txt\n",
      "/kaggle/working/brain_tumor_object_detection_split_90_10/coronal/train/labels/91 (6).txt\n",
      "/kaggle/working/brain_tumor_object_detection_split_90_10/coronal/train/labels/110 (2).txt\n",
      "/kaggle/working/brain_tumor_object_detection_split_90_10/coronal/train/labels/88 (3).txt\n",
      "/kaggle/working/brain_tumor_object_detection_split_90_10/coronal/train/labels/78 (6).txt\n",
      "/kaggle/working/brain_tumor_object_detection_split_90_10/coronal/train/labels/68 (10).txt\n",
      "/kaggle/working/brain_tumor_object_detection_split_90_10/coronal/train/labels/61 (5).txt\n",
      "/kaggle/working/brain_tumor_object_detection_split_90_10/coronal/train/labels/89.txt\n",
      "/kaggle/working/brain_tumor_object_detection_split_90_10/coronal/train/labels/82 (4).txt\n",
      "/kaggle/working/brain_tumor_object_detection_split_90_10/coronal/train/labels/81 (3).txt\n",
      "/kaggle/working/brain_tumor_object_detection_split_90_10/coronal/train/labels/78 (3).txt\n",
      "/kaggle/working/brain_tumor_object_detection_split_90_10/coronal/train/labels/69 (8).txt\n",
      "/kaggle/working/brain_tumor_object_detection_split_90_10/coronal/train/labels/73.txt\n",
      "/kaggle/working/brain_tumor_object_detection_split_90_10/coronal/train/labels/96 (2).txt\n",
      "/kaggle/working/brain_tumor_object_detection_split_90_10/coronal/train/labels/119.txt\n",
      "/kaggle/working/brain_tumor_object_detection_split_90_10/coronal/train/labels/102.txt\n",
      "/kaggle/working/brain_tumor_object_detection_split_90_10/coronal/train/labels/75 (5).txt\n",
      "/kaggle/working/brain_tumor_object_detection_split_90_10/coronal/train/labels/76 (4).txt\n",
      "/kaggle/working/brain_tumor_object_detection_split_90_10/coronal/train/labels/74 (4).txt\n",
      "/kaggle/working/brain_tumor_object_detection_split_90_10/coronal/train/labels/85 (6).txt\n",
      "/kaggle/working/brain_tumor_object_detection_split_90_10/coronal/train/labels/85 (2).txt\n",
      "/kaggle/working/brain_tumor_object_detection_split_90_10/coronal/train/labels/53 (4).txt\n",
      "/kaggle/working/brain_tumor_object_detection_split_90_10/coronal/train/labels/105.txt\n",
      "/kaggle/working/brain_tumor_object_detection_split_90_10/coronal/train/labels/125.txt\n",
      "/kaggle/working/brain_tumor_object_detection_split_90_10/coronal/train/labels/38.txt\n",
      "/kaggle/working/brain_tumor_object_detection_split_90_10/coronal/train/labels/66.txt\n",
      "/kaggle/working/brain_tumor_object_detection_split_90_10/coronal/train/labels/88 (5).txt\n",
      "/kaggle/working/brain_tumor_object_detection_split_90_10/coronal/train/labels/93.txt\n",
      "/kaggle/working/brain_tumor_object_detection_split_90_10/coronal/train/labels/50 (2).txt\n",
      "/kaggle/working/brain_tumor_object_detection_split_90_10/coronal/train/labels/68 (7).txt\n",
      "/kaggle/working/brain_tumor_object_detection_split_90_10/coronal/train/labels/76 (6).txt\n",
      "/kaggle/working/brain_tumor_object_detection_split_90_10/coronal/train/labels/59.txt\n",
      "/kaggle/working/brain_tumor_object_detection_split_90_10/coronal/train/labels/82 (3).txt\n",
      "/kaggle/working/brain_tumor_object_detection_split_90_10/coronal/train/labels/61 (8).txt\n",
      "/kaggle/working/brain_tumor_object_detection_split_90_10/coronal/train/labels/67 (6).txt\n",
      "/kaggle/working/brain_tumor_object_detection_split_90_10/coronal/train/labels/66 (11).txt\n",
      "/kaggle/working/brain_tumor_object_detection_split_90_10/sagittal/train/labels/00158_289.txt\n",
      "/kaggle/working/brain_tumor_object_detection_split_90_10/sagittal/train/labels/00045_117.txt\n",
      "/kaggle/working/brain_tumor_object_detection_split_90_10/sagittal/train/labels/00176_127.txt\n",
      "/kaggle/working/brain_tumor_object_detection_split_90_10/sagittal/train/labels/00166_241.txt\n",
      "/kaggle/working/brain_tumor_object_detection_split_90_10/sagittal/train/labels/00059_122.txt\n",
      "/kaggle/working/brain_tumor_object_detection_split_90_10/sagittal/train/labels/00177_221.txt\n",
      "/kaggle/working/brain_tumor_object_detection_split_90_10/sagittal/train/labels/00144_260.txt\n",
      "/kaggle/working/brain_tumor_object_detection_split_90_10/sagittal/train/labels/00167_213.txt\n",
      "/kaggle/working/brain_tumor_object_detection_split_90_10/sagittal/train/labels/00011_277.txt\n",
      "/kaggle/working/brain_tumor_object_detection_split_90_10/sagittal/train/labels/00194_226.txt\n",
      "/kaggle/working/brain_tumor_object_detection_split_90_10/sagittal/train/labels/00133_228.txt\n",
      "/kaggle/working/brain_tumor_object_detection_split_90_10/sagittal/train/labels/00195_208.txt\n",
      "/kaggle/working/brain_tumor_object_detection_split_90_10/sagittal/train/labels/00045_97.txt\n",
      "/kaggle/working/brain_tumor_object_detection_split_90_10/sagittal/train/labels/00066_259.txt\n",
      "/kaggle/working/brain_tumor_object_detection_split_90_10/sagittal/train/labels/00191_106.txt\n",
      "/kaggle/working/brain_tumor_object_detection_split_90_10/sagittal/train/labels/00150_235.txt\n",
      "/kaggle/working/brain_tumor_object_detection_split_90_10/sagittal/train/labels/00077_166.txt\n",
      "/kaggle/working/brain_tumor_object_detection_split_90_10/sagittal/train/labels/00095_201.txt\n",
      "/kaggle/working/brain_tumor_object_detection_split_90_10/sagittal/train/labels/00105_151.txt\n",
      "/kaggle/working/brain_tumor_object_detection_split_90_10/sagittal/train/labels/00035_111.txt\n",
      "/kaggle/working/brain_tumor_object_detection_split_90_10/sagittal/train/labels/00097_124.txt\n",
      "/kaggle/working/brain_tumor_object_detection_split_90_10/sagittal/train/labels/00056_129.txt\n",
      "/kaggle/working/brain_tumor_object_detection_split_90_10/sagittal/train/labels/00166_224.txt\n",
      "/kaggle/working/brain_tumor_object_detection_split_90_10/sagittal/train/labels/00053_203.txt\n",
      "/kaggle/working/brain_tumor_object_detection_split_90_10/sagittal/train/labels/00187_170.txt\n",
      "/kaggle/working/brain_tumor_object_detection_split_90_10/sagittal/train/labels/00184_127.txt\n",
      "/kaggle/working/brain_tumor_object_detection_split_90_10/sagittal/train/labels/00158_272.txt\n",
      "/kaggle/working/brain_tumor_object_detection_split_90_10/sagittal/train/labels/00156_196.txt\n",
      "/kaggle/working/brain_tumor_object_detection_split_90_10/sagittal/train/labels/00133_266.txt\n",
      "/kaggle/working/brain_tumor_object_detection_split_90_10/sagittal/train/labels/00053_145.txt\n",
      "/kaggle/working/brain_tumor_object_detection_split_90_10/sagittal/train/labels/00177_280.txt\n",
      "/kaggle/working/brain_tumor_object_detection_split_90_10/sagittal/train/labels/00053_85.txt\n",
      "/kaggle/working/brain_tumor_object_detection_split_90_10/sagittal/train/labels/00160_270.txt\n",
      "/kaggle/working/brain_tumor_object_detection_split_90_10/sagittal/train/labels/00056_110.txt\n",
      "/kaggle/working/brain_tumor_object_detection_split_90_10/sagittal/train/labels/00009_110.txt\n",
      "/kaggle/working/brain_tumor_object_detection_split_90_10/sagittal/train/labels/00074_269.txt\n",
      "/kaggle/working/brain_tumor_object_detection_split_90_10/sagittal/train/labels/00096_260.txt\n",
      "/kaggle/working/brain_tumor_object_detection_split_90_10/sagittal/train/labels/00121_175.txt\n",
      "/kaggle/working/brain_tumor_object_detection_split_90_10/sagittal/train/labels/00071_259.txt\n",
      "/kaggle/working/brain_tumor_object_detection_split_90_10/sagittal/train/labels/00138_217.txt\n",
      "/kaggle/working/brain_tumor_object_detection_split_90_10/sagittal/train/labels/00201_141.txt\n",
      "/kaggle/working/brain_tumor_object_detection_split_90_10/sagittal/train/labels/00031_163.txt\n",
      "/kaggle/working/brain_tumor_object_detection_split_90_10/sagittal/train/labels/00072_80.txt\n",
      "/kaggle/working/brain_tumor_object_detection_split_90_10/sagittal/train/labels/00005_125.txt\n",
      "/kaggle/working/brain_tumor_object_detection_split_90_10/sagittal/train/labels/00151_211.txt\n",
      "/kaggle/working/brain_tumor_object_detection_split_90_10/sagittal/train/labels/00059_84.txt\n",
      "/kaggle/working/brain_tumor_object_detection_split_90_10/sagittal/train/labels/00095_181.txt\n",
      "/kaggle/working/brain_tumor_object_detection_split_90_10/sagittal/train/labels/00193_172.txt\n",
      "/kaggle/working/brain_tumor_object_detection_split_90_10/sagittal/train/labels/00132_164.txt\n",
      "/kaggle/working/brain_tumor_object_detection_split_90_10/sagittal/train/labels/00159_171.txt\n",
      "/kaggle/working/brain_tumor_object_detection_split_90_10/sagittal/train/labels/00146_142.txt\n",
      "/kaggle/working/brain_tumor_object_detection_split_90_10/sagittal/train/labels/00058_141.txt\n",
      "/kaggle/working/brain_tumor_object_detection_split_90_10/sagittal/train/labels/00122_90.txt\n",
      "/kaggle/working/brain_tumor_object_detection_split_90_10/sagittal/train/labels/00132_147.txt\n",
      "/kaggle/working/brain_tumor_object_detection_split_90_10/sagittal/train/labels/00120_215.txt\n",
      "/kaggle/working/brain_tumor_object_detection_split_90_10/sagittal/train/labels/00147_152.txt\n",
      "/kaggle/working/brain_tumor_object_detection_split_90_10/sagittal/train/labels/00142_144.txt\n",
      "/kaggle/working/brain_tumor_object_detection_split_90_10/sagittal/train/labels/00032_77.txt\n",
      "/kaggle/working/brain_tumor_object_detection_split_90_10/sagittal/train/labels/00159_189.txt\n",
      "/kaggle/working/brain_tumor_object_detection_split_90_10/sagittal/train/labels/00187_118.txt\n",
      "/kaggle/working/brain_tumor_object_detection_split_90_10/sagittal/train/labels/00154_267.txt\n",
      "/kaggle/working/brain_tumor_object_detection_split_90_10/sagittal/train/labels/00116_231.txt\n",
      "/kaggle/working/brain_tumor_object_detection_split_90_10/sagittal/train/labels/00063_197.txt\n",
      "/kaggle/working/brain_tumor_object_detection_split_90_10/sagittal/train/labels/00177_241.txt\n",
      "/kaggle/working/brain_tumor_object_detection_split_90_10/sagittal/train/labels/00005_143.txt\n",
      "/kaggle/working/brain_tumor_object_detection_split_90_10/sagittal/train/labels/00177_145.txt\n",
      "/kaggle/working/brain_tumor_object_detection_split_90_10/sagittal/train/labels/00194_243.txt\n",
      "/kaggle/working/brain_tumor_object_detection_split_90_10/sagittal/train/labels/00045_77.txt\n",
      "/kaggle/working/brain_tumor_object_detection_split_90_10/sagittal/train/labels/00095_161.txt\n",
      "/kaggle/working/brain_tumor_object_detection_split_90_10/sagittal/train/labels/00012_181.txt\n",
      "/kaggle/working/brain_tumor_object_detection_split_90_10/sagittal/train/labels/00178_122.txt\n",
      "/kaggle/working/brain_tumor_object_detection_split_90_10/sagittal/train/labels/00106_253.txt\n",
      "/kaggle/working/brain_tumor_object_detection_split_90_10/sagittal/train/labels/00194_209.txt\n",
      "/kaggle/working/brain_tumor_object_detection_split_90_10/sagittal/train/labels/00154_210.txt\n",
      "/kaggle/working/brain_tumor_object_detection_split_90_10/sagittal/train/labels/00124_114.txt\n",
      "/kaggle/working/brain_tumor_object_detection_split_90_10/sagittal/train/labels/00147_134.txt\n",
      "/kaggle/working/brain_tumor_object_detection_split_90_10/sagittal/train/labels/00156_132.txt\n",
      "/kaggle/working/brain_tumor_object_detection_split_90_10/sagittal/train/labels/00006_156.txt\n",
      "/kaggle/working/brain_tumor_object_detection_split_90_10/sagittal/train/labels/00090_112.txt\n",
      "/kaggle/working/brain_tumor_object_detection_split_90_10/sagittal/train/labels/00035_129.txt\n",
      "/kaggle/working/brain_tumor_object_detection_split_90_10/sagittal/train/labels/00022_237.txt\n",
      "/kaggle/working/brain_tumor_object_detection_split_90_10/sagittal/train/labels/00124_150.txt\n",
      "/kaggle/working/brain_tumor_object_detection_split_90_10/sagittal/train/labels/00026_97.txt\n",
      "/kaggle/working/brain_tumor_object_detection_split_90_10/sagittal/train/labels/00105_113.txt\n",
      "/kaggle/working/brain_tumor_object_detection_split_90_10/sagittal/train/labels/00151_195.txt\n",
      "/kaggle/working/brain_tumor_object_detection_split_90_10/sagittal/train/labels/00066_145.txt\n",
      "/kaggle/working/brain_tumor_object_detection_split_90_10/sagittal/train/labels/00192_280.txt\n",
      "/kaggle/working/brain_tumor_object_detection_split_90_10/sagittal/train/labels/00166_206.txt\n",
      "/kaggle/working/brain_tumor_object_detection_split_90_10/sagittal/train/labels/00085_156.txt\n",
      "/kaggle/working/brain_tumor_object_detection_split_90_10/sagittal/train/labels/00108_102.txt\n",
      "/kaggle/working/brain_tumor_object_detection_split_90_10/sagittal/train/labels/00156_148.txt\n",
      "/kaggle/working/brain_tumor_object_detection_split_90_10/sagittal/train/labels/00066_278.txt\n",
      "/kaggle/working/brain_tumor_object_detection_split_90_10/sagittal/train/labels/00095_243.txt\n",
      "/kaggle/working/brain_tumor_object_detection_split_90_10/sagittal/train/labels/00191_143.txt\n",
      "/kaggle/working/brain_tumor_object_detection_split_90_10/sagittal/train/labels/00071_221.txt\n",
      "/kaggle/working/brain_tumor_object_detection_split_90_10/sagittal/train/labels/00171_126.txt\n",
      "/kaggle/working/brain_tumor_object_detection_split_90_10/sagittal/train/labels/00008_178.txt\n",
      "/kaggle/working/brain_tumor_object_detection_split_90_10/sagittal/train/labels/00064_121.txt\n",
      "/kaggle/working/brain_tumor_object_detection_split_90_10/sagittal/train/labels/00143_254.txt\n",
      "/kaggle/working/brain_tumor_object_detection_split_90_10/sagittal/train/labels/00158_256.txt\n",
      "/kaggle/working/brain_tumor_object_detection_split_90_10/sagittal/train/labels/00138_235.txt\n",
      "/kaggle/working/brain_tumor_object_detection_split_90_10/sagittal/train/labels/00201_102.txt\n",
      "/kaggle/working/brain_tumor_object_detection_split_90_10/sagittal/train/labels/00061_184.txt\n",
      "/kaggle/working/brain_tumor_object_detection_split_90_10/sagittal/train/labels/00185_289.txt\n",
      "/kaggle/working/brain_tumor_object_detection_split_90_10/sagittal/train/labels/00147_115.txt\n",
      "/kaggle/working/brain_tumor_object_detection_split_90_10/sagittal/train/labels/00176_109.txt\n",
      "/kaggle/working/brain_tumor_object_detection_split_90_10/sagittal/train/labels/00169_225.txt\n",
      "/kaggle/working/brain_tumor_object_detection_split_90_10/sagittal/train/labels/00049_102.txt\n",
      "/kaggle/working/brain_tumor_object_detection_split_90_10/sagittal/train/labels/00178_158.txt\n",
      "/kaggle/working/brain_tumor_object_detection_split_90_10/sagittal/train/labels/00143_236.txt\n",
      "/kaggle/working/brain_tumor_object_detection_split_90_10/sagittal/train/labels/00031_236.txt\n",
      "/kaggle/working/brain_tumor_object_detection_split_90_10/sagittal/train/labels/00036_162.txt\n",
      "/kaggle/working/brain_tumor_object_detection_split_90_10/sagittal/train/labels/00000_121.txt\n",
      "/kaggle/working/brain_tumor_object_detection_split_90_10/sagittal/train/labels/00107_118.txt\n",
      "/kaggle/working/brain_tumor_object_detection_split_90_10/sagittal/train/labels/00059_141.txt\n",
      "/kaggle/working/brain_tumor_object_detection_split_90_10/sagittal/train/labels/00185_252.txt\n",
      "/kaggle/working/brain_tumor_object_detection_split_90_10/sagittal/train/labels/00192_244.txt\n",
      "/kaggle/working/brain_tumor_object_detection_split_90_10/sagittal/train/labels/00110_178.txt\n",
      "/kaggle/working/brain_tumor_object_detection_split_90_10/sagittal/train/labels/00059_103.txt\n",
      "/kaggle/working/brain_tumor_object_detection_split_90_10/sagittal/train/labels/00172_91.txt\n",
      "/kaggle/working/brain_tumor_object_detection_split_90_10/sagittal/train/labels/00054_88.txt\n",
      "/kaggle/working/brain_tumor_object_detection_split_90_10/sagittal/train/labels/00136_103.txt\n",
      "/kaggle/working/brain_tumor_object_detection_split_90_10/sagittal/train/labels/00162_122.txt\n",
      "/kaggle/working/brain_tumor_object_detection_split_90_10/sagittal/train/labels/00169_260.txt\n",
      "/kaggle/working/brain_tumor_object_detection_split_90_10/sagittal/train/labels/00151_162.txt\n",
      "/kaggle/working/brain_tumor_object_detection_split_90_10/sagittal/train/labels/00090_204.txt\n",
      "/kaggle/working/brain_tumor_object_detection_split_90_10/sagittal/train/labels/00061_127.txt\n",
      "/kaggle/working/brain_tumor_object_detection_split_90_10/sagittal/train/labels/00151_128.txt\n",
      "/kaggle/working/brain_tumor_object_detection_split_90_10/sagittal/train/labels/00201_121.txt\n",
      "/kaggle/working/brain_tumor_object_detection_split_90_10/sagittal/train/labels/00142_126.txt\n",
      "/kaggle/working/brain_tumor_object_detection_split_90_10/sagittal/train/labels/00151_145.txt\n",
      "/kaggle/working/brain_tumor_object_detection_split_90_10/sagittal/train/labels/00061_108.txt\n",
      "/kaggle/working/brain_tumor_object_detection_split_90_10/sagittal/train/labels/00184_164.txt\n",
      "/kaggle/working/brain_tumor_object_detection_split_90_10/sagittal/train/labels/00098_266.txt\n",
      "/kaggle/working/brain_tumor_object_detection_split_90_10/sagittal/train/labels/00177_125.txt\n",
      "/kaggle/working/brain_tumor_object_detection_split_90_10/sagittal/train/labels/00032_96.txt\n",
      "/kaggle/working/brain_tumor_object_detection_split_90_10/sagittal/train/labels/00060_70.txt\n",
      "/kaggle/working/brain_tumor_object_detection_split_90_10/sagittal/train/labels/00096_280.txt\n",
      "/kaggle/working/brain_tumor_object_detection_split_90_10/sagittal/train/labels/00009_184.txt\n",
      "/kaggle/working/brain_tumor_object_detection_split_90_10/sagittal/train/labels/00002_147.txt\n",
      "/kaggle/working/brain_tumor_object_detection_split_90_10/sagittal/train/labels/00122_108.txt\n",
      "/kaggle/working/brain_tumor_object_detection_split_90_10/sagittal/train/labels/00087_130.txt\n",
      "/kaggle/working/brain_tumor_object_detection_split_90_10/sagittal/train/labels/00123_259.txt\n",
      "/kaggle/working/brain_tumor_object_detection_split_90_10/sagittal/train/labels/00000_159.txt\n",
      "/kaggle/working/brain_tumor_object_detection_split_90_10/sagittal/train/labels/00100_170.txt\n",
      "/kaggle/working/brain_tumor_object_detection_split_90_10/sagittal/train/labels/00061_89.txt\n",
      "/kaggle/working/brain_tumor_object_detection_split_90_10/sagittal/train/labels/00185_271.txt\n",
      "/kaggle/working/brain_tumor_object_detection_split_90_10/sagittal/train/labels/00030_215.txt\n",
      "/kaggle/working/brain_tumor_object_detection_split_90_10/sagittal/train/labels/00146_160.txt\n",
      "/kaggle/working/brain_tumor_object_detection_split_90_10/sagittal/train/labels/00156_180.txt\n",
      "/kaggle/working/brain_tumor_object_detection_split_90_10/sagittal/train/labels/00098_247.txt\n",
      "/kaggle/working/brain_tumor_object_detection_split_90_10/sagittal/train/labels/00169_243.txt\n",
      "/kaggle/working/brain_tumor_object_detection_split_90_10/sagittal/train/labels/00159_133.txt\n",
      "/kaggle/working/brain_tumor_object_detection_split_90_10/sagittal/train/labels/00142_89.txt\n",
      "/kaggle/working/brain_tumor_object_detection_split_90_10/sagittal/train/labels/00077_226.txt\n",
      "/kaggle/working/brain_tumor_object_detection_split_90_10/sagittal/train/labels/00000_140.txt\n",
      "/kaggle/working/brain_tumor_object_detection_split_90_10/sagittal/train/labels/00124_132.txt\n",
      "/kaggle/working/brain_tumor_object_detection_split_90_10/sagittal/train/labels/00054_164.txt\n",
      "/kaggle/working/brain_tumor_object_detection_split_90_10/sagittal/train/labels/00105_132.txt\n",
      "/kaggle/working/brain_tumor_object_detection_split_90_10/sagittal/train/labels/00095_263.txt\n",
      "/kaggle/working/brain_tumor_object_detection_split_90_10/sagittal/train/labels/00100_136.txt\n",
      "/kaggle/working/brain_tumor_object_detection_split_90_10/sagittal/train/labels/00165_122.txt\n",
      "/kaggle/working/brain_tumor_object_detection_split_90_10/sagittal/train/labels/00165_158.txt\n",
      "/kaggle/working/brain_tumor_object_detection_split_90_10/sagittal/train/labels/00171_109.txt\n",
      "/kaggle/working/brain_tumor_object_detection_split_90_10/sagittal/train/labels/00104_168.txt\n",
      "/kaggle/working/brain_tumor_object_detection_split_90_10/sagittal/train/labels/00143_272.txt\n",
      "/kaggle/working/brain_tumor_object_detection_split_90_10/sagittal/train/labels/00087_185.txt\n",
      "/kaggle/working/brain_tumor_object_detection_split_90_10/sagittal/train/labels/00049_122.txt\n",
      "/kaggle/working/brain_tumor_object_detection_split_90_10/sagittal/train/labels/00002_110.txt\n",
      "/kaggle/working/brain_tumor_object_detection_split_90_10/sagittal/train/labels/00058_179.txt\n",
      "/kaggle/working/brain_tumor_object_detection_split_90_10/sagittal/train/labels/00104_150.txt\n",
      "/kaggle/working/brain_tumor_object_detection_split_90_10/sagittal/train/labels/00165_193.txt\n",
      "/kaggle/working/brain_tumor_object_detection_split_90_10/sagittal/train/labels/00060_71.txt\n",
      "/kaggle/working/brain_tumor_object_detection_split_90_10/sagittal/train/labels/00159_152.txt\n",
      "/kaggle/working/brain_tumor_object_detection_split_90_10/sagittal/train/labels/00154_248.txt\n",
      "/kaggle/working/brain_tumor_object_detection_split_90_10/sagittal/train/labels/00165_176.txt\n",
      "/kaggle/working/brain_tumor_object_detection_split_90_10/sagittal/train/labels/00157_115.txt\n",
      "/kaggle/working/brain_tumor_object_detection_split_90_10/sagittal/train/labels/00097_106.txt\n",
      "/kaggle/working/brain_tumor_object_detection_split_90_10/sagittal/train/labels/00005_106.txt\n",
      "/kaggle/working/brain_tumor_object_detection_split_90_10/sagittal/train/labels/00183_161.txt\n",
      "/kaggle/working/brain_tumor_object_detection_split_90_10/sagittal/train/labels/00176_145.txt\n",
      "/kaggle/working/brain_tumor_object_detection_split_90_10/sagittal/train/labels/00002_166.txt\n",
      "/kaggle/working/brain_tumor_object_detection_split_90_10/sagittal/train/labels/00123_277.txt\n",
      "/kaggle/working/brain_tumor_object_detection_split_90_10/sagittal/train/labels/00147_170.txt\n",
      "/kaggle/working/brain_tumor_object_detection_split_90_10/sagittal/train/labels/00096_240.txt\n",
      "/kaggle/working/brain_tumor_object_detection_split_90_10/sagittal/train/labels/00022_199.txt\n",
      "/kaggle/working/brain_tumor_object_detection_split_90_10/sagittal/train/labels/00132_130.txt\n",
      "/kaggle/working/brain_tumor_object_detection_split_90_10/sagittal/train/labels/00166_259.txt\n",
      "/kaggle/working/brain_tumor_object_detection_split_90_10/sagittal/train/labels/00031_255.txt\n",
      "/kaggle/working/brain_tumor_object_detection_split_90_10/sagittal/train/labels/00097_87.txt\n",
      "/kaggle/working/brain_tumor_object_detection_split_90_10/sagittal/train/labels/00003_211.txt\n",
      "/kaggle/working/brain_tumor_object_detection_split_90_10/sagittal/train/labels/00187_135.txt\n",
      "/kaggle/working/brain_tumor_object_detection_split_90_10/sagittal/train/labels/00183_109.txt\n",
      "/kaggle/working/brain_tumor_object_detection_split_90_10/sagittal/train/labels/00064_140.txt\n",
      "/kaggle/working/brain_tumor_object_detection_split_90_10/sagittal/train/labels/00035_148.txt\n",
      "/kaggle/working/brain_tumor_object_detection_split_90_10/sagittal/train/labels/00183_144.txt\n",
      "/kaggle/working/brain_tumor_object_detection_split_90_10/sagittal/train/labels/00183_126.txt\n",
      "/kaggle/working/brain_tumor_object_detection_split_90_10/sagittal/train/labels/00138_271.txt\n",
      "/kaggle/working/brain_tumor_object_detection_split_90_10/sagittal/train/labels/00030_194.txt\n",
      "/kaggle/working/brain_tumor_object_detection_split_90_10/sagittal/train/labels/00121_157.txt\n",
      "/kaggle/working/brain_tumor_object_detection_split_90_10/sagittal/train/labels/00000_102.txt\n",
      "/kaggle/working/brain_tumor_object_detection_split_90_10/sagittal/train/labels/00031_273.txt\n",
      "/kaggle/working/brain_tumor_object_detection_split_90_10/sagittal/train/labels/00120_245.txt\n",
      "/kaggle/working/brain_tumor_object_detection_split_90_10/sagittal/train/labels/00146_195.txt\n",
      "/kaggle/working/brain_tumor_object_detection_split_90_10/sagittal/train/labels/00063_217.txt\n",
      "/kaggle/working/brain_tumor_object_detection_split_90_10/sagittal/train/labels/00053_125.txt\n",
      "/kaggle/working/brain_tumor_object_detection_split_90_10/sagittal/train/labels/00120_260.txt\n",
      "/kaggle/working/brain_tumor_object_detection_split_90_10/sagittal/train/labels/00156_116.txt\n",
      "/kaggle/working/brain_tumor_object_detection_split_90_10/sagittal/train/labels/00022_275.txt\n",
      "/kaggle/working/brain_tumor_object_detection_split_90_10/sagittal/train/labels/00006_192.txt\n",
      "/kaggle/working/brain_tumor_object_detection_split_90_10/sagittal/train/labels/00178_104.txt\n",
      "/kaggle/working/brain_tumor_object_detection_split_90_10/sagittal/train/labels/00136_138.txt\n",
      "/kaggle/working/brain_tumor_object_detection_split_90_10/sagittal/train/labels/00058_122.txt\n",
      "/kaggle/working/brain_tumor_object_detection_split_90_10/sagittal/train/labels/00036_122.txt\n",
      "/kaggle/working/brain_tumor_object_detection_split_90_10/sagittal/train/labels/00178_140.txt\n",
      "/kaggle/working/brain_tumor_object_detection_split_90_10/sagittal/train/labels/00154_229.txt\n",
      "/kaggle/working/brain_tumor_object_detection_split_90_10/sagittal/train/labels/00142_107.txt\n",
      "/kaggle/working/brain_tumor_object_detection_split_90_10/sagittal/train/labels/00156_164.txt\n",
      "/kaggle/working/brain_tumor_object_detection_split_90_10/sagittal/train/labels/00132_95.txt\n",
      "/kaggle/working/brain_tumor_object_detection_split_90_10/sagittal/train/labels/00097_162.txt\n",
      "/kaggle/working/brain_tumor_object_detection_split_90_10/sagittal/train/labels/00077_246.txt\n",
      "/kaggle/working/brain_tumor_object_detection_split_90_10/sagittal/train/labels/00130_256.txt\n",
      "/kaggle/working/brain_tumor_object_detection_split_90_10/sagittal/train/labels/00071_183.txt\n",
      "/kaggle/working/brain_tumor_object_detection_split_90_10/sagittal/train/labels/00123_241.txt\n",
      "/kaggle/working/brain_tumor_object_detection_split_90_10/sagittal/train/labels/00104_185.txt\n",
      "/kaggle/working/brain_tumor_object_detection_split_90_10/sagittal/train/labels/00049_142.txt\n",
      "/kaggle/working/brain_tumor_object_detection_split_90_10/sagittal/train/labels/00072_119.txt\n",
      "/kaggle/working/brain_tumor_object_detection_split_90_10/sagittal/train/labels/00022_256.txt\n",
      "/kaggle/working/brain_tumor_object_detection_split_90_10/sagittal/train/labels/00192_191.txt\n",
      "/kaggle/working/brain_tumor_object_detection_split_90_10/sagittal/train/labels/00110_147.txt\n",
      "/kaggle/working/brain_tumor_object_detection_split_90_10/sagittal/train/labels/00100_153.txt\n",
      "/kaggle/working/brain_tumor_object_detection_split_90_10/sagittal/train/labels/00187_100.txt\n",
      "/kaggle/working/brain_tumor_object_detection_split_90_10/sagittal/train/labels/00074_209.txt\n",
      "/kaggle/working/brain_tumor_object_detection_split_90_10/sagittal/train/labels/00054_145.txt\n",
      "/kaggle/working/brain_tumor_object_detection_split_90_10/sagittal/train/labels/00072_99.txt\n",
      "/kaggle/working/brain_tumor_object_detection_split_90_10/sagittal/train/labels/00144_278.txt\n",
      "/kaggle/working/brain_tumor_object_detection_split_90_10/sagittal/train/labels/00117_200.txt\n",
      "/kaggle/working/brain_tumor_object_detection_split_90_10/sagittal/train/labels/00187_153.txt\n",
      "/kaggle/working/brain_tumor_object_detection_split_90_10/sagittal/train/labels/00195_225.txt\n",
      "/kaggle/working/brain_tumor_object_detection_split_90_10/sagittal/train/labels/00077_206.txt\n",
      "/kaggle/working/brain_tumor_object_detection_split_90_10/sagittal/train/labels/00048_102.txt\n",
      "/kaggle/working/brain_tumor_object_detection_split_90_10/sagittal/train/labels/00123_223.txt\n",
      "/kaggle/working/brain_tumor_object_detection_split_90_10/sagittal/train/labels/00064_101.txt\n",
      "/kaggle/working/brain_tumor_object_detection_split_90_10/sagittal/train/labels/00006_210.txt\n",
      "/kaggle/working/brain_tumor_object_detection_split_90_10/sagittal/train/labels/00006_137.txt\n",
      "/kaggle/working/brain_tumor_object_detection_split_90_10/sagittal/train/labels/00120_230.txt\n",
      "/kaggle/working/brain_tumor_object_detection_split_90_10/sagittal/train/labels/00022_218.txt\n",
      "/kaggle/working/brain_tumor_object_detection_split_90_10/sagittal/train/labels/00128_277.txt\n",
      "/kaggle/working/brain_tumor_object_detection_split_90_10/sagittal/train/labels/00026_118.txt\n",
      "/kaggle/working/brain_tumor_object_detection_split_90_10/sagittal/train/labels/00110_131.txt\n",
      "/kaggle/working/brain_tumor_object_detection_split_90_10/sagittal/train/labels/00003_154.txt\n",
      "/kaggle/working/brain_tumor_object_detection_split_90_10/sagittal/train/labels/00043_96.txt\n",
      "/kaggle/working/brain_tumor_object_detection_split_90_10/sagittal/train/labels/00137_264.txt\n",
      "/kaggle/working/brain_tumor_object_detection_split_90_10/sagittal/train/labels/00136_121.txt\n",
      "/kaggle/working/brain_tumor_object_detection_split_90_10/sagittal/train/labels/00036_103.txt\n",
      "/kaggle/working/brain_tumor_object_detection_split_90_10/sagittal/train/labels/00078_239.txt\n",
      "/kaggle/working/brain_tumor_object_detection_split_90_10/sagittal/train/labels/00048_121.txt\n",
      "/kaggle/working/brain_tumor_object_detection_split_90_10/sagittal/train/labels/00105_94.txt\n",
      "/kaggle/working/brain_tumor_object_detection_split_90_10/sagittal/train/labels/00006_174.txt\n",
      "/kaggle/working/brain_tumor_object_detection_split_90_10/sagittal/train/labels/00109_85.txt\n",
      "/kaggle/working/brain_tumor_object_detection_split_90_10/sagittal/train/labels/00133_247.txt\n",
      "/kaggle/working/brain_tumor_object_detection_split_90_10/sagittal/train/labels/00138_289.txt\n",
      "/kaggle/working/brain_tumor_object_detection_split_90_10/sagittal/train/labels/00003_192.txt\n",
      "/kaggle/working/brain_tumor_object_detection_split_90_10/sagittal/train/labels/00107_101.txt\n",
      "/kaggle/working/brain_tumor_object_detection_split_90_10/sagittal/train/labels/00078_219.txt\n",
      "/kaggle/working/brain_tumor_object_detection_split_90_10/sagittal/train/labels/00056_239.txt\n",
      "/kaggle/working/brain_tumor_object_detection_split_90_10/sagittal/train/labels/00166_189.txt\n",
      "/kaggle/working/brain_tumor_object_detection_split_90_10/sagittal/train/labels/00087_149.txt\n",
      "/kaggle/working/brain_tumor_object_detection_split_90_10/sagittal/train/labels/00184_145.txt\n",
      "/kaggle/working/brain_tumor_object_detection_split_90_10/sagittal/train/labels/00110_162.txt\n",
      "/kaggle/working/brain_tumor_object_detection_split_90_10/sagittal/train/labels/00054_126.txt\n",
      "/kaggle/working/brain_tumor_object_detection_split_90_10/sagittal/train/labels/00128_243.txt\n",
      "/kaggle/working/brain_tumor_object_detection_split_90_10/sagittal/train/labels/00100_102.txt\n",
      "/kaggle/working/brain_tumor_object_detection_split_90_10/sagittal/train/labels/00142_163.txt\n",
      "/kaggle/working/brain_tumor_object_detection_split_90_10/sagittal/train/labels/00030_257.txt\n",
      "/kaggle/working/brain_tumor_object_detection_split_90_10/sagittal/train/labels/00066_240.txt\n",
      "/kaggle/working/brain_tumor_object_detection_split_90_10/sagittal/train/labels/00177_260.txt\n",
      "/kaggle/working/brain_tumor_object_detection_split_90_10/sagittal/train/labels/00066_221.txt\n",
      "/kaggle/working/brain_tumor_object_detection_split_90_10/sagittal/train/labels/00021_178.txt\n",
      "/kaggle/working/brain_tumor_object_detection_split_90_10/sagittal/train/labels/00100_119.txt\n",
      "/kaggle/working/brain_tumor_object_detection_split_90_10/sagittal/train/labels/00061_146.txt\n",
      "/kaggle/working/brain_tumor_object_detection_split_90_10/sagittal/train/labels/00183_195.txt\n",
      "/kaggle/working/brain_tumor_object_detection_split_90_10/sagittal/train/labels/00030_236.txt\n",
      "/kaggle/working/brain_tumor_object_detection_split_90_10/sagittal/train/labels/00144_243.txt\n",
      "/kaggle/working/brain_tumor_object_detection_split_90_10/sagittal/train/labels/00054_107.txt\n",
      "/kaggle/working/brain_tumor_object_detection_split_90_10/sagittal/train/labels/00158_239.txt\n",
      "/kaggle/working/brain_tumor_object_detection_split_90_10/sagittal/train/labels/00124_96.txt\n",
      "/kaggle/working/brain_tumor_object_detection_split_90_10/sagittal/train/labels/00074_249.txt\n",
      "/kaggle/working/brain_tumor_object_detection_split_90_10/sagittal/train/labels/00124_168.txt\n",
      "/kaggle/working/brain_tumor_object_detection_split_90_10/sagittal/train/labels/00132_112.txt\n",
      "/kaggle/working/brain_tumor_object_detection_split_90_10/sagittal/train/labels/00060_72.txt\n",
      "/kaggle/working/brain_tumor_object_detection_split_90_10/sagittal/train/labels/00150_252.txt\n",
      "/kaggle/working/brain_tumor_object_detection_split_90_10/sagittal/train/labels/00194_259.txt\n",
      "/kaggle/working/brain_tumor_object_detection_split_90_10/sagittal/train/labels/00036_142.txt\n",
      "/kaggle/working/brain_tumor_object_detection_split_90_10/sagittal/train/labels/00071_278.txt\n",
      "/kaggle/working/brain_tumor_object_detection_split_90_10/sagittal/train/labels/00077_186.txt\n",
      "/kaggle/working/brain_tumor_object_detection_split_90_10/sagittal/train/labels/00074_289.txt\n",
      "/kaggle/working/brain_tumor_object_detection_split_90_10/sagittal/train/labels/00078_258.txt\n",
      "/kaggle/working/brain_tumor_object_detection_split_90_10/sagittal/train/labels/00104_132.txt\n",
      "/kaggle/working/brain_tumor_object_detection_split_90_10/sagittal/train/labels/00071_240.txt\n"
     ]
    }
   ],
   "source": [
    "# Cắt bỏ trên tập train\n",
    "axial_img_crop = crop_images_with_bounding_box(axial_img, axial_label, axial_train_dataset + \"labels\", \"/kaggle/working/brain_tumor_object_detection_90_10_processImage/axial/tam/labels\")\n",
    "coronal_img_crop = crop_images_with_bounding_box(coronal_img, coronal_label, coronal_train_dataset + \"labels\", \"/kaggle/working/brain_tumor_object_detection_90_10_processImage/coronal/tam/labels\")\n",
    "sagittal_img_crop = crop_images_with_bounding_box(sagittal_img, sagittal_label, sagittal_train_dataset + \"labels\", \"/kaggle/working/brain_tumor_object_detection_90_10_processImage/sagittal/tam/labels\")"
   ]
  },
  {
   "cell_type": "markdown",
   "id": "f4a21664",
   "metadata": {
    "papermill": {
     "duration": 0.017541,
     "end_time": "2024-10-24T06:43:50.874907",
     "exception": false,
     "start_time": "2024-10-24T06:43:50.857366",
     "status": "completed"
    },
    "tags": []
   },
   "source": [
    "## Làm sắc nét hình"
   ]
  },
  {
   "cell_type": "code",
   "execution_count": 12,
   "id": "c79832c3",
   "metadata": {
    "execution": {
     "iopub.execute_input": "2024-10-24T06:43:50.911955Z",
     "iopub.status.busy": "2024-10-24T06:43:50.911622Z",
     "iopub.status.idle": "2024-10-24T06:43:50.917182Z",
     "shell.execute_reply": "2024-10-24T06:43:50.916388Z"
    },
    "papermill": {
     "duration": 0.026523,
     "end_time": "2024-10-24T06:43:50.919016",
     "exception": false,
     "start_time": "2024-10-24T06:43:50.892493",
     "status": "completed"
    },
    "tags": []
   },
   "outputs": [],
   "source": [
    "def sharpen_images(image_list):\n",
    "    sharpened_images = []\n",
    "    \n",
    "    # Kernel làm sắc nét\n",
    "    sharpen_kernel = np.array([[0, -1, 0],\n",
    "                               [-1, 5,-1],\n",
    "                               [0, -1, 0]])\n",
    "    \n",
    "    for image in image_list:\n",
    "        # Áp dụng kernel để làm sắc nét ảnh\n",
    "        sharpened_image = cv2.filter2D(image, -1, sharpen_kernel)\n",
    "        sharpened_images.append(sharpened_image)\n",
    "    \n",
    "    return sharpened_images"
   ]
  },
  {
   "cell_type": "code",
   "execution_count": 13,
   "id": "fb654b7f",
   "metadata": {
    "execution": {
     "iopub.execute_input": "2024-10-24T06:43:50.955462Z",
     "iopub.status.busy": "2024-10-24T06:43:50.955166Z",
     "iopub.status.idle": "2024-10-24T06:43:51.079782Z",
     "shell.execute_reply": "2024-10-24T06:43:51.078788Z"
    },
    "papermill": {
     "duration": 0.145502,
     "end_time": "2024-10-24T06:43:51.082165",
     "exception": false,
     "start_time": "2024-10-24T06:43:50.936663",
     "status": "completed"
    },
    "tags": []
   },
   "outputs": [],
   "source": [
    "# Làm sắc nét trên tập train\n",
    "axial_image_sharpened = sharpen_images(axial_img_crop)\n",
    "coronal_image_sharpened = sharpen_images(coronal_img_crop)\n",
    "sagittal_image_sharpened = sharpen_images(sagittal_img_crop)"
   ]
  },
  {
   "cell_type": "markdown",
   "id": "4a4f3f1d",
   "metadata": {
    "papermill": {
     "duration": 0.017684,
     "end_time": "2024-10-24T06:43:51.119365",
     "exception": false,
     "start_time": "2024-10-24T06:43:51.101681",
     "status": "completed"
    },
    "tags": []
   },
   "source": [
    "## Làm sáng ảnh"
   ]
  },
  {
   "cell_type": "code",
   "execution_count": 14,
   "id": "9274a959",
   "metadata": {
    "execution": {
     "iopub.execute_input": "2024-10-24T06:43:51.156737Z",
     "iopub.status.busy": "2024-10-24T06:43:51.156006Z",
     "iopub.status.idle": "2024-10-24T06:43:51.161167Z",
     "shell.execute_reply": "2024-10-24T06:43:51.160283Z"
    },
    "papermill": {
     "duration": 0.026019,
     "end_time": "2024-10-24T06:43:51.163139",
     "exception": false,
     "start_time": "2024-10-24T06:43:51.137120",
     "status": "completed"
    },
    "tags": []
   },
   "outputs": [],
   "source": [
    "def adaptive_thresh_images(image_list):\n",
    "    adaptive_thresh_images = []\n",
    "    \n",
    "    for image in image_list:\n",
    "        # Tăng cường độ sáng\n",
    "        beta = 50  # Giá trị cần thêm vào (có thể điều chỉnh)\n",
    "        bright_image = cv2.convertScaleAbs(image, beta=beta)\n",
    "        \n",
    "        adaptive_thresh_images.append(bright_image)\n",
    "    \n",
    "    return adaptive_thresh_images"
   ]
  },
  {
   "cell_type": "code",
   "execution_count": 15,
   "id": "f9e57437",
   "metadata": {
    "execution": {
     "iopub.execute_input": "2024-10-24T06:43:51.199711Z",
     "iopub.status.busy": "2024-10-24T06:43:51.199440Z",
     "iopub.status.idle": "2024-10-24T06:43:51.256157Z",
     "shell.execute_reply": "2024-10-24T06:43:51.255386Z"
    },
    "papermill": {
     "duration": 0.077314,
     "end_time": "2024-10-24T06:43:51.258290",
     "exception": false,
     "start_time": "2024-10-24T06:43:51.180976",
     "status": "completed"
    },
    "tags": []
   },
   "outputs": [],
   "source": [
    "# Làm sáng ảnh trên tập train\n",
    "axial_image_thresh = adaptive_thresh_images(axial_image_sharpened)\n",
    "coronal_image_thresh = adaptive_thresh_images(coronal_image_sharpened)\n",
    "sagittal_image_thresh = adaptive_thresh_images(sagittal_image_sharpened)"
   ]
  },
  {
   "cell_type": "markdown",
   "id": "b02df2e9",
   "metadata": {
    "papermill": {
     "duration": 0.017552,
     "end_time": "2024-10-24T06:43:51.293851",
     "exception": false,
     "start_time": "2024-10-24T06:43:51.276299",
     "status": "completed"
    },
    "tags": []
   },
   "source": [
    "## Lưu ảnh đã xử lý"
   ]
  },
  {
   "cell_type": "code",
   "execution_count": 16,
   "id": "86df1d19",
   "metadata": {
    "execution": {
     "iopub.execute_input": "2024-10-24T06:43:51.330506Z",
     "iopub.status.busy": "2024-10-24T06:43:51.330181Z",
     "iopub.status.idle": "2024-10-24T06:43:51.335751Z",
     "shell.execute_reply": "2024-10-24T06:43:51.335016Z"
    },
    "papermill": {
     "duration": 0.026184,
     "end_time": "2024-10-24T06:43:51.337725",
     "exception": false,
     "start_time": "2024-10-24T06:43:51.311541",
     "status": "completed"
    },
    "tags": []
   },
   "outputs": [],
   "source": [
    "def save_images_with_labels(image_list, label_files_list, save_dir):\n",
    "    # Tạo thư mục nếu chưa tồn tại\n",
    "    if not os.path.exists(save_dir):\n",
    "        os.makedirs(save_dir)\n",
    "    \n",
    "    for i, image in enumerate(image_list):\n",
    "        image_name = os.path.splitext(label_files_list[i])[0] + \".jpg\"\n",
    "        save_path = os.path.join(save_dir, image_name)\n",
    "        \n",
    "        # Lưu ảnh xuống\n",
    "        cv2.imwrite(save_path, image)\n",
    "#         print(f\"Image saved at: {save_path}\")"
   ]
  },
  {
   "cell_type": "code",
   "execution_count": 17,
   "id": "edd54b21",
   "metadata": {
    "execution": {
     "iopub.execute_input": "2024-10-24T06:43:51.374416Z",
     "iopub.status.busy": "2024-10-24T06:43:51.373949Z",
     "iopub.status.idle": "2024-10-24T06:43:51.379169Z",
     "shell.execute_reply": "2024-10-24T06:43:51.378450Z"
    },
    "papermill": {
     "duration": 0.025473,
     "end_time": "2024-10-24T06:43:51.380948",
     "exception": false,
     "start_time": "2024-10-24T06:43:51.355475",
     "status": "completed"
    },
    "tags": []
   },
   "outputs": [],
   "source": [
    "axial_label = os.listdir(\"/kaggle/working/brain_tumor_object_detection_90_10_processImage/axial/tam/labels\")\n",
    "coronal_label = os.listdir(\"/kaggle/working/brain_tumor_object_detection_90_10_processImage/coronal/tam/labels\")\n",
    "sagittal_label = os.listdir(\"/kaggle/working/brain_tumor_object_detection_90_10_processImage/sagittal/tam/labels\")"
   ]
  },
  {
   "cell_type": "code",
   "execution_count": 18,
   "id": "81c97741",
   "metadata": {
    "execution": {
     "iopub.execute_input": "2024-10-24T06:43:51.417681Z",
     "iopub.status.busy": "2024-10-24T06:43:51.417407Z",
     "iopub.status.idle": "2024-10-24T06:43:51.490668Z",
     "shell.execute_reply": "2024-10-24T06:43:51.489984Z"
    },
    "papermill": {
     "duration": 0.093734,
     "end_time": "2024-10-24T06:43:51.492609",
     "exception": false,
     "start_time": "2024-10-24T06:43:51.398875",
     "status": "completed"
    },
    "tags": []
   },
   "outputs": [],
   "source": [
    "save_images_with_labels(axial_image_thresh, axial_label, '/kaggle/working/brain_tumor_object_detection_90_10_processImage/axial/tam/images')"
   ]
  },
  {
   "cell_type": "code",
   "execution_count": 19,
   "id": "096d7fde",
   "metadata": {
    "execution": {
     "iopub.execute_input": "2024-10-24T06:43:51.529330Z",
     "iopub.status.busy": "2024-10-24T06:43:51.529043Z",
     "iopub.status.idle": "2024-10-24T06:43:51.631495Z",
     "shell.execute_reply": "2024-10-24T06:43:51.630592Z"
    },
    "papermill": {
     "duration": 0.123068,
     "end_time": "2024-10-24T06:43:51.633690",
     "exception": false,
     "start_time": "2024-10-24T06:43:51.510622",
     "status": "completed"
    },
    "tags": []
   },
   "outputs": [],
   "source": [
    "save_images_with_labels(coronal_image_thresh, coronal_label, '/kaggle/working/brain_tumor_object_detection_90_10_processImage/coronal/tam/images')"
   ]
  },
  {
   "cell_type": "code",
   "execution_count": 20,
   "id": "73c562f3",
   "metadata": {
    "execution": {
     "iopub.execute_input": "2024-10-24T06:43:51.670605Z",
     "iopub.status.busy": "2024-10-24T06:43:51.670317Z",
     "iopub.status.idle": "2024-10-24T06:43:51.772385Z",
     "shell.execute_reply": "2024-10-24T06:43:51.771522Z"
    },
    "papermill": {
     "duration": 0.122579,
     "end_time": "2024-10-24T06:43:51.774413",
     "exception": false,
     "start_time": "2024-10-24T06:43:51.651834",
     "status": "completed"
    },
    "tags": []
   },
   "outputs": [],
   "source": [
    "save_images_with_labels(sagittal_image_thresh, sagittal_label, '/kaggle/working/brain_tumor_object_detection_90_10_processImage/sagittal/tam/images')"
   ]
  },
  {
   "cell_type": "markdown",
   "id": "1bda3e5b",
   "metadata": {
    "papermill": {
     "duration": 0.017609,
     "end_time": "2024-10-24T06:43:51.809823",
     "exception": false,
     "start_time": "2024-10-24T06:43:51.792214",
     "status": "completed"
    },
    "tags": []
   },
   "source": [
    "## Đổi tên file của 90% ảnh gốc để đưa vào tập đã xử lý để cùng train"
   ]
  },
  {
   "cell_type": "code",
   "execution_count": 21,
   "id": "ff382769",
   "metadata": {
    "execution": {
     "iopub.execute_input": "2024-10-24T06:43:51.847111Z",
     "iopub.status.busy": "2024-10-24T06:43:51.846318Z",
     "iopub.status.idle": "2024-10-24T06:43:51.852035Z",
     "shell.execute_reply": "2024-10-24T06:43:51.851229Z"
    },
    "papermill": {
     "duration": 0.026527,
     "end_time": "2024-10-24T06:43:51.853907",
     "exception": false,
     "start_time": "2024-10-24T06:43:51.827380",
     "status": "completed"
    },
    "tags": []
   },
   "outputs": [],
   "source": [
    "def save_images_with_name_new(image_list, label_files_list, save_dir):\n",
    "    # Tạo thư mục nếu chưa tồn tại\n",
    "    if not os.path.exists(save_dir):\n",
    "        os.makedirs(save_dir)\n",
    "    \n",
    "    for i, image in enumerate(image_list):\n",
    "        image_name = os.path.splitext(label_files_list[i])[0] + \"_goc.jpg\"\n",
    "        save_path = os.path.join(save_dir, image_name)\n",
    "        \n",
    "        # Lưu ảnh xuống\n",
    "        cv2.imwrite(save_path, image)\n",
    "#         print(f\"Image saved at: {save_path}\")"
   ]
  },
  {
   "cell_type": "code",
   "execution_count": 22,
   "id": "25952b82",
   "metadata": {
    "execution": {
     "iopub.execute_input": "2024-10-24T06:43:51.892186Z",
     "iopub.status.busy": "2024-10-24T06:43:51.891881Z",
     "iopub.status.idle": "2024-10-24T06:43:51.895957Z",
     "shell.execute_reply": "2024-10-24T06:43:51.895076Z"
    },
    "papermill": {
     "duration": 0.025664,
     "end_time": "2024-10-24T06:43:51.897824",
     "exception": false,
     "start_time": "2024-10-24T06:43:51.872160",
     "status": "completed"
    },
    "tags": []
   },
   "outputs": [],
   "source": [
    "axial_img_goc_path = \"/kaggle/working/brain_tumor_object_detection_split_90_10/axial/train/\"\n",
    "coronal_img_goc_path = \"/kaggle/working/brain_tumor_object_detection_split_90_10/coronal/train/\"\n",
    "sagittal_img_goc_path = \"/kaggle/working/brain_tumor_object_detection_split_90_10/sagittal/train/\""
   ]
  },
  {
   "cell_type": "code",
   "execution_count": 23,
   "id": "825ac70c",
   "metadata": {
    "execution": {
     "iopub.execute_input": "2024-10-24T06:43:51.935119Z",
     "iopub.status.busy": "2024-10-24T06:43:51.934832Z",
     "iopub.status.idle": "2024-10-24T06:43:52.462660Z",
     "shell.execute_reply": "2024-10-24T06:43:52.461874Z"
    },
    "papermill": {
     "duration": 0.548956,
     "end_time": "2024-10-24T06:43:52.464929",
     "exception": false,
     "start_time": "2024-10-24T06:43:51.915973",
     "status": "completed"
    },
    "tags": []
   },
   "outputs": [],
   "source": [
    "axial_train_img, axial_train_label  = read_images_and_labels(axial_img_goc_path + \"images\", axial_img_goc_path + \"labels\")\n",
    "coronal_train_img, coronal_train_label  = read_images_and_labels(coronal_img_goc_path + \"images\", coronal_img_goc_path + \"labels\")\n",
    "sagittal_train_img, sagittal_train_label  = read_images_and_labels(sagittal_img_goc_path + \"images\", sagittal_img_goc_path + \"labels\")"
   ]
  },
  {
   "cell_type": "markdown",
   "id": "15a90f06",
   "metadata": {
    "papermill": {
     "duration": 0.018806,
     "end_time": "2024-10-24T06:43:52.501943",
     "exception": false,
     "start_time": "2024-10-24T06:43:52.483137",
     "status": "completed"
    },
    "tags": []
   },
   "source": [
    "Lưu ảnh với tên mới"
   ]
  },
  {
   "cell_type": "code",
   "execution_count": 24,
   "id": "093ccaa2",
   "metadata": {
    "execution": {
     "iopub.execute_input": "2024-10-24T06:43:52.538809Z",
     "iopub.status.busy": "2024-10-24T06:43:52.538472Z",
     "iopub.status.idle": "2024-10-24T06:43:52.623511Z",
     "shell.execute_reply": "2024-10-24T06:43:52.622793Z"
    },
    "papermill": {
     "duration": 0.105699,
     "end_time": "2024-10-24T06:43:52.625501",
     "exception": false,
     "start_time": "2024-10-24T06:43:52.519802",
     "status": "completed"
    },
    "tags": []
   },
   "outputs": [],
   "source": [
    "save_images_with_name_new(axial_train_img, axial_train_label, \"/kaggle/working/brain_tumor_object_detection_90_10_processImage/axial/tam/images\")"
   ]
  },
  {
   "cell_type": "code",
   "execution_count": 25,
   "id": "7eff3e2f",
   "metadata": {
    "execution": {
     "iopub.execute_input": "2024-10-24T06:43:52.663391Z",
     "iopub.status.busy": "2024-10-24T06:43:52.662677Z",
     "iopub.status.idle": "2024-10-24T06:43:52.847487Z",
     "shell.execute_reply": "2024-10-24T06:43:52.846761Z"
    },
    "papermill": {
     "duration": 0.205917,
     "end_time": "2024-10-24T06:43:52.849616",
     "exception": false,
     "start_time": "2024-10-24T06:43:52.643699",
     "status": "completed"
    },
    "tags": []
   },
   "outputs": [],
   "source": [
    "save_images_with_name_new(coronal_train_img, coronal_train_label, \"/kaggle/working/brain_tumor_object_detection_90_10_processImage/coronal/tam/images\")"
   ]
  },
  {
   "cell_type": "code",
   "execution_count": 26,
   "id": "6e331443",
   "metadata": {
    "execution": {
     "iopub.execute_input": "2024-10-24T06:43:52.887796Z",
     "iopub.status.busy": "2024-10-24T06:43:52.887471Z",
     "iopub.status.idle": "2024-10-24T06:43:53.052588Z",
     "shell.execute_reply": "2024-10-24T06:43:53.051847Z"
    },
    "papermill": {
     "duration": 0.186288,
     "end_time": "2024-10-24T06:43:53.054578",
     "exception": false,
     "start_time": "2024-10-24T06:43:52.868290",
     "status": "completed"
    },
    "tags": []
   },
   "outputs": [],
   "source": [
    "save_images_with_name_new(sagittal_train_img, sagittal_train_label, \"/kaggle/working/brain_tumor_object_detection_90_10_processImage/sagittal/tam/images\")"
   ]
  },
  {
   "cell_type": "code",
   "execution_count": 27,
   "id": "49b9319b",
   "metadata": {
    "execution": {
     "iopub.execute_input": "2024-10-24T06:43:53.092208Z",
     "iopub.status.busy": "2024-10-24T06:43:53.091910Z",
     "iopub.status.idle": "2024-10-24T06:43:53.099587Z",
     "shell.execute_reply": "2024-10-24T06:43:53.098853Z"
    },
    "papermill": {
     "duration": 0.028819,
     "end_time": "2024-10-24T06:43:53.101579",
     "exception": false,
     "start_time": "2024-10-24T06:43:53.072760",
     "status": "completed"
    },
    "tags": []
   },
   "outputs": [],
   "source": [
    "def save_labels_with_name_new(label_files_list, label_dir, save_dir):\n",
    "    # Tạo thư mục nếu chưa tồn tại\n",
    "    if not os.path.exists(save_dir):\n",
    "        os.makedirs(save_dir)\n",
    "    \n",
    "    # Lặp qua tất cả các file nhãn\n",
    "    for i, label_file in enumerate(label_files_list):\n",
    "        # Tạo đường dẫn đầy đủ cho file nhãn cũ\n",
    "        label_path = os.path.join(label_dir, label_file)\n",
    "        \n",
    "        # Kiểm tra nếu file nhãn tồn tại\n",
    "        if os.path.exists(label_path):\n",
    "            # Đọc nội dung nhãn\n",
    "            with open(label_path, 'r') as f:\n",
    "                label_data = f.read()\n",
    "            \n",
    "            # Tạo tên file mới để lưu nhãn\n",
    "            label_name = os.path.splitext(label_file)[0] + \"_goc.txt\"\n",
    "            save_path = os.path.join(save_dir, label_name)\n",
    "            \n",
    "            # Ghi nhãn vào file mới\n",
    "            with open(save_path, 'w') as f:\n",
    "                f.write(label_data)"
   ]
  },
  {
   "cell_type": "code",
   "execution_count": 28,
   "id": "020c659b",
   "metadata": {
    "execution": {
     "iopub.execute_input": "2024-10-24T06:43:53.138343Z",
     "iopub.status.busy": "2024-10-24T06:43:53.138045Z",
     "iopub.status.idle": "2024-10-24T06:43:53.173996Z",
     "shell.execute_reply": "2024-10-24T06:43:53.173278Z"
    },
    "papermill": {
     "duration": 0.05657,
     "end_time": "2024-10-24T06:43:53.175901",
     "exception": false,
     "start_time": "2024-10-24T06:43:53.119331",
     "status": "completed"
    },
    "tags": []
   },
   "outputs": [],
   "source": [
    "label_dir = '/kaggle/working/brain_tumor_object_detection_split_90_10/axial/train/labels'  # Thư mục chứa file nhãn ban đầu\n",
    "save_dir = '/kaggle/working/brain_tumor_object_detection_90_10_processImage/axial/tam/labels'  # Thư mục đích để lưu file nhãn\n",
    "save_labels_with_name_new(axial_train_label, label_dir, save_dir)"
   ]
  },
  {
   "cell_type": "code",
   "execution_count": 29,
   "id": "60fd0795",
   "metadata": {
    "execution": {
     "iopub.execute_input": "2024-10-24T06:43:53.212759Z",
     "iopub.status.busy": "2024-10-24T06:43:53.212459Z",
     "iopub.status.idle": "2024-10-24T06:43:53.248863Z",
     "shell.execute_reply": "2024-10-24T06:43:53.248170Z"
    },
    "papermill": {
     "duration": 0.05711,
     "end_time": "2024-10-24T06:43:53.250788",
     "exception": false,
     "start_time": "2024-10-24T06:43:53.193678",
     "status": "completed"
    },
    "tags": []
   },
   "outputs": [],
   "source": [
    "label_dir = '/kaggle/working/brain_tumor_object_detection_split_90_10/coronal/train/labels'  # Thư mục chứa file nhãn ban đầu\n",
    "save_dir = '/kaggle/working/brain_tumor_object_detection_90_10_processImage/coronal/tam/labels'  # Thư mục đích để lưu file nhãn\n",
    "save_labels_with_name_new(coronal_train_label, label_dir, save_dir)"
   ]
  },
  {
   "cell_type": "code",
   "execution_count": 30,
   "id": "8e2afbe8",
   "metadata": {
    "execution": {
     "iopub.execute_input": "2024-10-24T06:43:53.287274Z",
     "iopub.status.busy": "2024-10-24T06:43:53.286992Z",
     "iopub.status.idle": "2024-10-24T06:43:53.318415Z",
     "shell.execute_reply": "2024-10-24T06:43:53.317722Z"
    },
    "papermill": {
     "duration": 0.051718,
     "end_time": "2024-10-24T06:43:53.320298",
     "exception": false,
     "start_time": "2024-10-24T06:43:53.268580",
     "status": "completed"
    },
    "tags": []
   },
   "outputs": [],
   "source": [
    "label_dir = '/kaggle/working/brain_tumor_object_detection_split_90_10/sagittal/train/labels'  # Thư mục chứa file nhãn ban đầu\n",
    "save_dir = '/kaggle/working/brain_tumor_object_detection_90_10_processImage/sagittal/tam/labels'  # Thư mục đích để lưu file nhãn\n",
    "save_labels_with_name_new(sagittal_train_label, label_dir, save_dir)"
   ]
  },
  {
   "cell_type": "markdown",
   "id": "8b7d030e",
   "metadata": {
    "papermill": {
     "duration": 0.01765,
     "end_time": "2024-10-24T06:43:53.355873",
     "exception": false,
     "start_time": "2024-10-24T06:43:53.338223",
     "status": "completed"
    },
    "tags": []
   },
   "source": [
    "## Chia dữ liệu train vừa tạo thành 2 tập là train 80, val 20"
   ]
  },
  {
   "cell_type": "code",
   "execution_count": 31,
   "id": "de52f6f6",
   "metadata": {
    "execution": {
     "iopub.execute_input": "2024-10-24T06:43:53.392436Z",
     "iopub.status.busy": "2024-10-24T06:43:53.392098Z",
     "iopub.status.idle": "2024-10-24T06:43:53.402547Z",
     "shell.execute_reply": "2024-10-24T06:43:53.401850Z"
    },
    "papermill": {
     "duration": 0.030936,
     "end_time": "2024-10-24T06:43:53.404364",
     "exception": false,
     "start_time": "2024-10-24T06:43:53.373428",
     "status": "completed"
    },
    "tags": []
   },
   "outputs": [],
   "source": [
    "def split_data(image_dir, label_dir, output_dir, test_size=0.2,  random_state=42):\n",
    "    # Lấy danh sách các file hình ảnh và file label\n",
    "    image_files = sorted([f for f in os.listdir(image_dir) if f.endswith('.jpg')])\n",
    "    label_files = sorted([f for f in os.listdir(label_dir) if f.endswith('.txt')])\n",
    "\n",
    "    # Kiểm tra số lượng file hình và file label có khớp nhau không\n",
    "    assert len(image_files) == len(label_files), \"Số lượng file hình ảnh và file label không khớp\"\n",
    "\n",
    "    # Tách dữ liệu thành tập train và test\n",
    "    train_images, test_images, train_labels, test_labels = train_test_split(\n",
    "        image_files, label_files, test_size=test_size, random_state=random_state\n",
    "    )\n",
    "        \n",
    "    # Tạo thư mục đầu ra cho train và test nếu chưa tồn tại\n",
    "    train_image_dir = os.path.join(output_dir, 'train', 'images')\n",
    "    test_image_dir = os.path.join(output_dir, 'val', 'images')\n",
    "    train_label_dir = os.path.join(output_dir, 'train', 'labels')\n",
    "    test_label_dir = os.path.join(output_dir, 'val', 'labels')\n",
    "\n",
    "    os.makedirs(train_image_dir, exist_ok=True)\n",
    "    os.makedirs(test_image_dir, exist_ok=True)\n",
    "    os.makedirs(train_label_dir, exist_ok=True)\n",
    "    os.makedirs(test_label_dir, exist_ok=True)\n",
    "\n",
    "    # Sao chép file train\n",
    "    for img, lbl in zip(train_images, train_labels):\n",
    "        shutil.copy(os.path.join(image_dir, img), os.path.join(train_image_dir, img))\n",
    "        shutil.copy(os.path.join(label_dir, lbl), os.path.join(train_label_dir, lbl))\n",
    "\n",
    "    # Sao chép file test\n",
    "    for img, lbl in zip(test_images, test_labels):\n",
    "        shutil.copy(os.path.join(image_dir, img), os.path.join(test_image_dir, img))\n",
    "        shutil.copy(os.path.join(label_dir, lbl), os.path.join(test_label_dir, lbl))\n",
    "\n",
    "    print(f'Data split completed. Train and test data saved to {output_dir}')"
   ]
  },
  {
   "cell_type": "code",
   "execution_count": 32,
   "id": "d3f3d1af",
   "metadata": {
    "execution": {
     "iopub.execute_input": "2024-10-24T06:43:53.441089Z",
     "iopub.status.busy": "2024-10-24T06:43:53.440795Z",
     "iopub.status.idle": "2024-10-24T06:43:53.606269Z",
     "shell.execute_reply": "2024-10-24T06:43:53.605327Z"
    },
    "papermill": {
     "duration": 0.186228,
     "end_time": "2024-10-24T06:43:53.608531",
     "exception": false,
     "start_time": "2024-10-24T06:43:53.422303",
     "status": "completed"
    },
    "tags": []
   },
   "outputs": [
    {
     "name": "stdout",
     "output_type": "stream",
     "text": [
      "Data split completed. Train and test data saved to /kaggle/working/brain_tumor_object_detection_90_10_processImage/axial\n"
     ]
    }
   ],
   "source": [
    "image_dir = '/kaggle/working/brain_tumor_object_detection_90_10_processImage/axial/tam/images'\n",
    "label_dir = '/kaggle/working/brain_tumor_object_detection_90_10_processImage/axial/tam/labels'\n",
    "output_dir = '/kaggle/working/brain_tumor_object_detection_90_10_processImage/axial'\n",
    "split_data(image_dir, label_dir, output_dir, test_size=0.2)"
   ]
  },
  {
   "cell_type": "code",
   "execution_count": 33,
   "id": "e94e912f",
   "metadata": {
    "execution": {
     "iopub.execute_input": "2024-10-24T06:43:53.648055Z",
     "iopub.status.busy": "2024-10-24T06:43:53.647379Z",
     "iopub.status.idle": "2024-10-24T06:43:53.819241Z",
     "shell.execute_reply": "2024-10-24T06:43:53.818157Z"
    },
    "papermill": {
     "duration": 0.193195,
     "end_time": "2024-10-24T06:43:53.821542",
     "exception": false,
     "start_time": "2024-10-24T06:43:53.628347",
     "status": "completed"
    },
    "tags": []
   },
   "outputs": [
    {
     "name": "stdout",
     "output_type": "stream",
     "text": [
      "Data split completed. Train and test data saved to /kaggle/working/brain_tumor_object_detection_90_10_processImage/coronal\n"
     ]
    }
   ],
   "source": [
    "image_dir = '/kaggle/working/brain_tumor_object_detection_90_10_processImage/coronal/tam/images'\n",
    "label_dir = '/kaggle/working/brain_tumor_object_detection_90_10_processImage/coronal/tam/labels'\n",
    "output_dir = '/kaggle/working/brain_tumor_object_detection_90_10_processImage/coronal'\n",
    "split_data(image_dir, label_dir, output_dir, test_size=0.2)"
   ]
  },
  {
   "cell_type": "code",
   "execution_count": 34,
   "id": "091fdee4",
   "metadata": {
    "execution": {
     "iopub.execute_input": "2024-10-24T06:43:53.861470Z",
     "iopub.status.busy": "2024-10-24T06:43:53.861160Z",
     "iopub.status.idle": "2024-10-24T06:43:54.016671Z",
     "shell.execute_reply": "2024-10-24T06:43:54.015568Z"
    },
    "papermill": {
     "duration": 0.17692,
     "end_time": "2024-10-24T06:43:54.018976",
     "exception": false,
     "start_time": "2024-10-24T06:43:53.842056",
     "status": "completed"
    },
    "tags": []
   },
   "outputs": [
    {
     "name": "stdout",
     "output_type": "stream",
     "text": [
      "Data split completed. Train and test data saved to /kaggle/working/brain_tumor_object_detection_90_10_processImage/sagittal\n"
     ]
    }
   ],
   "source": [
    "image_dir = '/kaggle/working/brain_tumor_object_detection_90_10_processImage/sagittal/tam/images'\n",
    "label_dir = '/kaggle/working/brain_tumor_object_detection_90_10_processImage/sagittal/tam/labels'\n",
    "output_dir = '/kaggle/working/brain_tumor_object_detection_90_10_processImage/sagittal'\n",
    "split_data(image_dir, label_dir, output_dir, test_size=0.2)"
   ]
  },
  {
   "cell_type": "markdown",
   "id": "7cb34627",
   "metadata": {
    "papermill": {
     "duration": 0.018628,
     "end_time": "2024-10-24T06:43:54.056341",
     "exception": false,
     "start_time": "2024-10-24T06:43:54.037713",
     "status": "completed"
    },
    "tags": []
   },
   "source": [
    "## Thêm test vào tập data"
   ]
  },
  {
   "cell_type": "code",
   "execution_count": 35,
   "id": "0260964d",
   "metadata": {
    "execution": {
     "iopub.execute_input": "2024-10-24T06:43:54.095039Z",
     "iopub.status.busy": "2024-10-24T06:43:54.094468Z",
     "iopub.status.idle": "2024-10-24T06:43:54.099843Z",
     "shell.execute_reply": "2024-10-24T06:43:54.098610Z"
    },
    "papermill": {
     "duration": 0.026956,
     "end_time": "2024-10-24T06:43:54.101740",
     "exception": false,
     "start_time": "2024-10-24T06:43:54.074784",
     "status": "completed"
    },
    "tags": []
   },
   "outputs": [],
   "source": [
    "# Đường lnk lấy dataset\n",
    "axial_train_dataset = '/kaggle/working/brain_tumor_object_detection_split_90_10/axial/test/'\n",
    "coronal_train_dataset = '/kaggle/working/brain_tumor_object_detection_split_90_10/coronal/test/'\n",
    "sagittal_train_dataset = '/kaggle/working/brain_tumor_object_detection_split_90_10/sagittal/test/'"
   ]
  },
  {
   "cell_type": "code",
   "execution_count": 36,
   "id": "5722a6b0",
   "metadata": {
    "execution": {
     "iopub.execute_input": "2024-10-24T06:43:54.139633Z",
     "iopub.status.busy": "2024-10-24T06:43:54.139304Z",
     "iopub.status.idle": "2024-10-24T06:43:54.207568Z",
     "shell.execute_reply": "2024-10-24T06:43:54.206781Z"
    },
    "papermill": {
     "duration": 0.089575,
     "end_time": "2024-10-24T06:43:54.209769",
     "exception": false,
     "start_time": "2024-10-24T06:43:54.120194",
     "status": "completed"
    },
    "tags": []
   },
   "outputs": [],
   "source": [
    "axial_img_test,  axial_label_test = read_images_and_labels(axial_train_dataset + \"images\", axial_train_dataset + \"labels\")\n",
    "coronal_img_test,  coronal_label_test = read_images_and_labels(coronal_train_dataset + \"images\", coronal_train_dataset + \"labels\")\n",
    "sagittal_img_test,  sagittal_label_test = read_images_and_labels(sagittal_train_dataset + \"images\", sagittal_train_dataset + \"labels\")"
   ]
  },
  {
   "cell_type": "code",
   "execution_count": 37,
   "id": "00db2d62",
   "metadata": {
    "execution": {
     "iopub.execute_input": "2024-10-24T06:43:54.248238Z",
     "iopub.status.busy": "2024-10-24T06:43:54.247936Z",
     "iopub.status.idle": "2024-10-24T06:43:54.253627Z",
     "shell.execute_reply": "2024-10-24T06:43:54.252755Z"
    },
    "papermill": {
     "duration": 0.026839,
     "end_time": "2024-10-24T06:43:54.255575",
     "exception": false,
     "start_time": "2024-10-24T06:43:54.228736",
     "status": "completed"
    },
    "tags": []
   },
   "outputs": [],
   "source": [
    "def save_images_with_labels(image_list, label_files_list, save_dir):\n",
    "    # Tạo thư mục nếu chưa tồn tại\n",
    "    if not os.path.exists(save_dir):\n",
    "        os.makedirs(save_dir)\n",
    "    \n",
    "    for i, image in enumerate(image_list):\n",
    "        image_name = os.path.splitext(label_files_list[i])[0] + \".jpg\"\n",
    "        save_path = os.path.join(save_dir, image_name)\n",
    "        \n",
    "        # Lưu ảnh xuống\n",
    "        cv2.imwrite(save_path, image)\n",
    "#         print(f\"Image saved at: {save_path}\")"
   ]
  },
  {
   "cell_type": "code",
   "execution_count": 38,
   "id": "b44a7a0f",
   "metadata": {
    "execution": {
     "iopub.execute_input": "2024-10-24T06:43:54.292352Z",
     "iopub.status.busy": "2024-10-24T06:43:54.292052Z",
     "iopub.status.idle": "2024-10-24T06:43:54.306723Z",
     "shell.execute_reply": "2024-10-24T06:43:54.306081Z"
    },
    "papermill": {
     "duration": 0.035218,
     "end_time": "2024-10-24T06:43:54.308611",
     "exception": false,
     "start_time": "2024-10-24T06:43:54.273393",
     "status": "completed"
    },
    "tags": []
   },
   "outputs": [],
   "source": [
    "save_images_with_labels(axial_img_test, axial_label_test, \"/kaggle/working/brain_tumor_object_detection_90_10_processImage/axial/test/images\")"
   ]
  },
  {
   "cell_type": "code",
   "execution_count": 39,
   "id": "d475f122",
   "metadata": {
    "execution": {
     "iopub.execute_input": "2024-10-24T06:43:54.345639Z",
     "iopub.status.busy": "2024-10-24T06:43:54.345343Z",
     "iopub.status.idle": "2024-10-24T06:43:54.369336Z",
     "shell.execute_reply": "2024-10-24T06:43:54.368686Z"
    },
    "papermill": {
     "duration": 0.044498,
     "end_time": "2024-10-24T06:43:54.371234",
     "exception": false,
     "start_time": "2024-10-24T06:43:54.326736",
     "status": "completed"
    },
    "tags": []
   },
   "outputs": [],
   "source": [
    "save_images_with_labels(coronal_img_test, coronal_label_test, \"/kaggle/working/brain_tumor_object_detection_90_10_processImage/coronal/test/images\")"
   ]
  },
  {
   "cell_type": "code",
   "execution_count": 40,
   "id": "26ea6093",
   "metadata": {
    "execution": {
     "iopub.execute_input": "2024-10-24T06:43:54.408348Z",
     "iopub.status.busy": "2024-10-24T06:43:54.408060Z",
     "iopub.status.idle": "2024-10-24T06:43:54.430954Z",
     "shell.execute_reply": "2024-10-24T06:43:54.430292Z"
    },
    "papermill": {
     "duration": 0.0432,
     "end_time": "2024-10-24T06:43:54.432738",
     "exception": false,
     "start_time": "2024-10-24T06:43:54.389538",
     "status": "completed"
    },
    "tags": []
   },
   "outputs": [],
   "source": [
    "save_images_with_labels(sagittal_img_test, sagittal_label_test, \"/kaggle/working/brain_tumor_object_detection_90_10_processImage/sagittal/test/images\")"
   ]
  },
  {
   "cell_type": "code",
   "execution_count": 41,
   "id": "65a7dbec",
   "metadata": {
    "execution": {
     "iopub.execute_input": "2024-10-24T06:43:54.470119Z",
     "iopub.status.busy": "2024-10-24T06:43:54.469786Z",
     "iopub.status.idle": "2024-10-24T06:43:54.476764Z",
     "shell.execute_reply": "2024-10-24T06:43:54.475886Z"
    },
    "papermill": {
     "duration": 0.027868,
     "end_time": "2024-10-24T06:43:54.478667",
     "exception": false,
     "start_time": "2024-10-24T06:43:54.450799",
     "status": "completed"
    },
    "tags": []
   },
   "outputs": [],
   "source": [
    "def save_labels(label_files_list, label_dir, save_dir):\n",
    "    # Tạo thư mục nếu chưa tồn tại\n",
    "    if not os.path.exists(save_dir):\n",
    "        os.makedirs(save_dir)\n",
    "    \n",
    "    # Lặp qua tất cả các file nhãn\n",
    "    for i, label_file in enumerate(label_files_list):\n",
    "        # Tạo đường dẫn đầy đủ cho file nhãn cũ\n",
    "        label_path = os.path.join(label_dir, label_file)\n",
    "        \n",
    "        # Kiểm tra nếu file nhãn tồn tại\n",
    "        if os.path.exists(label_path):\n",
    "            # Đọc nội dung nhãn\n",
    "            with open(label_path, 'r') as f:\n",
    "                label_data = f.read()\n",
    "            \n",
    "            # Tạo tên file mới để lưu nhãn\n",
    "            label_name = os.path.splitext(label_file)[0] + \".txt\"\n",
    "            save_path = os.path.join(save_dir, label_name)\n",
    "            \n",
    "            # Ghi nhãn vào file mới\n",
    "            with open(save_path, 'w') as f:\n",
    "                f.write(label_data)"
   ]
  },
  {
   "cell_type": "code",
   "execution_count": 42,
   "id": "c0364f00",
   "metadata": {
    "execution": {
     "iopub.execute_input": "2024-10-24T06:43:54.516044Z",
     "iopub.status.busy": "2024-10-24T06:43:54.515474Z",
     "iopub.status.idle": "2024-10-24T06:43:54.523103Z",
     "shell.execute_reply": "2024-10-24T06:43:54.522439Z"
    },
    "papermill": {
     "duration": 0.028218,
     "end_time": "2024-10-24T06:43:54.524957",
     "exception": false,
     "start_time": "2024-10-24T06:43:54.496739",
     "status": "completed"
    },
    "tags": []
   },
   "outputs": [],
   "source": [
    "label_dir = '/kaggle/working/brain_tumor_object_detection_split_90_10/axial/test/labels'  # Thư mục chứa file nhãn ban đầu\n",
    "save_dir = '/kaggle/working/brain_tumor_object_detection_90_10_processImage/axial/test/labels'  # Thư mục đích để lưu file nhãn\n",
    "save_labels(axial_label_test, label_dir, save_dir)"
   ]
  },
  {
   "cell_type": "code",
   "execution_count": 43,
   "id": "d15d8170",
   "metadata": {
    "execution": {
     "iopub.execute_input": "2024-10-24T06:43:54.561658Z",
     "iopub.status.busy": "2024-10-24T06:43:54.561398Z",
     "iopub.status.idle": "2024-10-24T06:43:54.569867Z",
     "shell.execute_reply": "2024-10-24T06:43:54.569198Z"
    },
    "papermill": {
     "duration": 0.028966,
     "end_time": "2024-10-24T06:43:54.571741",
     "exception": false,
     "start_time": "2024-10-24T06:43:54.542775",
     "status": "completed"
    },
    "tags": []
   },
   "outputs": [],
   "source": [
    "label_dir = '/kaggle/working/brain_tumor_object_detection_split_90_10/coronal/test/labels'  # Thư mục chứa file nhãn ban đầu\n",
    "save_dir = '/kaggle/working/brain_tumor_object_detection_90_10_processImage/coronal/test/labels'  # Thư mục đích để lưu file nhãn\n",
    "save_labels(coronal_label_test, label_dir, save_dir)"
   ]
  },
  {
   "cell_type": "code",
   "execution_count": 44,
   "id": "dddacd90",
   "metadata": {
    "execution": {
     "iopub.execute_input": "2024-10-24T06:43:54.608863Z",
     "iopub.status.busy": "2024-10-24T06:43:54.608319Z",
     "iopub.status.idle": "2024-10-24T06:43:54.615351Z",
     "shell.execute_reply": "2024-10-24T06:43:54.614688Z"
    },
    "papermill": {
     "duration": 0.027647,
     "end_time": "2024-10-24T06:43:54.617292",
     "exception": false,
     "start_time": "2024-10-24T06:43:54.589645",
     "status": "completed"
    },
    "tags": []
   },
   "outputs": [],
   "source": [
    "label_dir = '/kaggle/working/brain_tumor_object_detection_split_90_10/sagittal/test/labels'  # Thư mục chứa file nhãn ban đầu\n",
    "save_dir = '/kaggle/working/brain_tumor_object_detection_90_10_processImage/sagittal/test/labels'  # Thư mục đích để lưu file nhãn\n",
    "save_labels(sagittal_label_test, label_dir, save_dir)"
   ]
  },
  {
   "cell_type": "markdown",
   "id": "7d916afc",
   "metadata": {
    "papermill": {
     "duration": 0.017908,
     "end_time": "2024-10-24T06:43:54.652977",
     "exception": false,
     "start_time": "2024-10-24T06:43:54.635069",
     "status": "completed"
    },
    "tags": []
   },
   "source": [
    "## Train YOLO9 "
   ]
  },
  {
   "cell_type": "code",
   "execution_count": 45,
   "id": "7d828ee3",
   "metadata": {
    "_kg_hide-input": false,
    "_kg_hide-output": true,
    "collapsed": true,
    "execution": {
     "iopub.execute_input": "2024-10-24T06:43:54.690097Z",
     "iopub.status.busy": "2024-10-24T06:43:54.689543Z",
     "iopub.status.idle": "2024-10-24T06:44:25.716277Z",
     "shell.execute_reply": "2024-10-24T06:44:25.715285Z"
    },
    "jupyter": {
     "outputs_hidden": true
    },
    "papermill": {
     "duration": 31.047923,
     "end_time": "2024-10-24T06:44:25.718824",
     "exception": false,
     "start_time": "2024-10-24T06:43:54.670901",
     "status": "completed"
    },
    "tags": []
   },
   "outputs": [
    {
     "name": "stdout",
     "output_type": "stream",
     "text": [
      "Collecting git+https://github.com/ultralytics/ultralytics.git@main\r\n",
      "  Cloning https://github.com/ultralytics/ultralytics.git (to revision main) to /tmp/pip-req-build-7u2oebaw\r\n",
      "  Running command git clone --filter=blob:none --quiet https://github.com/ultralytics/ultralytics.git /tmp/pip-req-build-7u2oebaw\r\n",
      "  Resolved https://github.com/ultralytics/ultralytics.git to commit 8f0a94409fb2f6320b2d42db9feb4dea7ec40ac1\r\n",
      "  Installing build dependencies ... \u001b[?25l-\b \b\\\b \b|\b \b/\b \b-\b \bdone\r\n",
      "\u001b[?25h  Getting requirements to build wheel ... \u001b[?25l-\b \bdone\r\n",
      "\u001b[?25h  Preparing metadata (pyproject.toml) ... \u001b[?25l-\b \bdone\r\n",
      "\u001b[?25hRequirement already satisfied: numpy>=1.23.0 in /opt/conda/lib/python3.10/site-packages (from ultralytics==8.3.21) (1.26.4)\r\n",
      "Requirement already satisfied: matplotlib>=3.3.0 in /opt/conda/lib/python3.10/site-packages (from ultralytics==8.3.21) (3.7.5)\r\n",
      "Requirement already satisfied: opencv-python>=4.6.0 in /opt/conda/lib/python3.10/site-packages (from ultralytics==8.3.21) (4.10.0.84)\r\n",
      "Requirement already satisfied: pillow>=7.1.2 in /opt/conda/lib/python3.10/site-packages (from ultralytics==8.3.21) (10.3.0)\r\n",
      "Requirement already satisfied: pyyaml>=5.3.1 in /opt/conda/lib/python3.10/site-packages (from ultralytics==8.3.21) (6.0.2)\r\n",
      "Requirement already satisfied: requests>=2.23.0 in /opt/conda/lib/python3.10/site-packages (from ultralytics==8.3.21) (2.32.3)\r\n",
      "Requirement already satisfied: scipy>=1.4.1 in /opt/conda/lib/python3.10/site-packages (from ultralytics==8.3.21) (1.14.1)\r\n",
      "Requirement already satisfied: torch>=1.8.0 in /opt/conda/lib/python3.10/site-packages (from ultralytics==8.3.21) (2.4.0)\r\n",
      "Requirement already satisfied: torchvision>=0.9.0 in /opt/conda/lib/python3.10/site-packages (from ultralytics==8.3.21) (0.19.0)\r\n",
      "Requirement already satisfied: tqdm>=4.64.0 in /opt/conda/lib/python3.10/site-packages (from ultralytics==8.3.21) (4.66.4)\r\n",
      "Requirement already satisfied: psutil in /opt/conda/lib/python3.10/site-packages (from ultralytics==8.3.21) (5.9.3)\r\n",
      "Requirement already satisfied: py-cpuinfo in /opt/conda/lib/python3.10/site-packages (from ultralytics==8.3.21) (9.0.0)\r\n",
      "Requirement already satisfied: pandas>=1.1.4 in /opt/conda/lib/python3.10/site-packages (from ultralytics==8.3.21) (2.2.2)\r\n",
      "Requirement already satisfied: seaborn>=0.11.0 in /opt/conda/lib/python3.10/site-packages (from ultralytics==8.3.21) (0.12.2)\r\n",
      "Collecting ultralytics-thop>=2.0.0 (from ultralytics==8.3.21)\r\n",
      "  Downloading ultralytics_thop-2.0.9-py3-none-any.whl.metadata (9.3 kB)\r\n",
      "Requirement already satisfied: contourpy>=1.0.1 in /opt/conda/lib/python3.10/site-packages (from matplotlib>=3.3.0->ultralytics==8.3.21) (1.2.1)\r\n",
      "Requirement already satisfied: cycler>=0.10 in /opt/conda/lib/python3.10/site-packages (from matplotlib>=3.3.0->ultralytics==8.3.21) (0.12.1)\r\n",
      "Requirement already satisfied: fonttools>=4.22.0 in /opt/conda/lib/python3.10/site-packages (from matplotlib>=3.3.0->ultralytics==8.3.21) (4.53.0)\r\n",
      "Requirement already satisfied: kiwisolver>=1.0.1 in /opt/conda/lib/python3.10/site-packages (from matplotlib>=3.3.0->ultralytics==8.3.21) (1.4.5)\r\n",
      "Requirement already satisfied: packaging>=20.0 in /opt/conda/lib/python3.10/site-packages (from matplotlib>=3.3.0->ultralytics==8.3.21) (21.3)\r\n",
      "Requirement already satisfied: pyparsing>=2.3.1 in /opt/conda/lib/python3.10/site-packages (from matplotlib>=3.3.0->ultralytics==8.3.21) (3.1.2)\r\n",
      "Requirement already satisfied: python-dateutil>=2.7 in /opt/conda/lib/python3.10/site-packages (from matplotlib>=3.3.0->ultralytics==8.3.21) (2.9.0.post0)\r\n",
      "Requirement already satisfied: pytz>=2020.1 in /opt/conda/lib/python3.10/site-packages (from pandas>=1.1.4->ultralytics==8.3.21) (2024.1)\r\n",
      "Requirement already satisfied: tzdata>=2022.7 in /opt/conda/lib/python3.10/site-packages (from pandas>=1.1.4->ultralytics==8.3.21) (2024.1)\r\n",
      "Requirement already satisfied: charset-normalizer<4,>=2 in /opt/conda/lib/python3.10/site-packages (from requests>=2.23.0->ultralytics==8.3.21) (3.3.2)\r\n",
      "Requirement already satisfied: idna<4,>=2.5 in /opt/conda/lib/python3.10/site-packages (from requests>=2.23.0->ultralytics==8.3.21) (3.7)\r\n",
      "Requirement already satisfied: urllib3<3,>=1.21.1 in /opt/conda/lib/python3.10/site-packages (from requests>=2.23.0->ultralytics==8.3.21) (1.26.18)\r\n",
      "Requirement already satisfied: certifi>=2017.4.17 in /opt/conda/lib/python3.10/site-packages (from requests>=2.23.0->ultralytics==8.3.21) (2024.8.30)\r\n",
      "Requirement already satisfied: filelock in /opt/conda/lib/python3.10/site-packages (from torch>=1.8.0->ultralytics==8.3.21) (3.15.1)\r\n",
      "Requirement already satisfied: typing-extensions>=4.8.0 in /opt/conda/lib/python3.10/site-packages (from torch>=1.8.0->ultralytics==8.3.21) (4.12.2)\r\n",
      "Requirement already satisfied: sympy in /opt/conda/lib/python3.10/site-packages (from torch>=1.8.0->ultralytics==8.3.21) (1.13.3)\r\n",
      "Requirement already satisfied: networkx in /opt/conda/lib/python3.10/site-packages (from torch>=1.8.0->ultralytics==8.3.21) (3.3)\r\n",
      "Requirement already satisfied: jinja2 in /opt/conda/lib/python3.10/site-packages (from torch>=1.8.0->ultralytics==8.3.21) (3.1.4)\r\n",
      "Requirement already satisfied: fsspec in /opt/conda/lib/python3.10/site-packages (from torch>=1.8.0->ultralytics==8.3.21) (2024.6.1)\r\n",
      "Requirement already satisfied: six>=1.5 in /opt/conda/lib/python3.10/site-packages (from python-dateutil>=2.7->matplotlib>=3.3.0->ultralytics==8.3.21) (1.16.0)\r\n",
      "Requirement already satisfied: MarkupSafe>=2.0 in /opt/conda/lib/python3.10/site-packages (from jinja2->torch>=1.8.0->ultralytics==8.3.21) (2.1.5)\r\n",
      "Requirement already satisfied: mpmath<1.4,>=1.1.0 in /opt/conda/lib/python3.10/site-packages (from sympy->torch>=1.8.0->ultralytics==8.3.21) (1.3.0)\r\n",
      "Downloading ultralytics_thop-2.0.9-py3-none-any.whl (26 kB)\r\n",
      "Building wheels for collected packages: ultralytics\r\n",
      "  Building wheel for ultralytics (pyproject.toml) ... \u001b[?25l-\b \b\\\b \b|\b \b/\b \bdone\r\n",
      "\u001b[?25h  Created wheel for ultralytics: filename=ultralytics-8.3.21-py3-none-any.whl size=877097 sha256=e2c587c11d9f7171e5c796265b645dc43548a61e1e6708ccaa899ba9aa56f7f3\r\n",
      "  Stored in directory: /tmp/pip-ephem-wheel-cache-8qe4csav/wheels/60/db/e5/6abbdd13b4e3d5e2fdcd87690cd8738f842eeb37142fdccb5b\r\n",
      "Successfully built ultralytics\r\n",
      "Installing collected packages: ultralytics-thop, ultralytics\r\n",
      "Successfully installed ultralytics-8.3.21 ultralytics-thop-2.0.9\r\n"
     ]
    }
   ],
   "source": [
    "# Install the ultralytics package from GitHub\n",
    "!pip install git+https://github.com/ultralytics/ultralytics.git@main"
   ]
  },
  {
   "cell_type": "code",
   "execution_count": 46,
   "id": "c644bc51",
   "metadata": {
    "_kg_hide-output": true,
    "collapsed": true,
    "execution": {
     "iopub.execute_input": "2024-10-24T06:44:25.765467Z",
     "iopub.status.busy": "2024-10-24T06:44:25.765021Z",
     "iopub.status.idle": "2024-10-24T06:44:37.464822Z",
     "shell.execute_reply": "2024-10-24T06:44:37.463835Z"
    },
    "jupyter": {
     "outputs_hidden": true
    },
    "papermill": {
     "duration": 11.725866,
     "end_time": "2024-10-24T06:44:37.467086",
     "exception": false,
     "start_time": "2024-10-24T06:44:25.741220",
     "status": "completed"
    },
    "tags": []
   },
   "outputs": [
    {
     "name": "stdout",
     "output_type": "stream",
     "text": [
      "Requirement already satisfied: ultralytics in /opt/conda/lib/python3.10/site-packages (8.3.21)\r\n",
      "Requirement already satisfied: numpy>=1.23.0 in /opt/conda/lib/python3.10/site-packages (from ultralytics) (1.26.4)\r\n",
      "Requirement already satisfied: matplotlib>=3.3.0 in /opt/conda/lib/python3.10/site-packages (from ultralytics) (3.7.5)\r\n",
      "Requirement already satisfied: opencv-python>=4.6.0 in /opt/conda/lib/python3.10/site-packages (from ultralytics) (4.10.0.84)\r\n",
      "Requirement already satisfied: pillow>=7.1.2 in /opt/conda/lib/python3.10/site-packages (from ultralytics) (10.3.0)\r\n",
      "Requirement already satisfied: pyyaml>=5.3.1 in /opt/conda/lib/python3.10/site-packages (from ultralytics) (6.0.2)\r\n",
      "Requirement already satisfied: requests>=2.23.0 in /opt/conda/lib/python3.10/site-packages (from ultralytics) (2.32.3)\r\n",
      "Requirement already satisfied: scipy>=1.4.1 in /opt/conda/lib/python3.10/site-packages (from ultralytics) (1.14.1)\r\n",
      "Requirement already satisfied: torch>=1.8.0 in /opt/conda/lib/python3.10/site-packages (from ultralytics) (2.4.0)\r\n",
      "Requirement already satisfied: torchvision>=0.9.0 in /opt/conda/lib/python3.10/site-packages (from ultralytics) (0.19.0)\r\n",
      "Requirement already satisfied: tqdm>=4.64.0 in /opt/conda/lib/python3.10/site-packages (from ultralytics) (4.66.4)\r\n",
      "Requirement already satisfied: psutil in /opt/conda/lib/python3.10/site-packages (from ultralytics) (5.9.3)\r\n",
      "Requirement already satisfied: py-cpuinfo in /opt/conda/lib/python3.10/site-packages (from ultralytics) (9.0.0)\r\n",
      "Requirement already satisfied: pandas>=1.1.4 in /opt/conda/lib/python3.10/site-packages (from ultralytics) (2.2.2)\r\n",
      "Requirement already satisfied: seaborn>=0.11.0 in /opt/conda/lib/python3.10/site-packages (from ultralytics) (0.12.2)\r\n",
      "Requirement already satisfied: ultralytics-thop>=2.0.0 in /opt/conda/lib/python3.10/site-packages (from ultralytics) (2.0.9)\r\n",
      "Requirement already satisfied: contourpy>=1.0.1 in /opt/conda/lib/python3.10/site-packages (from matplotlib>=3.3.0->ultralytics) (1.2.1)\r\n",
      "Requirement already satisfied: cycler>=0.10 in /opt/conda/lib/python3.10/site-packages (from matplotlib>=3.3.0->ultralytics) (0.12.1)\r\n",
      "Requirement already satisfied: fonttools>=4.22.0 in /opt/conda/lib/python3.10/site-packages (from matplotlib>=3.3.0->ultralytics) (4.53.0)\r\n",
      "Requirement already satisfied: kiwisolver>=1.0.1 in /opt/conda/lib/python3.10/site-packages (from matplotlib>=3.3.0->ultralytics) (1.4.5)\r\n",
      "Requirement already satisfied: packaging>=20.0 in /opt/conda/lib/python3.10/site-packages (from matplotlib>=3.3.0->ultralytics) (21.3)\r\n",
      "Requirement already satisfied: pyparsing>=2.3.1 in /opt/conda/lib/python3.10/site-packages (from matplotlib>=3.3.0->ultralytics) (3.1.2)\r\n",
      "Requirement already satisfied: python-dateutil>=2.7 in /opt/conda/lib/python3.10/site-packages (from matplotlib>=3.3.0->ultralytics) (2.9.0.post0)\r\n",
      "Requirement already satisfied: pytz>=2020.1 in /opt/conda/lib/python3.10/site-packages (from pandas>=1.1.4->ultralytics) (2024.1)\r\n",
      "Requirement already satisfied: tzdata>=2022.7 in /opt/conda/lib/python3.10/site-packages (from pandas>=1.1.4->ultralytics) (2024.1)\r\n",
      "Requirement already satisfied: charset-normalizer<4,>=2 in /opt/conda/lib/python3.10/site-packages (from requests>=2.23.0->ultralytics) (3.3.2)\r\n",
      "Requirement already satisfied: idna<4,>=2.5 in /opt/conda/lib/python3.10/site-packages (from requests>=2.23.0->ultralytics) (3.7)\r\n",
      "Requirement already satisfied: urllib3<3,>=1.21.1 in /opt/conda/lib/python3.10/site-packages (from requests>=2.23.0->ultralytics) (1.26.18)\r\n",
      "Requirement already satisfied: certifi>=2017.4.17 in /opt/conda/lib/python3.10/site-packages (from requests>=2.23.0->ultralytics) (2024.8.30)\r\n",
      "Requirement already satisfied: filelock in /opt/conda/lib/python3.10/site-packages (from torch>=1.8.0->ultralytics) (3.15.1)\r\n",
      "Requirement already satisfied: typing-extensions>=4.8.0 in /opt/conda/lib/python3.10/site-packages (from torch>=1.8.0->ultralytics) (4.12.2)\r\n",
      "Requirement already satisfied: sympy in /opt/conda/lib/python3.10/site-packages (from torch>=1.8.0->ultralytics) (1.13.3)\r\n",
      "Requirement already satisfied: networkx in /opt/conda/lib/python3.10/site-packages (from torch>=1.8.0->ultralytics) (3.3)\r\n",
      "Requirement already satisfied: jinja2 in /opt/conda/lib/python3.10/site-packages (from torch>=1.8.0->ultralytics) (3.1.4)\r\n",
      "Requirement already satisfied: fsspec in /opt/conda/lib/python3.10/site-packages (from torch>=1.8.0->ultralytics) (2024.6.1)\r\n",
      "Requirement already satisfied: six>=1.5 in /opt/conda/lib/python3.10/site-packages (from python-dateutil>=2.7->matplotlib>=3.3.0->ultralytics) (1.16.0)\r\n",
      "Requirement already satisfied: MarkupSafe>=2.0 in /opt/conda/lib/python3.10/site-packages (from jinja2->torch>=1.8.0->ultralytics) (2.1.5)\r\n",
      "Requirement already satisfied: mpmath<1.4,>=1.1.0 in /opt/conda/lib/python3.10/site-packages (from sympy->torch>=1.8.0->ultralytics) (1.3.0)\r\n"
     ]
    }
   ],
   "source": [
    "!pip install ultralytics"
   ]
  },
  {
   "cell_type": "code",
   "execution_count": 47,
   "id": "54d1a923",
   "metadata": {
    "execution": {
     "iopub.execute_input": "2024-10-24T06:44:37.512055Z",
     "iopub.status.busy": "2024-10-24T06:44:37.511227Z",
     "iopub.status.idle": "2024-10-24T06:44:46.269204Z",
     "shell.execute_reply": "2024-10-24T06:44:46.268388Z"
    },
    "papermill": {
     "duration": 8.782697,
     "end_time": "2024-10-24T06:44:46.271639",
     "exception": false,
     "start_time": "2024-10-24T06:44:37.488942",
     "status": "completed"
    },
    "tags": []
   },
   "outputs": [
    {
     "name": "stdout",
     "output_type": "stream",
     "text": [
      "Creating new Ultralytics Settings v0.0.6 file ✅ \n",
      "View Ultralytics Settings with 'yolo settings' or at '/root/.config/Ultralytics/settings.json'\n",
      "Update Settings with 'yolo settings key=value', i.e. 'yolo settings runs_dir=path/to/dir'. For help see https://docs.ultralytics.com/quickstart/#ultralytics-settings.\n"
     ]
    }
   ],
   "source": [
    "import ultralytics\n",
    "from ultralytics import YOLO\n",
    "import wandb"
   ]
  },
  {
   "cell_type": "code",
   "execution_count": 48,
   "id": "9121de46",
   "metadata": {
    "execution": {
     "iopub.execute_input": "2024-10-24T06:44:46.370233Z",
     "iopub.status.busy": "2024-10-24T06:44:46.369811Z",
     "iopub.status.idle": "2024-10-24T06:44:46.375397Z",
     "shell.execute_reply": "2024-10-24T06:44:46.374564Z"
    },
    "papermill": {
     "duration": 0.08346,
     "end_time": "2024-10-24T06:44:46.377603",
     "exception": false,
     "start_time": "2024-10-24T06:44:46.294143",
     "status": "completed"
    },
    "tags": []
   },
   "outputs": [],
   "source": [
    "text = \"\"\"\n",
    "path: /kaggle/working/brain_tumor_object_detection_90_10_processImage\n",
    "train:\n",
    "  - axial/train\n",
    "  - coronal/train\n",
    "  - sagittal/train\n",
    "val:\n",
    "  - axial/val\n",
    "  - coronal/val\n",
    "  - sagittal/val\n",
    "\n",
    "# Classes\n",
    "nc: 6\n",
    "names:\n",
    "  0: 'axial_negative'\n",
    "  1: 'axial_positive'\n",
    "  2: 'coronal_negative'\n",
    "  3: 'coronal_positive'\n",
    "  4: 'sagittal_negative'\n",
    "  5: 'sagittal_positive'\n",
    "\"\"\"\n",
    "with open(\"/kaggle/working/brain_tumor_object_detection_90_10_processImage/data.yaml\", 'w') as file:\n",
    "    file.write(text)"
   ]
  },
  {
   "cell_type": "code",
   "execution_count": 49,
   "id": "c51aa863",
   "metadata": {
    "execution": {
     "iopub.execute_input": "2024-10-24T06:44:46.424923Z",
     "iopub.status.busy": "2024-10-24T06:44:46.424486Z",
     "iopub.status.idle": "2024-10-24T06:44:47.453140Z",
     "shell.execute_reply": "2024-10-24T06:44:47.452298Z"
    },
    "papermill": {
     "duration": 1.055525,
     "end_time": "2024-10-24T06:44:47.455565",
     "exception": false,
     "start_time": "2024-10-24T06:44:46.400040",
     "status": "completed"
    },
    "tags": []
   },
   "outputs": [
    {
     "name": "stdout",
     "output_type": "stream",
     "text": [
      "Downloading https://github.com/ultralytics/assets/releases/download/v8.3.0/yolov9c.pt to 'yolov9c.pt'...\n"
     ]
    },
    {
     "name": "stderr",
     "output_type": "stream",
     "text": [
      "100%|██████████| 49.4M/49.4M [00:00<00:00, 209MB/s]\n"
     ]
    }
   ],
   "source": [
    "# Build a YOLOv9c model from pretrained weight\n",
    "model = YOLO(\"yolov9c.pt\")"
   ]
  },
  {
   "cell_type": "code",
   "execution_count": 50,
   "id": "2f3ca5ee",
   "metadata": {
    "execution": {
     "iopub.execute_input": "2024-10-24T06:44:47.500795Z",
     "iopub.status.busy": "2024-10-24T06:44:47.500455Z",
     "iopub.status.idle": "2024-10-24T06:44:48.096523Z",
     "shell.execute_reply": "2024-10-24T06:44:48.095541Z"
    },
    "papermill": {
     "duration": 0.620344,
     "end_time": "2024-10-24T06:44:48.098448",
     "exception": false,
     "start_time": "2024-10-24T06:44:47.478104",
     "status": "completed"
    },
    "tags": []
   },
   "outputs": [
    {
     "name": "stdout",
     "output_type": "stream",
     "text": [
      "YOLOv9c summary: 618 layers, 25,590,912 parameters, 0 gradients, 104.0 GFLOPs\n"
     ]
    },
    {
     "data": {
      "text/plain": [
       "(618, 25590912, 0, 104.02268160000003)"
      ]
     },
     "execution_count": 50,
     "metadata": {},
     "output_type": "execute_result"
    }
   ],
   "source": [
    "# Display model information (optional)\n",
    "model.info()"
   ]
  },
  {
   "cell_type": "code",
   "execution_count": 51,
   "id": "539756f1",
   "metadata": {
    "execution": {
     "iopub.execute_input": "2024-10-24T06:44:48.150474Z",
     "iopub.status.busy": "2024-10-24T06:44:48.149467Z",
     "iopub.status.idle": "2024-10-24T06:44:48.779732Z",
     "shell.execute_reply": "2024-10-24T06:44:48.778886Z"
    },
    "papermill": {
     "duration": 0.660836,
     "end_time": "2024-10-24T06:44:48.781607",
     "exception": false,
     "start_time": "2024-10-24T06:44:48.120771",
     "status": "completed"
    },
    "tags": []
   },
   "outputs": [
    {
     "name": "stderr",
     "output_type": "stream",
     "text": [
      "\u001b[34m\u001b[1mwandb\u001b[0m: Using wandb-core as the SDK backend. Please refer to https://wandb.me/wandb-core for more information.\n",
      "\u001b[34m\u001b[1mwandb\u001b[0m: W&B API key is configured. Use \u001b[1m`wandb login --relogin`\u001b[0m to force relogin\n",
      "\u001b[34m\u001b[1mwandb\u001b[0m: \u001b[33mWARNING\u001b[0m If you're specifying your api key in code, ensure this code is not shared publicly.\n",
      "\u001b[34m\u001b[1mwandb\u001b[0m: \u001b[33mWARNING\u001b[0m Consider setting the WANDB_API_KEY environment variable, or running `wandb login` from the command line.\n",
      "\u001b[34m\u001b[1mwandb\u001b[0m: Appending key for api.wandb.ai to your netrc file: /root/.netrc\n"
     ]
    },
    {
     "data": {
      "text/plain": [
       "True"
      ]
     },
     "execution_count": 51,
     "metadata": {},
     "output_type": "execute_result"
    }
   ],
   "source": [
    "wandb.login(key='c74855400c44bcf22055bb3395f3fb76e8f9066e')"
   ]
  },
  {
   "cell_type": "code",
   "execution_count": 52,
   "id": "ca8d9386",
   "metadata": {
    "_kg_hide-output": true,
    "execution": {
     "iopub.execute_input": "2024-10-24T06:44:48.827973Z",
     "iopub.status.busy": "2024-10-24T06:44:48.827620Z",
     "iopub.status.idle": "2024-10-24T14:25:35.776443Z",
     "shell.execute_reply": "2024-10-24T14:25:35.775576Z"
    },
    "papermill": {
     "duration": 27646.974257,
     "end_time": "2024-10-24T14:25:35.778908",
     "exception": false,
     "start_time": "2024-10-24T06:44:48.804651",
     "status": "completed"
    },
    "tags": []
   },
   "outputs": [
    {
     "name": "stdout",
     "output_type": "stream",
     "text": [
      "Ultralytics 8.3.21 🚀 Python-3.10.14 torch-2.4.0 CUDA:0 (Tesla T4, 15095MiB)\n",
      "                                                 CUDA:1 (Tesla T4, 15095MiB)\n",
      "\u001b[34m\u001b[1mengine/trainer: \u001b[0mtask=detect, mode=train, model=yolov9c.pt, data=/kaggle/working/brain_tumor_object_detection_90_10_processImage/data.yaml, epochs=600, time=None, patience=100, batch=32, imgsz=640, save=True, save_period=-1, cache=False, device=[0, 1], workers=8, project=Trained_model_YOLOv9_600Epochs, name=train, exist_ok=False, pretrained=True, optimizer=auto, verbose=True, seed=0, deterministic=True, single_cls=False, rect=False, cos_lr=False, close_mosaic=10, resume=False, amp=True, fraction=1.0, profile=False, freeze=None, multi_scale=False, overlap_mask=True, mask_ratio=4, dropout=0.0, val=True, split=val, save_json=False, save_hybrid=False, conf=None, iou=0.7, max_det=300, half=False, dnn=False, plots=True, source=None, vid_stride=1, stream_buffer=False, visualize=False, augment=False, agnostic_nms=False, classes=None, retina_masks=False, embed=None, show=False, save_frames=False, save_txt=False, save_conf=False, save_crop=False, show_labels=True, show_conf=True, show_boxes=True, line_width=None, format=torchscript, keras=False, optimize=False, int8=False, dynamic=False, simplify=True, opset=None, workspace=4, nms=False, lr0=0.01, lrf=0.01, momentum=0.937, weight_decay=0.0005, warmup_epochs=3.0, warmup_momentum=0.8, warmup_bias_lr=0.1, box=7.5, cls=0.5, dfl=1.5, pose=12.0, kobj=1.0, label_smoothing=0.0, nbs=64, hsv_h=0.015, hsv_s=0.7, hsv_v=0.4, degrees=0.0, translate=0.1, scale=0.5, shear=0.0, perspective=0.0, flipud=0.0, fliplr=0.5, bgr=0.0, mosaic=1.0, mixup=0.0, copy_paste=0.0, copy_paste_mode=flip, auto_augment=randaugment, erasing=0.4, crop_fraction=1.0, cfg=None, tracker=botsort.yaml, save_dir=Trained_model_YOLOv9_600Epochs/train\n",
      "Downloading https://ultralytics.com/assets/Arial.ttf to '/root/.config/Ultralytics/Arial.ttf'...\n"
     ]
    },
    {
     "name": "stderr",
     "output_type": "stream",
     "text": [
      "100%|██████████| 755k/755k [00:00<00:00, 13.4MB/s]\n",
      "2024-10-24 06:44:51,117\tINFO util.py:124 -- Outdated packages:\n",
      "  ipywidgets==7.7.1 found, needs ipywidgets>=8\n",
      "Run `pip install -U ipywidgets`, then restart the notebook server for rich notebook output.\n",
      "2024-10-24 06:44:51,806\tINFO util.py:124 -- Outdated packages:\n",
      "  ipywidgets==7.7.1 found, needs ipywidgets>=8\n",
      "Run `pip install -U ipywidgets`, then restart the notebook server for rich notebook output.\n"
     ]
    },
    {
     "name": "stdout",
     "output_type": "stream",
     "text": [
      "Overriding model.yaml nc=80 with nc=6\n",
      "\n",
      "                   from  n    params  module                                       arguments                     \n",
      "  0                  -1  1      1856  ultralytics.nn.modules.conv.Conv             [3, 64, 3, 2]                 \n",
      "  1                  -1  1     73984  ultralytics.nn.modules.conv.Conv             [64, 128, 3, 2]               \n",
      "  2                  -1  1    212864  ultralytics.nn.modules.block.RepNCSPELAN4    [128, 256, 128, 64, 1]        \n",
      "  3                  -1  1    164352  ultralytics.nn.modules.block.ADown           [256, 256]                    \n",
      "  4                  -1  1    847616  ultralytics.nn.modules.block.RepNCSPELAN4    [256, 512, 256, 128, 1]       \n",
      "  5                  -1  1    656384  ultralytics.nn.modules.block.ADown           [512, 512]                    \n",
      "  6                  -1  1   2857472  ultralytics.nn.modules.block.RepNCSPELAN4    [512, 512, 512, 256, 1]       \n",
      "  7                  -1  1    656384  ultralytics.nn.modules.block.ADown           [512, 512]                    \n",
      "  8                  -1  1   2857472  ultralytics.nn.modules.block.RepNCSPELAN4    [512, 512, 512, 256, 1]       \n",
      "  9                  -1  1    656896  ultralytics.nn.modules.block.SPPELAN         [512, 512, 256]               \n",
      " 10                  -1  1         0  torch.nn.modules.upsampling.Upsample         [None, 2, 'nearest']          \n",
      " 11             [-1, 6]  1         0  ultralytics.nn.modules.conv.Concat           [1]                           \n",
      " 12                  -1  1   3119616  ultralytics.nn.modules.block.RepNCSPELAN4    [1024, 512, 512, 256, 1]      \n",
      " 13                  -1  1         0  torch.nn.modules.upsampling.Upsample         [None, 2, 'nearest']          \n",
      " 14             [-1, 4]  1         0  ultralytics.nn.modules.conv.Concat           [1]                           \n",
      " 15                  -1  1    912640  ultralytics.nn.modules.block.RepNCSPELAN4    [1024, 256, 256, 128, 1]      \n",
      " 16                  -1  1    164352  ultralytics.nn.modules.block.ADown           [256, 256]                    \n",
      " 17            [-1, 12]  1         0  ultralytics.nn.modules.conv.Concat           [1]                           \n",
      " 18                  -1  1   2988544  ultralytics.nn.modules.block.RepNCSPELAN4    [768, 512, 512, 256, 1]       \n",
      " 19                  -1  1    656384  ultralytics.nn.modules.block.ADown           [512, 512]                    \n",
      " 20             [-1, 9]  1         0  ultralytics.nn.modules.conv.Concat           [1]                           \n",
      " 21                  -1  1   3119616  ultralytics.nn.modules.block.RepNCSPELAN4    [1024, 512, 512, 256, 1]      \n",
      " 22        [15, 18, 21]  1   5587426  ultralytics.nn.modules.head.Detect           [6, [256, 512, 512]]          \n",
      "YOLOv9c summary: 618 layers, 25,533,858 parameters, 25,533,842 gradients, 103.7 GFLOPs\n",
      "\n",
      "Transferred 931/937 items from pretrained weights\n",
      "\u001b[34m\u001b[1mDDP:\u001b[0m debug command /opt/conda/bin/python -m torch.distributed.run --nproc_per_node 2 --master_port 48809 /root/.config/Ultralytics/DDP/_temp_1k9d1ogw132223843712448.py\n",
      "Ultralytics 8.3.21 🚀 Python-3.10.14 torch-2.4.0 CUDA:0 (Tesla T4, 15095MiB)\n",
      "                                                 CUDA:1 (Tesla T4, 15095MiB)\n",
      "\u001b[34m\u001b[1mTensorBoard: \u001b[0mStart with 'tensorboard --logdir Trained_model_YOLOv9_600Epochs/train', view at http://localhost:6006/\n"
     ]
    },
    {
     "name": "stderr",
     "output_type": "stream",
     "text": [
      "wandb: Currently logged in as: nguyenthituyetlan122004 (nguyenthituyetlan122004-tr-ng-h-c). Use `wandb login --relogin` to force relogin\n",
      "wandb: Tracking run with wandb version 0.18.3\n",
      "wandb: Run data is saved locally in /kaggle/working/wandb/run-20241024_064521-jw67k4sc\n",
      "wandb: Run `wandb offline` to turn off syncing.\n",
      "wandb: Syncing run train\n",
      "wandb: ⭐️ View project at https://wandb.ai/nguyenthituyetlan122004-tr-ng-h-c/Trained_model_YOLOv9_600Epochs\n",
      "wandb: 🚀 View run at https://wandb.ai/nguyenthituyetlan122004-tr-ng-h-c/Trained_model_YOLOv9_600Epochs/runs/jw67k4sc\n"
     ]
    },
    {
     "name": "stdout",
     "output_type": "stream",
     "text": [
      "Overriding model.yaml nc=80 with nc=6\n",
      "Transferred 931/937 items from pretrained weights\n",
      "Freezing layer 'model.22.dfl.conv.weight'\n",
      "\u001b[34m\u001b[1mAMP: \u001b[0mrunning Automatic Mixed Precision (AMP) checks...\n",
      "Downloading https://github.com/ultralytics/assets/releases/download/v8.3.0/yolo11n.pt to 'yolo11n.pt'...\n"
     ]
    },
    {
     "name": "stderr",
     "output_type": "stream",
     "text": [
      "100%|██████████| 5.35M/5.35M [00:00<00:00, 58.3MB/s]\n"
     ]
    },
    {
     "name": "stdout",
     "output_type": "stream",
     "text": [
      "\u001b[34m\u001b[1mAMP: \u001b[0mchecks passed ✅\n"
     ]
    },
    {
     "name": "stderr",
     "output_type": "stream",
     "text": [
      "\u001b[34m\u001b[1mtrain: \u001b[0mScanning /kaggle/working/brain_tumor_object_detection_90_10_processImage/axial/train/labels... 1581 images, 0 backgrounds, 0 corrupt: 100%|██████████| 1581/1581 [00:01<00:00, 1067.85it/s]\n"
     ]
    },
    {
     "name": "stdout",
     "output_type": "stream",
     "text": [
      "\u001b[34m\u001b[1mtrain: \u001b[0mNew cache created: /kaggle/working/brain_tumor_object_detection_90_10_processImage/axial/train/labels.cache\n"
     ]
    },
    {
     "name": "stderr",
     "output_type": "stream",
     "text": [
      "/opt/conda/lib/python3.10/site-packages/albumentations/__init__.py:13: UserWarning: A new version of Albumentations is available: 1.4.19 (you have 1.4.17). Upgrade using: pip install -U albumentations. To disable automatic update checks, set the environment variable NO_ALBUMENTATIONS_UPDATE to 1.\n",
      "  check_for_updates()\n",
      "/opt/conda/lib/python3.10/multiprocessing/popen_fork.py:66: RuntimeWarning: os.fork() was called. os.fork() is incompatible with multithreaded code, and JAX is multithreaded, so this will likely lead to a deadlock.\n",
      "  self.pid = os.fork()\n",
      "\u001b[34m\u001b[1mval: \u001b[0mScanning /kaggle/working/brain_tumor_object_detection_90_10_processImage/axial/val/labels...:   0%|          | 0/397 [00:00<?, ?it/s]"
     ]
    },
    {
     "name": "stdout",
     "output_type": "stream",
     "text": [
      "\u001b[34m\u001b[1malbumentations: \u001b[0mBlur(p=0.01, blur_limit=(3, 7)), MedianBlur(p=0.01, blur_limit=(3, 7)), ToGray(p=0.01, num_output_channels=3, method='weighted_average'), CLAHE(p=0.01, clip_limit=(1, 4.0), tile_grid_size=(8, 8))\n"
     ]
    },
    {
     "name": "stderr",
     "output_type": "stream",
     "text": [
      "\u001b[34m\u001b[1mval: \u001b[0mScanning /kaggle/working/brain_tumor_object_detection_90_10_processImage/axial/val/labels... 397 images, 0 backgrounds, 0 corrupt: 100%|██████████| 397/397 [00:00<00:00, 1314.26it/s]\n"
     ]
    },
    {
     "name": "stdout",
     "output_type": "stream",
     "text": [
      "\u001b[34m\u001b[1mval: \u001b[0mNew cache created: /kaggle/working/brain_tumor_object_detection_90_10_processImage/axial/val/labels.cache\n"
     ]
    },
    {
     "name": "stderr",
     "output_type": "stream",
     "text": [
      "/opt/conda/lib/python3.10/site-packages/albumentations/__init__.py:13: UserWarning: A new version of Albumentations is available: 1.4.19 (you have 1.4.17). Upgrade using: pip install -U albumentations. To disable automatic update checks, set the environment variable NO_ALBUMENTATIONS_UPDATE to 1.\n",
      "  check_for_updates()\n"
     ]
    },
    {
     "name": "stdout",
     "output_type": "stream",
     "text": [
      "Plotting labels to Trained_model_YOLOv9_600Epochs/train/labels.jpg... \n",
      "\u001b[34m\u001b[1moptimizer:\u001b[0m 'optimizer=auto' found, ignoring 'lr0=0.01' and 'momentum=0.937' and determining best 'optimizer', 'lr0' and 'momentum' automatically... \n",
      "\u001b[34m\u001b[1moptimizer:\u001b[0m SGD(lr=0.01, momentum=0.9) with parameter groups 154 weight(decay=0.0), 161 weight(decay=0.0005), 160 bias(decay=0.0)\n",
      "\u001b[34m\u001b[1mTensorBoard: \u001b[0mmodel graph visualization added ✅\n",
      "Image sizes 640 train, 640 val\n",
      "Using 4 dataloader workers\n",
      "Logging results to \u001b[1mTrained_model_YOLOv9_600Epochs/train\u001b[0m\n",
      "Starting training for 600 epochs...\n",
      "\n",
      "      Epoch    GPU_mem   box_loss   cls_loss   dfl_loss  Instances       Size\n"
     ]
    },
    {
     "name": "stderr",
     "output_type": "stream",
     "text": [
      "      1/600      11.2G      1.387      4.524      1.538         11        640: 100%|██████████| 50/50 [00:41<00:00,  1.19it/s]\n",
      "                 Class     Images  Instances      Box(P          R      mAP50  mAP50-95): 100%|██████████| 13/13 [00:08<00:00,  1.60it/s]\n"
     ]
    },
    {
     "name": "stdout",
     "output_type": "stream",
     "text": [
      "                   all        397        417      0.176      0.324      0.166      0.116\n",
      "\n",
      "      Epoch    GPU_mem   box_loss   cls_loss   dfl_loss  Instances       Size\n"
     ]
    },
    {
     "name": "stderr",
     "output_type": "stream",
     "text": [
      "      2/600        11G      1.111      2.317      1.228         17        640: 100%|██████████| 50/50 [00:39<00:00,  1.26it/s]\n",
      "                 Class     Images  Instances      Box(P          R      mAP50  mAP50-95): 100%|██████████| 13/13 [00:06<00:00,  1.89it/s]\n"
     ]
    },
    {
     "name": "stdout",
     "output_type": "stream",
     "text": [
      "                   all        397        417      0.249      0.729      0.322      0.228\n",
      "\n",
      "      Epoch    GPU_mem   box_loss   cls_loss   dfl_loss  Instances       Size\n"
     ]
    },
    {
     "name": "stderr",
     "output_type": "stream",
     "text": [
      "      3/600      11.1G       1.16      1.975      1.235          8        640: 100%|██████████| 50/50 [00:39<00:00,  1.26it/s]\n",
      "                 Class     Images  Instances      Box(P          R      mAP50  mAP50-95): 100%|██████████| 13/13 [00:06<00:00,  1.87it/s]\n"
     ]
    },
    {
     "name": "stdout",
     "output_type": "stream",
     "text": [
      "                   all        397        417      0.281       0.44       0.23      0.138\n",
      "\n",
      "      Epoch    GPU_mem   box_loss   cls_loss   dfl_loss  Instances       Size\n"
     ]
    },
    {
     "name": "stderr",
     "output_type": "stream",
     "text": [
      "      4/600      11.1G      1.258      1.903      1.305         13        640: 100%|██████████| 50/50 [00:40<00:00,  1.25it/s]\n",
      "                 Class     Images  Instances      Box(P          R      mAP50  mAP50-95): 100%|██████████| 13/13 [00:07<00:00,  1.84it/s]\n"
     ]
    },
    {
     "name": "stdout",
     "output_type": "stream",
     "text": [
      "                   all        397        417     0.0992      0.264     0.0569       0.03\n",
      "\n",
      "      Epoch    GPU_mem   box_loss   cls_loss   dfl_loss  Instances       Size\n"
     ]
    },
    {
     "name": "stderr",
     "output_type": "stream",
     "text": [
      "      5/600      11.1G      1.249       1.75      1.278          7        640: 100%|██████████| 50/50 [00:40<00:00,  1.24it/s]\n",
      "                 Class     Images  Instances      Box(P          R      mAP50  mAP50-95): 100%|██████████| 13/13 [00:07<00:00,  1.80it/s]\n"
     ]
    },
    {
     "name": "stdout",
     "output_type": "stream",
     "text": [
      "                   all        397        417      0.264      0.342       0.19      0.105\n",
      "\n",
      "      Epoch    GPU_mem   box_loss   cls_loss   dfl_loss  Instances       Size\n"
     ]
    },
    {
     "name": "stderr",
     "output_type": "stream",
     "text": [
      "      6/600      11.1G        1.2      1.673      1.264         10        640: 100%|██████████| 50/50 [00:40<00:00,  1.24it/s]\n",
      "                 Class     Images  Instances      Box(P          R      mAP50  mAP50-95): 100%|██████████| 13/13 [00:07<00:00,  1.83it/s]\n"
     ]
    },
    {
     "name": "stdout",
     "output_type": "stream",
     "text": [
      "                   all        397        417      0.273      0.426      0.257      0.158\n",
      "\n",
      "      Epoch    GPU_mem   box_loss   cls_loss   dfl_loss  Instances       Size\n"
     ]
    },
    {
     "name": "stderr",
     "output_type": "stream",
     "text": [
      "      7/600      11.1G       1.22      1.594      1.279          9        640: 100%|██████████| 50/50 [00:40<00:00,  1.23it/s]\n",
      "                 Class     Images  Instances      Box(P          R      mAP50  mAP50-95): 100%|██████████| 13/13 [00:07<00:00,  1.83it/s]\n"
     ]
    },
    {
     "name": "stdout",
     "output_type": "stream",
     "text": [
      "                   all        397        417      0.343      0.528      0.391      0.257\n",
      "\n",
      "      Epoch    GPU_mem   box_loss   cls_loss   dfl_loss  Instances       Size\n"
     ]
    },
    {
     "name": "stderr",
     "output_type": "stream",
     "text": [
      "      8/600      11.1G      1.213      1.497      1.254         16        640: 100%|██████████| 50/50 [00:40<00:00,  1.23it/s]\n",
      "                 Class     Images  Instances      Box(P          R      mAP50  mAP50-95): 100%|██████████| 13/13 [00:07<00:00,  1.84it/s]\n"
     ]
    },
    {
     "name": "stdout",
     "output_type": "stream",
     "text": [
      "                   all        397        417      0.266      0.415      0.236      0.144\n",
      "\n",
      "      Epoch    GPU_mem   box_loss   cls_loss   dfl_loss  Instances       Size\n"
     ]
    },
    {
     "name": "stderr",
     "output_type": "stream",
     "text": [
      "      9/600      11.1G      1.188      1.496       1.26         21        640: 100%|██████████| 50/50 [00:40<00:00,  1.24it/s]\n",
      "                 Class     Images  Instances      Box(P          R      mAP50  mAP50-95): 100%|██████████| 13/13 [00:07<00:00,  1.83it/s]\n"
     ]
    },
    {
     "name": "stdout",
     "output_type": "stream",
     "text": [
      "                   all        397        417      0.209      0.292      0.129      0.083\n",
      "\n",
      "      Epoch    GPU_mem   box_loss   cls_loss   dfl_loss  Instances       Size\n"
     ]
    },
    {
     "name": "stderr",
     "output_type": "stream",
     "text": [
      "     10/600      11.1G      1.112      1.422      1.227         13        640: 100%|██████████| 50/50 [00:40<00:00,  1.24it/s]\n",
      "                 Class     Images  Instances      Box(P          R      mAP50  mAP50-95): 100%|██████████| 13/13 [00:07<00:00,  1.84it/s]\n"
     ]
    },
    {
     "name": "stdout",
     "output_type": "stream",
     "text": [
      "                   all        397        417      0.369      0.604      0.435      0.287\n",
      "\n",
      "      Epoch    GPU_mem   box_loss   cls_loss   dfl_loss  Instances       Size\n"
     ]
    },
    {
     "name": "stderr",
     "output_type": "stream",
     "text": [
      "     11/600      11.1G      1.144      1.398      1.228         20        640: 100%|██████████| 50/50 [00:40<00:00,  1.23it/s]\n",
      "                 Class     Images  Instances      Box(P          R      mAP50  mAP50-95): 100%|██████████| 13/13 [00:07<00:00,  1.84it/s]\n"
     ]
    },
    {
     "name": "stdout",
     "output_type": "stream",
     "text": [
      "                   all        397        417       0.42      0.661      0.485      0.331\n",
      "\n",
      "      Epoch    GPU_mem   box_loss   cls_loss   dfl_loss  Instances       Size\n"
     ]
    },
    {
     "name": "stderr",
     "output_type": "stream",
     "text": [
      "     12/600      11.1G      1.155      1.367      1.244         15        640: 100%|██████████| 50/50 [00:40<00:00,  1.24it/s]\n",
      "                 Class     Images  Instances      Box(P          R      mAP50  mAP50-95): 100%|██████████| 13/13 [00:07<00:00,  1.84it/s]\n"
     ]
    },
    {
     "name": "stdout",
     "output_type": "stream",
     "text": [
      "                   all        397        417      0.419      0.639      0.497      0.341\n",
      "\n",
      "      Epoch    GPU_mem   box_loss   cls_loss   dfl_loss  Instances       Size\n"
     ]
    },
    {
     "name": "stderr",
     "output_type": "stream",
     "text": [
      "     13/600      11.1G      1.105      1.351      1.222         11        640: 100%|██████████| 50/50 [00:40<00:00,  1.24it/s]\n",
      "                 Class     Images  Instances      Box(P          R      mAP50  mAP50-95): 100%|██████████| 13/13 [00:07<00:00,  1.84it/s]\n"
     ]
    },
    {
     "name": "stdout",
     "output_type": "stream",
     "text": [
      "                   all        397        417      0.422      0.764      0.557      0.396\n",
      "\n",
      "      Epoch    GPU_mem   box_loss   cls_loss   dfl_loss  Instances       Size\n"
     ]
    },
    {
     "name": "stderr",
     "output_type": "stream",
     "text": [
      "     14/600      11.1G        1.1      1.341      1.208         16        640: 100%|██████████| 50/50 [00:40<00:00,  1.24it/s]\n",
      "                 Class     Images  Instances      Box(P          R      mAP50  mAP50-95): 100%|██████████| 13/13 [00:07<00:00,  1.84it/s]\n"
     ]
    },
    {
     "name": "stdout",
     "output_type": "stream",
     "text": [
      "                   all        397        417      0.427        0.6      0.515      0.343\n",
      "\n",
      "      Epoch    GPU_mem   box_loss   cls_loss   dfl_loss  Instances       Size\n"
     ]
    },
    {
     "name": "stderr",
     "output_type": "stream",
     "text": [
      "     15/600        11G      1.104        1.3      1.224         10        640: 100%|██████████| 50/50 [00:40<00:00,  1.24it/s]\n",
      "                 Class     Images  Instances      Box(P          R      mAP50  mAP50-95): 100%|██████████| 13/13 [00:07<00:00,  1.84it/s]\n"
     ]
    },
    {
     "name": "stdout",
     "output_type": "stream",
     "text": [
      "                   all        397        417      0.469      0.646      0.551      0.377\n",
      "\n",
      "      Epoch    GPU_mem   box_loss   cls_loss   dfl_loss  Instances       Size\n"
     ]
    },
    {
     "name": "stderr",
     "output_type": "stream",
     "text": [
      "     16/600      11.1G      1.046      1.235      1.193         12        640: 100%|██████████| 50/50 [00:40<00:00,  1.24it/s]\n",
      "                 Class     Images  Instances      Box(P          R      mAP50  mAP50-95): 100%|██████████| 13/13 [00:07<00:00,  1.84it/s]\n"
     ]
    },
    {
     "name": "stdout",
     "output_type": "stream",
     "text": [
      "                   all        397        417      0.463      0.607      0.538      0.383\n",
      "\n",
      "      Epoch    GPU_mem   box_loss   cls_loss   dfl_loss  Instances       Size\n"
     ]
    },
    {
     "name": "stderr",
     "output_type": "stream",
     "text": [
      "     17/600      11.1G      1.077      1.237      1.188         12        640: 100%|██████████| 50/50 [00:40<00:00,  1.24it/s]\n",
      "                 Class     Images  Instances      Box(P          R      mAP50  mAP50-95): 100%|██████████| 13/13 [00:07<00:00,  1.83it/s]\n"
     ]
    },
    {
     "name": "stdout",
     "output_type": "stream",
     "text": [
      "                   all        397        417       0.45      0.507      0.426      0.289\n",
      "\n",
      "      Epoch    GPU_mem   box_loss   cls_loss   dfl_loss  Instances       Size\n"
     ]
    },
    {
     "name": "stderr",
     "output_type": "stream",
     "text": [
      "     18/600      11.1G      1.029      1.193      1.172         13        640: 100%|██████████| 50/50 [00:40<00:00,  1.24it/s]\n",
      "                 Class     Images  Instances      Box(P          R      mAP50  mAP50-95): 100%|██████████| 13/13 [00:07<00:00,  1.84it/s]\n"
     ]
    },
    {
     "name": "stdout",
     "output_type": "stream",
     "text": [
      "                   all        397        417      0.532       0.68      0.619      0.444\n",
      "\n",
      "      Epoch    GPU_mem   box_loss   cls_loss   dfl_loss  Instances       Size\n"
     ]
    },
    {
     "name": "stderr",
     "output_type": "stream",
     "text": [
      "     19/600      11.1G      1.066      1.177      1.191         11        640: 100%|██████████| 50/50 [00:40<00:00,  1.24it/s]\n",
      "                 Class     Images  Instances      Box(P          R      mAP50  mAP50-95): 100%|██████████| 13/13 [00:07<00:00,  1.82it/s]\n"
     ]
    },
    {
     "name": "stdout",
     "output_type": "stream",
     "text": [
      "                   all        397        417      0.539      0.649       0.64      0.457\n",
      "\n",
      "      Epoch    GPU_mem   box_loss   cls_loss   dfl_loss  Instances       Size\n"
     ]
    },
    {
     "name": "stderr",
     "output_type": "stream",
     "text": [
      "     20/600        11G      1.021      1.121      1.154         13        640: 100%|██████████| 50/50 [00:40<00:00,  1.24it/s]\n",
      "                 Class     Images  Instances      Box(P          R      mAP50  mAP50-95): 100%|██████████| 13/13 [00:07<00:00,  1.83it/s]\n"
     ]
    },
    {
     "name": "stdout",
     "output_type": "stream",
     "text": [
      "                   all        397        417      0.491      0.573      0.515      0.363\n",
      "\n",
      "      Epoch    GPU_mem   box_loss   cls_loss   dfl_loss  Instances       Size\n"
     ]
    },
    {
     "name": "stderr",
     "output_type": "stream",
     "text": [
      "     21/600        11G      1.024      1.116      1.141          7        640: 100%|██████████| 50/50 [00:40<00:00,  1.24it/s]\n",
      "                 Class     Images  Instances      Box(P          R      mAP50  mAP50-95): 100%|██████████| 13/13 [00:07<00:00,  1.83it/s]\n"
     ]
    },
    {
     "name": "stdout",
     "output_type": "stream",
     "text": [
      "                   all        397        417      0.548      0.689       0.61      0.438\n",
      "\n",
      "      Epoch    GPU_mem   box_loss   cls_loss   dfl_loss  Instances       Size\n"
     ]
    },
    {
     "name": "stderr",
     "output_type": "stream",
     "text": [
      "     22/600      11.1G      1.017       1.11      1.164         21        640: 100%|██████████| 50/50 [00:40<00:00,  1.24it/s]\n",
      "                 Class     Images  Instances      Box(P          R      mAP50  mAP50-95): 100%|██████████| 13/13 [00:07<00:00,  1.85it/s]\n"
     ]
    },
    {
     "name": "stdout",
     "output_type": "stream",
     "text": [
      "                   all        397        417       0.56      0.645      0.613      0.431\n",
      "\n",
      "      Epoch    GPU_mem   box_loss   cls_loss   dfl_loss  Instances       Size\n"
     ]
    },
    {
     "name": "stderr",
     "output_type": "stream",
     "text": [
      "     23/600      11.1G      1.001      1.064      1.142         13        640: 100%|██████████| 50/50 [00:40<00:00,  1.24it/s]\n",
      "                 Class     Images  Instances      Box(P          R      mAP50  mAP50-95): 100%|██████████| 13/13 [00:07<00:00,  1.84it/s]\n"
     ]
    },
    {
     "name": "stdout",
     "output_type": "stream",
     "text": [
      "                   all        397        417      0.513       0.64      0.586       0.43\n",
      "\n",
      "      Epoch    GPU_mem   box_loss   cls_loss   dfl_loss  Instances       Size\n"
     ]
    },
    {
     "name": "stderr",
     "output_type": "stream",
     "text": [
      "     24/600        11G     0.9961      1.045      1.119         13        640: 100%|██████████| 50/50 [00:40<00:00,  1.24it/s]\n",
      "                 Class     Images  Instances      Box(P          R      mAP50  mAP50-95): 100%|██████████| 13/13 [00:07<00:00,  1.85it/s]\n"
     ]
    },
    {
     "name": "stdout",
     "output_type": "stream",
     "text": [
      "                   all        397        417       0.45      0.581      0.488      0.354\n",
      "\n",
      "      Epoch    GPU_mem   box_loss   cls_loss   dfl_loss  Instances       Size\n"
     ]
    },
    {
     "name": "stderr",
     "output_type": "stream",
     "text": [
      "     25/600      11.1G     0.9895      1.062      1.136          9        640: 100%|██████████| 50/50 [00:40<00:00,  1.24it/s]\n",
      "                 Class     Images  Instances      Box(P          R      mAP50  mAP50-95): 100%|██████████| 13/13 [00:07<00:00,  1.84it/s]\n"
     ]
    },
    {
     "name": "stdout",
     "output_type": "stream",
     "text": [
      "                   all        397        417       0.41      0.374      0.298      0.209\n",
      "\n",
      "      Epoch    GPU_mem   box_loss   cls_loss   dfl_loss  Instances       Size\n"
     ]
    },
    {
     "name": "stderr",
     "output_type": "stream",
     "text": [
      "     26/600      11.1G     0.9858      1.045      1.135          6        640: 100%|██████████| 50/50 [00:40<00:00,  1.24it/s]\n",
      "                 Class     Images  Instances      Box(P          R      mAP50  mAP50-95): 100%|██████████| 13/13 [00:07<00:00,  1.84it/s]\n"
     ]
    },
    {
     "name": "stdout",
     "output_type": "stream",
     "text": [
      "                   all        397        417      0.653      0.688      0.696      0.517\n",
      "\n",
      "      Epoch    GPU_mem   box_loss   cls_loss   dfl_loss  Instances       Size\n"
     ]
    },
    {
     "name": "stderr",
     "output_type": "stream",
     "text": [
      "     27/600      11.1G     0.9504      0.963      1.116         14        640: 100%|██████████| 50/50 [00:40<00:00,  1.24it/s]\n",
      "                 Class     Images  Instances      Box(P          R      mAP50  mAP50-95): 100%|██████████| 13/13 [00:07<00:00,  1.84it/s]\n"
     ]
    },
    {
     "name": "stdout",
     "output_type": "stream",
     "text": [
      "                   all        397        417      0.556      0.588      0.577      0.425\n",
      "\n",
      "      Epoch    GPU_mem   box_loss   cls_loss   dfl_loss  Instances       Size\n"
     ]
    },
    {
     "name": "stderr",
     "output_type": "stream",
     "text": [
      "     28/600      11.1G     0.9759     0.9926      1.122         10        640: 100%|██████████| 50/50 [00:40<00:00,  1.24it/s]\n",
      "                 Class     Images  Instances      Box(P          R      mAP50  mAP50-95): 100%|██████████| 13/13 [00:07<00:00,  1.83it/s]\n"
     ]
    },
    {
     "name": "stdout",
     "output_type": "stream",
     "text": [
      "                   all        397        417      0.549      0.473      0.486       0.34\n",
      "\n",
      "      Epoch    GPU_mem   box_loss   cls_loss   dfl_loss  Instances       Size\n"
     ]
    },
    {
     "name": "stderr",
     "output_type": "stream",
     "text": [
      "     29/600      11.1G     0.9732     0.9852      1.134         13        640: 100%|██████████| 50/50 [00:40<00:00,  1.24it/s]\n",
      "                 Class     Images  Instances      Box(P          R      mAP50  mAP50-95): 100%|██████████| 13/13 [00:07<00:00,  1.85it/s]\n"
     ]
    },
    {
     "name": "stdout",
     "output_type": "stream",
     "text": [
      "                   all        397        417      0.583      0.595      0.582       0.44\n",
      "\n",
      "      Epoch    GPU_mem   box_loss   cls_loss   dfl_loss  Instances       Size\n"
     ]
    },
    {
     "name": "stderr",
     "output_type": "stream",
     "text": [
      "     30/600      11.1G     0.9568     0.9678      1.124         11        640: 100%|██████████| 50/50 [00:40<00:00,  1.24it/s]\n",
      "                 Class     Images  Instances      Box(P          R      mAP50  mAP50-95): 100%|██████████| 13/13 [00:07<00:00,  1.83it/s]\n"
     ]
    },
    {
     "name": "stdout",
     "output_type": "stream",
     "text": [
      "                   all        397        417       0.31      0.415      0.305      0.223\n",
      "\n",
      "      Epoch    GPU_mem   box_loss   cls_loss   dfl_loss  Instances       Size\n"
     ]
    },
    {
     "name": "stderr",
     "output_type": "stream",
     "text": [
      "     31/600      11.1G     0.9406     0.9071       1.11         12        640: 100%|██████████| 50/50 [00:40<00:00,  1.24it/s]\n",
      "                 Class     Images  Instances      Box(P          R      mAP50  mAP50-95): 100%|██████████| 13/13 [00:07<00:00,  1.84it/s]\n"
     ]
    },
    {
     "name": "stdout",
     "output_type": "stream",
     "text": [
      "                   all        397        417       0.57      0.636      0.601       0.43\n",
      "\n",
      "      Epoch    GPU_mem   box_loss   cls_loss   dfl_loss  Instances       Size\n"
     ]
    },
    {
     "name": "stderr",
     "output_type": "stream",
     "text": [
      "     32/600        11G     0.9534     0.9506      1.117         10        640: 100%|██████████| 50/50 [00:40<00:00,  1.24it/s]\n",
      "                 Class     Images  Instances      Box(P          R      mAP50  mAP50-95): 100%|██████████| 13/13 [00:07<00:00,  1.84it/s]\n"
     ]
    },
    {
     "name": "stdout",
     "output_type": "stream",
     "text": [
      "                   all        397        417      0.463      0.408       0.39      0.288\n",
      "\n",
      "      Epoch    GPU_mem   box_loss   cls_loss   dfl_loss  Instances       Size\n"
     ]
    },
    {
     "name": "stderr",
     "output_type": "stream",
     "text": [
      "     33/600      11.1G     0.9392     0.9149      1.107         11        640: 100%|██████████| 50/50 [00:40<00:00,  1.24it/s]\n",
      "                 Class     Images  Instances      Box(P          R      mAP50  mAP50-95): 100%|██████████| 13/13 [00:07<00:00,  1.84it/s]\n"
     ]
    },
    {
     "name": "stdout",
     "output_type": "stream",
     "text": [
      "                   all        397        417      0.587      0.758      0.703      0.513\n",
      "\n",
      "      Epoch    GPU_mem   box_loss   cls_loss   dfl_loss  Instances       Size\n"
     ]
    },
    {
     "name": "stderr",
     "output_type": "stream",
     "text": [
      "     34/600      11.1G     0.9603     0.9258      1.108         13        640: 100%|██████████| 50/50 [00:40<00:00,  1.24it/s]\n",
      "                 Class     Images  Instances      Box(P          R      mAP50  mAP50-95): 100%|██████████| 13/13 [00:07<00:00,  1.84it/s]\n"
     ]
    },
    {
     "name": "stdout",
     "output_type": "stream",
     "text": [
      "                   all        397        417      0.548      0.612      0.578      0.434\n",
      "\n",
      "      Epoch    GPU_mem   box_loss   cls_loss   dfl_loss  Instances       Size\n"
     ]
    },
    {
     "name": "stderr",
     "output_type": "stream",
     "text": [
      "     35/600        11G     0.9287     0.8691      1.101         11        640: 100%|██████████| 50/50 [00:40<00:00,  1.24it/s]\n",
      "                 Class     Images  Instances      Box(P          R      mAP50  mAP50-95): 100%|██████████| 13/13 [00:07<00:00,  1.83it/s]\n"
     ]
    },
    {
     "name": "stdout",
     "output_type": "stream",
     "text": [
      "                   all        397        417      0.604      0.699      0.668      0.486\n",
      "\n",
      "      Epoch    GPU_mem   box_loss   cls_loss   dfl_loss  Instances       Size\n"
     ]
    },
    {
     "name": "stderr",
     "output_type": "stream",
     "text": [
      "     36/600        11G     0.9569     0.8829      1.118         13        640: 100%|██████████| 50/50 [00:40<00:00,  1.24it/s]\n",
      "                 Class     Images  Instances      Box(P          R      mAP50  mAP50-95): 100%|██████████| 13/13 [00:07<00:00,  1.84it/s]\n"
     ]
    },
    {
     "name": "stdout",
     "output_type": "stream",
     "text": [
      "                   all        397        417      0.661      0.707      0.707       0.52\n",
      "\n",
      "      Epoch    GPU_mem   box_loss   cls_loss   dfl_loss  Instances       Size\n"
     ]
    },
    {
     "name": "stderr",
     "output_type": "stream",
     "text": [
      "     37/600      11.1G      0.938     0.8786      1.118         12        640: 100%|██████████| 50/50 [00:40<00:00,  1.24it/s]\n",
      "                 Class     Images  Instances      Box(P          R      mAP50  mAP50-95): 100%|██████████| 13/13 [00:07<00:00,  1.83it/s]\n"
     ]
    },
    {
     "name": "stdout",
     "output_type": "stream",
     "text": [
      "                   all        397        417      0.657      0.689      0.734      0.563\n",
      "\n",
      "      Epoch    GPU_mem   box_loss   cls_loss   dfl_loss  Instances       Size\n"
     ]
    },
    {
     "name": "stderr",
     "output_type": "stream",
     "text": [
      "     38/600        11G     0.9021     0.8355      1.085         20        640: 100%|██████████| 50/50 [00:40<00:00,  1.24it/s]\n",
      "                 Class     Images  Instances      Box(P          R      mAP50  mAP50-95): 100%|██████████| 13/13 [00:07<00:00,  1.84it/s]\n"
     ]
    },
    {
     "name": "stdout",
     "output_type": "stream",
     "text": [
      "                   all        397        417      0.513      0.513      0.515      0.381\n",
      "\n",
      "      Epoch    GPU_mem   box_loss   cls_loss   dfl_loss  Instances       Size\n"
     ]
    },
    {
     "name": "stderr",
     "output_type": "stream",
     "text": [
      "     39/600      11.1G     0.9064      0.825      1.078         25        640: 100%|██████████| 50/50 [00:40<00:00,  1.24it/s]\n",
      "                 Class     Images  Instances      Box(P          R      mAP50  mAP50-95): 100%|██████████| 13/13 [00:07<00:00,  1.85it/s]\n"
     ]
    },
    {
     "name": "stdout",
     "output_type": "stream",
     "text": [
      "                   all        397        417      0.669       0.72      0.724      0.547\n",
      "\n",
      "      Epoch    GPU_mem   box_loss   cls_loss   dfl_loss  Instances       Size\n"
     ]
    },
    {
     "name": "stderr",
     "output_type": "stream",
     "text": [
      "     40/600        11G     0.9222      0.856      1.093         14        640: 100%|██████████| 50/50 [00:40<00:00,  1.24it/s]\n",
      "                 Class     Images  Instances      Box(P          R      mAP50  mAP50-95): 100%|██████████| 13/13 [00:07<00:00,  1.84it/s]\n"
     ]
    },
    {
     "name": "stdout",
     "output_type": "stream",
     "text": [
      "                   all        397        417      0.727      0.788      0.813      0.622\n",
      "\n",
      "      Epoch    GPU_mem   box_loss   cls_loss   dfl_loss  Instances       Size\n"
     ]
    },
    {
     "name": "stderr",
     "output_type": "stream",
     "text": [
      "     41/600      11.1G     0.8981     0.8043      1.092         12        640: 100%|██████████| 50/50 [00:40<00:00,  1.24it/s]\n",
      "                 Class     Images  Instances      Box(P          R      mAP50  mAP50-95): 100%|██████████| 13/13 [00:07<00:00,  1.84it/s]\n"
     ]
    },
    {
     "name": "stdout",
     "output_type": "stream",
     "text": [
      "                   all        397        417       0.66      0.745      0.764      0.573\n",
      "\n",
      "      Epoch    GPU_mem   box_loss   cls_loss   dfl_loss  Instances       Size\n"
     ]
    },
    {
     "name": "stderr",
     "output_type": "stream",
     "text": [
      "     42/600      11.1G     0.8978     0.7864      1.093          8        640: 100%|██████████| 50/50 [00:40<00:00,  1.24it/s]\n",
      "                 Class     Images  Instances      Box(P          R      mAP50  mAP50-95): 100%|██████████| 13/13 [00:07<00:00,  1.84it/s]\n"
     ]
    },
    {
     "name": "stdout",
     "output_type": "stream",
     "text": [
      "                   all        397        417      0.677      0.709      0.748      0.551\n",
      "\n",
      "      Epoch    GPU_mem   box_loss   cls_loss   dfl_loss  Instances       Size\n"
     ]
    },
    {
     "name": "stderr",
     "output_type": "stream",
     "text": [
      "     43/600      11.1G      0.885     0.8228      1.094         13        640: 100%|██████████| 50/50 [00:40<00:00,  1.24it/s]\n",
      "                 Class     Images  Instances      Box(P          R      mAP50  mAP50-95): 100%|██████████| 13/13 [00:07<00:00,  1.84it/s]\n"
     ]
    },
    {
     "name": "stdout",
     "output_type": "stream",
     "text": [
      "                   all        397        417      0.715      0.712      0.766      0.573\n",
      "\n",
      "      Epoch    GPU_mem   box_loss   cls_loss   dfl_loss  Instances       Size\n"
     ]
    },
    {
     "name": "stderr",
     "output_type": "stream",
     "text": [
      "     44/600      11.1G      0.893     0.7753      1.099         10        640: 100%|██████████| 50/50 [00:40<00:00,  1.24it/s]\n",
      "                 Class     Images  Instances      Box(P          R      mAP50  mAP50-95): 100%|██████████| 13/13 [00:07<00:00,  1.84it/s]\n"
     ]
    },
    {
     "name": "stdout",
     "output_type": "stream",
     "text": [
      "                   all        397        417      0.638      0.559      0.583      0.432\n",
      "\n",
      "      Epoch    GPU_mem   box_loss   cls_loss   dfl_loss  Instances       Size\n"
     ]
    },
    {
     "name": "stderr",
     "output_type": "stream",
     "text": [
      "     45/600      11.1G     0.8905     0.7567      1.074         15        640: 100%|██████████| 50/50 [00:40<00:00,  1.24it/s]\n",
      "                 Class     Images  Instances      Box(P          R      mAP50  mAP50-95): 100%|██████████| 13/13 [00:07<00:00,  1.85it/s]\n"
     ]
    },
    {
     "name": "stdout",
     "output_type": "stream",
     "text": [
      "                   all        397        417      0.554      0.294       0.28        0.2\n",
      "\n",
      "      Epoch    GPU_mem   box_loss   cls_loss   dfl_loss  Instances       Size\n"
     ]
    },
    {
     "name": "stderr",
     "output_type": "stream",
     "text": [
      "     46/600        11G     0.8612     0.7658      1.078          9        640: 100%|██████████| 50/50 [00:40<00:00,  1.24it/s]\n",
      "                 Class     Images  Instances      Box(P          R      mAP50  mAP50-95): 100%|██████████| 13/13 [00:07<00:00,  1.84it/s]\n"
     ]
    },
    {
     "name": "stdout",
     "output_type": "stream",
     "text": [
      "                   all        397        417      0.782      0.708      0.792      0.594\n",
      "\n",
      "      Epoch    GPU_mem   box_loss   cls_loss   dfl_loss  Instances       Size\n"
     ]
    },
    {
     "name": "stderr",
     "output_type": "stream",
     "text": [
      "     47/600      11.1G     0.8721      0.738      1.072          8        640: 100%|██████████| 50/50 [00:40<00:00,  1.24it/s]\n",
      "                 Class     Images  Instances      Box(P          R      mAP50  mAP50-95): 100%|██████████| 13/13 [00:07<00:00,  1.84it/s]\n"
     ]
    },
    {
     "name": "stdout",
     "output_type": "stream",
     "text": [
      "                   all        397        417      0.729      0.716      0.765      0.567\n",
      "\n",
      "      Epoch    GPU_mem   box_loss   cls_loss   dfl_loss  Instances       Size\n"
     ]
    },
    {
     "name": "stderr",
     "output_type": "stream",
     "text": [
      "     48/600        11G      0.829     0.7116       1.05         12        640: 100%|██████████| 50/50 [00:40<00:00,  1.24it/s]\n",
      "                 Class     Images  Instances      Box(P          R      mAP50  mAP50-95): 100%|██████████| 13/13 [00:07<00:00,  1.84it/s]\n"
     ]
    },
    {
     "name": "stdout",
     "output_type": "stream",
     "text": [
      "                   all        397        417      0.751      0.757      0.816      0.617\n",
      "\n",
      "      Epoch    GPU_mem   box_loss   cls_loss   dfl_loss  Instances       Size\n"
     ]
    },
    {
     "name": "stderr",
     "output_type": "stream",
     "text": [
      "     49/600        11G     0.8812     0.7226       1.07         15        640: 100%|██████████| 50/50 [00:40<00:00,  1.24it/s]\n",
      "                 Class     Images  Instances      Box(P          R      mAP50  mAP50-95): 100%|██████████| 13/13 [00:07<00:00,  1.84it/s]\n"
     ]
    },
    {
     "name": "stdout",
     "output_type": "stream",
     "text": [
      "                   all        397        417      0.759      0.524      0.603      0.454\n",
      "\n",
      "      Epoch    GPU_mem   box_loss   cls_loss   dfl_loss  Instances       Size\n"
     ]
    },
    {
     "name": "stderr",
     "output_type": "stream",
     "text": [
      "     50/600        11G     0.8571     0.6984      1.065         17        640: 100%|██████████| 50/50 [00:40<00:00,  1.24it/s]\n",
      "                 Class     Images  Instances      Box(P          R      mAP50  mAP50-95): 100%|██████████| 13/13 [00:07<00:00,  1.84it/s]\n"
     ]
    },
    {
     "name": "stdout",
     "output_type": "stream",
     "text": [
      "                   all        397        417      0.803      0.787      0.846       0.65\n",
      "\n",
      "      Epoch    GPU_mem   box_loss   cls_loss   dfl_loss  Instances       Size\n"
     ]
    },
    {
     "name": "stderr",
     "output_type": "stream",
     "text": [
      "     51/600      11.1G     0.8646     0.6993      1.055         13        640: 100%|██████████| 50/50 [00:40<00:00,  1.24it/s]\n",
      "                 Class     Images  Instances      Box(P          R      mAP50  mAP50-95): 100%|██████████| 13/13 [00:07<00:00,  1.84it/s]\n"
     ]
    },
    {
     "name": "stdout",
     "output_type": "stream",
     "text": [
      "                   all        397        417      0.754      0.711      0.792      0.602\n",
      "\n",
      "      Epoch    GPU_mem   box_loss   cls_loss   dfl_loss  Instances       Size\n"
     ]
    },
    {
     "name": "stderr",
     "output_type": "stream",
     "text": [
      "     52/600      11.1G     0.8461     0.7321       1.05         18        640: 100%|██████████| 50/50 [00:40<00:00,  1.24it/s]\n",
      "                 Class     Images  Instances      Box(P          R      mAP50  mAP50-95): 100%|██████████| 13/13 [00:07<00:00,  1.85it/s]\n"
     ]
    },
    {
     "name": "stdout",
     "output_type": "stream",
     "text": [
      "                   all        397        417      0.805      0.768      0.851      0.669\n",
      "\n",
      "      Epoch    GPU_mem   box_loss   cls_loss   dfl_loss  Instances       Size\n"
     ]
    },
    {
     "name": "stderr",
     "output_type": "stream",
     "text": [
      "     53/600      11.1G     0.8489     0.6935      1.059         10        640: 100%|██████████| 50/50 [00:40<00:00,  1.24it/s]\n",
      "                 Class     Images  Instances      Box(P          R      mAP50  mAP50-95): 100%|██████████| 13/13 [00:07<00:00,  1.84it/s]\n"
     ]
    },
    {
     "name": "stdout",
     "output_type": "stream",
     "text": [
      "                   all        397        417      0.794      0.778      0.843      0.631\n",
      "\n",
      "      Epoch    GPU_mem   box_loss   cls_loss   dfl_loss  Instances       Size\n"
     ]
    },
    {
     "name": "stderr",
     "output_type": "stream",
     "text": [
      "     54/600        11G     0.8404     0.7038      1.057         11        640: 100%|██████████| 50/50 [00:40<00:00,  1.24it/s]\n",
      "                 Class     Images  Instances      Box(P          R      mAP50  mAP50-95): 100%|██████████| 13/13 [00:07<00:00,  1.83it/s]\n"
     ]
    },
    {
     "name": "stdout",
     "output_type": "stream",
     "text": [
      "                   all        397        417      0.786      0.788      0.863      0.665\n",
      "\n",
      "      Epoch    GPU_mem   box_loss   cls_loss   dfl_loss  Instances       Size\n"
     ]
    },
    {
     "name": "stderr",
     "output_type": "stream",
     "text": [
      "     55/600      11.1G     0.8233      0.639       1.04          6        640: 100%|██████████| 50/50 [00:40<00:00,  1.24it/s]\n",
      "                 Class     Images  Instances      Box(P          R      mAP50  mAP50-95): 100%|██████████| 13/13 [00:07<00:00,  1.85it/s]\n"
     ]
    },
    {
     "name": "stdout",
     "output_type": "stream",
     "text": [
      "                   all        397        417      0.825      0.813      0.875      0.678\n",
      "\n",
      "      Epoch    GPU_mem   box_loss   cls_loss   dfl_loss  Instances       Size\n"
     ]
    },
    {
     "name": "stderr",
     "output_type": "stream",
     "text": [
      "     56/600      11.1G     0.8397     0.6695      1.061         16        640: 100%|██████████| 50/50 [00:40<00:00,  1.25it/s]\n",
      "                 Class     Images  Instances      Box(P          R      mAP50  mAP50-95): 100%|██████████| 13/13 [00:07<00:00,  1.84it/s]\n"
     ]
    },
    {
     "name": "stdout",
     "output_type": "stream",
     "text": [
      "                   all        397        417      0.727      0.753      0.816      0.632\n",
      "\n",
      "      Epoch    GPU_mem   box_loss   cls_loss   dfl_loss  Instances       Size\n"
     ]
    },
    {
     "name": "stderr",
     "output_type": "stream",
     "text": [
      "     57/600        11G     0.8175     0.6567       1.05         10        640: 100%|██████████| 50/50 [00:40<00:00,  1.24it/s]\n",
      "                 Class     Images  Instances      Box(P          R      mAP50  mAP50-95): 100%|██████████| 13/13 [00:07<00:00,  1.85it/s]\n"
     ]
    },
    {
     "name": "stdout",
     "output_type": "stream",
     "text": [
      "                   all        397        417       0.82      0.841      0.879      0.684\n",
      "\n",
      "      Epoch    GPU_mem   box_loss   cls_loss   dfl_loss  Instances       Size\n"
     ]
    },
    {
     "name": "stderr",
     "output_type": "stream",
     "text": [
      "     58/600        11G     0.8201     0.6659      1.042         16        640: 100%|██████████| 50/50 [00:40<00:00,  1.24it/s]\n",
      "                 Class     Images  Instances      Box(P          R      mAP50  mAP50-95): 100%|██████████| 13/13 [00:07<00:00,  1.84it/s]\n"
     ]
    },
    {
     "name": "stdout",
     "output_type": "stream",
     "text": [
      "                   all        397        417      0.811      0.882      0.897        0.7\n",
      "\n",
      "      Epoch    GPU_mem   box_loss   cls_loss   dfl_loss  Instances       Size\n"
     ]
    },
    {
     "name": "stderr",
     "output_type": "stream",
     "text": [
      "     59/600      11.1G     0.8123     0.6535       1.04          9        640: 100%|██████████| 50/50 [00:40<00:00,  1.24it/s]\n",
      "                 Class     Images  Instances      Box(P          R      mAP50  mAP50-95): 100%|██████████| 13/13 [00:07<00:00,  1.84it/s]\n"
     ]
    },
    {
     "name": "stdout",
     "output_type": "stream",
     "text": [
      "                   all        397        417      0.798      0.704      0.808      0.619\n",
      "\n",
      "      Epoch    GPU_mem   box_loss   cls_loss   dfl_loss  Instances       Size\n"
     ]
    },
    {
     "name": "stderr",
     "output_type": "stream",
     "text": [
      "     60/600      11.1G      0.819     0.6098      1.041         10        640: 100%|██████████| 50/50 [00:40<00:00,  1.25it/s]\n",
      "                 Class     Images  Instances      Box(P          R      mAP50  mAP50-95): 100%|██████████| 13/13 [00:07<00:00,  1.85it/s]\n"
     ]
    },
    {
     "name": "stdout",
     "output_type": "stream",
     "text": [
      "                   all        397        417      0.853      0.802      0.884      0.693\n",
      "\n",
      "      Epoch    GPU_mem   box_loss   cls_loss   dfl_loss  Instances       Size\n"
     ]
    },
    {
     "name": "stderr",
     "output_type": "stream",
     "text": [
      "     61/600      11.1G     0.7991     0.6302      1.034         14        640: 100%|██████████| 50/50 [00:40<00:00,  1.24it/s]\n",
      "                 Class     Images  Instances      Box(P          R      mAP50  mAP50-95): 100%|██████████| 13/13 [00:07<00:00,  1.83it/s]\n"
     ]
    },
    {
     "name": "stdout",
     "output_type": "stream",
     "text": [
      "                   all        397        417      0.718      0.565      0.627      0.467\n",
      "\n",
      "      Epoch    GPU_mem   box_loss   cls_loss   dfl_loss  Instances       Size\n"
     ]
    },
    {
     "name": "stderr",
     "output_type": "stream",
     "text": [
      "     62/600      11.1G     0.8189     0.6408      1.028         10        640: 100%|██████████| 50/50 [00:40<00:00,  1.24it/s]\n",
      "                 Class     Images  Instances      Box(P          R      mAP50  mAP50-95): 100%|██████████| 13/13 [00:07<00:00,  1.84it/s]\n"
     ]
    },
    {
     "name": "stdout",
     "output_type": "stream",
     "text": [
      "                   all        397        417      0.765      0.638      0.694      0.536\n",
      "\n",
      "      Epoch    GPU_mem   box_loss   cls_loss   dfl_loss  Instances       Size\n"
     ]
    },
    {
     "name": "stderr",
     "output_type": "stream",
     "text": [
      "     63/600      11.1G     0.8178      0.605      1.034         12        640: 100%|██████████| 50/50 [00:40<00:00,  1.24it/s]\n",
      "                 Class     Images  Instances      Box(P          R      mAP50  mAP50-95): 100%|██████████| 13/13 [00:07<00:00,  1.85it/s]\n"
     ]
    },
    {
     "name": "stdout",
     "output_type": "stream",
     "text": [
      "                   all        397        417      0.827      0.865       0.91      0.727\n",
      "\n",
      "      Epoch    GPU_mem   box_loss   cls_loss   dfl_loss  Instances       Size\n"
     ]
    },
    {
     "name": "stderr",
     "output_type": "stream",
     "text": [
      "     64/600      11.1G     0.7936      0.631      1.026         13        640: 100%|██████████| 50/50 [00:40<00:00,  1.24it/s]\n",
      "                 Class     Images  Instances      Box(P          R      mAP50  mAP50-95): 100%|██████████| 13/13 [00:07<00:00,  1.83it/s]\n"
     ]
    },
    {
     "name": "stdout",
     "output_type": "stream",
     "text": [
      "                   all        397        417      0.809      0.678      0.754      0.584\n",
      "\n",
      "      Epoch    GPU_mem   box_loss   cls_loss   dfl_loss  Instances       Size\n"
     ]
    },
    {
     "name": "stderr",
     "output_type": "stream",
     "text": [
      "     65/600        11G      0.799     0.6164      1.025          6        640: 100%|██████████| 50/50 [00:40<00:00,  1.24it/s]\n",
      "                 Class     Images  Instances      Box(P          R      mAP50  mAP50-95): 100%|██████████| 13/13 [00:07<00:00,  1.84it/s]\n"
     ]
    },
    {
     "name": "stdout",
     "output_type": "stream",
     "text": [
      "                   all        397        417      0.819      0.831      0.891      0.699\n",
      "\n",
      "      Epoch    GPU_mem   box_loss   cls_loss   dfl_loss  Instances       Size\n"
     ]
    },
    {
     "name": "stderr",
     "output_type": "stream",
     "text": [
      "     66/600      11.1G     0.8018     0.6023      1.007         13        640: 100%|██████████| 50/50 [00:40<00:00,  1.24it/s]\n",
      "                 Class     Images  Instances      Box(P          R      mAP50  mAP50-95): 100%|██████████| 13/13 [00:07<00:00,  1.84it/s]\n"
     ]
    },
    {
     "name": "stdout",
     "output_type": "stream",
     "text": [
      "                   all        397        417      0.795      0.856       0.88      0.689\n",
      "\n",
      "      Epoch    GPU_mem   box_loss   cls_loss   dfl_loss  Instances       Size\n"
     ]
    },
    {
     "name": "stderr",
     "output_type": "stream",
     "text": [
      "     67/600        11G     0.8079     0.5944      1.051         10        640: 100%|██████████| 50/50 [00:40<00:00,  1.25it/s]\n",
      "                 Class     Images  Instances      Box(P          R      mAP50  mAP50-95): 100%|██████████| 13/13 [00:07<00:00,  1.85it/s]\n"
     ]
    },
    {
     "name": "stdout",
     "output_type": "stream",
     "text": [
      "                   all        397        417      0.866       0.83      0.895      0.707\n",
      "\n",
      "      Epoch    GPU_mem   box_loss   cls_loss   dfl_loss  Instances       Size\n"
     ]
    },
    {
     "name": "stderr",
     "output_type": "stream",
     "text": [
      "     68/600      11.1G     0.7749     0.5925       1.03         17        640: 100%|██████████| 50/50 [00:40<00:00,  1.24it/s]\n",
      "                 Class     Images  Instances      Box(P          R      mAP50  mAP50-95): 100%|██████████| 13/13 [00:07<00:00,  1.84it/s]\n"
     ]
    },
    {
     "name": "stdout",
     "output_type": "stream",
     "text": [
      "                   all        397        417      0.855      0.855      0.907      0.715\n",
      "\n",
      "      Epoch    GPU_mem   box_loss   cls_loss   dfl_loss  Instances       Size\n"
     ]
    },
    {
     "name": "stderr",
     "output_type": "stream",
     "text": [
      "     69/600      11.1G     0.7614     0.5766       1.02         11        640: 100%|██████████| 50/50 [00:40<00:00,  1.24it/s]\n",
      "                 Class     Images  Instances      Box(P          R      mAP50  mAP50-95): 100%|██████████| 13/13 [00:07<00:00,  1.84it/s]\n"
     ]
    },
    {
     "name": "stdout",
     "output_type": "stream",
     "text": [
      "                   all        397        417      0.819      0.803      0.854      0.661\n",
      "\n",
      "      Epoch    GPU_mem   box_loss   cls_loss   dfl_loss  Instances       Size\n"
     ]
    },
    {
     "name": "stderr",
     "output_type": "stream",
     "text": [
      "     70/600        11G     0.7756     0.5559      1.022          6        640: 100%|██████████| 50/50 [00:40<00:00,  1.24it/s]\n",
      "                 Class     Images  Instances      Box(P          R      mAP50  mAP50-95): 100%|██████████| 13/13 [00:07<00:00,  1.84it/s]\n"
     ]
    },
    {
     "name": "stdout",
     "output_type": "stream",
     "text": [
      "                   all        397        417      0.833      0.854       0.89      0.697\n",
      "\n",
      "      Epoch    GPU_mem   box_loss   cls_loss   dfl_loss  Instances       Size\n"
     ]
    },
    {
     "name": "stderr",
     "output_type": "stream",
     "text": [
      "     71/600        11G     0.7937      0.598      1.045          9        640: 100%|██████████| 50/50 [00:40<00:00,  1.24it/s]\n",
      "                 Class     Images  Instances      Box(P          R      mAP50  mAP50-95): 100%|██████████| 13/13 [00:07<00:00,  1.84it/s]\n"
     ]
    },
    {
     "name": "stdout",
     "output_type": "stream",
     "text": [
      "                   all        397        417      0.782      0.828      0.862      0.678\n",
      "\n",
      "      Epoch    GPU_mem   box_loss   cls_loss   dfl_loss  Instances       Size\n"
     ]
    },
    {
     "name": "stderr",
     "output_type": "stream",
     "text": [
      "     72/600      11.1G     0.7906     0.5839      1.015          9        640: 100%|██████████| 50/50 [00:40<00:00,  1.24it/s]\n",
      "                 Class     Images  Instances      Box(P          R      mAP50  mAP50-95): 100%|██████████| 13/13 [00:07<00:00,  1.84it/s]\n"
     ]
    },
    {
     "name": "stdout",
     "output_type": "stream",
     "text": [
      "                   all        397        417      0.853      0.909      0.932      0.739\n",
      "\n",
      "      Epoch    GPU_mem   box_loss   cls_loss   dfl_loss  Instances       Size\n"
     ]
    },
    {
     "name": "stderr",
     "output_type": "stream",
     "text": [
      "     73/600        11G     0.7511     0.5501     0.9979          7        640: 100%|██████████| 50/50 [00:40<00:00,  1.24it/s]\n",
      "                 Class     Images  Instances      Box(P          R      mAP50  mAP50-95): 100%|██████████| 13/13 [00:07<00:00,  1.84it/s]\n"
     ]
    },
    {
     "name": "stdout",
     "output_type": "stream",
     "text": [
      "                   all        397        417      0.848      0.714      0.847      0.667\n",
      "\n",
      "      Epoch    GPU_mem   box_loss   cls_loss   dfl_loss  Instances       Size\n"
     ]
    },
    {
     "name": "stderr",
     "output_type": "stream",
     "text": [
      "     74/600      11.1G     0.7711     0.5915      1.014         14        640: 100%|██████████| 50/50 [00:40<00:00,  1.24it/s]\n",
      "                 Class     Images  Instances      Box(P          R      mAP50  mAP50-95): 100%|██████████| 13/13 [00:07<00:00,  1.85it/s]\n"
     ]
    },
    {
     "name": "stdout",
     "output_type": "stream",
     "text": [
      "                   all        397        417      0.854      0.826      0.904       0.72\n",
      "\n",
      "      Epoch    GPU_mem   box_loss   cls_loss   dfl_loss  Instances       Size\n"
     ]
    },
    {
     "name": "stderr",
     "output_type": "stream",
     "text": [
      "     75/600      11.1G     0.7352     0.5487     0.9964          7        640: 100%|██████████| 50/50 [00:40<00:00,  1.24it/s]\n",
      "                 Class     Images  Instances      Box(P          R      mAP50  mAP50-95): 100%|██████████| 13/13 [00:07<00:00,  1.85it/s]\n"
     ]
    },
    {
     "name": "stdout",
     "output_type": "stream",
     "text": [
      "                   all        397        417      0.868      0.806      0.894       0.71\n",
      "\n",
      "      Epoch    GPU_mem   box_loss   cls_loss   dfl_loss  Instances       Size\n"
     ]
    },
    {
     "name": "stderr",
     "output_type": "stream",
     "text": [
      "     76/600      11.1G     0.7675     0.5773      1.032         14        640: 100%|██████████| 50/50 [00:40<00:00,  1.24it/s]\n",
      "                 Class     Images  Instances      Box(P          R      mAP50  mAP50-95): 100%|██████████| 13/13 [00:07<00:00,  1.85it/s]\n"
     ]
    },
    {
     "name": "stdout",
     "output_type": "stream",
     "text": [
      "                   all        397        417      0.818      0.798      0.853      0.658\n",
      "\n",
      "      Epoch    GPU_mem   box_loss   cls_loss   dfl_loss  Instances       Size\n"
     ]
    },
    {
     "name": "stderr",
     "output_type": "stream",
     "text": [
      "     77/600      11.1G      0.759      0.562      1.016         13        640: 100%|██████████| 50/50 [00:40<00:00,  1.24it/s]\n",
      "                 Class     Images  Instances      Box(P          R      mAP50  mAP50-95): 100%|██████████| 13/13 [00:07<00:00,  1.86it/s]\n"
     ]
    },
    {
     "name": "stdout",
     "output_type": "stream",
     "text": [
      "                   all        397        417       0.89      0.903      0.925      0.737\n",
      "\n",
      "      Epoch    GPU_mem   box_loss   cls_loss   dfl_loss  Instances       Size\n"
     ]
    },
    {
     "name": "stderr",
     "output_type": "stream",
     "text": [
      "     78/600        11G     0.7568     0.5626      1.012         16        640: 100%|██████████| 50/50 [00:40<00:00,  1.24it/s]\n",
      "                 Class     Images  Instances      Box(P          R      mAP50  mAP50-95): 100%|██████████| 13/13 [00:07<00:00,  1.85it/s]\n"
     ]
    },
    {
     "name": "stdout",
     "output_type": "stream",
     "text": [
      "                   all        397        417      0.725      0.683      0.742      0.557\n",
      "\n",
      "      Epoch    GPU_mem   box_loss   cls_loss   dfl_loss  Instances       Size\n"
     ]
    },
    {
     "name": "stderr",
     "output_type": "stream",
     "text": [
      "     79/600      11.1G     0.7814     0.5885      1.028         14        640: 100%|██████████| 50/50 [00:40<00:00,  1.24it/s]\n",
      "                 Class     Images  Instances      Box(P          R      mAP50  mAP50-95): 100%|██████████| 13/13 [00:07<00:00,  1.85it/s]\n"
     ]
    },
    {
     "name": "stdout",
     "output_type": "stream",
     "text": [
      "                   all        397        417      0.875      0.856      0.912      0.735\n",
      "\n",
      "      Epoch    GPU_mem   box_loss   cls_loss   dfl_loss  Instances       Size\n"
     ]
    },
    {
     "name": "stderr",
     "output_type": "stream",
     "text": [
      "     80/600      11.1G     0.7294      0.533      1.004         14        640: 100%|██████████| 50/50 [00:40<00:00,  1.23it/s]\n",
      "                 Class     Images  Instances      Box(P          R      mAP50  mAP50-95): 100%|██████████| 13/13 [00:07<00:00,  1.85it/s]\n"
     ]
    },
    {
     "name": "stdout",
     "output_type": "stream",
     "text": [
      "                   all        397        417      0.876      0.875      0.913      0.737\n",
      "\n",
      "      Epoch    GPU_mem   box_loss   cls_loss   dfl_loss  Instances       Size\n"
     ]
    },
    {
     "name": "stderr",
     "output_type": "stream",
     "text": [
      "     81/600        11G     0.7403     0.5618      1.003          9        640: 100%|██████████| 50/50 [00:40<00:00,  1.24it/s]\n",
      "                 Class     Images  Instances      Box(P          R      mAP50  mAP50-95): 100%|██████████| 13/13 [00:07<00:00,  1.85it/s]\n"
     ]
    },
    {
     "name": "stdout",
     "output_type": "stream",
     "text": [
      "                   all        397        417      0.851      0.912      0.924      0.741\n",
      "\n",
      "      Epoch    GPU_mem   box_loss   cls_loss   dfl_loss  Instances       Size\n"
     ]
    },
    {
     "name": "stderr",
     "output_type": "stream",
     "text": [
      "     82/600      11.1G     0.7393     0.5472      1.002         14        640: 100%|██████████| 50/50 [00:40<00:00,  1.24it/s]\n",
      "                 Class     Images  Instances      Box(P          R      mAP50  mAP50-95): 100%|██████████| 13/13 [00:07<00:00,  1.85it/s]\n"
     ]
    },
    {
     "name": "stdout",
     "output_type": "stream",
     "text": [
      "                   all        397        417      0.858      0.865       0.92       0.74\n",
      "\n",
      "      Epoch    GPU_mem   box_loss   cls_loss   dfl_loss  Instances       Size\n"
     ]
    },
    {
     "name": "stderr",
     "output_type": "stream",
     "text": [
      "     83/600      11.1G     0.7352     0.5319      1.006         11        640: 100%|██████████| 50/50 [00:40<00:00,  1.24it/s]\n",
      "                 Class     Images  Instances      Box(P          R      mAP50  mAP50-95): 100%|██████████| 13/13 [00:07<00:00,  1.85it/s]\n"
     ]
    },
    {
     "name": "stdout",
     "output_type": "stream",
     "text": [
      "                   all        397        417      0.784      0.729      0.803      0.632\n",
      "\n",
      "      Epoch    GPU_mem   box_loss   cls_loss   dfl_loss  Instances       Size\n"
     ]
    },
    {
     "name": "stderr",
     "output_type": "stream",
     "text": [
      "     84/600      11.1G      0.721     0.5232     0.9891         12        640: 100%|██████████| 50/50 [00:40<00:00,  1.24it/s]\n",
      "                 Class     Images  Instances      Box(P          R      mAP50  mAP50-95): 100%|██████████| 13/13 [00:07<00:00,  1.85it/s]\n"
     ]
    },
    {
     "name": "stdout",
     "output_type": "stream",
     "text": [
      "                   all        397        417      0.885      0.888      0.929      0.742\n",
      "\n",
      "      Epoch    GPU_mem   box_loss   cls_loss   dfl_loss  Instances       Size\n"
     ]
    },
    {
     "name": "stderr",
     "output_type": "stream",
     "text": [
      "     85/600      11.1G     0.7271     0.5148      1.008          8        640: 100%|██████████| 50/50 [00:40<00:00,  1.24it/s]\n",
      "                 Class     Images  Instances      Box(P          R      mAP50  mAP50-95): 100%|██████████| 13/13 [00:07<00:00,  1.85it/s]\n"
     ]
    },
    {
     "name": "stdout",
     "output_type": "stream",
     "text": [
      "                   all        397        417      0.837       0.85      0.893      0.712\n",
      "\n",
      "      Epoch    GPU_mem   box_loss   cls_loss   dfl_loss  Instances       Size\n"
     ]
    },
    {
     "name": "stderr",
     "output_type": "stream",
     "text": [
      "     86/600        11G     0.7337       0.52      1.008         13        640: 100%|██████████| 50/50 [00:40<00:00,  1.24it/s]\n",
      "                 Class     Images  Instances      Box(P          R      mAP50  mAP50-95): 100%|██████████| 13/13 [00:07<00:00,  1.85it/s]\n"
     ]
    },
    {
     "name": "stdout",
     "output_type": "stream",
     "text": [
      "                   all        397        417      0.912      0.831      0.908      0.733\n",
      "\n",
      "      Epoch    GPU_mem   box_loss   cls_loss   dfl_loss  Instances       Size\n"
     ]
    },
    {
     "name": "stderr",
     "output_type": "stream",
     "text": [
      "     87/600        11G     0.7035     0.5125     0.9876         12        640: 100%|██████████| 50/50 [00:40<00:00,  1.24it/s]\n",
      "                 Class     Images  Instances      Box(P          R      mAP50  mAP50-95): 100%|██████████| 13/13 [00:07<00:00,  1.85it/s]\n"
     ]
    },
    {
     "name": "stdout",
     "output_type": "stream",
     "text": [
      "                   all        397        417      0.909      0.883      0.935      0.749\n",
      "\n",
      "      Epoch    GPU_mem   box_loss   cls_loss   dfl_loss  Instances       Size\n"
     ]
    },
    {
     "name": "stderr",
     "output_type": "stream",
     "text": [
      "     88/600      11.1G     0.7056     0.5138     0.9943         11        640: 100%|██████████| 50/50 [00:40<00:00,  1.24it/s]\n",
      "                 Class     Images  Instances      Box(P          R      mAP50  mAP50-95): 100%|██████████| 13/13 [00:07<00:00,  1.84it/s]\n"
     ]
    },
    {
     "name": "stdout",
     "output_type": "stream",
     "text": [
      "                   all        397        417      0.838      0.687      0.806      0.617\n",
      "\n",
      "      Epoch    GPU_mem   box_loss   cls_loss   dfl_loss  Instances       Size\n"
     ]
    },
    {
     "name": "stderr",
     "output_type": "stream",
     "text": [
      "     89/600      11.1G     0.7128     0.5346     0.9828          8        640: 100%|██████████| 50/50 [00:40<00:00,  1.24it/s]\n",
      "                 Class     Images  Instances      Box(P          R      mAP50  mAP50-95): 100%|██████████| 13/13 [00:07<00:00,  1.85it/s]\n"
     ]
    },
    {
     "name": "stdout",
     "output_type": "stream",
     "text": [
      "                   all        397        417      0.883      0.898      0.929      0.758\n",
      "\n",
      "      Epoch    GPU_mem   box_loss   cls_loss   dfl_loss  Instances       Size\n"
     ]
    },
    {
     "name": "stderr",
     "output_type": "stream",
     "text": [
      "     90/600      11.1G     0.7236     0.5144      1.008         11        640: 100%|██████████| 50/50 [00:40<00:00,  1.24it/s]\n",
      "                 Class     Images  Instances      Box(P          R      mAP50  mAP50-95): 100%|██████████| 13/13 [00:07<00:00,  1.85it/s]\n"
     ]
    },
    {
     "name": "stdout",
     "output_type": "stream",
     "text": [
      "                   all        397        417      0.846      0.774      0.868       0.68\n",
      "\n",
      "      Epoch    GPU_mem   box_loss   cls_loss   dfl_loss  Instances       Size\n"
     ]
    },
    {
     "name": "stderr",
     "output_type": "stream",
     "text": [
      "     91/600      11.1G      0.707     0.5175     0.9999         12        640: 100%|██████████| 50/50 [00:40<00:00,  1.24it/s]\n",
      "                 Class     Images  Instances      Box(P          R      mAP50  mAP50-95): 100%|██████████| 13/13 [00:07<00:00,  1.86it/s]\n"
     ]
    },
    {
     "name": "stdout",
     "output_type": "stream",
     "text": [
      "                   all        397        417      0.836      0.795      0.883        0.7\n",
      "\n",
      "      Epoch    GPU_mem   box_loss   cls_loss   dfl_loss  Instances       Size\n"
     ]
    },
    {
     "name": "stderr",
     "output_type": "stream",
     "text": [
      "     92/600      11.1G     0.6964     0.5054     0.9898         11        640: 100%|██████████| 50/50 [00:40<00:00,  1.24it/s]\n",
      "                 Class     Images  Instances      Box(P          R      mAP50  mAP50-95): 100%|██████████| 13/13 [00:07<00:00,  1.85it/s]\n"
     ]
    },
    {
     "name": "stdout",
     "output_type": "stream",
     "text": [
      "                   all        397        417      0.869      0.732      0.848      0.665\n",
      "\n",
      "      Epoch    GPU_mem   box_loss   cls_loss   dfl_loss  Instances       Size\n"
     ]
    },
    {
     "name": "stderr",
     "output_type": "stream",
     "text": [
      "     93/600        11G     0.6873     0.4875     0.9833          9        640: 100%|██████████| 50/50 [00:40<00:00,  1.24it/s]\n",
      "                 Class     Images  Instances      Box(P          R      mAP50  mAP50-95): 100%|██████████| 13/13 [00:07<00:00,  1.85it/s]\n"
     ]
    },
    {
     "name": "stdout",
     "output_type": "stream",
     "text": [
      "                   all        397        417      0.881       0.91      0.942       0.76\n",
      "\n",
      "      Epoch    GPU_mem   box_loss   cls_loss   dfl_loss  Instances       Size\n"
     ]
    },
    {
     "name": "stderr",
     "output_type": "stream",
     "text": [
      "     94/600      11.1G     0.6903      0.494     0.9925         14        640: 100%|██████████| 50/50 [00:40<00:00,  1.24it/s]\n",
      "                 Class     Images  Instances      Box(P          R      mAP50  mAP50-95): 100%|██████████| 13/13 [00:07<00:00,  1.85it/s]\n"
     ]
    },
    {
     "name": "stdout",
     "output_type": "stream",
     "text": [
      "                   all        397        417      0.853      0.844      0.907      0.726\n",
      "\n",
      "      Epoch    GPU_mem   box_loss   cls_loss   dfl_loss  Instances       Size\n"
     ]
    },
    {
     "name": "stderr",
     "output_type": "stream",
     "text": [
      "     95/600      11.1G     0.6893     0.4893     0.9903          9        640: 100%|██████████| 50/50 [00:40<00:00,  1.23it/s]\n",
      "                 Class     Images  Instances      Box(P          R      mAP50  mAP50-95): 100%|██████████| 13/13 [00:07<00:00,  1.85it/s]\n"
     ]
    },
    {
     "name": "stdout",
     "output_type": "stream",
     "text": [
      "                   all        397        417      0.879      0.757       0.85      0.668\n",
      "\n",
      "      Epoch    GPU_mem   box_loss   cls_loss   dfl_loss  Instances       Size\n"
     ]
    },
    {
     "name": "stderr",
     "output_type": "stream",
     "text": [
      "     96/600        11G     0.6843     0.4894     0.9876          9        640: 100%|██████████| 50/50 [00:40<00:00,  1.24it/s]\n",
      "                 Class     Images  Instances      Box(P          R      mAP50  mAP50-95): 100%|██████████| 13/13 [00:07<00:00,  1.85it/s]\n"
     ]
    },
    {
     "name": "stdout",
     "output_type": "stream",
     "text": [
      "                   all        397        417      0.889      0.891      0.932      0.752\n",
      "\n",
      "      Epoch    GPU_mem   box_loss   cls_loss   dfl_loss  Instances       Size\n"
     ]
    },
    {
     "name": "stderr",
     "output_type": "stream",
     "text": [
      "     97/600      11.1G     0.6857     0.4895     0.9845         13        640: 100%|██████████| 50/50 [00:40<00:00,  1.24it/s]\n",
      "                 Class     Images  Instances      Box(P          R      mAP50  mAP50-95): 100%|██████████| 13/13 [00:07<00:00,  1.85it/s]\n"
     ]
    },
    {
     "name": "stdout",
     "output_type": "stream",
     "text": [
      "                   all        397        417       0.87      0.875      0.924      0.747\n",
      "\n",
      "      Epoch    GPU_mem   box_loss   cls_loss   dfl_loss  Instances       Size\n"
     ]
    },
    {
     "name": "stderr",
     "output_type": "stream",
     "text": [
      "     98/600      11.1G     0.6629     0.4942     0.9656         11        640: 100%|██████████| 50/50 [00:40<00:00,  1.24it/s]\n",
      "                 Class     Images  Instances      Box(P          R      mAP50  mAP50-95): 100%|██████████| 13/13 [00:07<00:00,  1.85it/s]\n"
     ]
    },
    {
     "name": "stdout",
     "output_type": "stream",
     "text": [
      "                   all        397        417      0.906      0.874      0.935      0.765\n",
      "\n",
      "      Epoch    GPU_mem   box_loss   cls_loss   dfl_loss  Instances       Size\n"
     ]
    },
    {
     "name": "stderr",
     "output_type": "stream",
     "text": [
      "     99/600      11.1G     0.6663     0.4734     0.9623         17        640: 100%|██████████| 50/50 [00:40<00:00,  1.24it/s]\n",
      "                 Class     Images  Instances      Box(P          R      mAP50  mAP50-95): 100%|██████████| 13/13 [00:07<00:00,  1.85it/s]\n"
     ]
    },
    {
     "name": "stdout",
     "output_type": "stream",
     "text": [
      "                   all        397        417      0.919      0.873      0.938      0.761\n",
      "\n",
      "      Epoch    GPU_mem   box_loss   cls_loss   dfl_loss  Instances       Size\n"
     ]
    },
    {
     "name": "stderr",
     "output_type": "stream",
     "text": [
      "    100/600      11.1G     0.6684     0.4645     0.9735         13        640: 100%|██████████| 50/50 [00:40<00:00,  1.24it/s]\n",
      "                 Class     Images  Instances      Box(P          R      mAP50  mAP50-95): 100%|██████████| 13/13 [00:07<00:00,  1.84it/s]\n"
     ]
    },
    {
     "name": "stdout",
     "output_type": "stream",
     "text": [
      "                   all        397        417       0.87      0.872       0.91      0.732\n",
      "\n",
      "      Epoch    GPU_mem   box_loss   cls_loss   dfl_loss  Instances       Size\n"
     ]
    },
    {
     "name": "stderr",
     "output_type": "stream",
     "text": [
      "    101/600      11.1G     0.6646       0.48     0.9688         13        640: 100%|██████████| 50/50 [00:40<00:00,  1.24it/s]\n",
      "                 Class     Images  Instances      Box(P          R      mAP50  mAP50-95): 100%|██████████| 13/13 [00:07<00:00,  1.85it/s]\n"
     ]
    },
    {
     "name": "stdout",
     "output_type": "stream",
     "text": [
      "                   all        397        417      0.911      0.907      0.941      0.762\n",
      "\n",
      "      Epoch    GPU_mem   box_loss   cls_loss   dfl_loss  Instances       Size\n"
     ]
    },
    {
     "name": "stderr",
     "output_type": "stream",
     "text": [
      "    102/600      11.1G     0.6712     0.4808     0.9815         13        640: 100%|██████████| 50/50 [00:40<00:00,  1.24it/s]\n",
      "                 Class     Images  Instances      Box(P          R      mAP50  mAP50-95): 100%|██████████| 13/13 [00:07<00:00,  1.84it/s]\n"
     ]
    },
    {
     "name": "stdout",
     "output_type": "stream",
     "text": [
      "                   all        397        417      0.757      0.613      0.655      0.506\n",
      "\n",
      "      Epoch    GPU_mem   box_loss   cls_loss   dfl_loss  Instances       Size\n"
     ]
    },
    {
     "name": "stderr",
     "output_type": "stream",
     "text": [
      "    103/600      11.1G     0.6487      0.456      0.969          9        640: 100%|██████████| 50/50 [00:40<00:00,  1.24it/s]\n",
      "                 Class     Images  Instances      Box(P          R      mAP50  mAP50-95): 100%|██████████| 13/13 [00:07<00:00,  1.85it/s]\n"
     ]
    },
    {
     "name": "stdout",
     "output_type": "stream",
     "text": [
      "                   all        397        417      0.866      0.892      0.934      0.765\n",
      "\n",
      "      Epoch    GPU_mem   box_loss   cls_loss   dfl_loss  Instances       Size\n"
     ]
    },
    {
     "name": "stderr",
     "output_type": "stream",
     "text": [
      "    104/600      11.1G     0.6806     0.4763     0.9747         10        640: 100%|██████████| 50/50 [00:40<00:00,  1.24it/s]\n",
      "                 Class     Images  Instances      Box(P          R      mAP50  mAP50-95): 100%|██████████| 13/13 [00:07<00:00,  1.85it/s]\n"
     ]
    },
    {
     "name": "stdout",
     "output_type": "stream",
     "text": [
      "                   all        397        417      0.864       0.88      0.914      0.728\n",
      "\n",
      "      Epoch    GPU_mem   box_loss   cls_loss   dfl_loss  Instances       Size\n"
     ]
    },
    {
     "name": "stderr",
     "output_type": "stream",
     "text": [
      "    105/600      11.1G     0.6834     0.4706     0.9877         11        640: 100%|██████████| 50/50 [00:40<00:00,  1.24it/s]\n",
      "                 Class     Images  Instances      Box(P          R      mAP50  mAP50-95): 100%|██████████| 13/13 [00:07<00:00,  1.85it/s]\n"
     ]
    },
    {
     "name": "stdout",
     "output_type": "stream",
     "text": [
      "                   all        397        417       0.82      0.801      0.864      0.675\n",
      "\n",
      "      Epoch    GPU_mem   box_loss   cls_loss   dfl_loss  Instances       Size\n"
     ]
    },
    {
     "name": "stderr",
     "output_type": "stream",
     "text": [
      "    106/600        11G     0.6891     0.4751     0.9806         10        640: 100%|██████████| 50/50 [00:40<00:00,  1.24it/s]\n",
      "                 Class     Images  Instances      Box(P          R      mAP50  mAP50-95): 100%|██████████| 13/13 [00:07<00:00,  1.85it/s]\n"
     ]
    },
    {
     "name": "stdout",
     "output_type": "stream",
     "text": [
      "                   all        397        417      0.891      0.835      0.887      0.719\n",
      "\n",
      "      Epoch    GPU_mem   box_loss   cls_loss   dfl_loss  Instances       Size\n"
     ]
    },
    {
     "name": "stderr",
     "output_type": "stream",
     "text": [
      "    107/600      11.1G     0.6628     0.4777     0.9769         17        640: 100%|██████████| 50/50 [00:40<00:00,  1.24it/s]\n",
      "                 Class     Images  Instances      Box(P          R      mAP50  mAP50-95): 100%|██████████| 13/13 [00:07<00:00,  1.85it/s]\n"
     ]
    },
    {
     "name": "stdout",
     "output_type": "stream",
     "text": [
      "                   all        397        417      0.841       0.85      0.906      0.741\n",
      "\n",
      "      Epoch    GPU_mem   box_loss   cls_loss   dfl_loss  Instances       Size\n"
     ]
    },
    {
     "name": "stderr",
     "output_type": "stream",
     "text": [
      "    108/600        11G     0.6692     0.4604     0.9828          9        640: 100%|██████████| 50/50 [00:40<00:00,  1.24it/s]\n",
      "                 Class     Images  Instances      Box(P          R      mAP50  mAP50-95): 100%|██████████| 13/13 [00:07<00:00,  1.85it/s]\n"
     ]
    },
    {
     "name": "stdout",
     "output_type": "stream",
     "text": [
      "                   all        397        417      0.922      0.889      0.944      0.778\n",
      "\n",
      "      Epoch    GPU_mem   box_loss   cls_loss   dfl_loss  Instances       Size\n"
     ]
    },
    {
     "name": "stderr",
     "output_type": "stream",
     "text": [
      "    109/600        11G     0.6244     0.4511      0.956          7        640: 100%|██████████| 50/50 [00:40<00:00,  1.24it/s]\n",
      "                 Class     Images  Instances      Box(P          R      mAP50  mAP50-95): 100%|██████████| 13/13 [00:07<00:00,  1.86it/s]\n"
     ]
    },
    {
     "name": "stdout",
     "output_type": "stream",
     "text": [
      "                   all        397        417      0.909      0.898      0.945      0.767\n",
      "\n",
      "      Epoch    GPU_mem   box_loss   cls_loss   dfl_loss  Instances       Size\n"
     ]
    },
    {
     "name": "stderr",
     "output_type": "stream",
     "text": [
      "    110/600      11.1G     0.6461     0.4446     0.9697         11        640: 100%|██████████| 50/50 [00:40<00:00,  1.24it/s]\n",
      "                 Class     Images  Instances      Box(P          R      mAP50  mAP50-95): 100%|██████████| 13/13 [00:07<00:00,  1.85it/s]\n"
     ]
    },
    {
     "name": "stdout",
     "output_type": "stream",
     "text": [
      "                   all        397        417      0.891      0.872       0.93      0.754\n",
      "\n",
      "      Epoch    GPU_mem   box_loss   cls_loss   dfl_loss  Instances       Size\n"
     ]
    },
    {
     "name": "stderr",
     "output_type": "stream",
     "text": [
      "    111/600      11.1G     0.6507     0.4577     0.9639          9        640: 100%|██████████| 50/50 [00:40<00:00,  1.24it/s]\n",
      "                 Class     Images  Instances      Box(P          R      mAP50  mAP50-95): 100%|██████████| 13/13 [00:07<00:00,  1.85it/s]\n"
     ]
    },
    {
     "name": "stdout",
     "output_type": "stream",
     "text": [
      "                   all        397        417       0.89      0.845      0.909      0.744\n",
      "\n",
      "      Epoch    GPU_mem   box_loss   cls_loss   dfl_loss  Instances       Size\n"
     ]
    },
    {
     "name": "stderr",
     "output_type": "stream",
     "text": [
      "    112/600        11G     0.6575     0.4606     0.9732         13        640: 100%|██████████| 50/50 [00:40<00:00,  1.24it/s]\n",
      "                 Class     Images  Instances      Box(P          R      mAP50  mAP50-95): 100%|██████████| 13/13 [00:07<00:00,  1.86it/s]\n"
     ]
    },
    {
     "name": "stdout",
     "output_type": "stream",
     "text": [
      "                   all        397        417      0.908      0.913      0.951      0.776\n",
      "\n",
      "      Epoch    GPU_mem   box_loss   cls_loss   dfl_loss  Instances       Size\n"
     ]
    },
    {
     "name": "stderr",
     "output_type": "stream",
     "text": [
      "    113/600        11G     0.6658     0.4702     0.9627         12        640: 100%|██████████| 50/50 [00:40<00:00,  1.24it/s]\n",
      "                 Class     Images  Instances      Box(P          R      mAP50  mAP50-95): 100%|██████████| 13/13 [00:07<00:00,  1.84it/s]\n"
     ]
    },
    {
     "name": "stdout",
     "output_type": "stream",
     "text": [
      "                   all        397        417      0.935      0.914      0.967      0.795\n",
      "\n",
      "      Epoch    GPU_mem   box_loss   cls_loss   dfl_loss  Instances       Size\n"
     ]
    },
    {
     "name": "stderr",
     "output_type": "stream",
     "text": [
      "    114/600        11G     0.6444     0.4483     0.9623          8        640: 100%|██████████| 50/50 [00:40<00:00,  1.24it/s]\n",
      "                 Class     Images  Instances      Box(P          R      mAP50  mAP50-95): 100%|██████████| 13/13 [00:07<00:00,  1.85it/s]\n"
     ]
    },
    {
     "name": "stdout",
     "output_type": "stream",
     "text": [
      "                   all        397        417      0.898      0.843       0.93      0.742\n",
      "\n",
      "      Epoch    GPU_mem   box_loss   cls_loss   dfl_loss  Instances       Size\n"
     ]
    },
    {
     "name": "stderr",
     "output_type": "stream",
     "text": [
      "    115/600        11G     0.6218     0.4194     0.9551          6        640: 100%|██████████| 50/50 [00:40<00:00,  1.25it/s]\n",
      "                 Class     Images  Instances      Box(P          R      mAP50  mAP50-95): 100%|██████████| 13/13 [00:07<00:00,  1.83it/s]\n"
     ]
    },
    {
     "name": "stdout",
     "output_type": "stream",
     "text": [
      "                   all        397        417       0.92      0.935      0.959      0.779\n",
      "\n",
      "      Epoch    GPU_mem   box_loss   cls_loss   dfl_loss  Instances       Size\n"
     ]
    },
    {
     "name": "stderr",
     "output_type": "stream",
     "text": [
      "    116/600        11G     0.6325     0.4312     0.9687         10        640: 100%|██████████| 50/50 [00:40<00:00,  1.25it/s]\n",
      "                 Class     Images  Instances      Box(P          R      mAP50  mAP50-95): 100%|██████████| 13/13 [00:07<00:00,  1.85it/s]\n"
     ]
    },
    {
     "name": "stdout",
     "output_type": "stream",
     "text": [
      "                   all        397        417      0.892       0.92      0.953      0.779\n",
      "\n",
      "      Epoch    GPU_mem   box_loss   cls_loss   dfl_loss  Instances       Size\n"
     ]
    },
    {
     "name": "stderr",
     "output_type": "stream",
     "text": [
      "    117/600      11.1G     0.6364     0.4498     0.9636         12        640: 100%|██████████| 50/50 [00:40<00:00,  1.24it/s]\n",
      "                 Class     Images  Instances      Box(P          R      mAP50  mAP50-95): 100%|██████████| 13/13 [00:07<00:00,  1.85it/s]\n"
     ]
    },
    {
     "name": "stdout",
     "output_type": "stream",
     "text": [
      "                   all        397        417      0.927      0.934      0.958      0.787\n",
      "\n",
      "      Epoch    GPU_mem   box_loss   cls_loss   dfl_loss  Instances       Size\n"
     ]
    },
    {
     "name": "stderr",
     "output_type": "stream",
     "text": [
      "    118/600      11.1G     0.6157     0.4274     0.9416         13        640: 100%|██████████| 50/50 [00:40<00:00,  1.24it/s]\n",
      "                 Class     Images  Instances      Box(P          R      mAP50  mAP50-95): 100%|██████████| 13/13 [00:07<00:00,  1.85it/s]\n"
     ]
    },
    {
     "name": "stdout",
     "output_type": "stream",
     "text": [
      "                   all        397        417       0.86      0.852      0.899      0.726\n",
      "\n",
      "      Epoch    GPU_mem   box_loss   cls_loss   dfl_loss  Instances       Size\n"
     ]
    },
    {
     "name": "stderr",
     "output_type": "stream",
     "text": [
      "    119/600        11G     0.6424     0.4471     0.9639         13        640: 100%|██████████| 50/50 [00:40<00:00,  1.24it/s]\n",
      "                 Class     Images  Instances      Box(P          R      mAP50  mAP50-95): 100%|██████████| 13/13 [00:06<00:00,  1.86it/s]\n"
     ]
    },
    {
     "name": "stdout",
     "output_type": "stream",
     "text": [
      "                   all        397        417      0.836      0.566      0.641      0.513\n",
      "\n",
      "      Epoch    GPU_mem   box_loss   cls_loss   dfl_loss  Instances       Size\n"
     ]
    },
    {
     "name": "stderr",
     "output_type": "stream",
     "text": [
      "    120/600      11.1G     0.6302     0.4473     0.9636         12        640: 100%|██████████| 50/50 [00:40<00:00,  1.24it/s]\n",
      "                 Class     Images  Instances      Box(P          R      mAP50  mAP50-95): 100%|██████████| 13/13 [00:07<00:00,  1.85it/s]\n"
     ]
    },
    {
     "name": "stdout",
     "output_type": "stream",
     "text": [
      "                   all        397        417      0.872      0.875      0.918      0.748\n",
      "\n",
      "      Epoch    GPU_mem   box_loss   cls_loss   dfl_loss  Instances       Size\n"
     ]
    },
    {
     "name": "stderr",
     "output_type": "stream",
     "text": [
      "    121/600      11.1G     0.6055     0.4354     0.9457         12        640: 100%|██████████| 50/50 [00:40<00:00,  1.24it/s]\n",
      "                 Class     Images  Instances      Box(P          R      mAP50  mAP50-95): 100%|██████████| 13/13 [00:07<00:00,  1.84it/s]\n"
     ]
    },
    {
     "name": "stdout",
     "output_type": "stream",
     "text": [
      "                   all        397        417      0.747      0.508      0.582      0.447\n",
      "\n",
      "      Epoch    GPU_mem   box_loss   cls_loss   dfl_loss  Instances       Size\n"
     ]
    },
    {
     "name": "stderr",
     "output_type": "stream",
     "text": [
      "    122/600      11.1G     0.6435     0.4333     0.9537         15        640: 100%|██████████| 50/50 [00:40<00:00,  1.25it/s]\n",
      "                 Class     Images  Instances      Box(P          R      mAP50  mAP50-95): 100%|██████████| 13/13 [00:07<00:00,  1.85it/s]\n"
     ]
    },
    {
     "name": "stdout",
     "output_type": "stream",
     "text": [
      "                   all        397        417       0.87      0.755      0.833      0.666\n",
      "\n",
      "      Epoch    GPU_mem   box_loss   cls_loss   dfl_loss  Instances       Size\n"
     ]
    },
    {
     "name": "stderr",
     "output_type": "stream",
     "text": [
      "    123/600      11.1G     0.6155     0.4349     0.9648         15        640: 100%|██████████| 50/50 [00:40<00:00,  1.24it/s]\n",
      "                 Class     Images  Instances      Box(P          R      mAP50  mAP50-95): 100%|██████████| 13/13 [00:07<00:00,  1.86it/s]\n"
     ]
    },
    {
     "name": "stdout",
     "output_type": "stream",
     "text": [
      "                   all        397        417      0.917      0.929      0.958      0.804\n",
      "\n",
      "      Epoch    GPU_mem   box_loss   cls_loss   dfl_loss  Instances       Size\n"
     ]
    },
    {
     "name": "stderr",
     "output_type": "stream",
     "text": [
      "    124/600      11.1G     0.6074     0.4063     0.9446         13        640: 100%|██████████| 50/50 [00:40<00:00,  1.24it/s]\n",
      "                 Class     Images  Instances      Box(P          R      mAP50  mAP50-95): 100%|██████████| 13/13 [00:07<00:00,  1.84it/s]\n"
     ]
    },
    {
     "name": "stdout",
     "output_type": "stream",
     "text": [
      "                   all        397        417      0.896      0.936       0.96      0.798\n",
      "\n",
      "      Epoch    GPU_mem   box_loss   cls_loss   dfl_loss  Instances       Size\n"
     ]
    },
    {
     "name": "stderr",
     "output_type": "stream",
     "text": [
      "    125/600      11.1G      0.598     0.4075     0.9355         14        640: 100%|██████████| 50/50 [00:40<00:00,  1.24it/s]\n",
      "                 Class     Images  Instances      Box(P          R      mAP50  mAP50-95): 100%|██████████| 13/13 [00:07<00:00,  1.85it/s]\n"
     ]
    },
    {
     "name": "stdout",
     "output_type": "stream",
     "text": [
      "                   all        397        417      0.821      0.796      0.849      0.679\n",
      "\n",
      "      Epoch    GPU_mem   box_loss   cls_loss   dfl_loss  Instances       Size\n"
     ]
    },
    {
     "name": "stderr",
     "output_type": "stream",
     "text": [
      "    126/600      11.1G     0.6181     0.4036     0.9565         12        640: 100%|██████████| 50/50 [00:40<00:00,  1.24it/s]\n",
      "                 Class     Images  Instances      Box(P          R      mAP50  mAP50-95): 100%|██████████| 13/13 [00:07<00:00,  1.84it/s]\n"
     ]
    },
    {
     "name": "stdout",
     "output_type": "stream",
     "text": [
      "                   all        397        417      0.897      0.914       0.95      0.778\n",
      "\n",
      "      Epoch    GPU_mem   box_loss   cls_loss   dfl_loss  Instances       Size\n"
     ]
    },
    {
     "name": "stderr",
     "output_type": "stream",
     "text": [
      "    127/600      11.1G     0.6135     0.4299     0.9477         16        640: 100%|██████████| 50/50 [00:40<00:00,  1.24it/s]\n",
      "                 Class     Images  Instances      Box(P          R      mAP50  mAP50-95): 100%|██████████| 13/13 [00:07<00:00,  1.86it/s]\n"
     ]
    },
    {
     "name": "stdout",
     "output_type": "stream",
     "text": [
      "                   all        397        417      0.932      0.858      0.947       0.78\n",
      "\n",
      "      Epoch    GPU_mem   box_loss   cls_loss   dfl_loss  Instances       Size\n"
     ]
    },
    {
     "name": "stderr",
     "output_type": "stream",
     "text": [
      "    128/600      11.1G     0.6108     0.4107     0.9503         12        640: 100%|██████████| 50/50 [00:40<00:00,  1.24it/s]\n",
      "                 Class     Images  Instances      Box(P          R      mAP50  mAP50-95): 100%|██████████| 13/13 [00:07<00:00,  1.85it/s]\n"
     ]
    },
    {
     "name": "stdout",
     "output_type": "stream",
     "text": [
      "                   all        397        417      0.922      0.881      0.933      0.768\n",
      "\n",
      "      Epoch    GPU_mem   box_loss   cls_loss   dfl_loss  Instances       Size\n"
     ]
    },
    {
     "name": "stderr",
     "output_type": "stream",
     "text": [
      "    129/600        11G     0.6097     0.4158     0.9511         12        640: 100%|██████████| 50/50 [00:40<00:00,  1.24it/s]\n",
      "                 Class     Images  Instances      Box(P          R      mAP50  mAP50-95): 100%|██████████| 13/13 [00:07<00:00,  1.84it/s]\n"
     ]
    },
    {
     "name": "stdout",
     "output_type": "stream",
     "text": [
      "                   all        397        417      0.931      0.909      0.948      0.793\n",
      "\n",
      "      Epoch    GPU_mem   box_loss   cls_loss   dfl_loss  Instances       Size\n"
     ]
    },
    {
     "name": "stderr",
     "output_type": "stream",
     "text": [
      "    130/600      11.1G     0.5968     0.4066      0.953         11        640: 100%|██████████| 50/50 [00:40<00:00,  1.24it/s]\n",
      "                 Class     Images  Instances      Box(P          R      mAP50  mAP50-95): 100%|██████████| 13/13 [00:07<00:00,  1.85it/s]\n"
     ]
    },
    {
     "name": "stdout",
     "output_type": "stream",
     "text": [
      "                   all        397        417      0.926      0.939      0.965      0.806\n",
      "\n",
      "      Epoch    GPU_mem   box_loss   cls_loss   dfl_loss  Instances       Size\n"
     ]
    },
    {
     "name": "stderr",
     "output_type": "stream",
     "text": [
      "    131/600      11.1G      0.602     0.4212     0.9561         10        640: 100%|██████████| 50/50 [00:40<00:00,  1.24it/s]\n",
      "                 Class     Images  Instances      Box(P          R      mAP50  mAP50-95): 100%|██████████| 13/13 [00:07<00:00,  1.85it/s]\n"
     ]
    },
    {
     "name": "stdout",
     "output_type": "stream",
     "text": [
      "                   all        397        417      0.896      0.904      0.941      0.763\n",
      "\n",
      "      Epoch    GPU_mem   box_loss   cls_loss   dfl_loss  Instances       Size\n"
     ]
    },
    {
     "name": "stderr",
     "output_type": "stream",
     "text": [
      "    132/600      11.1G     0.6341     0.4158     0.9655         16        640: 100%|██████████| 50/50 [00:40<00:00,  1.24it/s]\n",
      "                 Class     Images  Instances      Box(P          R      mAP50  mAP50-95): 100%|██████████| 13/13 [00:07<00:00,  1.84it/s]\n"
     ]
    },
    {
     "name": "stdout",
     "output_type": "stream",
     "text": [
      "                   all        397        417      0.885       0.89      0.938      0.768\n",
      "\n",
      "      Epoch    GPU_mem   box_loss   cls_loss   dfl_loss  Instances       Size\n"
     ]
    },
    {
     "name": "stderr",
     "output_type": "stream",
     "text": [
      "    133/600      11.1G     0.6045     0.4017     0.9496         10        640: 100%|██████████| 50/50 [00:40<00:00,  1.24it/s]\n",
      "                 Class     Images  Instances      Box(P          R      mAP50  mAP50-95): 100%|██████████| 13/13 [00:07<00:00,  1.85it/s]\n"
     ]
    },
    {
     "name": "stdout",
     "output_type": "stream",
     "text": [
      "                   all        397        417      0.916      0.907       0.95      0.796\n",
      "\n",
      "      Epoch    GPU_mem   box_loss   cls_loss   dfl_loss  Instances       Size\n"
     ]
    },
    {
     "name": "stderr",
     "output_type": "stream",
     "text": [
      "    134/600      11.1G     0.5762     0.3894      0.943         13        640: 100%|██████████| 50/50 [00:40<00:00,  1.24it/s]\n",
      "                 Class     Images  Instances      Box(P          R      mAP50  mAP50-95): 100%|██████████| 13/13 [00:07<00:00,  1.85it/s]\n"
     ]
    },
    {
     "name": "stdout",
     "output_type": "stream",
     "text": [
      "                   all        397        417      0.942      0.895      0.957      0.796\n",
      "\n",
      "      Epoch    GPU_mem   box_loss   cls_loss   dfl_loss  Instances       Size\n"
     ]
    },
    {
     "name": "stderr",
     "output_type": "stream",
     "text": [
      "    135/600      11.1G     0.6152     0.4147      0.955         11        640: 100%|██████████| 50/50 [00:40<00:00,  1.24it/s]\n",
      "                 Class     Images  Instances      Box(P          R      mAP50  mAP50-95): 100%|██████████| 13/13 [00:07<00:00,  1.85it/s]\n"
     ]
    },
    {
     "name": "stdout",
     "output_type": "stream",
     "text": [
      "                   all        397        417       0.87      0.851      0.903      0.734\n",
      "\n",
      "      Epoch    GPU_mem   box_loss   cls_loss   dfl_loss  Instances       Size\n"
     ]
    },
    {
     "name": "stderr",
     "output_type": "stream",
     "text": [
      "    136/600        11G     0.5753     0.4012     0.9319         14        640: 100%|██████████| 50/50 [00:40<00:00,  1.24it/s]\n",
      "                 Class     Images  Instances      Box(P          R      mAP50  mAP50-95): 100%|██████████| 13/13 [00:07<00:00,  1.85it/s]\n"
     ]
    },
    {
     "name": "stdout",
     "output_type": "stream",
     "text": [
      "                   all        397        417       0.91      0.936      0.957      0.793\n",
      "\n",
      "      Epoch    GPU_mem   box_loss   cls_loss   dfl_loss  Instances       Size\n"
     ]
    },
    {
     "name": "stderr",
     "output_type": "stream",
     "text": [
      "    137/600        11G     0.5817     0.3821     0.9376         20        640: 100%|██████████| 50/50 [00:40<00:00,  1.24it/s]\n",
      "                 Class     Images  Instances      Box(P          R      mAP50  mAP50-95): 100%|██████████| 13/13 [00:07<00:00,  1.85it/s]\n"
     ]
    },
    {
     "name": "stdout",
     "output_type": "stream",
     "text": [
      "                   all        397        417      0.915      0.926      0.951      0.803\n",
      "\n",
      "      Epoch    GPU_mem   box_loss   cls_loss   dfl_loss  Instances       Size\n"
     ]
    },
    {
     "name": "stderr",
     "output_type": "stream",
     "text": [
      "    138/600      11.1G     0.5813     0.3906     0.9411         14        640: 100%|██████████| 50/50 [00:40<00:00,  1.24it/s]\n",
      "                 Class     Images  Instances      Box(P          R      mAP50  mAP50-95): 100%|██████████| 13/13 [00:07<00:00,  1.85it/s]\n"
     ]
    },
    {
     "name": "stdout",
     "output_type": "stream",
     "text": [
      "                   all        397        417      0.846      0.782      0.841      0.683\n",
      "\n",
      "      Epoch    GPU_mem   box_loss   cls_loss   dfl_loss  Instances       Size\n"
     ]
    },
    {
     "name": "stderr",
     "output_type": "stream",
     "text": [
      "    139/600      11.1G     0.5736     0.3817     0.9272         13        640: 100%|██████████| 50/50 [00:40<00:00,  1.24it/s]\n",
      "                 Class     Images  Instances      Box(P          R      mAP50  mAP50-95): 100%|██████████| 13/13 [00:07<00:00,  1.85it/s]\n"
     ]
    },
    {
     "name": "stdout",
     "output_type": "stream",
     "text": [
      "                   all        397        417      0.808      0.682       0.75      0.598\n",
      "\n",
      "      Epoch    GPU_mem   box_loss   cls_loss   dfl_loss  Instances       Size\n"
     ]
    },
    {
     "name": "stderr",
     "output_type": "stream",
     "text": [
      "    140/600      11.1G     0.5627     0.3898     0.9276         11        640: 100%|██████████| 50/50 [00:40<00:00,  1.24it/s]\n",
      "                 Class     Images  Instances      Box(P          R      mAP50  mAP50-95): 100%|██████████| 13/13 [00:07<00:00,  1.85it/s]\n"
     ]
    },
    {
     "name": "stdout",
     "output_type": "stream",
     "text": [
      "                   all        397        417      0.933      0.901      0.952      0.794\n",
      "\n",
      "      Epoch    GPU_mem   box_loss   cls_loss   dfl_loss  Instances       Size\n"
     ]
    },
    {
     "name": "stderr",
     "output_type": "stream",
     "text": [
      "    141/600        11G     0.5823     0.3985     0.9381         15        640: 100%|██████████| 50/50 [00:40<00:00,  1.24it/s]\n",
      "                 Class     Images  Instances      Box(P          R      mAP50  mAP50-95): 100%|██████████| 13/13 [00:07<00:00,  1.85it/s]\n"
     ]
    },
    {
     "name": "stdout",
     "output_type": "stream",
     "text": [
      "                   all        397        417      0.901      0.936       0.96      0.806\n",
      "\n",
      "      Epoch    GPU_mem   box_loss   cls_loss   dfl_loss  Instances       Size\n"
     ]
    },
    {
     "name": "stderr",
     "output_type": "stream",
     "text": [
      "    142/600        11G     0.5858     0.4024     0.9516         12        640: 100%|██████████| 50/50 [00:40<00:00,  1.24it/s]\n",
      "                 Class     Images  Instances      Box(P          R      mAP50  mAP50-95): 100%|██████████| 13/13 [00:07<00:00,  1.85it/s]\n"
     ]
    },
    {
     "name": "stdout",
     "output_type": "stream",
     "text": [
      "                   all        397        417      0.909      0.936      0.956      0.792\n",
      "\n",
      "      Epoch    GPU_mem   box_loss   cls_loss   dfl_loss  Instances       Size\n"
     ]
    },
    {
     "name": "stderr",
     "output_type": "stream",
     "text": [
      "    143/600      11.1G     0.5767     0.4156     0.9412         12        640: 100%|██████████| 50/50 [00:40<00:00,  1.24it/s]\n",
      "                 Class     Images  Instances      Box(P          R      mAP50  mAP50-95): 100%|██████████| 13/13 [00:07<00:00,  1.84it/s]\n"
     ]
    },
    {
     "name": "stdout",
     "output_type": "stream",
     "text": [
      "                   all        397        417      0.914      0.844      0.926      0.761\n",
      "\n",
      "      Epoch    GPU_mem   box_loss   cls_loss   dfl_loss  Instances       Size\n"
     ]
    },
    {
     "name": "stderr",
     "output_type": "stream",
     "text": [
      "    144/600      11.1G     0.5797     0.4105     0.9355         16        640: 100%|██████████| 50/50 [00:40<00:00,  1.24it/s]\n",
      "                 Class     Images  Instances      Box(P          R      mAP50  mAP50-95): 100%|██████████| 13/13 [00:07<00:00,  1.86it/s]\n"
     ]
    },
    {
     "name": "stdout",
     "output_type": "stream",
     "text": [
      "                   all        397        417      0.926      0.892      0.946      0.786\n",
      "\n",
      "      Epoch    GPU_mem   box_loss   cls_loss   dfl_loss  Instances       Size\n"
     ]
    },
    {
     "name": "stderr",
     "output_type": "stream",
     "text": [
      "    145/600        11G     0.5507     0.3856     0.9243          7        640: 100%|██████████| 50/50 [00:40<00:00,  1.24it/s]\n",
      "                 Class     Images  Instances      Box(P          R      mAP50  mAP50-95): 100%|██████████| 13/13 [00:07<00:00,  1.84it/s]\n"
     ]
    },
    {
     "name": "stdout",
     "output_type": "stream",
     "text": [
      "                   all        397        417      0.858      0.837      0.887       0.71\n",
      "\n",
      "      Epoch    GPU_mem   box_loss   cls_loss   dfl_loss  Instances       Size\n"
     ]
    },
    {
     "name": "stderr",
     "output_type": "stream",
     "text": [
      "    146/600      11.1G     0.5797     0.3971     0.9332         13        640: 100%|██████████| 50/50 [00:40<00:00,  1.24it/s]\n",
      "                 Class     Images  Instances      Box(P          R      mAP50  mAP50-95): 100%|██████████| 13/13 [00:07<00:00,  1.84it/s]\n"
     ]
    },
    {
     "name": "stdout",
     "output_type": "stream",
     "text": [
      "                   all        397        417      0.746       0.71      0.782      0.625\n",
      "\n",
      "      Epoch    GPU_mem   box_loss   cls_loss   dfl_loss  Instances       Size\n"
     ]
    },
    {
     "name": "stderr",
     "output_type": "stream",
     "text": [
      "    147/600        11G     0.5717      0.399     0.9341          5        640: 100%|██████████| 50/50 [00:40<00:00,  1.24it/s]\n",
      "                 Class     Images  Instances      Box(P          R      mAP50  mAP50-95): 100%|██████████| 13/13 [00:07<00:00,  1.85it/s]\n"
     ]
    },
    {
     "name": "stdout",
     "output_type": "stream",
     "text": [
      "                   all        397        417      0.931      0.897      0.957      0.791\n",
      "\n",
      "      Epoch    GPU_mem   box_loss   cls_loss   dfl_loss  Instances       Size\n"
     ]
    },
    {
     "name": "stderr",
     "output_type": "stream",
     "text": [
      "    148/600      11.1G     0.5777     0.4018     0.9408         11        640: 100%|██████████| 50/50 [00:40<00:00,  1.24it/s]\n",
      "                 Class     Images  Instances      Box(P          R      mAP50  mAP50-95): 100%|██████████| 13/13 [00:07<00:00,  1.85it/s]\n"
     ]
    },
    {
     "name": "stdout",
     "output_type": "stream",
     "text": [
      "                   all        397        417      0.907      0.879       0.93      0.763\n",
      "\n",
      "      Epoch    GPU_mem   box_loss   cls_loss   dfl_loss  Instances       Size\n"
     ]
    },
    {
     "name": "stderr",
     "output_type": "stream",
     "text": [
      "    149/600      11.1G     0.5602     0.3802     0.9294         13        640: 100%|██████████| 50/50 [00:40<00:00,  1.24it/s]\n",
      "                 Class     Images  Instances      Box(P          R      mAP50  mAP50-95): 100%|██████████| 13/13 [00:07<00:00,  1.85it/s]\n"
     ]
    },
    {
     "name": "stdout",
     "output_type": "stream",
     "text": [
      "                   all        397        417      0.918      0.891      0.942      0.779\n",
      "\n",
      "      Epoch    GPU_mem   box_loss   cls_loss   dfl_loss  Instances       Size\n"
     ]
    },
    {
     "name": "stderr",
     "output_type": "stream",
     "text": [
      "    150/600      11.1G     0.5647     0.3857     0.9387         11        640: 100%|██████████| 50/50 [00:40<00:00,  1.24it/s]\n",
      "                 Class     Images  Instances      Box(P          R      mAP50  mAP50-95): 100%|██████████| 13/13 [00:07<00:00,  1.85it/s]\n"
     ]
    },
    {
     "name": "stdout",
     "output_type": "stream",
     "text": [
      "                   all        397        417      0.924      0.878      0.953      0.784\n",
      "\n",
      "      Epoch    GPU_mem   box_loss   cls_loss   dfl_loss  Instances       Size\n"
     ]
    },
    {
     "name": "stderr",
     "output_type": "stream",
     "text": [
      "    151/600        11G     0.5777      0.375     0.9393         13        640: 100%|██████████| 50/50 [00:40<00:00,  1.24it/s]\n",
      "                 Class     Images  Instances      Box(P          R      mAP50  mAP50-95): 100%|██████████| 13/13 [00:07<00:00,  1.85it/s]\n"
     ]
    },
    {
     "name": "stdout",
     "output_type": "stream",
     "text": [
      "                   all        397        417      0.903      0.855      0.924      0.768\n",
      "\n",
      "      Epoch    GPU_mem   box_loss   cls_loss   dfl_loss  Instances       Size\n"
     ]
    },
    {
     "name": "stderr",
     "output_type": "stream",
     "text": [
      "    152/600      11.1G     0.5787     0.3882     0.9462          9        640: 100%|██████████| 50/50 [00:40<00:00,  1.24it/s]\n",
      "                 Class     Images  Instances      Box(P          R      mAP50  mAP50-95): 100%|██████████| 13/13 [00:07<00:00,  1.85it/s]\n"
     ]
    },
    {
     "name": "stdout",
     "output_type": "stream",
     "text": [
      "                   all        397        417      0.898      0.908      0.949      0.796\n",
      "\n",
      "      Epoch    GPU_mem   box_loss   cls_loss   dfl_loss  Instances       Size\n"
     ]
    },
    {
     "name": "stderr",
     "output_type": "stream",
     "text": [
      "    153/600      11.1G     0.5605     0.3722     0.9413         13        640: 100%|██████████| 50/50 [00:40<00:00,  1.24it/s]\n",
      "                 Class     Images  Instances      Box(P          R      mAP50  mAP50-95): 100%|██████████| 13/13 [00:07<00:00,  1.85it/s]\n"
     ]
    },
    {
     "name": "stdout",
     "output_type": "stream",
     "text": [
      "                   all        397        417      0.915       0.91      0.951      0.794\n",
      "\n",
      "      Epoch    GPU_mem   box_loss   cls_loss   dfl_loss  Instances       Size\n"
     ]
    },
    {
     "name": "stderr",
     "output_type": "stream",
     "text": [
      "    154/600        11G     0.5618     0.3951     0.9303         12        640: 100%|██████████| 50/50 [00:40<00:00,  1.24it/s]\n",
      "                 Class     Images  Instances      Box(P          R      mAP50  mAP50-95): 100%|██████████| 13/13 [00:07<00:00,  1.85it/s]\n"
     ]
    },
    {
     "name": "stdout",
     "output_type": "stream",
     "text": [
      "                   all        397        417       0.91      0.891      0.949      0.799\n",
      "\n",
      "      Epoch    GPU_mem   box_loss   cls_loss   dfl_loss  Instances       Size\n"
     ]
    },
    {
     "name": "stderr",
     "output_type": "stream",
     "text": [
      "    155/600        11G     0.5375     0.3773     0.9215         14        640: 100%|██████████| 50/50 [00:40<00:00,  1.24it/s]\n",
      "                 Class     Images  Instances      Box(P          R      mAP50  mAP50-95): 100%|██████████| 13/13 [00:07<00:00,  1.85it/s]\n"
     ]
    },
    {
     "name": "stdout",
     "output_type": "stream",
     "text": [
      "                   all        397        417      0.938      0.888      0.952      0.802\n",
      "\n",
      "      Epoch    GPU_mem   box_loss   cls_loss   dfl_loss  Instances       Size\n"
     ]
    },
    {
     "name": "stderr",
     "output_type": "stream",
     "text": [
      "    156/600      11.1G     0.5381     0.3581     0.9208         13        640: 100%|██████████| 50/50 [00:40<00:00,  1.23it/s]\n",
      "                 Class     Images  Instances      Box(P          R      mAP50  mAP50-95): 100%|██████████| 13/13 [00:07<00:00,  1.86it/s]\n"
     ]
    },
    {
     "name": "stdout",
     "output_type": "stream",
     "text": [
      "                   all        397        417      0.938       0.92      0.958      0.811\n",
      "\n",
      "      Epoch    GPU_mem   box_loss   cls_loss   dfl_loss  Instances       Size\n"
     ]
    },
    {
     "name": "stderr",
     "output_type": "stream",
     "text": [
      "    157/600      11.1G     0.5632      0.381     0.9452         13        640: 100%|██████████| 50/50 [00:40<00:00,  1.24it/s]\n",
      "                 Class     Images  Instances      Box(P          R      mAP50  mAP50-95): 100%|██████████| 13/13 [00:07<00:00,  1.84it/s]\n"
     ]
    },
    {
     "name": "stdout",
     "output_type": "stream",
     "text": [
      "                   all        397        417      0.951      0.927      0.959        0.8\n",
      "\n",
      "      Epoch    GPU_mem   box_loss   cls_loss   dfl_loss  Instances       Size\n"
     ]
    },
    {
     "name": "stderr",
     "output_type": "stream",
     "text": [
      "    158/600      11.1G     0.5284     0.3712     0.9169         10        640: 100%|██████████| 50/50 [00:40<00:00,  1.24it/s]\n",
      "                 Class     Images  Instances      Box(P          R      mAP50  mAP50-95): 100%|██████████| 13/13 [00:07<00:00,  1.85it/s]\n"
     ]
    },
    {
     "name": "stdout",
     "output_type": "stream",
     "text": [
      "                   all        397        417      0.921      0.911      0.947      0.789\n",
      "\n",
      "      Epoch    GPU_mem   box_loss   cls_loss   dfl_loss  Instances       Size\n"
     ]
    },
    {
     "name": "stderr",
     "output_type": "stream",
     "text": [
      "    159/600      11.1G      0.539     0.3754     0.9248         13        640: 100%|██████████| 50/50 [00:40<00:00,  1.24it/s]\n",
      "                 Class     Images  Instances      Box(P          R      mAP50  mAP50-95): 100%|██████████| 13/13 [00:07<00:00,  1.85it/s]\n"
     ]
    },
    {
     "name": "stdout",
     "output_type": "stream",
     "text": [
      "                   all        397        417      0.879      0.878      0.927      0.768\n",
      "\n",
      "      Epoch    GPU_mem   box_loss   cls_loss   dfl_loss  Instances       Size\n"
     ]
    },
    {
     "name": "stderr",
     "output_type": "stream",
     "text": [
      "    160/600      11.1G     0.5432     0.3772     0.9189         10        640: 100%|██████████| 50/50 [00:40<00:00,  1.24it/s]\n",
      "                 Class     Images  Instances      Box(P          R      mAP50  mAP50-95): 100%|██████████| 13/13 [00:07<00:00,  1.86it/s]\n"
     ]
    },
    {
     "name": "stdout",
     "output_type": "stream",
     "text": [
      "                   all        397        417      0.864        0.8      0.864      0.709\n",
      "\n",
      "      Epoch    GPU_mem   box_loss   cls_loss   dfl_loss  Instances       Size\n"
     ]
    },
    {
     "name": "stderr",
     "output_type": "stream",
     "text": [
      "    161/600      11.1G     0.5185      0.371     0.9121         16        640: 100%|██████████| 50/50 [00:40<00:00,  1.24it/s]\n",
      "                 Class     Images  Instances      Box(P          R      mAP50  mAP50-95): 100%|██████████| 13/13 [00:07<00:00,  1.84it/s]\n"
     ]
    },
    {
     "name": "stdout",
     "output_type": "stream",
     "text": [
      "                   all        397        417      0.878      0.791       0.87      0.702\n",
      "\n",
      "      Epoch    GPU_mem   box_loss   cls_loss   dfl_loss  Instances       Size\n"
     ]
    },
    {
     "name": "stderr",
     "output_type": "stream",
     "text": [
      "    162/600        11G     0.5401     0.3569     0.9183         17        640: 100%|██████████| 50/50 [00:40<00:00,  1.24it/s]\n",
      "                 Class     Images  Instances      Box(P          R      mAP50  mAP50-95): 100%|██████████| 13/13 [00:07<00:00,  1.85it/s]\n"
     ]
    },
    {
     "name": "stdout",
     "output_type": "stream",
     "text": [
      "                   all        397        417      0.958      0.904      0.969      0.807\n",
      "\n",
      "      Epoch    GPU_mem   box_loss   cls_loss   dfl_loss  Instances       Size\n"
     ]
    },
    {
     "name": "stderr",
     "output_type": "stream",
     "text": [
      "    163/600      11.1G     0.5532     0.3784     0.9296         12        640: 100%|██████████| 50/50 [00:40<00:00,  1.23it/s]\n",
      "                 Class     Images  Instances      Box(P          R      mAP50  mAP50-95): 100%|██████████| 13/13 [00:07<00:00,  1.84it/s]\n"
     ]
    },
    {
     "name": "stdout",
     "output_type": "stream",
     "text": [
      "                   all        397        417      0.923      0.946      0.964      0.811\n",
      "\n",
      "      Epoch    GPU_mem   box_loss   cls_loss   dfl_loss  Instances       Size\n"
     ]
    },
    {
     "name": "stderr",
     "output_type": "stream",
     "text": [
      "    164/600      11.1G     0.5241     0.3619     0.9141         10        640: 100%|██████████| 50/50 [00:40<00:00,  1.24it/s]\n",
      "                 Class     Images  Instances      Box(P          R      mAP50  mAP50-95): 100%|██████████| 13/13 [00:07<00:00,  1.85it/s]\n"
     ]
    },
    {
     "name": "stdout",
     "output_type": "stream",
     "text": [
      "                   all        397        417      0.931      0.909      0.956      0.804\n",
      "\n",
      "      Epoch    GPU_mem   box_loss   cls_loss   dfl_loss  Instances       Size\n"
     ]
    },
    {
     "name": "stderr",
     "output_type": "stream",
     "text": [
      "    165/600        11G     0.5319     0.3721     0.9277         17        640: 100%|██████████| 50/50 [00:40<00:00,  1.23it/s]\n",
      "                 Class     Images  Instances      Box(P          R      mAP50  mAP50-95): 100%|██████████| 13/13 [00:07<00:00,  1.85it/s]\n"
     ]
    },
    {
     "name": "stdout",
     "output_type": "stream",
     "text": [
      "                   all        397        417      0.935      0.936      0.958       0.81\n",
      "\n",
      "      Epoch    GPU_mem   box_loss   cls_loss   dfl_loss  Instances       Size\n"
     ]
    },
    {
     "name": "stderr",
     "output_type": "stream",
     "text": [
      "    166/600      11.1G      0.528     0.3717     0.9294          6        640: 100%|██████████| 50/50 [00:40<00:00,  1.24it/s]\n",
      "                 Class     Images  Instances      Box(P          R      mAP50  mAP50-95): 100%|██████████| 13/13 [00:07<00:00,  1.85it/s]\n"
     ]
    },
    {
     "name": "stdout",
     "output_type": "stream",
     "text": [
      "                   all        397        417      0.927      0.894      0.939      0.783\n",
      "\n",
      "      Epoch    GPU_mem   box_loss   cls_loss   dfl_loss  Instances       Size\n"
     ]
    },
    {
     "name": "stderr",
     "output_type": "stream",
     "text": [
      "    167/600      11.1G     0.5347     0.3694     0.9288          9        640: 100%|██████████| 50/50 [00:40<00:00,  1.23it/s]\n",
      "                 Class     Images  Instances      Box(P          R      mAP50  mAP50-95): 100%|██████████| 13/13 [00:07<00:00,  1.85it/s]\n"
     ]
    },
    {
     "name": "stdout",
     "output_type": "stream",
     "text": [
      "                   all        397        417      0.922      0.913      0.954      0.809\n",
      "\n",
      "      Epoch    GPU_mem   box_loss   cls_loss   dfl_loss  Instances       Size\n"
     ]
    },
    {
     "name": "stderr",
     "output_type": "stream",
     "text": [
      "    168/600        11G     0.5499     0.3609     0.9258         11        640: 100%|██████████| 50/50 [00:40<00:00,  1.24it/s]\n",
      "                 Class     Images  Instances      Box(P          R      mAP50  mAP50-95): 100%|██████████| 13/13 [00:07<00:00,  1.84it/s]\n"
     ]
    },
    {
     "name": "stdout",
     "output_type": "stream",
     "text": [
      "                   all        397        417      0.927      0.923      0.953      0.803\n",
      "\n",
      "      Epoch    GPU_mem   box_loss   cls_loss   dfl_loss  Instances       Size\n"
     ]
    },
    {
     "name": "stderr",
     "output_type": "stream",
     "text": [
      "    169/600      11.1G     0.5302     0.3515     0.9261         10        640: 100%|██████████| 50/50 [00:40<00:00,  1.24it/s]\n",
      "                 Class     Images  Instances      Box(P          R      mAP50  mAP50-95): 100%|██████████| 13/13 [00:07<00:00,  1.85it/s]\n"
     ]
    },
    {
     "name": "stdout",
     "output_type": "stream",
     "text": [
      "                   all        397        417      0.876      0.805      0.897      0.727\n",
      "\n",
      "      Epoch    GPU_mem   box_loss   cls_loss   dfl_loss  Instances       Size\n"
     ]
    },
    {
     "name": "stderr",
     "output_type": "stream",
     "text": [
      "    170/600      11.1G     0.5365     0.3578     0.9314         15        640: 100%|██████████| 50/50 [00:40<00:00,  1.24it/s]\n",
      "                 Class     Images  Instances      Box(P          R      mAP50  mAP50-95): 100%|██████████| 13/13 [00:07<00:00,  1.84it/s]\n"
     ]
    },
    {
     "name": "stdout",
     "output_type": "stream",
     "text": [
      "                   all        397        417      0.934      0.922      0.964      0.818\n",
      "\n",
      "      Epoch    GPU_mem   box_loss   cls_loss   dfl_loss  Instances       Size\n"
     ]
    },
    {
     "name": "stderr",
     "output_type": "stream",
     "text": [
      "    171/600      11.1G     0.5073     0.3462     0.9109          9        640: 100%|██████████| 50/50 [00:40<00:00,  1.23it/s]\n",
      "                 Class     Images  Instances      Box(P          R      mAP50  mAP50-95): 100%|██████████| 13/13 [00:07<00:00,  1.84it/s]\n"
     ]
    },
    {
     "name": "stdout",
     "output_type": "stream",
     "text": [
      "                   all        397        417      0.841      0.859      0.913      0.758\n",
      "\n",
      "      Epoch    GPU_mem   box_loss   cls_loss   dfl_loss  Instances       Size\n"
     ]
    },
    {
     "name": "stderr",
     "output_type": "stream",
     "text": [
      "    172/600      11.1G     0.5172     0.3439     0.9189          6        640: 100%|██████████| 50/50 [00:40<00:00,  1.24it/s]\n",
      "                 Class     Images  Instances      Box(P          R      mAP50  mAP50-95): 100%|██████████| 13/13 [00:07<00:00,  1.84it/s]\n"
     ]
    },
    {
     "name": "stdout",
     "output_type": "stream",
     "text": [
      "                   all        397        417      0.947       0.93      0.973      0.822\n",
      "\n",
      "      Epoch    GPU_mem   box_loss   cls_loss   dfl_loss  Instances       Size\n"
     ]
    },
    {
     "name": "stderr",
     "output_type": "stream",
     "text": [
      "    173/600        11G     0.5229     0.3478     0.9068         10        640: 100%|██████████| 50/50 [00:40<00:00,  1.24it/s]\n",
      "                 Class     Images  Instances      Box(P          R      mAP50  mAP50-95): 100%|██████████| 13/13 [00:07<00:00,  1.84it/s]\n"
     ]
    },
    {
     "name": "stdout",
     "output_type": "stream",
     "text": [
      "                   all        397        417      0.931      0.955      0.971      0.834\n",
      "\n",
      "      Epoch    GPU_mem   box_loss   cls_loss   dfl_loss  Instances       Size\n"
     ]
    },
    {
     "name": "stderr",
     "output_type": "stream",
     "text": [
      "    174/600      11.1G     0.5055     0.3502      0.917         13        640: 100%|██████████| 50/50 [00:40<00:00,  1.24it/s]\n",
      "                 Class     Images  Instances      Box(P          R      mAP50  mAP50-95): 100%|██████████| 13/13 [00:07<00:00,  1.85it/s]\n"
     ]
    },
    {
     "name": "stdout",
     "output_type": "stream",
     "text": [
      "                   all        397        417      0.863      0.938      0.949      0.793\n",
      "\n",
      "      Epoch    GPU_mem   box_loss   cls_loss   dfl_loss  Instances       Size\n"
     ]
    },
    {
     "name": "stderr",
     "output_type": "stream",
     "text": [
      "    175/600      11.1G     0.5277     0.3514     0.9063         10        640: 100%|██████████| 50/50 [00:40<00:00,  1.24it/s]\n",
      "                 Class     Images  Instances      Box(P          R      mAP50  mAP50-95): 100%|██████████| 13/13 [00:07<00:00,  1.85it/s]\n"
     ]
    },
    {
     "name": "stdout",
     "output_type": "stream",
     "text": [
      "                   all        397        417      0.932      0.961       0.97      0.824\n",
      "\n",
      "      Epoch    GPU_mem   box_loss   cls_loss   dfl_loss  Instances       Size\n"
     ]
    },
    {
     "name": "stderr",
     "output_type": "stream",
     "text": [
      "    176/600        11G     0.5056     0.3507     0.9144         16        640: 100%|██████████| 50/50 [00:40<00:00,  1.24it/s]\n",
      "                 Class     Images  Instances      Box(P          R      mAP50  mAP50-95): 100%|██████████| 13/13 [00:07<00:00,  1.85it/s]\n"
     ]
    },
    {
     "name": "stdout",
     "output_type": "stream",
     "text": [
      "                   all        397        417      0.943      0.933      0.969      0.819\n",
      "\n",
      "      Epoch    GPU_mem   box_loss   cls_loss   dfl_loss  Instances       Size\n"
     ]
    },
    {
     "name": "stderr",
     "output_type": "stream",
     "text": [
      "    177/600        11G     0.4964     0.3387     0.8996         13        640: 100%|██████████| 50/50 [00:40<00:00,  1.24it/s]\n",
      "                 Class     Images  Instances      Box(P          R      mAP50  mAP50-95): 100%|██████████| 13/13 [00:07<00:00,  1.85it/s]\n"
     ]
    },
    {
     "name": "stdout",
     "output_type": "stream",
     "text": [
      "                   all        397        417      0.933       0.94      0.964      0.826\n",
      "\n",
      "      Epoch    GPU_mem   box_loss   cls_loss   dfl_loss  Instances       Size\n"
     ]
    },
    {
     "name": "stderr",
     "output_type": "stream",
     "text": [
      "    178/600      11.1G     0.5282     0.3559     0.9112         11        640: 100%|██████████| 50/50 [00:40<00:00,  1.24it/s]\n",
      "                 Class     Images  Instances      Box(P          R      mAP50  mAP50-95): 100%|██████████| 13/13 [00:07<00:00,  1.84it/s]\n"
     ]
    },
    {
     "name": "stdout",
     "output_type": "stream",
     "text": [
      "                   all        397        417      0.901      0.913      0.947      0.805\n",
      "\n",
      "      Epoch    GPU_mem   box_loss   cls_loss   dfl_loss  Instances       Size\n"
     ]
    },
    {
     "name": "stderr",
     "output_type": "stream",
     "text": [
      "    179/600      11.1G     0.5108     0.3416     0.9108          6        640: 100%|██████████| 50/50 [00:40<00:00,  1.24it/s]\n",
      "                 Class     Images  Instances      Box(P          R      mAP50  mAP50-95): 100%|██████████| 13/13 [00:07<00:00,  1.86it/s]\n"
     ]
    },
    {
     "name": "stdout",
     "output_type": "stream",
     "text": [
      "                   all        397        417      0.902       0.84      0.919      0.769\n",
      "\n",
      "      Epoch    GPU_mem   box_loss   cls_loss   dfl_loss  Instances       Size\n"
     ]
    },
    {
     "name": "stderr",
     "output_type": "stream",
     "text": [
      "    180/600        11G     0.5042     0.3352     0.9234         17        640: 100%|██████████| 50/50 [00:40<00:00,  1.24it/s]\n",
      "                 Class     Images  Instances      Box(P          R      mAP50  mAP50-95): 100%|██████████| 13/13 [00:07<00:00,  1.85it/s]\n"
     ]
    },
    {
     "name": "stdout",
     "output_type": "stream",
     "text": [
      "                   all        397        417      0.913      0.883      0.935      0.783\n",
      "\n",
      "      Epoch    GPU_mem   box_loss   cls_loss   dfl_loss  Instances       Size\n"
     ]
    },
    {
     "name": "stderr",
     "output_type": "stream",
     "text": [
      "    181/600      11.1G     0.5362     0.3686     0.9339         12        640: 100%|██████████| 50/50 [00:40<00:00,  1.24it/s]\n",
      "                 Class     Images  Instances      Box(P          R      mAP50  mAP50-95): 100%|██████████| 13/13 [00:07<00:00,  1.85it/s]\n"
     ]
    },
    {
     "name": "stdout",
     "output_type": "stream",
     "text": [
      "                   all        397        417       0.93      0.931      0.962      0.823\n",
      "\n",
      "      Epoch    GPU_mem   box_loss   cls_loss   dfl_loss  Instances       Size\n"
     ]
    },
    {
     "name": "stderr",
     "output_type": "stream",
     "text": [
      "    182/600      11.1G     0.5152     0.3519     0.9223         10        640: 100%|██████████| 50/50 [00:40<00:00,  1.24it/s]\n",
      "                 Class     Images  Instances      Box(P          R      mAP50  mAP50-95): 100%|██████████| 13/13 [00:07<00:00,  1.84it/s]\n"
     ]
    },
    {
     "name": "stdout",
     "output_type": "stream",
     "text": [
      "                   all        397        417      0.958      0.904      0.964      0.829\n",
      "\n",
      "      Epoch    GPU_mem   box_loss   cls_loss   dfl_loss  Instances       Size\n"
     ]
    },
    {
     "name": "stderr",
     "output_type": "stream",
     "text": [
      "    183/600      11.1G     0.5151     0.3583     0.9121         14        640: 100%|██████████| 50/50 [00:40<00:00,  1.24it/s]\n",
      "                 Class     Images  Instances      Box(P          R      mAP50  mAP50-95): 100%|██████████| 13/13 [00:07<00:00,  1.85it/s]\n"
     ]
    },
    {
     "name": "stdout",
     "output_type": "stream",
     "text": [
      "                   all        397        417      0.879       0.91      0.942      0.799\n",
      "\n",
      "      Epoch    GPU_mem   box_loss   cls_loss   dfl_loss  Instances       Size\n"
     ]
    },
    {
     "name": "stderr",
     "output_type": "stream",
     "text": [
      "    184/600        11G     0.5063     0.3339     0.9174         13        640: 100%|██████████| 50/50 [00:40<00:00,  1.24it/s]\n",
      "                 Class     Images  Instances      Box(P          R      mAP50  mAP50-95): 100%|██████████| 13/13 [00:07<00:00,  1.85it/s]\n"
     ]
    },
    {
     "name": "stdout",
     "output_type": "stream",
     "text": [
      "                   all        397        417      0.904      0.943      0.955      0.818\n",
      "\n",
      "      Epoch    GPU_mem   box_loss   cls_loss   dfl_loss  Instances       Size\n"
     ]
    },
    {
     "name": "stderr",
     "output_type": "stream",
     "text": [
      "    185/600      11.1G     0.5225     0.3634     0.9241         14        640: 100%|██████████| 50/50 [00:40<00:00,  1.24it/s]\n",
      "                 Class     Images  Instances      Box(P          R      mAP50  mAP50-95): 100%|██████████| 13/13 [00:07<00:00,  1.85it/s]\n"
     ]
    },
    {
     "name": "stdout",
     "output_type": "stream",
     "text": [
      "                   all        397        417      0.919      0.949      0.964      0.831\n",
      "\n",
      "      Epoch    GPU_mem   box_loss   cls_loss   dfl_loss  Instances       Size\n"
     ]
    },
    {
     "name": "stderr",
     "output_type": "stream",
     "text": [
      "    186/600      11.1G      0.489     0.3179     0.9059         10        640: 100%|██████████| 50/50 [00:40<00:00,  1.24it/s]\n",
      "                 Class     Images  Instances      Box(P          R      mAP50  mAP50-95): 100%|██████████| 13/13 [00:07<00:00,  1.85it/s]\n"
     ]
    },
    {
     "name": "stdout",
     "output_type": "stream",
     "text": [
      "                   all        397        417      0.906      0.952      0.962      0.826\n",
      "\n",
      "      Epoch    GPU_mem   box_loss   cls_loss   dfl_loss  Instances       Size\n"
     ]
    },
    {
     "name": "stderr",
     "output_type": "stream",
     "text": [
      "    187/600        11G     0.5114     0.3465     0.9068         14        640: 100%|██████████| 50/50 [00:40<00:00,  1.25it/s]\n",
      "                 Class     Images  Instances      Box(P          R      mAP50  mAP50-95): 100%|██████████| 13/13 [00:07<00:00,  1.85it/s]\n"
     ]
    },
    {
     "name": "stdout",
     "output_type": "stream",
     "text": [
      "                   all        397        417      0.951      0.948      0.974      0.842\n",
      "\n",
      "      Epoch    GPU_mem   box_loss   cls_loss   dfl_loss  Instances       Size\n"
     ]
    },
    {
     "name": "stderr",
     "output_type": "stream",
     "text": [
      "    188/600        11G     0.5081     0.3405     0.9198         16        640: 100%|██████████| 50/50 [00:40<00:00,  1.24it/s]\n",
      "                 Class     Images  Instances      Box(P          R      mAP50  mAP50-95): 100%|██████████| 13/13 [00:07<00:00,  1.85it/s]\n"
     ]
    },
    {
     "name": "stdout",
     "output_type": "stream",
     "text": [
      "                   all        397        417      0.906      0.926       0.95      0.813\n",
      "\n",
      "      Epoch    GPU_mem   box_loss   cls_loss   dfl_loss  Instances       Size\n"
     ]
    },
    {
     "name": "stderr",
     "output_type": "stream",
     "text": [
      "    189/600      11.1G      0.495       0.33     0.9032         10        640: 100%|██████████| 50/50 [00:40<00:00,  1.24it/s]\n",
      "                 Class     Images  Instances      Box(P          R      mAP50  mAP50-95): 100%|██████████| 13/13 [00:07<00:00,  1.84it/s]\n"
     ]
    },
    {
     "name": "stdout",
     "output_type": "stream",
     "text": [
      "                   all        397        417      0.913      0.939      0.971      0.827\n",
      "\n",
      "      Epoch    GPU_mem   box_loss   cls_loss   dfl_loss  Instances       Size\n"
     ]
    },
    {
     "name": "stderr",
     "output_type": "stream",
     "text": [
      "    190/600        11G     0.5098     0.3426     0.9093         18        640: 100%|██████████| 50/50 [00:40<00:00,  1.24it/s]\n",
      "                 Class     Images  Instances      Box(P          R      mAP50  mAP50-95): 100%|██████████| 13/13 [00:07<00:00,  1.85it/s]\n"
     ]
    },
    {
     "name": "stdout",
     "output_type": "stream",
     "text": [
      "                   all        397        417      0.944      0.905      0.964      0.817\n",
      "\n",
      "      Epoch    GPU_mem   box_loss   cls_loss   dfl_loss  Instances       Size\n"
     ]
    },
    {
     "name": "stderr",
     "output_type": "stream",
     "text": [
      "    191/600      11.1G     0.4945     0.3356     0.9051         13        640: 100%|██████████| 50/50 [00:40<00:00,  1.24it/s]\n",
      "                 Class     Images  Instances      Box(P          R      mAP50  mAP50-95): 100%|██████████| 13/13 [00:07<00:00,  1.85it/s]\n"
     ]
    },
    {
     "name": "stdout",
     "output_type": "stream",
     "text": [
      "                   all        397        417      0.949      0.931      0.962      0.824\n",
      "\n",
      "      Epoch    GPU_mem   box_loss   cls_loss   dfl_loss  Instances       Size\n"
     ]
    },
    {
     "name": "stderr",
     "output_type": "stream",
     "text": [
      "    192/600      11.1G     0.5046     0.3472     0.9178         11        640: 100%|██████████| 50/50 [00:40<00:00,  1.24it/s]\n",
      "                 Class     Images  Instances      Box(P          R      mAP50  mAP50-95): 100%|██████████| 13/13 [00:07<00:00,  1.85it/s]\n"
     ]
    },
    {
     "name": "stdout",
     "output_type": "stream",
     "text": [
      "                   all        397        417      0.914      0.879       0.94      0.793\n",
      "\n",
      "      Epoch    GPU_mem   box_loss   cls_loss   dfl_loss  Instances       Size\n"
     ]
    },
    {
     "name": "stderr",
     "output_type": "stream",
     "text": [
      "    193/600      11.1G     0.4875     0.3406      0.894         14        640: 100%|██████████| 50/50 [00:40<00:00,  1.24it/s]\n",
      "                 Class     Images  Instances      Box(P          R      mAP50  mAP50-95): 100%|██████████| 13/13 [00:07<00:00,  1.83it/s]\n"
     ]
    },
    {
     "name": "stdout",
     "output_type": "stream",
     "text": [
      "                   all        397        417      0.942      0.951      0.969      0.832\n",
      "\n",
      "      Epoch    GPU_mem   box_loss   cls_loss   dfl_loss  Instances       Size\n"
     ]
    },
    {
     "name": "stderr",
     "output_type": "stream",
     "text": [
      "    194/600        11G      0.494     0.3431     0.9135         11        640: 100%|██████████| 50/50 [00:40<00:00,  1.24it/s]\n",
      "                 Class     Images  Instances      Box(P          R      mAP50  mAP50-95): 100%|██████████| 13/13 [00:07<00:00,  1.84it/s]\n"
     ]
    },
    {
     "name": "stdout",
     "output_type": "stream",
     "text": [
      "                   all        397        417      0.949      0.949      0.963       0.83\n",
      "\n",
      "      Epoch    GPU_mem   box_loss   cls_loss   dfl_loss  Instances       Size\n"
     ]
    },
    {
     "name": "stderr",
     "output_type": "stream",
     "text": [
      "    195/600      11.1G     0.4946       0.33     0.9142         12        640: 100%|██████████| 50/50 [00:40<00:00,  1.24it/s]\n",
      "                 Class     Images  Instances      Box(P          R      mAP50  mAP50-95): 100%|██████████| 13/13 [00:07<00:00,  1.84it/s]\n"
     ]
    },
    {
     "name": "stdout",
     "output_type": "stream",
     "text": [
      "                   all        397        417      0.948      0.942      0.973      0.831\n",
      "\n",
      "      Epoch    GPU_mem   box_loss   cls_loss   dfl_loss  Instances       Size\n"
     ]
    },
    {
     "name": "stderr",
     "output_type": "stream",
     "text": [
      "    196/600        11G     0.4933     0.3576     0.9078         11        640: 100%|██████████| 50/50 [00:40<00:00,  1.24it/s]\n",
      "                 Class     Images  Instances      Box(P          R      mAP50  mAP50-95): 100%|██████████| 13/13 [00:07<00:00,  1.85it/s]\n"
     ]
    },
    {
     "name": "stdout",
     "output_type": "stream",
     "text": [
      "                   all        397        417      0.936      0.921      0.955      0.805\n",
      "\n",
      "      Epoch    GPU_mem   box_loss   cls_loss   dfl_loss  Instances       Size\n"
     ]
    },
    {
     "name": "stderr",
     "output_type": "stream",
     "text": [
      "    197/600      11.1G     0.4802     0.3339     0.9068          8        640: 100%|██████████| 50/50 [00:40<00:00,  1.24it/s]\n",
      "                 Class     Images  Instances      Box(P          R      mAP50  mAP50-95): 100%|██████████| 13/13 [00:07<00:00,  1.86it/s]\n"
     ]
    },
    {
     "name": "stdout",
     "output_type": "stream",
     "text": [
      "                   all        397        417       0.94      0.908      0.956      0.809\n",
      "\n",
      "      Epoch    GPU_mem   box_loss   cls_loss   dfl_loss  Instances       Size\n"
     ]
    },
    {
     "name": "stderr",
     "output_type": "stream",
     "text": [
      "    198/600      11.1G     0.5127     0.3494     0.9192         13        640: 100%|██████████| 50/50 [00:40<00:00,  1.24it/s]\n",
      "                 Class     Images  Instances      Box(P          R      mAP50  mAP50-95): 100%|██████████| 13/13 [00:07<00:00,  1.85it/s]\n"
     ]
    },
    {
     "name": "stdout",
     "output_type": "stream",
     "text": [
      "                   all        397        417      0.934      0.925       0.96      0.811\n",
      "\n",
      "      Epoch    GPU_mem   box_loss   cls_loss   dfl_loss  Instances       Size\n"
     ]
    },
    {
     "name": "stderr",
     "output_type": "stream",
     "text": [
      "    199/600      11.1G     0.4751     0.3322     0.9056          7        640: 100%|██████████| 50/50 [00:40<00:00,  1.24it/s]\n",
      "                 Class     Images  Instances      Box(P          R      mAP50  mAP50-95): 100%|██████████| 13/13 [00:07<00:00,  1.85it/s]\n"
     ]
    },
    {
     "name": "stdout",
     "output_type": "stream",
     "text": [
      "                   all        397        417      0.938      0.956      0.973      0.834\n",
      "\n",
      "      Epoch    GPU_mem   box_loss   cls_loss   dfl_loss  Instances       Size\n"
     ]
    },
    {
     "name": "stderr",
     "output_type": "stream",
     "text": [
      "    200/600      11.1G     0.4899     0.3383     0.9032         13        640: 100%|██████████| 50/50 [00:40<00:00,  1.24it/s]\n",
      "                 Class     Images  Instances      Box(P          R      mAP50  mAP50-95): 100%|██████████| 13/13 [00:07<00:00,  1.84it/s]\n"
     ]
    },
    {
     "name": "stdout",
     "output_type": "stream",
     "text": [
      "                   all        397        417      0.955      0.919      0.963      0.821\n",
      "\n",
      "      Epoch    GPU_mem   box_loss   cls_loss   dfl_loss  Instances       Size\n"
     ]
    },
    {
     "name": "stderr",
     "output_type": "stream",
     "text": [
      "    201/600      11.1G     0.4643     0.3354     0.8884         12        640: 100%|██████████| 50/50 [00:40<00:00,  1.24it/s]\n",
      "                 Class     Images  Instances      Box(P          R      mAP50  mAP50-95): 100%|██████████| 13/13 [00:07<00:00,  1.85it/s]\n"
     ]
    },
    {
     "name": "stdout",
     "output_type": "stream",
     "text": [
      "                   all        397        417      0.921      0.875      0.944      0.787\n",
      "\n",
      "      Epoch    GPU_mem   box_loss   cls_loss   dfl_loss  Instances       Size\n"
     ]
    },
    {
     "name": "stderr",
     "output_type": "stream",
     "text": [
      "    202/600      11.1G     0.4849     0.3196     0.9031         14        640: 100%|██████████| 50/50 [00:40<00:00,  1.24it/s]\n",
      "                 Class     Images  Instances      Box(P          R      mAP50  mAP50-95): 100%|██████████| 13/13 [00:07<00:00,  1.85it/s]\n"
     ]
    },
    {
     "name": "stdout",
     "output_type": "stream",
     "text": [
      "                   all        397        417       0.95      0.945      0.977       0.84\n",
      "\n",
      "      Epoch    GPU_mem   box_loss   cls_loss   dfl_loss  Instances       Size\n"
     ]
    },
    {
     "name": "stderr",
     "output_type": "stream",
     "text": [
      "    203/600      11.1G     0.4996     0.3316     0.9127         15        640: 100%|██████████| 50/50 [00:40<00:00,  1.24it/s]\n",
      "                 Class     Images  Instances      Box(P          R      mAP50  mAP50-95): 100%|██████████| 13/13 [00:07<00:00,  1.86it/s]\n"
     ]
    },
    {
     "name": "stdout",
     "output_type": "stream",
     "text": [
      "                   all        397        417      0.942      0.945      0.969      0.832\n",
      "\n",
      "      Epoch    GPU_mem   box_loss   cls_loss   dfl_loss  Instances       Size\n"
     ]
    },
    {
     "name": "stderr",
     "output_type": "stream",
     "text": [
      "    204/600      11.1G     0.4806     0.3392     0.9138         13        640: 100%|██████████| 50/50 [00:40<00:00,  1.24it/s]\n",
      "                 Class     Images  Instances      Box(P          R      mAP50  mAP50-95): 100%|██████████| 13/13 [00:07<00:00,  1.85it/s]\n"
     ]
    },
    {
     "name": "stdout",
     "output_type": "stream",
     "text": [
      "                   all        397        417      0.972      0.949      0.978      0.845\n",
      "\n",
      "      Epoch    GPU_mem   box_loss   cls_loss   dfl_loss  Instances       Size\n"
     ]
    },
    {
     "name": "stderr",
     "output_type": "stream",
     "text": [
      "    205/600        11G     0.4955      0.321     0.9164         10        640: 100%|██████████| 50/50 [00:40<00:00,  1.24it/s]\n",
      "                 Class     Images  Instances      Box(P          R      mAP50  mAP50-95): 100%|██████████| 13/13 [00:07<00:00,  1.85it/s]\n"
     ]
    },
    {
     "name": "stdout",
     "output_type": "stream",
     "text": [
      "                   all        397        417      0.933      0.916      0.963      0.825\n",
      "\n",
      "      Epoch    GPU_mem   box_loss   cls_loss   dfl_loss  Instances       Size\n"
     ]
    },
    {
     "name": "stderr",
     "output_type": "stream",
     "text": [
      "    206/600      11.1G     0.4752     0.3168     0.8889         17        640: 100%|██████████| 50/50 [00:40<00:00,  1.24it/s]\n",
      "                 Class     Images  Instances      Box(P          R      mAP50  mAP50-95): 100%|██████████| 13/13 [00:07<00:00,  1.84it/s]\n"
     ]
    },
    {
     "name": "stdout",
     "output_type": "stream",
     "text": [
      "                   all        397        417      0.946      0.948       0.97      0.843\n",
      "\n",
      "      Epoch    GPU_mem   box_loss   cls_loss   dfl_loss  Instances       Size\n"
     ]
    },
    {
     "name": "stderr",
     "output_type": "stream",
     "text": [
      "    207/600      11.1G     0.4652     0.3134     0.8875         15        640: 100%|██████████| 50/50 [00:40<00:00,  1.24it/s]\n",
      "                 Class     Images  Instances      Box(P          R      mAP50  mAP50-95): 100%|██████████| 13/13 [00:07<00:00,  1.83it/s]\n"
     ]
    },
    {
     "name": "stdout",
     "output_type": "stream",
     "text": [
      "                   all        397        417      0.943       0.95       0.97      0.842\n",
      "\n",
      "      Epoch    GPU_mem   box_loss   cls_loss   dfl_loss  Instances       Size\n"
     ]
    },
    {
     "name": "stderr",
     "output_type": "stream",
     "text": [
      "    208/600      11.1G     0.4892     0.3303     0.9196         13        640: 100%|██████████| 50/50 [00:40<00:00,  1.24it/s]\n",
      "                 Class     Images  Instances      Box(P          R      mAP50  mAP50-95): 100%|██████████| 13/13 [00:07<00:00,  1.85it/s]\n"
     ]
    },
    {
     "name": "stdout",
     "output_type": "stream",
     "text": [
      "                   all        397        417      0.963      0.946      0.972      0.846\n",
      "\n",
      "      Epoch    GPU_mem   box_loss   cls_loss   dfl_loss  Instances       Size\n"
     ]
    },
    {
     "name": "stderr",
     "output_type": "stream",
     "text": [
      "    209/600        11G     0.4756      0.334     0.8988         16        640: 100%|██████████| 50/50 [00:40<00:00,  1.24it/s]\n",
      "                 Class     Images  Instances      Box(P          R      mAP50  mAP50-95): 100%|██████████| 13/13 [00:07<00:00,  1.85it/s]\n"
     ]
    },
    {
     "name": "stdout",
     "output_type": "stream",
     "text": [
      "                   all        397        417      0.952      0.937      0.974      0.845\n",
      "\n",
      "      Epoch    GPU_mem   box_loss   cls_loss   dfl_loss  Instances       Size\n"
     ]
    },
    {
     "name": "stderr",
     "output_type": "stream",
     "text": [
      "    210/600      11.1G     0.4657     0.3219        0.9         11        640: 100%|██████████| 50/50 [00:40<00:00,  1.24it/s]\n",
      "                 Class     Images  Instances      Box(P          R      mAP50  mAP50-95): 100%|██████████| 13/13 [00:07<00:00,  1.85it/s]\n"
     ]
    },
    {
     "name": "stdout",
     "output_type": "stream",
     "text": [
      "                   all        397        417      0.929      0.949      0.963      0.826\n",
      "\n",
      "      Epoch    GPU_mem   box_loss   cls_loss   dfl_loss  Instances       Size\n"
     ]
    },
    {
     "name": "stderr",
     "output_type": "stream",
     "text": [
      "    211/600      11.1G     0.4756     0.3288     0.9069         12        640: 100%|██████████| 50/50 [00:40<00:00,  1.24it/s]\n",
      "                 Class     Images  Instances      Box(P          R      mAP50  mAP50-95): 100%|██████████| 13/13 [00:07<00:00,  1.85it/s]\n"
     ]
    },
    {
     "name": "stdout",
     "output_type": "stream",
     "text": [
      "                   all        397        417      0.949      0.915      0.968      0.838\n",
      "\n",
      "      Epoch    GPU_mem   box_loss   cls_loss   dfl_loss  Instances       Size\n"
     ]
    },
    {
     "name": "stderr",
     "output_type": "stream",
     "text": [
      "    212/600        11G     0.4857     0.3278     0.8999          7        640: 100%|██████████| 50/50 [00:40<00:00,  1.24it/s]\n",
      "                 Class     Images  Instances      Box(P          R      mAP50  mAP50-95): 100%|██████████| 13/13 [00:07<00:00,  1.85it/s]\n"
     ]
    },
    {
     "name": "stdout",
     "output_type": "stream",
     "text": [
      "                   all        397        417      0.937      0.938      0.968      0.834\n",
      "\n",
      "      Epoch    GPU_mem   box_loss   cls_loss   dfl_loss  Instances       Size\n"
     ]
    },
    {
     "name": "stderr",
     "output_type": "stream",
     "text": [
      "    213/600        11G     0.4612     0.3224     0.8972          7        640: 100%|██████████| 50/50 [00:40<00:00,  1.24it/s]\n",
      "                 Class     Images  Instances      Box(P          R      mAP50  mAP50-95): 100%|██████████| 13/13 [00:07<00:00,  1.84it/s]\n"
     ]
    },
    {
     "name": "stdout",
     "output_type": "stream",
     "text": [
      "                   all        397        417       0.94      0.936      0.965      0.837\n",
      "\n",
      "      Epoch    GPU_mem   box_loss   cls_loss   dfl_loss  Instances       Size\n"
     ]
    },
    {
     "name": "stderr",
     "output_type": "stream",
     "text": [
      "    214/600      11.1G     0.4718     0.3148     0.8985          9        640: 100%|██████████| 50/50 [00:40<00:00,  1.24it/s]\n",
      "                 Class     Images  Instances      Box(P          R      mAP50  mAP50-95): 100%|██████████| 13/13 [00:07<00:00,  1.85it/s]\n"
     ]
    },
    {
     "name": "stdout",
     "output_type": "stream",
     "text": [
      "                   all        397        417      0.946      0.937      0.969       0.85\n",
      "\n",
      "      Epoch    GPU_mem   box_loss   cls_loss   dfl_loss  Instances       Size\n"
     ]
    },
    {
     "name": "stderr",
     "output_type": "stream",
     "text": [
      "    215/600      11.1G      0.447     0.3014     0.8943         10        640: 100%|██████████| 50/50 [00:40<00:00,  1.24it/s]\n",
      "                 Class     Images  Instances      Box(P          R      mAP50  mAP50-95): 100%|██████████| 13/13 [00:07<00:00,  1.85it/s]\n"
     ]
    },
    {
     "name": "stdout",
     "output_type": "stream",
     "text": [
      "                   all        397        417      0.953      0.941      0.969      0.846\n",
      "\n",
      "      Epoch    GPU_mem   box_loss   cls_loss   dfl_loss  Instances       Size\n"
     ]
    },
    {
     "name": "stderr",
     "output_type": "stream",
     "text": [
      "    216/600      11.1G     0.4616      0.327     0.8911          8        640: 100%|██████████| 50/50 [00:40<00:00,  1.24it/s]\n",
      "                 Class     Images  Instances      Box(P          R      mAP50  mAP50-95): 100%|██████████| 13/13 [00:07<00:00,  1.85it/s]\n"
     ]
    },
    {
     "name": "stdout",
     "output_type": "stream",
     "text": [
      "                   all        397        417      0.951      0.945      0.971      0.841\n",
      "\n",
      "      Epoch    GPU_mem   box_loss   cls_loss   dfl_loss  Instances       Size\n"
     ]
    },
    {
     "name": "stderr",
     "output_type": "stream",
     "text": [
      "    217/600      11.1G     0.4665     0.3134     0.9014          9        640: 100%|██████████| 50/50 [00:40<00:00,  1.24it/s]\n",
      "                 Class     Images  Instances      Box(P          R      mAP50  mAP50-95): 100%|██████████| 13/13 [00:07<00:00,  1.84it/s]\n"
     ]
    },
    {
     "name": "stdout",
     "output_type": "stream",
     "text": [
      "                   all        397        417       0.94      0.954      0.971      0.841\n",
      "\n",
      "      Epoch    GPU_mem   box_loss   cls_loss   dfl_loss  Instances       Size\n"
     ]
    },
    {
     "name": "stderr",
     "output_type": "stream",
     "text": [
      "    218/600        11G     0.4793      0.325     0.9098         14        640: 100%|██████████| 50/50 [00:40<00:00,  1.24it/s]\n",
      "                 Class     Images  Instances      Box(P          R      mAP50  mAP50-95): 100%|██████████| 13/13 [00:07<00:00,  1.85it/s]\n"
     ]
    },
    {
     "name": "stdout",
     "output_type": "stream",
     "text": [
      "                   all        397        417      0.911      0.953      0.969      0.832\n",
      "\n",
      "      Epoch    GPU_mem   box_loss   cls_loss   dfl_loss  Instances       Size\n"
     ]
    },
    {
     "name": "stderr",
     "output_type": "stream",
     "text": [
      "    219/600      11.1G     0.4744     0.3182     0.9012          8        640: 100%|██████████| 50/50 [00:40<00:00,  1.24it/s]\n",
      "                 Class     Images  Instances      Box(P          R      mAP50  mAP50-95): 100%|██████████| 13/13 [00:07<00:00,  1.85it/s]\n"
     ]
    },
    {
     "name": "stdout",
     "output_type": "stream",
     "text": [
      "                   all        397        417      0.934      0.935       0.97      0.837\n",
      "\n",
      "      Epoch    GPU_mem   box_loss   cls_loss   dfl_loss  Instances       Size\n"
     ]
    },
    {
     "name": "stderr",
     "output_type": "stream",
     "text": [
      "    220/600        11G     0.4755     0.3213     0.9055         14        640: 100%|██████████| 50/50 [00:40<00:00,  1.24it/s]\n",
      "                 Class     Images  Instances      Box(P          R      mAP50  mAP50-95): 100%|██████████| 13/13 [00:07<00:00,  1.85it/s]\n"
     ]
    },
    {
     "name": "stdout",
     "output_type": "stream",
     "text": [
      "                   all        397        417       0.94      0.935      0.966      0.828\n",
      "\n",
      "      Epoch    GPU_mem   box_loss   cls_loss   dfl_loss  Instances       Size\n"
     ]
    },
    {
     "name": "stderr",
     "output_type": "stream",
     "text": [
      "    221/600      11.1G     0.4624     0.3046     0.8958         11        640: 100%|██████████| 50/50 [00:40<00:00,  1.24it/s]\n",
      "                 Class     Images  Instances      Box(P          R      mAP50  mAP50-95): 100%|██████████| 13/13 [00:07<00:00,  1.85it/s]\n"
     ]
    },
    {
     "name": "stdout",
     "output_type": "stream",
     "text": [
      "                   all        397        417      0.954      0.923      0.968      0.834\n",
      "\n",
      "      Epoch    GPU_mem   box_loss   cls_loss   dfl_loss  Instances       Size\n"
     ]
    },
    {
     "name": "stderr",
     "output_type": "stream",
     "text": [
      "    222/600        11G     0.4517     0.3066     0.9064          9        640: 100%|██████████| 50/50 [00:40<00:00,  1.24it/s]\n",
      "                 Class     Images  Instances      Box(P          R      mAP50  mAP50-95): 100%|██████████| 13/13 [00:06<00:00,  1.86it/s]\n"
     ]
    },
    {
     "name": "stdout",
     "output_type": "stream",
     "text": [
      "                   all        397        417      0.961      0.942      0.973      0.846\n",
      "\n",
      "      Epoch    GPU_mem   box_loss   cls_loss   dfl_loss  Instances       Size\n"
     ]
    },
    {
     "name": "stderr",
     "output_type": "stream",
     "text": [
      "    223/600      11.1G     0.4508     0.3093     0.8892         13        640: 100%|██████████| 50/50 [00:40<00:00,  1.24it/s]\n",
      "                 Class     Images  Instances      Box(P          R      mAP50  mAP50-95): 100%|██████████| 13/13 [00:07<00:00,  1.85it/s]\n"
     ]
    },
    {
     "name": "stdout",
     "output_type": "stream",
     "text": [
      "                   all        397        417      0.942       0.95       0.97      0.842\n",
      "\n",
      "      Epoch    GPU_mem   box_loss   cls_loss   dfl_loss  Instances       Size\n"
     ]
    },
    {
     "name": "stderr",
     "output_type": "stream",
     "text": [
      "    224/600      11.1G     0.4775     0.3237     0.9094         14        640: 100%|██████████| 50/50 [00:40<00:00,  1.24it/s]\n",
      "                 Class     Images  Instances      Box(P          R      mAP50  mAP50-95): 100%|██████████| 13/13 [00:07<00:00,  1.85it/s]\n"
     ]
    },
    {
     "name": "stdout",
     "output_type": "stream",
     "text": [
      "                   all        397        417      0.945      0.924      0.964      0.839\n",
      "\n",
      "      Epoch    GPU_mem   box_loss   cls_loss   dfl_loss  Instances       Size\n"
     ]
    },
    {
     "name": "stderr",
     "output_type": "stream",
     "text": [
      "    225/600        11G      0.445     0.3072     0.8763         12        640: 100%|██████████| 50/50 [00:40<00:00,  1.23it/s]\n",
      "                 Class     Images  Instances      Box(P          R      mAP50  mAP50-95): 100%|██████████| 13/13 [00:07<00:00,  1.85it/s]\n"
     ]
    },
    {
     "name": "stdout",
     "output_type": "stream",
     "text": [
      "                   all        397        417      0.959      0.922      0.968       0.84\n",
      "\n",
      "      Epoch    GPU_mem   box_loss   cls_loss   dfl_loss  Instances       Size\n"
     ]
    },
    {
     "name": "stderr",
     "output_type": "stream",
     "text": [
      "    226/600        11G     0.4417      0.293     0.8829         14        640: 100%|██████████| 50/50 [00:40<00:00,  1.24it/s]\n",
      "                 Class     Images  Instances      Box(P          R      mAP50  mAP50-95): 100%|██████████| 13/13 [00:07<00:00,  1.85it/s]\n"
     ]
    },
    {
     "name": "stdout",
     "output_type": "stream",
     "text": [
      "                   all        397        417      0.944      0.933      0.969      0.843\n",
      "\n",
      "      Epoch    GPU_mem   box_loss   cls_loss   dfl_loss  Instances       Size\n"
     ]
    },
    {
     "name": "stderr",
     "output_type": "stream",
     "text": [
      "    227/600        11G     0.4606     0.3118     0.9004         10        640: 100%|██████████| 50/50 [00:40<00:00,  1.23it/s]\n",
      "                 Class     Images  Instances      Box(P          R      mAP50  mAP50-95): 100%|██████████| 13/13 [00:06<00:00,  1.86it/s]\n"
     ]
    },
    {
     "name": "stdout",
     "output_type": "stream",
     "text": [
      "                   all        397        417      0.943      0.943      0.971      0.836\n",
      "\n",
      "      Epoch    GPU_mem   box_loss   cls_loss   dfl_loss  Instances       Size\n"
     ]
    },
    {
     "name": "stderr",
     "output_type": "stream",
     "text": [
      "    228/600      11.1G     0.4659     0.3154     0.9044         13        640: 100%|██████████| 50/50 [00:40<00:00,  1.23it/s]\n",
      "                 Class     Images  Instances      Box(P          R      mAP50  mAP50-95): 100%|██████████| 13/13 [00:07<00:00,  1.85it/s]\n"
     ]
    },
    {
     "name": "stdout",
     "output_type": "stream",
     "text": [
      "                   all        397        417      0.958      0.939      0.973      0.842\n",
      "\n",
      "      Epoch    GPU_mem   box_loss   cls_loss   dfl_loss  Instances       Size\n"
     ]
    },
    {
     "name": "stderr",
     "output_type": "stream",
     "text": [
      "    229/600      11.1G      0.461     0.3138     0.8962         15        640: 100%|██████████| 50/50 [00:40<00:00,  1.23it/s]\n",
      "                 Class     Images  Instances      Box(P          R      mAP50  mAP50-95): 100%|██████████| 13/13 [00:07<00:00,  1.83it/s]\n"
     ]
    },
    {
     "name": "stdout",
     "output_type": "stream",
     "text": [
      "                   all        397        417      0.942      0.925      0.966      0.832\n",
      "\n",
      "      Epoch    GPU_mem   box_loss   cls_loss   dfl_loss  Instances       Size\n"
     ]
    },
    {
     "name": "stderr",
     "output_type": "stream",
     "text": [
      "    230/600      11.1G     0.4679     0.3246     0.8985         14        640: 100%|██████████| 50/50 [00:40<00:00,  1.23it/s]\n",
      "                 Class     Images  Instances      Box(P          R      mAP50  mAP50-95): 100%|██████████| 13/13 [00:07<00:00,  1.85it/s]\n"
     ]
    },
    {
     "name": "stdout",
     "output_type": "stream",
     "text": [
      "                   all        397        417      0.945      0.919      0.964      0.826\n",
      "\n",
      "      Epoch    GPU_mem   box_loss   cls_loss   dfl_loss  Instances       Size\n"
     ]
    },
    {
     "name": "stderr",
     "output_type": "stream",
     "text": [
      "    231/600        11G     0.4499     0.2975     0.8946         10        640: 100%|██████████| 50/50 [00:40<00:00,  1.23it/s]\n",
      "                 Class     Images  Instances      Box(P          R      mAP50  mAP50-95): 100%|██████████| 13/13 [00:07<00:00,  1.85it/s]\n"
     ]
    },
    {
     "name": "stdout",
     "output_type": "stream",
     "text": [
      "                   all        397        417      0.969      0.926      0.978      0.857\n",
      "\n",
      "      Epoch    GPU_mem   box_loss   cls_loss   dfl_loss  Instances       Size\n"
     ]
    },
    {
     "name": "stderr",
     "output_type": "stream",
     "text": [
      "    232/600      11.1G     0.4427     0.2953     0.8946         13        640: 100%|██████████| 50/50 [00:40<00:00,  1.24it/s]\n",
      "                 Class     Images  Instances      Box(P          R      mAP50  mAP50-95): 100%|██████████| 13/13 [00:07<00:00,  1.85it/s]\n"
     ]
    },
    {
     "name": "stdout",
     "output_type": "stream",
     "text": [
      "                   all        397        417      0.936      0.951      0.974       0.85\n",
      "\n",
      "      Epoch    GPU_mem   box_loss   cls_loss   dfl_loss  Instances       Size\n"
     ]
    },
    {
     "name": "stderr",
     "output_type": "stream",
     "text": [
      "    233/600      11.1G     0.4528     0.3064     0.8989         11        640: 100%|██████████| 50/50 [00:40<00:00,  1.24it/s]\n",
      "                 Class     Images  Instances      Box(P          R      mAP50  mAP50-95): 100%|██████████| 13/13 [00:07<00:00,  1.85it/s]\n"
     ]
    },
    {
     "name": "stdout",
     "output_type": "stream",
     "text": [
      "                   all        397        417      0.944      0.946      0.978      0.858\n",
      "\n",
      "      Epoch    GPU_mem   box_loss   cls_loss   dfl_loss  Instances       Size\n"
     ]
    },
    {
     "name": "stderr",
     "output_type": "stream",
     "text": [
      "    234/600      11.1G      0.446     0.3063     0.8802         10        640: 100%|██████████| 50/50 [00:40<00:00,  1.24it/s]\n",
      "                 Class     Images  Instances      Box(P          R      mAP50  mAP50-95): 100%|██████████| 13/13 [00:07<00:00,  1.85it/s]\n"
     ]
    },
    {
     "name": "stdout",
     "output_type": "stream",
     "text": [
      "                   all        397        417      0.959      0.918      0.969      0.844\n",
      "\n",
      "      Epoch    GPU_mem   box_loss   cls_loss   dfl_loss  Instances       Size\n"
     ]
    },
    {
     "name": "stderr",
     "output_type": "stream",
     "text": [
      "    235/600      11.1G     0.4466     0.3069      0.888         12        640: 100%|██████████| 50/50 [00:40<00:00,  1.24it/s]\n",
      "                 Class     Images  Instances      Box(P          R      mAP50  mAP50-95): 100%|██████████| 13/13 [00:07<00:00,  1.85it/s]\n"
     ]
    },
    {
     "name": "stdout",
     "output_type": "stream",
     "text": [
      "                   all        397        417       0.97       0.94      0.978      0.856\n",
      "\n",
      "      Epoch    GPU_mem   box_loss   cls_loss   dfl_loss  Instances       Size\n"
     ]
    },
    {
     "name": "stderr",
     "output_type": "stream",
     "text": [
      "    236/600        11G     0.4498     0.2948     0.8938         11        640: 100%|██████████| 50/50 [00:40<00:00,  1.24it/s]\n",
      "                 Class     Images  Instances      Box(P          R      mAP50  mAP50-95): 100%|██████████| 13/13 [00:07<00:00,  1.86it/s]\n"
     ]
    },
    {
     "name": "stdout",
     "output_type": "stream",
     "text": [
      "                   all        397        417      0.944      0.959      0.979       0.85\n",
      "\n",
      "      Epoch    GPU_mem   box_loss   cls_loss   dfl_loss  Instances       Size\n"
     ]
    },
    {
     "name": "stderr",
     "output_type": "stream",
     "text": [
      "    237/600        11G     0.4526     0.3097     0.8972          9        640: 100%|██████████| 50/50 [00:40<00:00,  1.24it/s]\n",
      "                 Class     Images  Instances      Box(P          R      mAP50  mAP50-95): 100%|██████████| 13/13 [00:06<00:00,  1.86it/s]\n"
     ]
    },
    {
     "name": "stdout",
     "output_type": "stream",
     "text": [
      "                   all        397        417       0.94       0.88      0.961      0.832\n",
      "\n",
      "      Epoch    GPU_mem   box_loss   cls_loss   dfl_loss  Instances       Size\n"
     ]
    },
    {
     "name": "stderr",
     "output_type": "stream",
     "text": [
      "    238/600      11.1G     0.4408      0.289     0.8843         10        640: 100%|██████████| 50/50 [00:40<00:00,  1.23it/s]\n",
      "                 Class     Images  Instances      Box(P          R      mAP50  mAP50-95): 100%|██████████| 13/13 [00:07<00:00,  1.85it/s]\n"
     ]
    },
    {
     "name": "stdout",
     "output_type": "stream",
     "text": [
      "                   all        397        417      0.967      0.948       0.98       0.86\n",
      "\n",
      "      Epoch    GPU_mem   box_loss   cls_loss   dfl_loss  Instances       Size\n"
     ]
    },
    {
     "name": "stderr",
     "output_type": "stream",
     "text": [
      "    239/600      11.1G     0.4546     0.2988     0.8983         13        640: 100%|██████████| 50/50 [00:40<00:00,  1.24it/s]\n",
      "                 Class     Images  Instances      Box(P          R      mAP50  mAP50-95): 100%|██████████| 13/13 [00:07<00:00,  1.86it/s]\n"
     ]
    },
    {
     "name": "stdout",
     "output_type": "stream",
     "text": [
      "                   all        397        417      0.947      0.929      0.969      0.842\n",
      "\n",
      "      Epoch    GPU_mem   box_loss   cls_loss   dfl_loss  Instances       Size\n"
     ]
    },
    {
     "name": "stderr",
     "output_type": "stream",
     "text": [
      "    240/600        11G     0.4412     0.2884     0.8879         18        640: 100%|██████████| 50/50 [00:40<00:00,  1.24it/s]\n",
      "                 Class     Images  Instances      Box(P          R      mAP50  mAP50-95): 100%|██████████| 13/13 [00:07<00:00,  1.85it/s]\n"
     ]
    },
    {
     "name": "stdout",
     "output_type": "stream",
     "text": [
      "                   all        397        417      0.939      0.944      0.972      0.849\n",
      "\n",
      "      Epoch    GPU_mem   box_loss   cls_loss   dfl_loss  Instances       Size\n"
     ]
    },
    {
     "name": "stderr",
     "output_type": "stream",
     "text": [
      "    241/600      11.1G      0.451     0.3016     0.8993         12        640: 100%|██████████| 50/50 [00:40<00:00,  1.23it/s]\n",
      "                 Class     Images  Instances      Box(P          R      mAP50  mAP50-95): 100%|██████████| 13/13 [00:07<00:00,  1.85it/s]\n"
     ]
    },
    {
     "name": "stdout",
     "output_type": "stream",
     "text": [
      "                   all        397        417      0.935      0.938       0.97      0.847\n",
      "\n",
      "      Epoch    GPU_mem   box_loss   cls_loss   dfl_loss  Instances       Size\n"
     ]
    },
    {
     "name": "stderr",
     "output_type": "stream",
     "text": [
      "    242/600        11G     0.4568     0.3071     0.9078          6        640: 100%|██████████| 50/50 [00:40<00:00,  1.23it/s]\n",
      "                 Class     Images  Instances      Box(P          R      mAP50  mAP50-95): 100%|██████████| 13/13 [00:07<00:00,  1.85it/s]\n"
     ]
    },
    {
     "name": "stdout",
     "output_type": "stream",
     "text": [
      "                   all        397        417      0.938      0.951      0.978      0.859\n",
      "\n",
      "      Epoch    GPU_mem   box_loss   cls_loss   dfl_loss  Instances       Size\n"
     ]
    },
    {
     "name": "stderr",
     "output_type": "stream",
     "text": [
      "    243/600      11.1G     0.4295     0.3003     0.8822         14        640: 100%|██████████| 50/50 [00:40<00:00,  1.23it/s]\n",
      "                 Class     Images  Instances      Box(P          R      mAP50  mAP50-95): 100%|██████████| 13/13 [00:07<00:00,  1.85it/s]\n"
     ]
    },
    {
     "name": "stdout",
     "output_type": "stream",
     "text": [
      "                   all        397        417      0.949      0.941      0.976      0.852\n",
      "\n",
      "      Epoch    GPU_mem   box_loss   cls_loss   dfl_loss  Instances       Size\n"
     ]
    },
    {
     "name": "stderr",
     "output_type": "stream",
     "text": [
      "    244/600      11.1G     0.4328     0.2971     0.8901          5        640: 100%|██████████| 50/50 [00:40<00:00,  1.23it/s]\n",
      "                 Class     Images  Instances      Box(P          R      mAP50  mAP50-95): 100%|██████████| 13/13 [00:07<00:00,  1.85it/s]\n"
     ]
    },
    {
     "name": "stdout",
     "output_type": "stream",
     "text": [
      "                   all        397        417      0.947      0.952      0.978      0.855\n",
      "\n",
      "      Epoch    GPU_mem   box_loss   cls_loss   dfl_loss  Instances       Size\n"
     ]
    },
    {
     "name": "stderr",
     "output_type": "stream",
     "text": [
      "    245/600      11.1G     0.4243     0.2818     0.8898         11        640: 100%|██████████| 50/50 [00:40<00:00,  1.23it/s]\n",
      "                 Class     Images  Instances      Box(P          R      mAP50  mAP50-95): 100%|██████████| 13/13 [00:07<00:00,  1.86it/s]\n"
     ]
    },
    {
     "name": "stdout",
     "output_type": "stream",
     "text": [
      "                   all        397        417      0.941      0.952      0.975      0.853\n",
      "\n",
      "      Epoch    GPU_mem   box_loss   cls_loss   dfl_loss  Instances       Size\n"
     ]
    },
    {
     "name": "stderr",
     "output_type": "stream",
     "text": [
      "    246/600      11.1G     0.4475     0.2868     0.8889          9        640: 100%|██████████| 50/50 [00:40<00:00,  1.24it/s]\n",
      "                 Class     Images  Instances      Box(P          R      mAP50  mAP50-95): 100%|██████████| 13/13 [00:07<00:00,  1.84it/s]\n"
     ]
    },
    {
     "name": "stdout",
     "output_type": "stream",
     "text": [
      "                   all        397        417      0.936      0.968      0.979      0.862\n",
      "\n",
      "      Epoch    GPU_mem   box_loss   cls_loss   dfl_loss  Instances       Size\n"
     ]
    },
    {
     "name": "stderr",
     "output_type": "stream",
     "text": [
      "    247/600        11G      0.443     0.2833     0.9002         13        640: 100%|██████████| 50/50 [00:40<00:00,  1.24it/s]\n",
      "                 Class     Images  Instances      Box(P          R      mAP50  mAP50-95): 100%|██████████| 13/13 [00:07<00:00,  1.85it/s]\n"
     ]
    },
    {
     "name": "stdout",
     "output_type": "stream",
     "text": [
      "                   all        397        417      0.935       0.96      0.979      0.863\n",
      "\n",
      "      Epoch    GPU_mem   box_loss   cls_loss   dfl_loss  Instances       Size\n"
     ]
    },
    {
     "name": "stderr",
     "output_type": "stream",
     "text": [
      "    248/600      11.1G      0.435     0.2824     0.8855         10        640: 100%|██████████| 50/50 [00:40<00:00,  1.24it/s]\n",
      "                 Class     Images  Instances      Box(P          R      mAP50  mAP50-95): 100%|██████████| 13/13 [00:07<00:00,  1.85it/s]\n"
     ]
    },
    {
     "name": "stdout",
     "output_type": "stream",
     "text": [
      "                   all        397        417      0.944      0.949      0.976      0.859\n",
      "\n",
      "      Epoch    GPU_mem   box_loss   cls_loss   dfl_loss  Instances       Size\n"
     ]
    },
    {
     "name": "stderr",
     "output_type": "stream",
     "text": [
      "    249/600        11G     0.4516     0.2856     0.9019          9        640: 100%|██████████| 50/50 [00:40<00:00,  1.24it/s]\n",
      "                 Class     Images  Instances      Box(P          R      mAP50  mAP50-95): 100%|██████████| 13/13 [00:07<00:00,  1.85it/s]\n"
     ]
    },
    {
     "name": "stdout",
     "output_type": "stream",
     "text": [
      "                   all        397        417      0.964      0.938      0.976      0.854\n",
      "\n",
      "      Epoch    GPU_mem   box_loss   cls_loss   dfl_loss  Instances       Size\n"
     ]
    },
    {
     "name": "stderr",
     "output_type": "stream",
     "text": [
      "    250/600      11.1G     0.4258     0.2857     0.8789         12        640: 100%|██████████| 50/50 [00:40<00:00,  1.24it/s]\n",
      "                 Class     Images  Instances      Box(P          R      mAP50  mAP50-95): 100%|██████████| 13/13 [00:07<00:00,  1.85it/s]\n"
     ]
    },
    {
     "name": "stdout",
     "output_type": "stream",
     "text": [
      "                   all        397        417      0.965      0.939      0.976      0.855\n",
      "\n",
      "      Epoch    GPU_mem   box_loss   cls_loss   dfl_loss  Instances       Size\n"
     ]
    },
    {
     "name": "stderr",
     "output_type": "stream",
     "text": [
      "    251/600        11G     0.4432     0.3038     0.8938         12        640: 100%|██████████| 50/50 [00:40<00:00,  1.24it/s]\n",
      "                 Class     Images  Instances      Box(P          R      mAP50  mAP50-95): 100%|██████████| 13/13 [00:07<00:00,  1.86it/s]\n"
     ]
    },
    {
     "name": "stdout",
     "output_type": "stream",
     "text": [
      "                   all        397        417      0.935      0.928      0.964      0.837\n",
      "\n",
      "      Epoch    GPU_mem   box_loss   cls_loss   dfl_loss  Instances       Size\n"
     ]
    },
    {
     "name": "stderr",
     "output_type": "stream",
     "text": [
      "    252/600      11.1G     0.4491     0.2885     0.8966         13        640: 100%|██████████| 50/50 [00:40<00:00,  1.24it/s]\n",
      "                 Class     Images  Instances      Box(P          R      mAP50  mAP50-95): 100%|██████████| 13/13 [00:07<00:00,  1.85it/s]\n"
     ]
    },
    {
     "name": "stdout",
     "output_type": "stream",
     "text": [
      "                   all        397        417      0.958       0.96      0.983      0.865\n",
      "\n",
      "      Epoch    GPU_mem   box_loss   cls_loss   dfl_loss  Instances       Size\n"
     ]
    },
    {
     "name": "stderr",
     "output_type": "stream",
     "text": [
      "    253/600      11.1G     0.4333     0.2886     0.8878         14        640: 100%|██████████| 50/50 [00:40<00:00,  1.24it/s]\n",
      "                 Class     Images  Instances      Box(P          R      mAP50  mAP50-95): 100%|██████████| 13/13 [00:07<00:00,  1.85it/s]\n"
     ]
    },
    {
     "name": "stdout",
     "output_type": "stream",
     "text": [
      "                   all        397        417      0.923      0.951       0.97      0.843\n",
      "\n",
      "      Epoch    GPU_mem   box_loss   cls_loss   dfl_loss  Instances       Size\n"
     ]
    },
    {
     "name": "stderr",
     "output_type": "stream",
     "text": [
      "    254/600        11G     0.4208     0.2961     0.8869         15        640: 100%|██████████| 50/50 [00:40<00:00,  1.24it/s]\n",
      "                 Class     Images  Instances      Box(P          R      mAP50  mAP50-95): 100%|██████████| 13/13 [00:07<00:00,  1.85it/s]\n"
     ]
    },
    {
     "name": "stdout",
     "output_type": "stream",
     "text": [
      "                   all        397        417      0.956      0.946      0.975       0.86\n",
      "\n",
      "      Epoch    GPU_mem   box_loss   cls_loss   dfl_loss  Instances       Size\n"
     ]
    },
    {
     "name": "stderr",
     "output_type": "stream",
     "text": [
      "    255/600      11.1G     0.4238      0.282     0.8882          6        640: 100%|██████████| 50/50 [00:40<00:00,  1.24it/s]\n",
      "                 Class     Images  Instances      Box(P          R      mAP50  mAP50-95): 100%|██████████| 13/13 [00:07<00:00,  1.86it/s]\n"
     ]
    },
    {
     "name": "stdout",
     "output_type": "stream",
     "text": [
      "                   all        397        417      0.961      0.949       0.98      0.864\n",
      "\n",
      "      Epoch    GPU_mem   box_loss   cls_loss   dfl_loss  Instances       Size\n"
     ]
    },
    {
     "name": "stderr",
     "output_type": "stream",
     "text": [
      "    256/600      11.1G     0.4198      0.285     0.8919          8        640: 100%|██████████| 50/50 [00:40<00:00,  1.24it/s]\n",
      "                 Class     Images  Instances      Box(P          R      mAP50  mAP50-95): 100%|██████████| 13/13 [00:07<00:00,  1.84it/s]\n"
     ]
    },
    {
     "name": "stdout",
     "output_type": "stream",
     "text": [
      "                   all        397        417      0.953      0.938      0.977      0.855\n",
      "\n",
      "      Epoch    GPU_mem   box_loss   cls_loss   dfl_loss  Instances       Size\n"
     ]
    },
    {
     "name": "stderr",
     "output_type": "stream",
     "text": [
      "    257/600      11.1G     0.4431     0.2984     0.8933          5        640: 100%|██████████| 50/50 [00:40<00:00,  1.24it/s]\n",
      "                 Class     Images  Instances      Box(P          R      mAP50  mAP50-95): 100%|██████████| 13/13 [00:07<00:00,  1.85it/s]\n"
     ]
    },
    {
     "name": "stdout",
     "output_type": "stream",
     "text": [
      "                   all        397        417      0.946       0.95      0.972      0.854\n",
      "\n",
      "      Epoch    GPU_mem   box_loss   cls_loss   dfl_loss  Instances       Size\n"
     ]
    },
    {
     "name": "stderr",
     "output_type": "stream",
     "text": [
      "    258/600        11G      0.429     0.2926     0.8894         14        640: 100%|██████████| 50/50 [00:40<00:00,  1.24it/s]\n",
      "                 Class     Images  Instances      Box(P          R      mAP50  mAP50-95): 100%|██████████| 13/13 [00:07<00:00,  1.85it/s]\n"
     ]
    },
    {
     "name": "stdout",
     "output_type": "stream",
     "text": [
      "                   all        397        417      0.964      0.953       0.98      0.866\n",
      "\n",
      "      Epoch    GPU_mem   box_loss   cls_loss   dfl_loss  Instances       Size\n"
     ]
    },
    {
     "name": "stderr",
     "output_type": "stream",
     "text": [
      "    259/600        11G     0.4119     0.2856     0.8776         13        640: 100%|██████████| 50/50 [00:40<00:00,  1.24it/s]\n",
      "                 Class     Images  Instances      Box(P          R      mAP50  mAP50-95): 100%|██████████| 13/13 [00:07<00:00,  1.85it/s]\n"
     ]
    },
    {
     "name": "stdout",
     "output_type": "stream",
     "text": [
      "                   all        397        417      0.962      0.948      0.975      0.858\n",
      "\n",
      "      Epoch    GPU_mem   box_loss   cls_loss   dfl_loss  Instances       Size\n"
     ]
    },
    {
     "name": "stderr",
     "output_type": "stream",
     "text": [
      "    260/600      11.1G      0.408     0.2838     0.8816         12        640: 100%|██████████| 50/50 [00:40<00:00,  1.24it/s]\n",
      "                 Class     Images  Instances      Box(P          R      mAP50  mAP50-95): 100%|██████████| 13/13 [00:07<00:00,  1.85it/s]\n"
     ]
    },
    {
     "name": "stdout",
     "output_type": "stream",
     "text": [
      "                   all        397        417      0.955      0.951      0.975      0.858\n",
      "\n",
      "      Epoch    GPU_mem   box_loss   cls_loss   dfl_loss  Instances       Size\n"
     ]
    },
    {
     "name": "stderr",
     "output_type": "stream",
     "text": [
      "    261/600        11G      0.425     0.2877     0.8807         11        640: 100%|██████████| 50/50 [00:40<00:00,  1.24it/s]\n",
      "                 Class     Images  Instances      Box(P          R      mAP50  mAP50-95): 100%|██████████| 13/13 [00:06<00:00,  1.86it/s]\n"
     ]
    },
    {
     "name": "stdout",
     "output_type": "stream",
     "text": [
      "                   all        397        417      0.966       0.95      0.976      0.864\n",
      "\n",
      "      Epoch    GPU_mem   box_loss   cls_loss   dfl_loss  Instances       Size\n"
     ]
    },
    {
     "name": "stderr",
     "output_type": "stream",
     "text": [
      "    262/600      11.1G     0.4169     0.2904      0.891         16        640: 100%|██████████| 50/50 [00:40<00:00,  1.24it/s]\n",
      "                 Class     Images  Instances      Box(P          R      mAP50  mAP50-95): 100%|██████████| 13/13 [00:07<00:00,  1.85it/s]\n"
     ]
    },
    {
     "name": "stdout",
     "output_type": "stream",
     "text": [
      "                   all        397        417      0.956      0.957      0.974      0.859\n",
      "\n",
      "      Epoch    GPU_mem   box_loss   cls_loss   dfl_loss  Instances       Size\n"
     ]
    },
    {
     "name": "stderr",
     "output_type": "stream",
     "text": [
      "    263/600      11.1G     0.4209     0.2796     0.8752         13        640: 100%|██████████| 50/50 [00:40<00:00,  1.24it/s]\n",
      "                 Class     Images  Instances      Box(P          R      mAP50  mAP50-95): 100%|██████████| 13/13 [00:07<00:00,  1.85it/s]\n"
     ]
    },
    {
     "name": "stdout",
     "output_type": "stream",
     "text": [
      "                   all        397        417      0.961      0.951      0.976       0.86\n",
      "\n",
      "      Epoch    GPU_mem   box_loss   cls_loss   dfl_loss  Instances       Size\n"
     ]
    },
    {
     "name": "stderr",
     "output_type": "stream",
     "text": [
      "    264/600        11G     0.4258     0.2926     0.8787         15        640: 100%|██████████| 50/50 [00:40<00:00,  1.24it/s]\n",
      "                 Class     Images  Instances      Box(P          R      mAP50  mAP50-95): 100%|██████████| 13/13 [00:07<00:00,  1.85it/s]\n"
     ]
    },
    {
     "name": "stdout",
     "output_type": "stream",
     "text": [
      "                   all        397        417      0.955      0.959      0.977      0.861\n",
      "\n",
      "      Epoch    GPU_mem   box_loss   cls_loss   dfl_loss  Instances       Size\n"
     ]
    },
    {
     "name": "stderr",
     "output_type": "stream",
     "text": [
      "    265/600        11G     0.4228     0.2773      0.885         11        640: 100%|██████████| 50/50 [00:40<00:00,  1.24it/s]\n",
      "                 Class     Images  Instances      Box(P          R      mAP50  mAP50-95): 100%|██████████| 13/13 [00:07<00:00,  1.85it/s]\n"
     ]
    },
    {
     "name": "stdout",
     "output_type": "stream",
     "text": [
      "                   all        397        417      0.951       0.95      0.971      0.851\n",
      "\n",
      "      Epoch    GPU_mem   box_loss   cls_loss   dfl_loss  Instances       Size\n"
     ]
    },
    {
     "name": "stderr",
     "output_type": "stream",
     "text": [
      "    266/600      11.1G     0.4062     0.2623      0.866         10        640: 100%|██████████| 50/50 [00:40<00:00,  1.24it/s]\n",
      "                 Class     Images  Instances      Box(P          R      mAP50  mAP50-95): 100%|██████████| 13/13 [00:07<00:00,  1.85it/s]\n"
     ]
    },
    {
     "name": "stdout",
     "output_type": "stream",
     "text": [
      "                   all        397        417      0.953      0.947      0.973      0.858\n",
      "\n",
      "      Epoch    GPU_mem   box_loss   cls_loss   dfl_loss  Instances       Size\n"
     ]
    },
    {
     "name": "stderr",
     "output_type": "stream",
     "text": [
      "    267/600      11.1G     0.4116     0.2735     0.8813         12        640: 100%|██████████| 50/50 [00:40<00:00,  1.23it/s]\n",
      "                 Class     Images  Instances      Box(P          R      mAP50  mAP50-95): 100%|██████████| 13/13 [00:07<00:00,  1.85it/s]\n"
     ]
    },
    {
     "name": "stdout",
     "output_type": "stream",
     "text": [
      "                   all        397        417      0.955      0.943      0.974      0.852\n",
      "\n",
      "      Epoch    GPU_mem   box_loss   cls_loss   dfl_loss  Instances       Size\n"
     ]
    },
    {
     "name": "stderr",
     "output_type": "stream",
     "text": [
      "    268/600        11G     0.4125     0.2719     0.8861          5        640: 100%|██████████| 50/50 [00:40<00:00,  1.24it/s]\n",
      "                 Class     Images  Instances      Box(P          R      mAP50  mAP50-95): 100%|██████████| 13/13 [00:07<00:00,  1.85it/s]\n"
     ]
    },
    {
     "name": "stdout",
     "output_type": "stream",
     "text": [
      "                   all        397        417      0.953      0.923      0.968      0.843\n",
      "\n",
      "      Epoch    GPU_mem   box_loss   cls_loss   dfl_loss  Instances       Size\n"
     ]
    },
    {
     "name": "stderr",
     "output_type": "stream",
     "text": [
      "    269/600      11.1G     0.4117     0.2835       0.88         10        640: 100%|██████████| 50/50 [00:40<00:00,  1.24it/s]\n",
      "                 Class     Images  Instances      Box(P          R      mAP50  mAP50-95): 100%|██████████| 13/13 [00:07<00:00,  1.85it/s]\n"
     ]
    },
    {
     "name": "stdout",
     "output_type": "stream",
     "text": [
      "                   all        397        417       0.96      0.926      0.974       0.86\n",
      "\n",
      "      Epoch    GPU_mem   box_loss   cls_loss   dfl_loss  Instances       Size\n"
     ]
    },
    {
     "name": "stderr",
     "output_type": "stream",
     "text": [
      "    270/600      11.1G      0.425     0.2874     0.8937         15        640: 100%|██████████| 50/50 [00:40<00:00,  1.24it/s]\n",
      "                 Class     Images  Instances      Box(P          R      mAP50  mAP50-95): 100%|██████████| 13/13 [00:07<00:00,  1.85it/s]\n"
     ]
    },
    {
     "name": "stdout",
     "output_type": "stream",
     "text": [
      "                   all        397        417      0.957      0.937      0.973      0.859\n",
      "\n",
      "      Epoch    GPU_mem   box_loss   cls_loss   dfl_loss  Instances       Size\n"
     ]
    },
    {
     "name": "stderr",
     "output_type": "stream",
     "text": [
      "    271/600        11G     0.4083     0.2837     0.8761         11        640: 100%|██████████| 50/50 [00:40<00:00,  1.24it/s]\n",
      "                 Class     Images  Instances      Box(P          R      mAP50  mAP50-95): 100%|██████████| 13/13 [00:07<00:00,  1.85it/s]\n"
     ]
    },
    {
     "name": "stdout",
     "output_type": "stream",
     "text": [
      "                   all        397        417      0.954       0.95      0.975      0.856\n",
      "\n",
      "      Epoch    GPU_mem   box_loss   cls_loss   dfl_loss  Instances       Size\n"
     ]
    },
    {
     "name": "stderr",
     "output_type": "stream",
     "text": [
      "    272/600      11.1G     0.4086     0.2806       0.88         16        640: 100%|██████████| 50/50 [00:40<00:00,  1.24it/s]\n",
      "                 Class     Images  Instances      Box(P          R      mAP50  mAP50-95): 100%|██████████| 13/13 [00:07<00:00,  1.86it/s]\n"
     ]
    },
    {
     "name": "stdout",
     "output_type": "stream",
     "text": [
      "                   all        397        417      0.954      0.941       0.97      0.853\n",
      "\n",
      "      Epoch    GPU_mem   box_loss   cls_loss   dfl_loss  Instances       Size\n"
     ]
    },
    {
     "name": "stderr",
     "output_type": "stream",
     "text": [
      "    273/600      11.1G     0.4128     0.2701     0.8778          9        640: 100%|██████████| 50/50 [00:40<00:00,  1.24it/s]\n",
      "                 Class     Images  Instances      Box(P          R      mAP50  mAP50-95): 100%|██████████| 13/13 [00:07<00:00,  1.85it/s]\n"
     ]
    },
    {
     "name": "stdout",
     "output_type": "stream",
     "text": [
      "                   all        397        417      0.957      0.931      0.967      0.857\n",
      "\n",
      "      Epoch    GPU_mem   box_loss   cls_loss   dfl_loss  Instances       Size\n"
     ]
    },
    {
     "name": "stderr",
     "output_type": "stream",
     "text": [
      "    274/600      11.1G     0.3931     0.2601     0.8711         14        640: 100%|██████████| 50/50 [00:40<00:00,  1.24it/s]\n",
      "                 Class     Images  Instances      Box(P          R      mAP50  mAP50-95): 100%|██████████| 13/13 [00:07<00:00,  1.86it/s]\n"
     ]
    },
    {
     "name": "stdout",
     "output_type": "stream",
     "text": [
      "                   all        397        417      0.952      0.941      0.968      0.858\n",
      "\n",
      "      Epoch    GPU_mem   box_loss   cls_loss   dfl_loss  Instances       Size\n"
     ]
    },
    {
     "name": "stderr",
     "output_type": "stream",
     "text": [
      "    275/600        11G     0.4077     0.2757     0.8794         15        640: 100%|██████████| 50/50 [00:40<00:00,  1.24it/s]\n",
      "                 Class     Images  Instances      Box(P          R      mAP50  mAP50-95): 100%|██████████| 13/13 [00:07<00:00,  1.85it/s]\n"
     ]
    },
    {
     "name": "stdout",
     "output_type": "stream",
     "text": [
      "                   all        397        417      0.934      0.947      0.967      0.854\n",
      "\n",
      "      Epoch    GPU_mem   box_loss   cls_loss   dfl_loss  Instances       Size\n"
     ]
    },
    {
     "name": "stderr",
     "output_type": "stream",
     "text": [
      "    276/600      11.1G     0.4024     0.2725     0.8871         16        640: 100%|██████████| 50/50 [00:40<00:00,  1.23it/s]\n",
      "                 Class     Images  Instances      Box(P          R      mAP50  mAP50-95): 100%|██████████| 13/13 [00:07<00:00,  1.85it/s]\n"
     ]
    },
    {
     "name": "stdout",
     "output_type": "stream",
     "text": [
      "                   all        397        417      0.936      0.951       0.97      0.859\n",
      "\n",
      "      Epoch    GPU_mem   box_loss   cls_loss   dfl_loss  Instances       Size\n"
     ]
    },
    {
     "name": "stderr",
     "output_type": "stream",
     "text": [
      "    277/600      11.1G     0.3981     0.2753     0.8809         21        640: 100%|██████████| 50/50 [00:40<00:00,  1.24it/s]\n",
      "                 Class     Images  Instances      Box(P          R      mAP50  mAP50-95): 100%|██████████| 13/13 [00:06<00:00,  1.86it/s]\n"
     ]
    },
    {
     "name": "stdout",
     "output_type": "stream",
     "text": [
      "                   all        397        417      0.956      0.944      0.971      0.859\n",
      "\n",
      "      Epoch    GPU_mem   box_loss   cls_loss   dfl_loss  Instances       Size\n"
     ]
    },
    {
     "name": "stderr",
     "output_type": "stream",
     "text": [
      "    278/600      11.1G     0.4026     0.2672     0.8725         16        640: 100%|██████████| 50/50 [00:40<00:00,  1.24it/s]\n",
      "                 Class     Images  Instances      Box(P          R      mAP50  mAP50-95): 100%|██████████| 13/13 [00:07<00:00,  1.85it/s]\n"
     ]
    },
    {
     "name": "stdout",
     "output_type": "stream",
     "text": [
      "                   all        397        417      0.955      0.941      0.972      0.859\n",
      "\n",
      "      Epoch    GPU_mem   box_loss   cls_loss   dfl_loss  Instances       Size\n"
     ]
    },
    {
     "name": "stderr",
     "output_type": "stream",
     "text": [
      "    279/600        11G      0.405     0.2729     0.8781         15        640: 100%|██████████| 50/50 [00:40<00:00,  1.24it/s]\n",
      "                 Class     Images  Instances      Box(P          R      mAP50  mAP50-95): 100%|██████████| 13/13 [00:07<00:00,  1.85it/s]\n"
     ]
    },
    {
     "name": "stdout",
     "output_type": "stream",
     "text": [
      "                   all        397        417      0.956      0.959      0.973      0.865\n",
      "\n",
      "      Epoch    GPU_mem   box_loss   cls_loss   dfl_loss  Instances       Size\n"
     ]
    },
    {
     "name": "stderr",
     "output_type": "stream",
     "text": [
      "    280/600        11G     0.3929      0.257      0.882         19        640: 100%|██████████| 50/50 [00:40<00:00,  1.24it/s]\n",
      "                 Class     Images  Instances      Box(P          R      mAP50  mAP50-95): 100%|██████████| 13/13 [00:07<00:00,  1.85it/s]\n"
     ]
    },
    {
     "name": "stdout",
     "output_type": "stream",
     "text": [
      "                   all        397        417      0.951      0.946      0.973      0.854\n",
      "\n",
      "      Epoch    GPU_mem   box_loss   cls_loss   dfl_loss  Instances       Size\n"
     ]
    },
    {
     "name": "stderr",
     "output_type": "stream",
     "text": [
      "    281/600        11G     0.4107     0.2777      0.885         16        640: 100%|██████████| 50/50 [00:40<00:00,  1.24it/s]\n",
      "                 Class     Images  Instances      Box(P          R      mAP50  mAP50-95): 100%|██████████| 13/13 [00:07<00:00,  1.85it/s]\n"
     ]
    },
    {
     "name": "stdout",
     "output_type": "stream",
     "text": [
      "                   all        397        417      0.968      0.948      0.976      0.865\n",
      "\n",
      "      Epoch    GPU_mem   box_loss   cls_loss   dfl_loss  Instances       Size\n"
     ]
    },
    {
     "name": "stderr",
     "output_type": "stream",
     "text": [
      "    282/600      11.1G     0.4018     0.2779     0.8769         16        640: 100%|██████████| 50/50 [00:40<00:00,  1.24it/s]\n",
      "                 Class     Images  Instances      Box(P          R      mAP50  mAP50-95): 100%|██████████| 13/13 [00:07<00:00,  1.85it/s]\n"
     ]
    },
    {
     "name": "stdout",
     "output_type": "stream",
     "text": [
      "                   all        397        417      0.966      0.944      0.975      0.867\n",
      "\n",
      "      Epoch    GPU_mem   box_loss   cls_loss   dfl_loss  Instances       Size\n"
     ]
    },
    {
     "name": "stderr",
     "output_type": "stream",
     "text": [
      "    283/600      11.1G     0.3868     0.2646     0.8728         14        640: 100%|██████████| 50/50 [00:40<00:00,  1.23it/s]\n",
      "                 Class     Images  Instances      Box(P          R      mAP50  mAP50-95): 100%|██████████| 13/13 [00:07<00:00,  1.85it/s]\n"
     ]
    },
    {
     "name": "stdout",
     "output_type": "stream",
     "text": [
      "                   all        397        417      0.948      0.954      0.974      0.864\n",
      "\n",
      "      Epoch    GPU_mem   box_loss   cls_loss   dfl_loss  Instances       Size\n"
     ]
    },
    {
     "name": "stderr",
     "output_type": "stream",
     "text": [
      "    284/600      11.1G     0.3858     0.2595     0.8675         12        640: 100%|██████████| 50/50 [00:40<00:00,  1.24it/s]\n",
      "                 Class     Images  Instances      Box(P          R      mAP50  mAP50-95): 100%|██████████| 13/13 [00:07<00:00,  1.85it/s]\n"
     ]
    },
    {
     "name": "stdout",
     "output_type": "stream",
     "text": [
      "                   all        397        417      0.959      0.946      0.975      0.862\n",
      "\n",
      "      Epoch    GPU_mem   box_loss   cls_loss   dfl_loss  Instances       Size\n"
     ]
    },
    {
     "name": "stderr",
     "output_type": "stream",
     "text": [
      "    285/600      11.1G     0.3905     0.2608     0.8707         15        640: 100%|██████████| 50/50 [00:40<00:00,  1.23it/s]\n",
      "                 Class     Images  Instances      Box(P          R      mAP50  mAP50-95): 100%|██████████| 13/13 [00:07<00:00,  1.85it/s]\n"
     ]
    },
    {
     "name": "stdout",
     "output_type": "stream",
     "text": [
      "                   all        397        417      0.959      0.944      0.972      0.859\n",
      "\n",
      "      Epoch    GPU_mem   box_loss   cls_loss   dfl_loss  Instances       Size\n"
     ]
    },
    {
     "name": "stderr",
     "output_type": "stream",
     "text": [
      "    286/600      11.1G     0.3845     0.2559     0.8668          7        640: 100%|██████████| 50/50 [00:40<00:00,  1.24it/s]\n",
      "                 Class     Images  Instances      Box(P          R      mAP50  mAP50-95): 100%|██████████| 13/13 [00:07<00:00,  1.85it/s]\n"
     ]
    },
    {
     "name": "stdout",
     "output_type": "stream",
     "text": [
      "                   all        397        417      0.948       0.96      0.972       0.86\n",
      "\n",
      "      Epoch    GPU_mem   box_loss   cls_loss   dfl_loss  Instances       Size\n"
     ]
    },
    {
     "name": "stderr",
     "output_type": "stream",
     "text": [
      "    287/600        11G     0.3995     0.2683      0.876         12        640: 100%|██████████| 50/50 [00:40<00:00,  1.23it/s]\n",
      "                 Class     Images  Instances      Box(P          R      mAP50  mAP50-95): 100%|██████████| 13/13 [00:07<00:00,  1.84it/s]\n"
     ]
    },
    {
     "name": "stdout",
     "output_type": "stream",
     "text": [
      "                   all        397        417      0.952      0.952      0.972      0.865\n",
      "\n",
      "      Epoch    GPU_mem   box_loss   cls_loss   dfl_loss  Instances       Size\n"
     ]
    },
    {
     "name": "stderr",
     "output_type": "stream",
     "text": [
      "    288/600      11.1G     0.3982     0.2732     0.8819         10        640: 100%|██████████| 50/50 [00:40<00:00,  1.24it/s]\n",
      "                 Class     Images  Instances      Box(P          R      mAP50  mAP50-95): 100%|██████████| 13/13 [00:07<00:00,  1.85it/s]\n"
     ]
    },
    {
     "name": "stdout",
     "output_type": "stream",
     "text": [
      "                   all        397        417      0.946      0.953      0.975      0.868\n",
      "\n",
      "      Epoch    GPU_mem   box_loss   cls_loss   dfl_loss  Instances       Size\n"
     ]
    },
    {
     "name": "stderr",
     "output_type": "stream",
     "text": [
      "    289/600        11G     0.3908     0.2637     0.8759         15        640: 100%|██████████| 50/50 [00:40<00:00,  1.23it/s]\n",
      "                 Class     Images  Instances      Box(P          R      mAP50  mAP50-95): 100%|██████████| 13/13 [00:07<00:00,  1.85it/s]\n"
     ]
    },
    {
     "name": "stdout",
     "output_type": "stream",
     "text": [
      "                   all        397        417      0.947      0.965      0.979      0.871\n",
      "\n",
      "      Epoch    GPU_mem   box_loss   cls_loss   dfl_loss  Instances       Size\n"
     ]
    },
    {
     "name": "stderr",
     "output_type": "stream",
     "text": [
      "    290/600      11.1G     0.4128     0.2751     0.8873         11        640: 100%|██████████| 50/50 [00:40<00:00,  1.24it/s]\n",
      "                 Class     Images  Instances      Box(P          R      mAP50  mAP50-95): 100%|██████████| 13/13 [00:07<00:00,  1.86it/s]\n"
     ]
    },
    {
     "name": "stdout",
     "output_type": "stream",
     "text": [
      "                   all        397        417      0.947       0.96      0.981      0.868\n",
      "\n",
      "      Epoch    GPU_mem   box_loss   cls_loss   dfl_loss  Instances       Size\n"
     ]
    },
    {
     "name": "stderr",
     "output_type": "stream",
     "text": [
      "    291/600      11.1G     0.3947     0.2659     0.8819         12        640: 100%|██████████| 50/50 [00:40<00:00,  1.24it/s]\n",
      "                 Class     Images  Instances      Box(P          R      mAP50  mAP50-95): 100%|██████████| 13/13 [00:07<00:00,  1.85it/s]\n"
     ]
    },
    {
     "name": "stdout",
     "output_type": "stream",
     "text": [
      "                   all        397        417      0.958      0.958      0.981      0.871\n",
      "\n",
      "      Epoch    GPU_mem   box_loss   cls_loss   dfl_loss  Instances       Size\n"
     ]
    },
    {
     "name": "stderr",
     "output_type": "stream",
     "text": [
      "    292/600        11G     0.3947     0.2681     0.8778          7        640: 100%|██████████| 50/50 [00:40<00:00,  1.24it/s]\n",
      "                 Class     Images  Instances      Box(P          R      mAP50  mAP50-95): 100%|██████████| 13/13 [00:07<00:00,  1.85it/s]\n"
     ]
    },
    {
     "name": "stdout",
     "output_type": "stream",
     "text": [
      "                   all        397        417      0.953      0.955      0.976      0.861\n",
      "\n",
      "      Epoch    GPU_mem   box_loss   cls_loss   dfl_loss  Instances       Size\n"
     ]
    },
    {
     "name": "stderr",
     "output_type": "stream",
     "text": [
      "    293/600        11G     0.4077     0.2739     0.8923         14        640: 100%|██████████| 50/50 [00:40<00:00,  1.24it/s]\n",
      "                 Class     Images  Instances      Box(P          R      mAP50  mAP50-95): 100%|██████████| 13/13 [00:07<00:00,  1.84it/s]\n"
     ]
    },
    {
     "name": "stdout",
     "output_type": "stream",
     "text": [
      "                   all        397        417      0.958      0.959      0.981      0.872\n",
      "\n",
      "      Epoch    GPU_mem   box_loss   cls_loss   dfl_loss  Instances       Size\n"
     ]
    },
    {
     "name": "stderr",
     "output_type": "stream",
     "text": [
      "    294/600        11G     0.4002     0.2652     0.8746         15        640: 100%|██████████| 50/50 [00:40<00:00,  1.24it/s]\n",
      "                 Class     Images  Instances      Box(P          R      mAP50  mAP50-95): 100%|██████████| 13/13 [00:07<00:00,  1.86it/s]\n"
     ]
    },
    {
     "name": "stdout",
     "output_type": "stream",
     "text": [
      "                   all        397        417      0.961      0.959       0.98      0.869\n",
      "\n",
      "      Epoch    GPU_mem   box_loss   cls_loss   dfl_loss  Instances       Size\n"
     ]
    },
    {
     "name": "stderr",
     "output_type": "stream",
     "text": [
      "    295/600      11.1G     0.3929     0.2698     0.8806         12        640: 100%|██████████| 50/50 [00:40<00:00,  1.24it/s]\n",
      "                 Class     Images  Instances      Box(P          R      mAP50  mAP50-95): 100%|██████████| 13/13 [00:07<00:00,  1.85it/s]\n"
     ]
    },
    {
     "name": "stdout",
     "output_type": "stream",
     "text": [
      "                   all        397        417      0.961      0.946      0.978      0.869\n",
      "\n",
      "      Epoch    GPU_mem   box_loss   cls_loss   dfl_loss  Instances       Size\n"
     ]
    },
    {
     "name": "stderr",
     "output_type": "stream",
     "text": [
      "    296/600        11G     0.3994     0.2648     0.8891          8        640: 100%|██████████| 50/50 [00:40<00:00,  1.24it/s]\n",
      "                 Class     Images  Instances      Box(P          R      mAP50  mAP50-95): 100%|██████████| 13/13 [00:07<00:00,  1.84it/s]\n"
     ]
    },
    {
     "name": "stdout",
     "output_type": "stream",
     "text": [
      "                   all        397        417      0.964      0.951      0.979      0.871\n",
      "\n",
      "      Epoch    GPU_mem   box_loss   cls_loss   dfl_loss  Instances       Size\n"
     ]
    },
    {
     "name": "stderr",
     "output_type": "stream",
     "text": [
      "    297/600      11.1G     0.3828     0.2517     0.8652         17        640: 100%|██████████| 50/50 [00:40<00:00,  1.24it/s]\n",
      "                 Class     Images  Instances      Box(P          R      mAP50  mAP50-95): 100%|██████████| 13/13 [00:07<00:00,  1.85it/s]\n"
     ]
    },
    {
     "name": "stdout",
     "output_type": "stream",
     "text": [
      "                   all        397        417      0.962      0.957      0.978      0.872\n",
      "\n",
      "      Epoch    GPU_mem   box_loss   cls_loss   dfl_loss  Instances       Size\n"
     ]
    },
    {
     "name": "stderr",
     "output_type": "stream",
     "text": [
      "    298/600        11G     0.3898     0.2672     0.8807         14        640: 100%|██████████| 50/50 [00:40<00:00,  1.24it/s]\n",
      "                 Class     Images  Instances      Box(P          R      mAP50  mAP50-95): 100%|██████████| 13/13 [00:07<00:00,  1.85it/s]\n"
     ]
    },
    {
     "name": "stdout",
     "output_type": "stream",
     "text": [
      "                   all        397        417      0.955       0.96      0.979      0.874\n",
      "\n",
      "      Epoch    GPU_mem   box_loss   cls_loss   dfl_loss  Instances       Size\n"
     ]
    },
    {
     "name": "stderr",
     "output_type": "stream",
     "text": [
      "    299/600      11.1G     0.4008     0.2699     0.8794         15        640: 100%|██████████| 50/50 [00:40<00:00,  1.23it/s]\n",
      "                 Class     Images  Instances      Box(P          R      mAP50  mAP50-95): 100%|██████████| 13/13 [00:07<00:00,  1.85it/s]\n"
     ]
    },
    {
     "name": "stdout",
     "output_type": "stream",
     "text": [
      "                   all        397        417      0.957       0.95      0.977      0.873\n",
      "\n",
      "      Epoch    GPU_mem   box_loss   cls_loss   dfl_loss  Instances       Size\n"
     ]
    },
    {
     "name": "stderr",
     "output_type": "stream",
     "text": [
      "    300/600        11G     0.3764     0.2601      0.865         19        640: 100%|██████████| 50/50 [00:40<00:00,  1.24it/s]\n",
      "                 Class     Images  Instances      Box(P          R      mAP50  mAP50-95): 100%|██████████| 13/13 [00:07<00:00,  1.85it/s]\n"
     ]
    },
    {
     "name": "stdout",
     "output_type": "stream",
     "text": [
      "                   all        397        417       0.95      0.959      0.977      0.868\n",
      "\n",
      "      Epoch    GPU_mem   box_loss   cls_loss   dfl_loss  Instances       Size\n"
     ]
    },
    {
     "name": "stderr",
     "output_type": "stream",
     "text": [
      "    301/600      11.1G     0.3941     0.2782     0.8703         12        640: 100%|██████████| 50/50 [00:40<00:00,  1.24it/s]\n",
      "                 Class     Images  Instances      Box(P          R      mAP50  mAP50-95): 100%|██████████| 13/13 [00:07<00:00,  1.85it/s]\n"
     ]
    },
    {
     "name": "stdout",
     "output_type": "stream",
     "text": [
      "                   all        397        417      0.954      0.955      0.976      0.867\n",
      "\n",
      "      Epoch    GPU_mem   box_loss   cls_loss   dfl_loss  Instances       Size\n"
     ]
    },
    {
     "name": "stderr",
     "output_type": "stream",
     "text": [
      "    302/600      11.1G     0.3718      0.258     0.8681         12        640: 100%|██████████| 50/50 [00:40<00:00,  1.23it/s]\n",
      "                 Class     Images  Instances      Box(P          R      mAP50  mAP50-95): 100%|██████████| 13/13 [00:07<00:00,  1.85it/s]\n"
     ]
    },
    {
     "name": "stdout",
     "output_type": "stream",
     "text": [
      "                   all        397        417      0.947       0.96      0.977       0.87\n",
      "\n",
      "      Epoch    GPU_mem   box_loss   cls_loss   dfl_loss  Instances       Size\n"
     ]
    },
    {
     "name": "stderr",
     "output_type": "stream",
     "text": [
      "    303/600        11G     0.3843     0.2579     0.8744         11        640: 100%|██████████| 50/50 [00:40<00:00,  1.23it/s]\n",
      "                 Class     Images  Instances      Box(P          R      mAP50  mAP50-95): 100%|██████████| 13/13 [00:07<00:00,  1.85it/s]\n"
     ]
    },
    {
     "name": "stdout",
     "output_type": "stream",
     "text": [
      "                   all        397        417      0.962      0.943      0.977       0.87\n",
      "\n",
      "      Epoch    GPU_mem   box_loss   cls_loss   dfl_loss  Instances       Size\n"
     ]
    },
    {
     "name": "stderr",
     "output_type": "stream",
     "text": [
      "    304/600      11.1G     0.3876     0.2625     0.8819          9        640: 100%|██████████| 50/50 [00:40<00:00,  1.23it/s]\n",
      "                 Class     Images  Instances      Box(P          R      mAP50  mAP50-95): 100%|██████████| 13/13 [00:07<00:00,  1.85it/s]\n"
     ]
    },
    {
     "name": "stdout",
     "output_type": "stream",
     "text": [
      "                   all        397        417      0.953      0.944      0.976      0.867\n",
      "\n",
      "      Epoch    GPU_mem   box_loss   cls_loss   dfl_loss  Instances       Size\n"
     ]
    },
    {
     "name": "stderr",
     "output_type": "stream",
     "text": [
      "    305/600      11.1G     0.3838      0.264     0.8687         15        640: 100%|██████████| 50/50 [00:40<00:00,  1.23it/s]\n",
      "                 Class     Images  Instances      Box(P          R      mAP50  mAP50-95): 100%|██████████| 13/13 [00:07<00:00,  1.85it/s]\n"
     ]
    },
    {
     "name": "stdout",
     "output_type": "stream",
     "text": [
      "                   all        397        417      0.957      0.935      0.975      0.873\n",
      "\n",
      "      Epoch    GPU_mem   box_loss   cls_loss   dfl_loss  Instances       Size\n"
     ]
    },
    {
     "name": "stderr",
     "output_type": "stream",
     "text": [
      "    306/600      11.1G     0.3744     0.2433     0.8585         14        640: 100%|██████████| 50/50 [00:40<00:00,  1.22it/s]\n",
      "                 Class     Images  Instances      Box(P          R      mAP50  mAP50-95): 100%|██████████| 13/13 [00:07<00:00,  1.83it/s]\n"
     ]
    },
    {
     "name": "stdout",
     "output_type": "stream",
     "text": [
      "                   all        397        417       0.94      0.963      0.978      0.872\n",
      "\n",
      "      Epoch    GPU_mem   box_loss   cls_loss   dfl_loss  Instances       Size\n"
     ]
    },
    {
     "name": "stderr",
     "output_type": "stream",
     "text": [
      "    307/600      11.1G     0.3897     0.2617     0.8748          8        640: 100%|██████████| 50/50 [00:40<00:00,  1.23it/s]\n",
      "                 Class     Images  Instances      Box(P          R      mAP50  mAP50-95): 100%|██████████| 13/13 [00:07<00:00,  1.85it/s]\n"
     ]
    },
    {
     "name": "stdout",
     "output_type": "stream",
     "text": [
      "                   all        397        417      0.951      0.965      0.977      0.872\n",
      "\n",
      "      Epoch    GPU_mem   box_loss   cls_loss   dfl_loss  Instances       Size\n"
     ]
    },
    {
     "name": "stderr",
     "output_type": "stream",
     "text": [
      "    308/600      11.1G     0.3929     0.2581     0.8813         11        640: 100%|██████████| 50/50 [00:40<00:00,  1.24it/s]\n",
      "                 Class     Images  Instances      Box(P          R      mAP50  mAP50-95): 100%|██████████| 13/13 [00:07<00:00,  1.85it/s]\n"
     ]
    },
    {
     "name": "stdout",
     "output_type": "stream",
     "text": [
      "                   all        397        417      0.955      0.959      0.977      0.873\n",
      "\n",
      "      Epoch    GPU_mem   box_loss   cls_loss   dfl_loss  Instances       Size\n"
     ]
    },
    {
     "name": "stderr",
     "output_type": "stream",
     "text": [
      "    309/600      11.1G     0.3902     0.2536     0.8707         18        640: 100%|██████████| 50/50 [00:40<00:00,  1.24it/s]\n",
      "                 Class     Images  Instances      Box(P          R      mAP50  mAP50-95): 100%|██████████| 13/13 [00:07<00:00,  1.84it/s]\n"
     ]
    },
    {
     "name": "stdout",
     "output_type": "stream",
     "text": [
      "                   all        397        417      0.964      0.946      0.978      0.875\n",
      "\n",
      "      Epoch    GPU_mem   box_loss   cls_loss   dfl_loss  Instances       Size\n"
     ]
    },
    {
     "name": "stderr",
     "output_type": "stream",
     "text": [
      "    310/600      11.1G     0.3791     0.2663      0.871         12        640: 100%|██████████| 50/50 [00:40<00:00,  1.23it/s]\n",
      "                 Class     Images  Instances      Box(P          R      mAP50  mAP50-95): 100%|██████████| 13/13 [00:07<00:00,  1.85it/s]\n"
     ]
    },
    {
     "name": "stdout",
     "output_type": "stream",
     "text": [
      "                   all        397        417      0.965      0.937      0.979      0.875\n",
      "\n",
      "      Epoch    GPU_mem   box_loss   cls_loss   dfl_loss  Instances       Size\n"
     ]
    },
    {
     "name": "stderr",
     "output_type": "stream",
     "text": [
      "    311/600      11.1G     0.3756     0.2522     0.8674         11        640: 100%|██████████| 50/50 [00:40<00:00,  1.23it/s]\n",
      "                 Class     Images  Instances      Box(P          R      mAP50  mAP50-95): 100%|██████████| 13/13 [00:07<00:00,  1.85it/s]\n"
     ]
    },
    {
     "name": "stdout",
     "output_type": "stream",
     "text": [
      "                   all        397        417      0.959      0.945       0.98      0.878\n",
      "\n",
      "      Epoch    GPU_mem   box_loss   cls_loss   dfl_loss  Instances       Size\n"
     ]
    },
    {
     "name": "stderr",
     "output_type": "stream",
     "text": [
      "    312/600      11.1G     0.3619     0.2475     0.8625         11        640: 100%|██████████| 50/50 [00:40<00:00,  1.24it/s]\n",
      "                 Class     Images  Instances      Box(P          R      mAP50  mAP50-95): 100%|██████████| 13/13 [00:07<00:00,  1.85it/s]\n"
     ]
    },
    {
     "name": "stdout",
     "output_type": "stream",
     "text": [
      "                   all        397        417       0.96      0.949      0.979      0.876\n",
      "\n",
      "      Epoch    GPU_mem   box_loss   cls_loss   dfl_loss  Instances       Size\n"
     ]
    },
    {
     "name": "stderr",
     "output_type": "stream",
     "text": [
      "    313/600        11G     0.3676     0.2539     0.8631         14        640: 100%|██████████| 50/50 [00:40<00:00,  1.23it/s]\n",
      "                 Class     Images  Instances      Box(P          R      mAP50  mAP50-95): 100%|██████████| 13/13 [00:07<00:00,  1.85it/s]\n"
     ]
    },
    {
     "name": "stdout",
     "output_type": "stream",
     "text": [
      "                   all        397        417      0.967      0.947       0.98      0.874\n",
      "\n",
      "      Epoch    GPU_mem   box_loss   cls_loss   dfl_loss  Instances       Size\n"
     ]
    },
    {
     "name": "stderr",
     "output_type": "stream",
     "text": [
      "    314/600      11.1G      0.383     0.2639     0.8806         12        640: 100%|██████████| 50/50 [00:40<00:00,  1.23it/s]\n",
      "                 Class     Images  Instances      Box(P          R      mAP50  mAP50-95): 100%|██████████| 13/13 [00:07<00:00,  1.85it/s]\n"
     ]
    },
    {
     "name": "stdout",
     "output_type": "stream",
     "text": [
      "                   all        397        417      0.956      0.952      0.979      0.872\n",
      "\n",
      "      Epoch    GPU_mem   box_loss   cls_loss   dfl_loss  Instances       Size\n"
     ]
    },
    {
     "name": "stderr",
     "output_type": "stream",
     "text": [
      "    315/600        11G     0.3928     0.2606     0.8729         10        640: 100%|██████████| 50/50 [00:40<00:00,  1.23it/s]\n",
      "                 Class     Images  Instances      Box(P          R      mAP50  mAP50-95): 100%|██████████| 13/13 [00:06<00:00,  1.86it/s]\n"
     ]
    },
    {
     "name": "stdout",
     "output_type": "stream",
     "text": [
      "                   all        397        417      0.972       0.94      0.975      0.871\n",
      "\n",
      "      Epoch    GPU_mem   box_loss   cls_loss   dfl_loss  Instances       Size\n"
     ]
    },
    {
     "name": "stderr",
     "output_type": "stream",
     "text": [
      "    316/600      11.1G     0.3782     0.2534     0.8705         15        640: 100%|██████████| 50/50 [00:40<00:00,  1.23it/s]\n",
      "                 Class     Images  Instances      Box(P          R      mAP50  mAP50-95): 100%|██████████| 13/13 [00:07<00:00,  1.85it/s]\n"
     ]
    },
    {
     "name": "stdout",
     "output_type": "stream",
     "text": [
      "                   all        397        417      0.957      0.952      0.977      0.871\n",
      "\n",
      "      Epoch    GPU_mem   box_loss   cls_loss   dfl_loss  Instances       Size\n"
     ]
    },
    {
     "name": "stderr",
     "output_type": "stream",
     "text": [
      "    317/600        11G     0.3777      0.264      0.869         12        640: 100%|██████████| 50/50 [00:40<00:00,  1.23it/s]\n",
      "                 Class     Images  Instances      Box(P          R      mAP50  mAP50-95): 100%|██████████| 13/13 [00:07<00:00,  1.85it/s]\n"
     ]
    },
    {
     "name": "stdout",
     "output_type": "stream",
     "text": [
      "                   all        397        417      0.955      0.952      0.979      0.875\n",
      "\n",
      "      Epoch    GPU_mem   box_loss   cls_loss   dfl_loss  Instances       Size\n"
     ]
    },
    {
     "name": "stderr",
     "output_type": "stream",
     "text": [
      "    318/600      11.1G     0.3734     0.2531     0.8636         14        640: 100%|██████████| 50/50 [00:40<00:00,  1.23it/s]\n",
      "                 Class     Images  Instances      Box(P          R      mAP50  mAP50-95): 100%|██████████| 13/13 [00:07<00:00,  1.84it/s]\n"
     ]
    },
    {
     "name": "stdout",
     "output_type": "stream",
     "text": [
      "                   all        397        417      0.962      0.945       0.98      0.878\n",
      "\n",
      "      Epoch    GPU_mem   box_loss   cls_loss   dfl_loss  Instances       Size\n"
     ]
    },
    {
     "name": "stderr",
     "output_type": "stream",
     "text": [
      "    319/600      11.1G      0.378     0.2543     0.8705          9        640: 100%|██████████| 50/50 [00:40<00:00,  1.24it/s]\n",
      "                 Class     Images  Instances      Box(P          R      mAP50  mAP50-95): 100%|██████████| 13/13 [00:07<00:00,  1.85it/s]\n"
     ]
    },
    {
     "name": "stdout",
     "output_type": "stream",
     "text": [
      "                   all        397        417      0.959      0.949      0.978      0.877\n",
      "\n",
      "      Epoch    GPU_mem   box_loss   cls_loss   dfl_loss  Instances       Size\n"
     ]
    },
    {
     "name": "stderr",
     "output_type": "stream",
     "text": [
      "    320/600        11G     0.3585     0.2362     0.8516         10        640: 100%|██████████| 50/50 [00:40<00:00,  1.23it/s]\n",
      "                 Class     Images  Instances      Box(P          R      mAP50  mAP50-95): 100%|██████████| 13/13 [00:07<00:00,  1.85it/s]\n"
     ]
    },
    {
     "name": "stdout",
     "output_type": "stream",
     "text": [
      "                   all        397        417       0.95      0.957       0.98      0.877\n",
      "\n",
      "      Epoch    GPU_mem   box_loss   cls_loss   dfl_loss  Instances       Size\n"
     ]
    },
    {
     "name": "stderr",
     "output_type": "stream",
     "text": [
      "    321/600      11.1G     0.3739      0.246     0.8603         14        640: 100%|██████████| 50/50 [00:40<00:00,  1.24it/s]\n",
      "                 Class     Images  Instances      Box(P          R      mAP50  mAP50-95): 100%|██████████| 13/13 [00:07<00:00,  1.85it/s]\n"
     ]
    },
    {
     "name": "stdout",
     "output_type": "stream",
     "text": [
      "                   all        397        417      0.956      0.955      0.979      0.873\n",
      "\n",
      "      Epoch    GPU_mem   box_loss   cls_loss   dfl_loss  Instances       Size\n"
     ]
    },
    {
     "name": "stderr",
     "output_type": "stream",
     "text": [
      "    322/600      11.1G     0.3849     0.2579     0.8766         13        640: 100%|██████████| 50/50 [00:40<00:00,  1.23it/s]\n",
      "                 Class     Images  Instances      Box(P          R      mAP50  mAP50-95): 100%|██████████| 13/13 [00:07<00:00,  1.84it/s]\n"
     ]
    },
    {
     "name": "stdout",
     "output_type": "stream",
     "text": [
      "                   all        397        417      0.959      0.955      0.979      0.875\n",
      "\n",
      "      Epoch    GPU_mem   box_loss   cls_loss   dfl_loss  Instances       Size\n"
     ]
    },
    {
     "name": "stderr",
     "output_type": "stream",
     "text": [
      "    323/600        11G     0.3919     0.2551     0.8762         14        640: 100%|██████████| 50/50 [00:40<00:00,  1.24it/s]\n",
      "                 Class     Images  Instances      Box(P          R      mAP50  mAP50-95): 100%|██████████| 13/13 [00:07<00:00,  1.85it/s]\n"
     ]
    },
    {
     "name": "stdout",
     "output_type": "stream",
     "text": [
      "                   all        397        417       0.96      0.955      0.979      0.875\n",
      "\n",
      "      Epoch    GPU_mem   box_loss   cls_loss   dfl_loss  Instances       Size\n"
     ]
    },
    {
     "name": "stderr",
     "output_type": "stream",
     "text": [
      "    324/600      11.1G     0.3654     0.2334     0.8567         16        640: 100%|██████████| 50/50 [00:40<00:00,  1.24it/s]\n",
      "                 Class     Images  Instances      Box(P          R      mAP50  mAP50-95): 100%|██████████| 13/13 [00:07<00:00,  1.85it/s]\n"
     ]
    },
    {
     "name": "stdout",
     "output_type": "stream",
     "text": [
      "                   all        397        417       0.95      0.962      0.977      0.876\n",
      "\n",
      "      Epoch    GPU_mem   box_loss   cls_loss   dfl_loss  Instances       Size\n"
     ]
    },
    {
     "name": "stderr",
     "output_type": "stream",
     "text": [
      "    325/600      11.1G     0.3679     0.2411     0.8689         11        640: 100%|██████████| 50/50 [00:40<00:00,  1.24it/s]\n",
      "                 Class     Images  Instances      Box(P          R      mAP50  mAP50-95): 100%|██████████| 13/13 [00:07<00:00,  1.85it/s]\n"
     ]
    },
    {
     "name": "stdout",
     "output_type": "stream",
     "text": [
      "                   all        397        417       0.95      0.961      0.975      0.876\n",
      "\n",
      "      Epoch    GPU_mem   box_loss   cls_loss   dfl_loss  Instances       Size\n"
     ]
    },
    {
     "name": "stderr",
     "output_type": "stream",
     "text": [
      "    326/600      11.1G     0.3719     0.2586     0.8713          8        640: 100%|██████████| 50/50 [00:40<00:00,  1.24it/s]\n",
      "                 Class     Images  Instances      Box(P          R      mAP50  mAP50-95): 100%|██████████| 13/13 [00:07<00:00,  1.84it/s]\n"
     ]
    },
    {
     "name": "stdout",
     "output_type": "stream",
     "text": [
      "                   all        397        417      0.957      0.961      0.975      0.875\n",
      "\n",
      "      Epoch    GPU_mem   box_loss   cls_loss   dfl_loss  Instances       Size\n"
     ]
    },
    {
     "name": "stderr",
     "output_type": "stream",
     "text": [
      "    327/600        11G     0.3659     0.2431     0.8638         18        640: 100%|██████████| 50/50 [00:40<00:00,  1.23it/s]\n",
      "                 Class     Images  Instances      Box(P          R      mAP50  mAP50-95): 100%|██████████| 13/13 [00:07<00:00,  1.85it/s]\n"
     ]
    },
    {
     "name": "stdout",
     "output_type": "stream",
     "text": [
      "                   all        397        417      0.961      0.959      0.971      0.873\n",
      "\n",
      "      Epoch    GPU_mem   box_loss   cls_loss   dfl_loss  Instances       Size\n"
     ]
    },
    {
     "name": "stderr",
     "output_type": "stream",
     "text": [
      "    328/600      11.1G     0.3698     0.2382      0.858         14        640: 100%|██████████| 50/50 [00:40<00:00,  1.24it/s]\n",
      "                 Class     Images  Instances      Box(P          R      mAP50  mAP50-95): 100%|██████████| 13/13 [00:07<00:00,  1.84it/s]\n"
     ]
    },
    {
     "name": "stdout",
     "output_type": "stream",
     "text": [
      "                   all        397        417      0.967       0.95      0.974      0.871\n",
      "\n",
      "      Epoch    GPU_mem   box_loss   cls_loss   dfl_loss  Instances       Size\n"
     ]
    },
    {
     "name": "stderr",
     "output_type": "stream",
     "text": [
      "    329/600      11.1G     0.3747     0.2453     0.8709         16        640: 100%|██████████| 50/50 [00:40<00:00,  1.24it/s]\n",
      "                 Class     Images  Instances      Box(P          R      mAP50  mAP50-95): 100%|██████████| 13/13 [00:07<00:00,  1.85it/s]\n"
     ]
    },
    {
     "name": "stdout",
     "output_type": "stream",
     "text": [
      "                   all        397        417      0.953      0.966      0.974      0.873\n",
      "\n",
      "      Epoch    GPU_mem   box_loss   cls_loss   dfl_loss  Instances       Size\n"
     ]
    },
    {
     "name": "stderr",
     "output_type": "stream",
     "text": [
      "    330/600      11.1G     0.3646     0.2415     0.8549         10        640: 100%|██████████| 50/50 [00:40<00:00,  1.23it/s]\n",
      "                 Class     Images  Instances      Box(P          R      mAP50  mAP50-95): 100%|██████████| 13/13 [00:07<00:00,  1.84it/s]\n"
     ]
    },
    {
     "name": "stdout",
     "output_type": "stream",
     "text": [
      "                   all        397        417      0.966      0.951      0.974      0.872\n",
      "\n",
      "      Epoch    GPU_mem   box_loss   cls_loss   dfl_loss  Instances       Size\n"
     ]
    },
    {
     "name": "stderr",
     "output_type": "stream",
     "text": [
      "    331/600      11.1G     0.3693     0.2495     0.8602          9        640: 100%|██████████| 50/50 [00:40<00:00,  1.24it/s]\n",
      "                 Class     Images  Instances      Box(P          R      mAP50  mAP50-95): 100%|██████████| 13/13 [00:06<00:00,  1.86it/s]\n"
     ]
    },
    {
     "name": "stdout",
     "output_type": "stream",
     "text": [
      "                   all        397        417      0.957       0.96       0.97      0.867\n",
      "\n",
      "      Epoch    GPU_mem   box_loss   cls_loss   dfl_loss  Instances       Size\n"
     ]
    },
    {
     "name": "stderr",
     "output_type": "stream",
     "text": [
      "    332/600      11.1G     0.3889     0.2504     0.8822         12        640: 100%|██████████| 50/50 [00:40<00:00,  1.24it/s]\n",
      "                 Class     Images  Instances      Box(P          R      mAP50  mAP50-95): 100%|██████████| 13/13 [00:07<00:00,  1.85it/s]\n"
     ]
    },
    {
     "name": "stdout",
     "output_type": "stream",
     "text": [
      "                   all        397        417       0.96      0.956      0.968      0.864\n",
      "\n",
      "      Epoch    GPU_mem   box_loss   cls_loss   dfl_loss  Instances       Size\n"
     ]
    },
    {
     "name": "stderr",
     "output_type": "stream",
     "text": [
      "    333/600        11G     0.3886     0.2645      0.885          7        640: 100%|██████████| 50/50 [00:40<00:00,  1.24it/s]\n",
      "                 Class     Images  Instances      Box(P          R      mAP50  mAP50-95): 100%|██████████| 13/13 [00:07<00:00,  1.85it/s]\n"
     ]
    },
    {
     "name": "stdout",
     "output_type": "stream",
     "text": [
      "                   all        397        417      0.963      0.962       0.97      0.868\n",
      "\n",
      "      Epoch    GPU_mem   box_loss   cls_loss   dfl_loss  Instances       Size\n"
     ]
    },
    {
     "name": "stderr",
     "output_type": "stream",
     "text": [
      "    334/600        11G     0.3654     0.2497     0.8678         12        640: 100%|██████████| 50/50 [00:40<00:00,  1.24it/s]\n",
      "                 Class     Images  Instances      Box(P          R      mAP50  mAP50-95): 100%|██████████| 13/13 [00:07<00:00,  1.85it/s]\n"
     ]
    },
    {
     "name": "stdout",
     "output_type": "stream",
     "text": [
      "                   all        397        417      0.953      0.967      0.974      0.873\n",
      "\n",
      "      Epoch    GPU_mem   box_loss   cls_loss   dfl_loss  Instances       Size\n"
     ]
    },
    {
     "name": "stderr",
     "output_type": "stream",
     "text": [
      "    335/600      11.1G     0.3577     0.2404     0.8594         11        640: 100%|██████████| 50/50 [00:40<00:00,  1.24it/s]\n",
      "                 Class     Images  Instances      Box(P          R      mAP50  mAP50-95): 100%|██████████| 13/13 [00:07<00:00,  1.85it/s]\n"
     ]
    },
    {
     "name": "stdout",
     "output_type": "stream",
     "text": [
      "                   all        397        417      0.948       0.97      0.975      0.875\n",
      "\n",
      "      Epoch    GPU_mem   box_loss   cls_loss   dfl_loss  Instances       Size\n"
     ]
    },
    {
     "name": "stderr",
     "output_type": "stream",
     "text": [
      "    336/600        11G     0.3712     0.2384      0.872         16        640: 100%|██████████| 50/50 [00:40<00:00,  1.24it/s]\n",
      "                 Class     Images  Instances      Box(P          R      mAP50  mAP50-95): 100%|██████████| 13/13 [00:07<00:00,  1.85it/s]\n"
     ]
    },
    {
     "name": "stdout",
     "output_type": "stream",
     "text": [
      "                   all        397        417      0.956      0.954      0.974      0.871\n",
      "\n",
      "      Epoch    GPU_mem   box_loss   cls_loss   dfl_loss  Instances       Size\n"
     ]
    },
    {
     "name": "stderr",
     "output_type": "stream",
     "text": [
      "    337/600        11G     0.3592      0.245      0.863         11        640: 100%|██████████| 50/50 [00:40<00:00,  1.24it/s]\n",
      "                 Class     Images  Instances      Box(P          R      mAP50  mAP50-95): 100%|██████████| 13/13 [00:07<00:00,  1.85it/s]\n"
     ]
    },
    {
     "name": "stdout",
     "output_type": "stream",
     "text": [
      "                   all        397        417      0.956       0.96      0.976      0.876\n",
      "\n",
      "      Epoch    GPU_mem   box_loss   cls_loss   dfl_loss  Instances       Size\n"
     ]
    },
    {
     "name": "stderr",
     "output_type": "stream",
     "text": [
      "    338/600      11.1G     0.3815     0.2547     0.8793         10        640: 100%|██████████| 50/50 [00:40<00:00,  1.24it/s]\n",
      "                 Class     Images  Instances      Box(P          R      mAP50  mAP50-95): 100%|██████████| 13/13 [00:07<00:00,  1.85it/s]\n"
     ]
    },
    {
     "name": "stdout",
     "output_type": "stream",
     "text": [
      "                   all        397        417       0.95      0.955      0.978      0.877\n",
      "\n",
      "      Epoch    GPU_mem   box_loss   cls_loss   dfl_loss  Instances       Size\n"
     ]
    },
    {
     "name": "stderr",
     "output_type": "stream",
     "text": [
      "    339/600        11G     0.3706     0.2451     0.8725         12        640: 100%|██████████| 50/50 [00:40<00:00,  1.24it/s]\n",
      "                 Class     Images  Instances      Box(P          R      mAP50  mAP50-95): 100%|██████████| 13/13 [00:07<00:00,  1.84it/s]\n"
     ]
    },
    {
     "name": "stdout",
     "output_type": "stream",
     "text": [
      "                   all        397        417      0.948      0.955      0.978      0.875\n",
      "\n",
      "      Epoch    GPU_mem   box_loss   cls_loss   dfl_loss  Instances       Size\n"
     ]
    },
    {
     "name": "stderr",
     "output_type": "stream",
     "text": [
      "    340/600        11G     0.3733     0.2616     0.8712         15        640: 100%|██████████| 50/50 [00:40<00:00,  1.24it/s]\n",
      "                 Class     Images  Instances      Box(P          R      mAP50  mAP50-95): 100%|██████████| 13/13 [00:07<00:00,  1.85it/s]\n"
     ]
    },
    {
     "name": "stdout",
     "output_type": "stream",
     "text": [
      "                   all        397        417      0.953       0.95      0.979      0.877\n",
      "\n",
      "      Epoch    GPU_mem   box_loss   cls_loss   dfl_loss  Instances       Size\n"
     ]
    },
    {
     "name": "stderr",
     "output_type": "stream",
     "text": [
      "    341/600      11.1G     0.3647      0.241     0.8637         11        640: 100%|██████████| 50/50 [00:40<00:00,  1.23it/s]\n",
      "                 Class     Images  Instances      Box(P          R      mAP50  mAP50-95): 100%|██████████| 13/13 [00:07<00:00,  1.85it/s]\n"
     ]
    },
    {
     "name": "stdout",
     "output_type": "stream",
     "text": [
      "                   all        397        417      0.955      0.946       0.98      0.878\n",
      "\n",
      "      Epoch    GPU_mem   box_loss   cls_loss   dfl_loss  Instances       Size\n"
     ]
    },
    {
     "name": "stderr",
     "output_type": "stream",
     "text": [
      "    342/600      11.1G     0.3723     0.2507     0.8711         11        640: 100%|██████████| 50/50 [00:40<00:00,  1.24it/s]\n",
      "                 Class     Images  Instances      Box(P          R      mAP50  mAP50-95): 100%|██████████| 13/13 [00:07<00:00,  1.85it/s]\n"
     ]
    },
    {
     "name": "stdout",
     "output_type": "stream",
     "text": [
      "                   all        397        417      0.949      0.953      0.976      0.877\n",
      "\n",
      "      Epoch    GPU_mem   box_loss   cls_loss   dfl_loss  Instances       Size\n"
     ]
    },
    {
     "name": "stderr",
     "output_type": "stream",
     "text": [
      "    343/600      11.1G     0.3745     0.2495     0.8602          9        640: 100%|██████████| 50/50 [00:40<00:00,  1.24it/s]\n",
      "                 Class     Images  Instances      Box(P          R      mAP50  mAP50-95): 100%|██████████| 13/13 [00:07<00:00,  1.82it/s]\n"
     ]
    },
    {
     "name": "stdout",
     "output_type": "stream",
     "text": [
      "                   all        397        417      0.959      0.948      0.977      0.879\n",
      "\n",
      "      Epoch    GPU_mem   box_loss   cls_loss   dfl_loss  Instances       Size\n"
     ]
    },
    {
     "name": "stderr",
     "output_type": "stream",
     "text": [
      "    344/600      11.1G     0.3624     0.2449     0.8797         12        640: 100%|██████████| 50/50 [00:40<00:00,  1.24it/s]\n",
      "                 Class     Images  Instances      Box(P          R      mAP50  mAP50-95): 100%|██████████| 13/13 [00:07<00:00,  1.85it/s]\n"
     ]
    },
    {
     "name": "stdout",
     "output_type": "stream",
     "text": [
      "                   all        397        417      0.936      0.961      0.979      0.884\n",
      "\n",
      "      Epoch    GPU_mem   box_loss   cls_loss   dfl_loss  Instances       Size\n"
     ]
    },
    {
     "name": "stderr",
     "output_type": "stream",
     "text": [
      "    345/600      11.1G      0.341     0.2457      0.855         12        640: 100%|██████████| 50/50 [00:40<00:00,  1.23it/s]\n",
      "                 Class     Images  Instances      Box(P          R      mAP50  mAP50-95): 100%|██████████| 13/13 [00:07<00:00,  1.83it/s]\n"
     ]
    },
    {
     "name": "stdout",
     "output_type": "stream",
     "text": [
      "                   all        397        417      0.953      0.954      0.979      0.878\n",
      "\n",
      "      Epoch    GPU_mem   box_loss   cls_loss   dfl_loss  Instances       Size\n"
     ]
    },
    {
     "name": "stderr",
     "output_type": "stream",
     "text": [
      "    346/600        11G     0.3523     0.2288      0.862          8        640: 100%|██████████| 50/50 [00:40<00:00,  1.23it/s]\n",
      "                 Class     Images  Instances      Box(P          R      mAP50  mAP50-95): 100%|██████████| 13/13 [00:07<00:00,  1.85it/s]\n"
     ]
    },
    {
     "name": "stdout",
     "output_type": "stream",
     "text": [
      "                   all        397        417      0.949      0.955      0.975      0.881\n",
      "\n",
      "      Epoch    GPU_mem   box_loss   cls_loss   dfl_loss  Instances       Size\n"
     ]
    },
    {
     "name": "stderr",
     "output_type": "stream",
     "text": [
      "    347/600        11G     0.3602     0.2393     0.8602          7        640: 100%|██████████| 50/50 [00:40<00:00,  1.24it/s]\n",
      "                 Class     Images  Instances      Box(P          R      mAP50  mAP50-95): 100%|██████████| 13/13 [00:07<00:00,  1.85it/s]\n"
     ]
    },
    {
     "name": "stdout",
     "output_type": "stream",
     "text": [
      "                   all        397        417      0.946      0.962      0.974      0.877\n",
      "\n",
      "      Epoch    GPU_mem   box_loss   cls_loss   dfl_loss  Instances       Size\n"
     ]
    },
    {
     "name": "stderr",
     "output_type": "stream",
     "text": [
      "    348/600      11.1G     0.3671     0.2421     0.8771         11        640: 100%|██████████| 50/50 [00:40<00:00,  1.24it/s]\n",
      "                 Class     Images  Instances      Box(P          R      mAP50  mAP50-95): 100%|██████████| 13/13 [00:07<00:00,  1.85it/s]\n"
     ]
    },
    {
     "name": "stdout",
     "output_type": "stream",
     "text": [
      "                   all        397        417      0.953      0.957      0.978      0.881\n",
      "\n",
      "      Epoch    GPU_mem   box_loss   cls_loss   dfl_loss  Instances       Size\n"
     ]
    },
    {
     "name": "stderr",
     "output_type": "stream",
     "text": [
      "    349/600        11G     0.3616     0.2474     0.8643         13        640: 100%|██████████| 50/50 [00:40<00:00,  1.24it/s]\n",
      "                 Class     Images  Instances      Box(P          R      mAP50  mAP50-95): 100%|██████████| 13/13 [00:07<00:00,  1.85it/s]\n"
     ]
    },
    {
     "name": "stdout",
     "output_type": "stream",
     "text": [
      "                   all        397        417      0.956      0.956      0.978      0.883\n",
      "\n",
      "      Epoch    GPU_mem   box_loss   cls_loss   dfl_loss  Instances       Size\n"
     ]
    },
    {
     "name": "stderr",
     "output_type": "stream",
     "text": [
      "    350/600        11G      0.371     0.2431     0.8703         11        640: 100%|██████████| 50/50 [00:40<00:00,  1.24it/s]\n",
      "                 Class     Images  Instances      Box(P          R      mAP50  mAP50-95): 100%|██████████| 13/13 [00:06<00:00,  1.86it/s]\n"
     ]
    },
    {
     "name": "stdout",
     "output_type": "stream",
     "text": [
      "                   all        397        417      0.961      0.955      0.977      0.882\n",
      "\n",
      "      Epoch    GPU_mem   box_loss   cls_loss   dfl_loss  Instances       Size\n"
     ]
    },
    {
     "name": "stderr",
     "output_type": "stream",
     "text": [
      "    351/600        11G     0.3572      0.236     0.8617         11        640: 100%|██████████| 50/50 [00:40<00:00,  1.23it/s]\n",
      "                 Class     Images  Instances      Box(P          R      mAP50  mAP50-95): 100%|██████████| 13/13 [00:07<00:00,  1.84it/s]\n"
     ]
    },
    {
     "name": "stdout",
     "output_type": "stream",
     "text": [
      "                   all        397        417      0.967      0.948      0.977       0.88\n",
      "\n",
      "      Epoch    GPU_mem   box_loss   cls_loss   dfl_loss  Instances       Size\n"
     ]
    },
    {
     "name": "stderr",
     "output_type": "stream",
     "text": [
      "    352/600      11.1G     0.3558     0.2373     0.8666          9        640: 100%|██████████| 50/50 [00:40<00:00,  1.24it/s]\n",
      "                 Class     Images  Instances      Box(P          R      mAP50  mAP50-95): 100%|██████████| 13/13 [00:06<00:00,  1.86it/s]\n"
     ]
    },
    {
     "name": "stdout",
     "output_type": "stream",
     "text": [
      "                   all        397        417      0.956      0.958      0.979      0.885\n",
      "\n",
      "      Epoch    GPU_mem   box_loss   cls_loss   dfl_loss  Instances       Size\n"
     ]
    },
    {
     "name": "stderr",
     "output_type": "stream",
     "text": [
      "    353/600      11.1G     0.3579     0.2363     0.8698         11        640: 100%|██████████| 50/50 [00:40<00:00,  1.24it/s]\n",
      "                 Class     Images  Instances      Box(P          R      mAP50  mAP50-95): 100%|██████████| 13/13 [00:07<00:00,  1.85it/s]\n"
     ]
    },
    {
     "name": "stdout",
     "output_type": "stream",
     "text": [
      "                   all        397        417       0.96       0.95       0.98      0.884\n",
      "\n",
      "      Epoch    GPU_mem   box_loss   cls_loss   dfl_loss  Instances       Size\n"
     ]
    },
    {
     "name": "stderr",
     "output_type": "stream",
     "text": [
      "    354/600        11G     0.3363     0.2308     0.8614          9        640: 100%|██████████| 50/50 [00:40<00:00,  1.23it/s]\n",
      "                 Class     Images  Instances      Box(P          R      mAP50  mAP50-95): 100%|██████████| 13/13 [00:07<00:00,  1.85it/s]\n"
     ]
    },
    {
     "name": "stdout",
     "output_type": "stream",
     "text": [
      "                   all        397        417       0.96      0.943       0.98      0.883\n",
      "\n",
      "      Epoch    GPU_mem   box_loss   cls_loss   dfl_loss  Instances       Size\n"
     ]
    },
    {
     "name": "stderr",
     "output_type": "stream",
     "text": [
      "    355/600        11G     0.3562     0.2342      0.865          7        640: 100%|██████████| 50/50 [00:40<00:00,  1.24it/s]\n",
      "                 Class     Images  Instances      Box(P          R      mAP50  mAP50-95): 100%|██████████| 13/13 [00:07<00:00,  1.85it/s]\n"
     ]
    },
    {
     "name": "stdout",
     "output_type": "stream",
     "text": [
      "                   all        397        417      0.958      0.951      0.981      0.883\n",
      "\n",
      "      Epoch    GPU_mem   box_loss   cls_loss   dfl_loss  Instances       Size\n"
     ]
    },
    {
     "name": "stderr",
     "output_type": "stream",
     "text": [
      "    356/600      11.1G      0.362     0.2403     0.8627          8        640: 100%|██████████| 50/50 [00:40<00:00,  1.23it/s]\n",
      "                 Class     Images  Instances      Box(P          R      mAP50  mAP50-95): 100%|██████████| 13/13 [00:07<00:00,  1.85it/s]\n"
     ]
    },
    {
     "name": "stdout",
     "output_type": "stream",
     "text": [
      "                   all        397        417      0.959      0.957       0.98       0.88\n",
      "\n",
      "      Epoch    GPU_mem   box_loss   cls_loss   dfl_loss  Instances       Size\n"
     ]
    },
    {
     "name": "stderr",
     "output_type": "stream",
     "text": [
      "    357/600      11.1G     0.3579     0.2383     0.8545         12        640: 100%|██████████| 50/50 [00:40<00:00,  1.24it/s]\n",
      "                 Class     Images  Instances      Box(P          R      mAP50  mAP50-95): 100%|██████████| 13/13 [00:07<00:00,  1.85it/s]\n"
     ]
    },
    {
     "name": "stdout",
     "output_type": "stream",
     "text": [
      "                   all        397        417      0.965      0.949      0.979      0.879\n",
      "\n",
      "      Epoch    GPU_mem   box_loss   cls_loss   dfl_loss  Instances       Size\n"
     ]
    },
    {
     "name": "stderr",
     "output_type": "stream",
     "text": [
      "    358/600        11G      0.343     0.2263     0.8595          8        640: 100%|██████████| 50/50 [00:40<00:00,  1.24it/s]\n",
      "                 Class     Images  Instances      Box(P          R      mAP50  mAP50-95): 100%|██████████| 13/13 [00:07<00:00,  1.84it/s]\n"
     ]
    },
    {
     "name": "stdout",
     "output_type": "stream",
     "text": [
      "                   all        397        417      0.965      0.947       0.98       0.88\n",
      "\n",
      "      Epoch    GPU_mem   box_loss   cls_loss   dfl_loss  Instances       Size\n"
     ]
    },
    {
     "name": "stderr",
     "output_type": "stream",
     "text": [
      "    359/600      11.1G     0.3444     0.2347     0.8726         12        640: 100%|██████████| 50/50 [00:40<00:00,  1.24it/s]\n",
      "                 Class     Images  Instances      Box(P          R      mAP50  mAP50-95): 100%|██████████| 13/13 [00:07<00:00,  1.85it/s]\n"
     ]
    },
    {
     "name": "stdout",
     "output_type": "stream",
     "text": [
      "                   all        397        417       0.96      0.949       0.98       0.88\n",
      "\n",
      "      Epoch    GPU_mem   box_loss   cls_loss   dfl_loss  Instances       Size\n"
     ]
    },
    {
     "name": "stderr",
     "output_type": "stream",
     "text": [
      "    360/600      11.1G     0.3345      0.224     0.8446         10        640: 100%|██████████| 50/50 [00:40<00:00,  1.24it/s]\n",
      "                 Class     Images  Instances      Box(P          R      mAP50  mAP50-95): 100%|██████████| 13/13 [00:07<00:00,  1.85it/s]\n"
     ]
    },
    {
     "name": "stdout",
     "output_type": "stream",
     "text": [
      "                   all        397        417      0.967      0.945      0.979       0.88\n",
      "\n",
      "      Epoch    GPU_mem   box_loss   cls_loss   dfl_loss  Instances       Size\n"
     ]
    },
    {
     "name": "stderr",
     "output_type": "stream",
     "text": [
      "    361/600      11.1G     0.3566     0.2359     0.8568         11        640: 100%|██████████| 50/50 [00:40<00:00,  1.24it/s]\n",
      "                 Class     Images  Instances      Box(P          R      mAP50  mAP50-95): 100%|██████████| 13/13 [00:07<00:00,  1.85it/s]\n"
     ]
    },
    {
     "name": "stdout",
     "output_type": "stream",
     "text": [
      "                   all        397        417      0.972      0.943      0.978      0.878\n",
      "\n",
      "      Epoch    GPU_mem   box_loss   cls_loss   dfl_loss  Instances       Size\n"
     ]
    },
    {
     "name": "stderr",
     "output_type": "stream",
     "text": [
      "    362/600      11.1G     0.3411     0.2227     0.8632         11        640: 100%|██████████| 50/50 [00:40<00:00,  1.23it/s]\n",
      "                 Class     Images  Instances      Box(P          R      mAP50  mAP50-95): 100%|██████████| 13/13 [00:07<00:00,  1.85it/s]\n"
     ]
    },
    {
     "name": "stdout",
     "output_type": "stream",
     "text": [
      "                   all        397        417      0.972      0.942      0.979      0.877\n",
      "\n",
      "      Epoch    GPU_mem   box_loss   cls_loss   dfl_loss  Instances       Size\n"
     ]
    },
    {
     "name": "stderr",
     "output_type": "stream",
     "text": [
      "    363/600        11G      0.347     0.2301     0.8657          8        640: 100%|██████████| 50/50 [00:40<00:00,  1.24it/s]\n",
      "                 Class     Images  Instances      Box(P          R      mAP50  mAP50-95): 100%|██████████| 13/13 [00:07<00:00,  1.84it/s]\n"
     ]
    },
    {
     "name": "stdout",
     "output_type": "stream",
     "text": [
      "                   all        397        417      0.951      0.965      0.978      0.877\n",
      "\n",
      "      Epoch    GPU_mem   box_loss   cls_loss   dfl_loss  Instances       Size\n"
     ]
    },
    {
     "name": "stderr",
     "output_type": "stream",
     "text": [
      "    364/600        11G     0.3607      0.232     0.8627         18        640: 100%|██████████| 50/50 [00:40<00:00,  1.24it/s]\n",
      "                 Class     Images  Instances      Box(P          R      mAP50  mAP50-95): 100%|██████████| 13/13 [00:07<00:00,  1.85it/s]\n"
     ]
    },
    {
     "name": "stdout",
     "output_type": "stream",
     "text": [
      "                   all        397        417      0.971      0.942      0.976      0.879\n",
      "\n",
      "      Epoch    GPU_mem   box_loss   cls_loss   dfl_loss  Instances       Size\n"
     ]
    },
    {
     "name": "stderr",
     "output_type": "stream",
     "text": [
      "    365/600      11.1G     0.3321     0.2184     0.8537         13        640: 100%|██████████| 50/50 [00:40<00:00,  1.24it/s]\n",
      "                 Class     Images  Instances      Box(P          R      mAP50  mAP50-95): 100%|██████████| 13/13 [00:07<00:00,  1.85it/s]\n"
     ]
    },
    {
     "name": "stdout",
     "output_type": "stream",
     "text": [
      "                   all        397        417      0.952       0.96      0.977      0.877\n",
      "\n",
      "      Epoch    GPU_mem   box_loss   cls_loss   dfl_loss  Instances       Size\n"
     ]
    },
    {
     "name": "stderr",
     "output_type": "stream",
     "text": [
      "    366/600      11.1G     0.3393      0.235     0.8617         11        640: 100%|██████████| 50/50 [00:40<00:00,  1.23it/s]\n",
      "                 Class     Images  Instances      Box(P          R      mAP50  mAP50-95): 100%|██████████| 13/13 [00:07<00:00,  1.85it/s]\n"
     ]
    },
    {
     "name": "stdout",
     "output_type": "stream",
     "text": [
      "                   all        397        417       0.96      0.956      0.978      0.877\n",
      "\n",
      "      Epoch    GPU_mem   box_loss   cls_loss   dfl_loss  Instances       Size\n"
     ]
    },
    {
     "name": "stderr",
     "output_type": "stream",
     "text": [
      "    367/600        11G     0.3589     0.2335     0.8686         15        640: 100%|██████████| 50/50 [00:40<00:00,  1.24it/s]\n",
      "                 Class     Images  Instances      Box(P          R      mAP50  mAP50-95): 100%|██████████| 13/13 [00:07<00:00,  1.86it/s]\n"
     ]
    },
    {
     "name": "stdout",
     "output_type": "stream",
     "text": [
      "                   all        397        417      0.957       0.96      0.979      0.878\n",
      "\n",
      "      Epoch    GPU_mem   box_loss   cls_loss   dfl_loss  Instances       Size\n"
     ]
    },
    {
     "name": "stderr",
     "output_type": "stream",
     "text": [
      "    368/600      11.1G     0.3429      0.227     0.8671         12        640: 100%|██████████| 50/50 [00:40<00:00,  1.24it/s]\n",
      "                 Class     Images  Instances      Box(P          R      mAP50  mAP50-95): 100%|██████████| 13/13 [00:07<00:00,  1.86it/s]\n"
     ]
    },
    {
     "name": "stdout",
     "output_type": "stream",
     "text": [
      "                   all        397        417      0.954      0.964       0.98      0.881\n",
      "\n",
      "      Epoch    GPU_mem   box_loss   cls_loss   dfl_loss  Instances       Size\n"
     ]
    },
    {
     "name": "stderr",
     "output_type": "stream",
     "text": [
      "    369/600      11.1G      0.351     0.2266     0.8671         12        640: 100%|██████████| 50/50 [00:40<00:00,  1.24it/s]\n",
      "                 Class     Images  Instances      Box(P          R      mAP50  mAP50-95): 100%|██████████| 13/13 [00:07<00:00,  1.84it/s]\n"
     ]
    },
    {
     "name": "stdout",
     "output_type": "stream",
     "text": [
      "                   all        397        417      0.948      0.966       0.98      0.885\n",
      "\n",
      "      Epoch    GPU_mem   box_loss   cls_loss   dfl_loss  Instances       Size\n"
     ]
    },
    {
     "name": "stderr",
     "output_type": "stream",
     "text": [
      "    370/600      11.1G     0.3392      0.227      0.857         11        640: 100%|██████████| 50/50 [00:40<00:00,  1.24it/s]\n",
      "                 Class     Images  Instances      Box(P          R      mAP50  mAP50-95): 100%|██████████| 13/13 [00:07<00:00,  1.85it/s]\n"
     ]
    },
    {
     "name": "stdout",
     "output_type": "stream",
     "text": [
      "                   all        397        417      0.939      0.967      0.979      0.883\n",
      "\n",
      "      Epoch    GPU_mem   box_loss   cls_loss   dfl_loss  Instances       Size\n"
     ]
    },
    {
     "name": "stderr",
     "output_type": "stream",
     "text": [
      "    371/600        11G     0.3407     0.2177     0.8651         13        640: 100%|██████████| 50/50 [00:40<00:00,  1.24it/s]\n",
      "                 Class     Images  Instances      Box(P          R      mAP50  mAP50-95): 100%|██████████| 13/13 [00:07<00:00,  1.84it/s]\n"
     ]
    },
    {
     "name": "stdout",
     "output_type": "stream",
     "text": [
      "                   all        397        417       0.94      0.969       0.98      0.885\n",
      "\n",
      "      Epoch    GPU_mem   box_loss   cls_loss   dfl_loss  Instances       Size\n"
     ]
    },
    {
     "name": "stderr",
     "output_type": "stream",
     "text": [
      "    372/600        11G      0.347     0.2242      0.863         12        640: 100%|██████████| 50/50 [00:40<00:00,  1.23it/s]\n",
      "                 Class     Images  Instances      Box(P          R      mAP50  mAP50-95): 100%|██████████| 13/13 [00:07<00:00,  1.85it/s]\n"
     ]
    },
    {
     "name": "stdout",
     "output_type": "stream",
     "text": [
      "                   all        397        417      0.949      0.963      0.981      0.886\n",
      "\n",
      "      Epoch    GPU_mem   box_loss   cls_loss   dfl_loss  Instances       Size\n"
     ]
    },
    {
     "name": "stderr",
     "output_type": "stream",
     "text": [
      "    373/600      11.1G     0.3422     0.2272      0.865         15        640: 100%|██████████| 50/50 [00:40<00:00,  1.23it/s]\n",
      "                 Class     Images  Instances      Box(P          R      mAP50  mAP50-95): 100%|██████████| 13/13 [00:07<00:00,  1.83it/s]\n"
     ]
    },
    {
     "name": "stdout",
     "output_type": "stream",
     "text": [
      "                   all        397        417      0.938      0.975      0.981      0.887\n",
      "\n",
      "      Epoch    GPU_mem   box_loss   cls_loss   dfl_loss  Instances       Size\n"
     ]
    },
    {
     "name": "stderr",
     "output_type": "stream",
     "text": [
      "    374/600      11.1G     0.3175     0.2231     0.8573         20        640: 100%|██████████| 50/50 [00:40<00:00,  1.24it/s]\n",
      "                 Class     Images  Instances      Box(P          R      mAP50  mAP50-95): 100%|██████████| 13/13 [00:07<00:00,  1.85it/s]\n"
     ]
    },
    {
     "name": "stdout",
     "output_type": "stream",
     "text": [
      "                   all        397        417       0.94      0.977       0.98      0.887\n",
      "\n",
      "      Epoch    GPU_mem   box_loss   cls_loss   dfl_loss  Instances       Size\n"
     ]
    },
    {
     "name": "stderr",
     "output_type": "stream",
     "text": [
      "    375/600      11.1G     0.3527     0.2277     0.8741         12        640: 100%|██████████| 50/50 [00:40<00:00,  1.23it/s]\n",
      "                 Class     Images  Instances      Box(P          R      mAP50  mAP50-95): 100%|██████████| 13/13 [00:07<00:00,  1.85it/s]\n"
     ]
    },
    {
     "name": "stdout",
     "output_type": "stream",
     "text": [
      "                   all        397        417      0.942      0.973      0.979      0.886\n",
      "\n",
      "      Epoch    GPU_mem   box_loss   cls_loss   dfl_loss  Instances       Size\n"
     ]
    },
    {
     "name": "stderr",
     "output_type": "stream",
     "text": [
      "    376/600        11G     0.3488     0.2313      0.864         12        640: 100%|██████████| 50/50 [00:40<00:00,  1.23it/s]\n",
      "                 Class     Images  Instances      Box(P          R      mAP50  mAP50-95): 100%|██████████| 13/13 [00:07<00:00,  1.85it/s]\n"
     ]
    },
    {
     "name": "stdout",
     "output_type": "stream",
     "text": [
      "                   all        397        417      0.938      0.971       0.98      0.887\n",
      "\n",
      "      Epoch    GPU_mem   box_loss   cls_loss   dfl_loss  Instances       Size\n"
     ]
    },
    {
     "name": "stderr",
     "output_type": "stream",
     "text": [
      "    377/600        11G     0.3397     0.2318     0.8594         12        640: 100%|██████████| 50/50 [00:40<00:00,  1.23it/s]\n",
      "                 Class     Images  Instances      Box(P          R      mAP50  mAP50-95): 100%|██████████| 13/13 [00:07<00:00,  1.85it/s]\n"
     ]
    },
    {
     "name": "stdout",
     "output_type": "stream",
     "text": [
      "                   all        397        417      0.954      0.956       0.98      0.886\n",
      "\n",
      "      Epoch    GPU_mem   box_loss   cls_loss   dfl_loss  Instances       Size\n"
     ]
    },
    {
     "name": "stderr",
     "output_type": "stream",
     "text": [
      "    378/600      11.1G     0.3353     0.2163     0.8518         15        640: 100%|██████████| 50/50 [00:40<00:00,  1.23it/s]\n",
      "                 Class     Images  Instances      Box(P          R      mAP50  mAP50-95): 100%|██████████| 13/13 [00:07<00:00,  1.85it/s]\n"
     ]
    },
    {
     "name": "stdout",
     "output_type": "stream",
     "text": [
      "                   all        397        417      0.947      0.965       0.98      0.884\n",
      "\n",
      "      Epoch    GPU_mem   box_loss   cls_loss   dfl_loss  Instances       Size\n"
     ]
    },
    {
     "name": "stderr",
     "output_type": "stream",
     "text": [
      "    379/600      11.1G     0.3285     0.2175     0.8482         10        640: 100%|██████████| 50/50 [00:40<00:00,  1.23it/s]\n",
      "                 Class     Images  Instances      Box(P          R      mAP50  mAP50-95): 100%|██████████| 13/13 [00:07<00:00,  1.85it/s]\n"
     ]
    },
    {
     "name": "stdout",
     "output_type": "stream",
     "text": [
      "                   all        397        417      0.948      0.965      0.978      0.884\n",
      "\n",
      "      Epoch    GPU_mem   box_loss   cls_loss   dfl_loss  Instances       Size\n"
     ]
    },
    {
     "name": "stderr",
     "output_type": "stream",
     "text": [
      "    380/600        11G     0.3435     0.2308     0.8638         18        640: 100%|██████████| 50/50 [00:40<00:00,  1.24it/s]\n",
      "                 Class     Images  Instances      Box(P          R      mAP50  mAP50-95): 100%|██████████| 13/13 [00:07<00:00,  1.85it/s]\n"
     ]
    },
    {
     "name": "stdout",
     "output_type": "stream",
     "text": [
      "                   all        397        417      0.943      0.966      0.978      0.885\n",
      "\n",
      "      Epoch    GPU_mem   box_loss   cls_loss   dfl_loss  Instances       Size\n"
     ]
    },
    {
     "name": "stderr",
     "output_type": "stream",
     "text": [
      "    381/600        11G     0.3306     0.2164     0.8515         20        640: 100%|██████████| 50/50 [00:40<00:00,  1.23it/s]\n",
      "                 Class     Images  Instances      Box(P          R      mAP50  mAP50-95): 100%|██████████| 13/13 [00:07<00:00,  1.84it/s]\n"
     ]
    },
    {
     "name": "stdout",
     "output_type": "stream",
     "text": [
      "                   all        397        417      0.942      0.963      0.978      0.884\n",
      "\n",
      "      Epoch    GPU_mem   box_loss   cls_loss   dfl_loss  Instances       Size\n"
     ]
    },
    {
     "name": "stderr",
     "output_type": "stream",
     "text": [
      "    382/600      11.1G      0.338     0.2254     0.8589         17        640: 100%|██████████| 50/50 [00:40<00:00,  1.23it/s]\n",
      "                 Class     Images  Instances      Box(P          R      mAP50  mAP50-95): 100%|██████████| 13/13 [00:07<00:00,  1.85it/s]\n"
     ]
    },
    {
     "name": "stdout",
     "output_type": "stream",
     "text": [
      "                   all        397        417      0.949      0.954      0.978      0.884\n",
      "\n",
      "      Epoch    GPU_mem   box_loss   cls_loss   dfl_loss  Instances       Size\n"
     ]
    },
    {
     "name": "stderr",
     "output_type": "stream",
     "text": [
      "    383/600      11.1G      0.352     0.2294     0.8608         10        640: 100%|██████████| 50/50 [00:40<00:00,  1.23it/s]\n",
      "                 Class     Images  Instances      Box(P          R      mAP50  mAP50-95): 100%|██████████| 13/13 [00:07<00:00,  1.85it/s]\n"
     ]
    },
    {
     "name": "stdout",
     "output_type": "stream",
     "text": [
      "                   all        397        417      0.955      0.955      0.978      0.882\n",
      "\n",
      "      Epoch    GPU_mem   box_loss   cls_loss   dfl_loss  Instances       Size\n"
     ]
    },
    {
     "name": "stderr",
     "output_type": "stream",
     "text": [
      "    384/600      11.1G     0.3441     0.2309     0.8679         11        640: 100%|██████████| 50/50 [00:40<00:00,  1.23it/s]\n",
      "                 Class     Images  Instances      Box(P          R      mAP50  mAP50-95): 100%|██████████| 13/13 [00:07<00:00,  1.85it/s]\n"
     ]
    },
    {
     "name": "stdout",
     "output_type": "stream",
     "text": [
      "                   all        397        417      0.966      0.948      0.979      0.882\n",
      "\n",
      "      Epoch    GPU_mem   box_loss   cls_loss   dfl_loss  Instances       Size\n"
     ]
    },
    {
     "name": "stderr",
     "output_type": "stream",
     "text": [
      "    385/600        11G     0.3373     0.2249     0.8608          7        640: 100%|██████████| 50/50 [00:40<00:00,  1.23it/s]\n",
      "                 Class     Images  Instances      Box(P          R      mAP50  mAP50-95): 100%|██████████| 13/13 [00:07<00:00,  1.85it/s]\n"
     ]
    },
    {
     "name": "stdout",
     "output_type": "stream",
     "text": [
      "                   all        397        417      0.969      0.951      0.979      0.883\n",
      "\n",
      "      Epoch    GPU_mem   box_loss   cls_loss   dfl_loss  Instances       Size\n"
     ]
    },
    {
     "name": "stderr",
     "output_type": "stream",
     "text": [
      "    386/600      11.1G     0.3295     0.2209      0.852         10        640: 100%|██████████| 50/50 [00:40<00:00,  1.23it/s]\n",
      "                 Class     Images  Instances      Box(P          R      mAP50  mAP50-95): 100%|██████████| 13/13 [00:07<00:00,  1.85it/s]\n"
     ]
    },
    {
     "name": "stdout",
     "output_type": "stream",
     "text": [
      "                   all        397        417       0.97      0.958      0.979      0.882\n",
      "\n",
      "      Epoch    GPU_mem   box_loss   cls_loss   dfl_loss  Instances       Size\n"
     ]
    },
    {
     "name": "stderr",
     "output_type": "stream",
     "text": [
      "    387/600        11G     0.3367     0.2281     0.8633         15        640: 100%|██████████| 50/50 [00:40<00:00,  1.24it/s]\n",
      "                 Class     Images  Instances      Box(P          R      mAP50  mAP50-95): 100%|██████████| 13/13 [00:07<00:00,  1.86it/s]\n"
     ]
    },
    {
     "name": "stdout",
     "output_type": "stream",
     "text": [
      "                   all        397        417      0.966      0.961      0.979      0.884\n",
      "\n",
      "      Epoch    GPU_mem   box_loss   cls_loss   dfl_loss  Instances       Size\n"
     ]
    },
    {
     "name": "stderr",
     "output_type": "stream",
     "text": [
      "    388/600      11.1G     0.3247     0.2182     0.8554         13        640: 100%|██████████| 50/50 [00:40<00:00,  1.23it/s]\n",
      "                 Class     Images  Instances      Box(P          R      mAP50  mAP50-95): 100%|██████████| 13/13 [00:07<00:00,  1.85it/s]\n"
     ]
    },
    {
     "name": "stdout",
     "output_type": "stream",
     "text": [
      "                   all        397        417      0.974       0.96       0.98      0.884\n",
      "\n",
      "      Epoch    GPU_mem   box_loss   cls_loss   dfl_loss  Instances       Size\n"
     ]
    },
    {
     "name": "stderr",
     "output_type": "stream",
     "text": [
      "    389/600      11.1G     0.3384      0.222     0.8646          9        640: 100%|██████████| 50/50 [00:40<00:00,  1.24it/s]\n",
      "                 Class     Images  Instances      Box(P          R      mAP50  mAP50-95): 100%|██████████| 13/13 [00:07<00:00,  1.85it/s]\n"
     ]
    },
    {
     "name": "stdout",
     "output_type": "stream",
     "text": [
      "                   all        397        417       0.97      0.956      0.978      0.885\n",
      "\n",
      "      Epoch    GPU_mem   box_loss   cls_loss   dfl_loss  Instances       Size\n"
     ]
    },
    {
     "name": "stderr",
     "output_type": "stream",
     "text": [
      "    390/600        11G     0.3343     0.2226     0.8549          7        640: 100%|██████████| 50/50 [00:40<00:00,  1.23it/s]\n",
      "                 Class     Images  Instances      Box(P          R      mAP50  mAP50-95): 100%|██████████| 13/13 [00:07<00:00,  1.85it/s]\n"
     ]
    },
    {
     "name": "stdout",
     "output_type": "stream",
     "text": [
      "                   all        397        417      0.967      0.961      0.978      0.884\n",
      "\n",
      "      Epoch    GPU_mem   box_loss   cls_loss   dfl_loss  Instances       Size\n"
     ]
    },
    {
     "name": "stderr",
     "output_type": "stream",
     "text": [
      "    391/600      11.1G     0.3197     0.2177     0.8389         17        640: 100%|██████████| 50/50 [00:40<00:00,  1.23it/s]\n",
      "                 Class     Images  Instances      Box(P          R      mAP50  mAP50-95): 100%|██████████| 13/13 [00:07<00:00,  1.84it/s]\n"
     ]
    },
    {
     "name": "stdout",
     "output_type": "stream",
     "text": [
      "                   all        397        417      0.965      0.968      0.977      0.882\n",
      "\n",
      "      Epoch    GPU_mem   box_loss   cls_loss   dfl_loss  Instances       Size\n"
     ]
    },
    {
     "name": "stderr",
     "output_type": "stream",
     "text": [
      "    392/600      11.1G     0.3318     0.2179     0.8571         15        640: 100%|██████████| 50/50 [00:40<00:00,  1.23it/s]\n",
      "                 Class     Images  Instances      Box(P          R      mAP50  mAP50-95): 100%|██████████| 13/13 [00:07<00:00,  1.85it/s]\n"
     ]
    },
    {
     "name": "stdout",
     "output_type": "stream",
     "text": [
      "                   all        397        417       0.96      0.967      0.977      0.883\n",
      "\n",
      "      Epoch    GPU_mem   box_loss   cls_loss   dfl_loss  Instances       Size\n"
     ]
    },
    {
     "name": "stderr",
     "output_type": "stream",
     "text": [
      "    393/600      11.1G     0.3295     0.2121     0.8484         10        640: 100%|██████████| 50/50 [00:40<00:00,  1.24it/s]\n",
      "                 Class     Images  Instances      Box(P          R      mAP50  mAP50-95): 100%|██████████| 13/13 [00:07<00:00,  1.85it/s]\n"
     ]
    },
    {
     "name": "stdout",
     "output_type": "stream",
     "text": [
      "                   all        397        417      0.972      0.958      0.978      0.884\n",
      "\n",
      "      Epoch    GPU_mem   box_loss   cls_loss   dfl_loss  Instances       Size\n"
     ]
    },
    {
     "name": "stderr",
     "output_type": "stream",
     "text": [
      "    394/600      11.1G     0.3253     0.2179     0.8558         14        640: 100%|██████████| 50/50 [00:40<00:00,  1.23it/s]\n",
      "                 Class     Images  Instances      Box(P          R      mAP50  mAP50-95): 100%|██████████| 13/13 [00:07<00:00,  1.84it/s]\n"
     ]
    },
    {
     "name": "stdout",
     "output_type": "stream",
     "text": [
      "                   all        397        417      0.967      0.964      0.979      0.885\n",
      "\n",
      "      Epoch    GPU_mem   box_loss   cls_loss   dfl_loss  Instances       Size\n"
     ]
    },
    {
     "name": "stderr",
     "output_type": "stream",
     "text": [
      "    395/600        11G     0.3275     0.2174     0.8509          8        640: 100%|██████████| 50/50 [00:40<00:00,  1.23it/s]\n",
      "                 Class     Images  Instances      Box(P          R      mAP50  mAP50-95): 100%|██████████| 13/13 [00:07<00:00,  1.85it/s]\n"
     ]
    },
    {
     "name": "stdout",
     "output_type": "stream",
     "text": [
      "                   all        397        417      0.974      0.956       0.98      0.888\n",
      "\n",
      "      Epoch    GPU_mem   box_loss   cls_loss   dfl_loss  Instances       Size\n"
     ]
    },
    {
     "name": "stderr",
     "output_type": "stream",
     "text": [
      "    396/600      11.1G     0.3115     0.2112       0.85         12        640: 100%|██████████| 50/50 [00:40<00:00,  1.23it/s]\n",
      "                 Class     Images  Instances      Box(P          R      mAP50  mAP50-95): 100%|██████████| 13/13 [00:07<00:00,  1.84it/s]\n"
     ]
    },
    {
     "name": "stdout",
     "output_type": "stream",
     "text": [
      "                   all        397        417      0.969      0.957       0.98       0.89\n",
      "\n",
      "      Epoch    GPU_mem   box_loss   cls_loss   dfl_loss  Instances       Size\n"
     ]
    },
    {
     "name": "stderr",
     "output_type": "stream",
     "text": [
      "    397/600      11.1G     0.3093     0.2159     0.8486         13        640: 100%|██████████| 50/50 [00:40<00:00,  1.23it/s]\n",
      "                 Class     Images  Instances      Box(P          R      mAP50  mAP50-95): 100%|██████████| 13/13 [00:07<00:00,  1.85it/s]\n"
     ]
    },
    {
     "name": "stdout",
     "output_type": "stream",
     "text": [
      "                   all        397        417      0.971      0.956       0.98       0.89\n",
      "\n",
      "      Epoch    GPU_mem   box_loss   cls_loss   dfl_loss  Instances       Size\n"
     ]
    },
    {
     "name": "stderr",
     "output_type": "stream",
     "text": [
      "    398/600      11.1G     0.3248     0.2146     0.8549         10        640: 100%|██████████| 50/50 [00:40<00:00,  1.24it/s]\n",
      "                 Class     Images  Instances      Box(P          R      mAP50  mAP50-95): 100%|██████████| 13/13 [00:07<00:00,  1.85it/s]\n"
     ]
    },
    {
     "name": "stdout",
     "output_type": "stream",
     "text": [
      "                   all        397        417      0.969      0.954       0.98       0.89\n",
      "\n",
      "      Epoch    GPU_mem   box_loss   cls_loss   dfl_loss  Instances       Size\n"
     ]
    },
    {
     "name": "stderr",
     "output_type": "stream",
     "text": [
      "    399/600      11.1G     0.3169     0.2121     0.8499         20        640: 100%|██████████| 50/50 [00:40<00:00,  1.23it/s]\n",
      "                 Class     Images  Instances      Box(P          R      mAP50  mAP50-95): 100%|██████████| 13/13 [00:07<00:00,  1.85it/s]\n"
     ]
    },
    {
     "name": "stdout",
     "output_type": "stream",
     "text": [
      "                   all        397        417      0.968      0.956      0.981      0.891\n",
      "\n",
      "      Epoch    GPU_mem   box_loss   cls_loss   dfl_loss  Instances       Size\n"
     ]
    },
    {
     "name": "stderr",
     "output_type": "stream",
     "text": [
      "    400/600      11.1G     0.3249     0.2102     0.8436         13        640: 100%|██████████| 50/50 [00:40<00:00,  1.23it/s]\n",
      "                 Class     Images  Instances      Box(P          R      mAP50  mAP50-95): 100%|██████████| 13/13 [00:07<00:00,  1.84it/s]\n"
     ]
    },
    {
     "name": "stdout",
     "output_type": "stream",
     "text": [
      "                   all        397        417      0.969      0.955      0.981      0.892\n",
      "\n",
      "      Epoch    GPU_mem   box_loss   cls_loss   dfl_loss  Instances       Size\n"
     ]
    },
    {
     "name": "stderr",
     "output_type": "stream",
     "text": [
      "    401/600        11G      0.325     0.2209     0.8528         13        640: 100%|██████████| 50/50 [00:40<00:00,  1.23it/s]\n",
      "                 Class     Images  Instances      Box(P          R      mAP50  mAP50-95): 100%|██████████| 13/13 [00:07<00:00,  1.85it/s]\n"
     ]
    },
    {
     "name": "stdout",
     "output_type": "stream",
     "text": [
      "                   all        397        417      0.968      0.954      0.981      0.892\n",
      "\n",
      "      Epoch    GPU_mem   box_loss   cls_loss   dfl_loss  Instances       Size\n"
     ]
    },
    {
     "name": "stderr",
     "output_type": "stream",
     "text": [
      "    402/600      11.1G     0.3306     0.2166     0.8621         12        640: 100%|██████████| 50/50 [00:40<00:00,  1.23it/s]\n",
      "                 Class     Images  Instances      Box(P          R      mAP50  mAP50-95): 100%|██████████| 13/13 [00:07<00:00,  1.84it/s]\n"
     ]
    },
    {
     "name": "stdout",
     "output_type": "stream",
     "text": [
      "                   all        397        417      0.972      0.946      0.981      0.892\n",
      "\n",
      "      Epoch    GPU_mem   box_loss   cls_loss   dfl_loss  Instances       Size\n"
     ]
    },
    {
     "name": "stderr",
     "output_type": "stream",
     "text": [
      "    403/600      11.1G     0.3294     0.2176     0.8521         13        640: 100%|██████████| 50/50 [00:40<00:00,  1.23it/s]\n",
      "                 Class     Images  Instances      Box(P          R      mAP50  mAP50-95): 100%|██████████| 13/13 [00:07<00:00,  1.85it/s]\n"
     ]
    },
    {
     "name": "stdout",
     "output_type": "stream",
     "text": [
      "                   all        397        417      0.979      0.939      0.981      0.892\n",
      "\n",
      "      Epoch    GPU_mem   box_loss   cls_loss   dfl_loss  Instances       Size\n"
     ]
    },
    {
     "name": "stderr",
     "output_type": "stream",
     "text": [
      "    404/600      11.1G     0.3194     0.2129     0.8522         14        640: 100%|██████████| 50/50 [00:40<00:00,  1.24it/s]\n",
      "                 Class     Images  Instances      Box(P          R      mAP50  mAP50-95): 100%|██████████| 13/13 [00:07<00:00,  1.85it/s]\n"
     ]
    },
    {
     "name": "stdout",
     "output_type": "stream",
     "text": [
      "                   all        397        417      0.965      0.954       0.98       0.89\n",
      "\n",
      "      Epoch    GPU_mem   box_loss   cls_loss   dfl_loss  Instances       Size\n"
     ]
    },
    {
     "name": "stderr",
     "output_type": "stream",
     "text": [
      "    405/600      11.1G     0.3343     0.2238     0.8617         18        640: 100%|██████████| 50/50 [00:40<00:00,  1.23it/s]\n",
      "                 Class     Images  Instances      Box(P          R      mAP50  mAP50-95): 100%|██████████| 13/13 [00:07<00:00,  1.85it/s]\n"
     ]
    },
    {
     "name": "stdout",
     "output_type": "stream",
     "text": [
      "                   all        397        417      0.959      0.955      0.981       0.89\n",
      "\n",
      "      Epoch    GPU_mem   box_loss   cls_loss   dfl_loss  Instances       Size\n"
     ]
    },
    {
     "name": "stderr",
     "output_type": "stream",
     "text": [
      "    406/600        11G     0.3123     0.2005     0.8509          8        640: 100%|██████████| 50/50 [00:40<00:00,  1.24it/s]\n",
      "                 Class     Images  Instances      Box(P          R      mAP50  mAP50-95): 100%|██████████| 13/13 [00:07<00:00,  1.85it/s]\n"
     ]
    },
    {
     "name": "stdout",
     "output_type": "stream",
     "text": [
      "                   all        397        417      0.982      0.933       0.98      0.891\n",
      "\n",
      "      Epoch    GPU_mem   box_loss   cls_loss   dfl_loss  Instances       Size\n"
     ]
    },
    {
     "name": "stderr",
     "output_type": "stream",
     "text": [
      "    407/600      11.1G     0.3288     0.2239     0.8563         13        640: 100%|██████████| 50/50 [00:40<00:00,  1.23it/s]\n",
      "                 Class     Images  Instances      Box(P          R      mAP50  mAP50-95): 100%|██████████| 13/13 [00:07<00:00,  1.84it/s]\n"
     ]
    },
    {
     "name": "stdout",
     "output_type": "stream",
     "text": [
      "                   all        397        417      0.957      0.956       0.98      0.892\n",
      "\n",
      "      Epoch    GPU_mem   box_loss   cls_loss   dfl_loss  Instances       Size\n"
     ]
    },
    {
     "name": "stderr",
     "output_type": "stream",
     "text": [
      "    408/600      11.1G     0.3213     0.2064     0.8553         11        640: 100%|██████████| 50/50 [00:40<00:00,  1.23it/s]\n",
      "                 Class     Images  Instances      Box(P          R      mAP50  mAP50-95): 100%|██████████| 13/13 [00:07<00:00,  1.85it/s]\n"
     ]
    },
    {
     "name": "stdout",
     "output_type": "stream",
     "text": [
      "                   all        397        417      0.971      0.946      0.981      0.893\n",
      "\n",
      "      Epoch    GPU_mem   box_loss   cls_loss   dfl_loss  Instances       Size\n"
     ]
    },
    {
     "name": "stderr",
     "output_type": "stream",
     "text": [
      "    409/600      11.1G     0.3163     0.2081     0.8445         17        640: 100%|██████████| 50/50 [00:40<00:00,  1.23it/s]\n",
      "                 Class     Images  Instances      Box(P          R      mAP50  mAP50-95): 100%|██████████| 13/13 [00:07<00:00,  1.83it/s]\n"
     ]
    },
    {
     "name": "stdout",
     "output_type": "stream",
     "text": [
      "                   all        397        417      0.971      0.946      0.981      0.893\n",
      "\n",
      "      Epoch    GPU_mem   box_loss   cls_loss   dfl_loss  Instances       Size\n"
     ]
    },
    {
     "name": "stderr",
     "output_type": "stream",
     "text": [
      "    410/600      11.1G     0.3213     0.2263     0.8614         16        640: 100%|██████████| 50/50 [00:40<00:00,  1.23it/s]\n",
      "                 Class     Images  Instances      Box(P          R      mAP50  mAP50-95): 100%|██████████| 13/13 [00:07<00:00,  1.85it/s]\n"
     ]
    },
    {
     "name": "stdout",
     "output_type": "stream",
     "text": [
      "                   all        397        417      0.972      0.945       0.98      0.893\n",
      "\n",
      "      Epoch    GPU_mem   box_loss   cls_loss   dfl_loss  Instances       Size\n"
     ]
    },
    {
     "name": "stderr",
     "output_type": "stream",
     "text": [
      "    411/600      11.1G     0.3257     0.2225     0.8597         15        640: 100%|██████████| 50/50 [00:40<00:00,  1.23it/s]\n",
      "                 Class     Images  Instances      Box(P          R      mAP50  mAP50-95): 100%|██████████| 13/13 [00:07<00:00,  1.85it/s]\n"
     ]
    },
    {
     "name": "stdout",
     "output_type": "stream",
     "text": [
      "                   all        397        417      0.972      0.946      0.979      0.891\n",
      "\n",
      "      Epoch    GPU_mem   box_loss   cls_loss   dfl_loss  Instances       Size\n"
     ]
    },
    {
     "name": "stderr",
     "output_type": "stream",
     "text": [
      "    412/600        11G     0.3155     0.2227     0.8474         15        640: 100%|██████████| 50/50 [00:40<00:00,  1.23it/s]\n",
      "                 Class     Images  Instances      Box(P          R      mAP50  mAP50-95): 100%|██████████| 13/13 [00:07<00:00,  1.84it/s]\n"
     ]
    },
    {
     "name": "stdout",
     "output_type": "stream",
     "text": [
      "                   all        397        417      0.972      0.945      0.978       0.89\n",
      "\n",
      "      Epoch    GPU_mem   box_loss   cls_loss   dfl_loss  Instances       Size\n"
     ]
    },
    {
     "name": "stderr",
     "output_type": "stream",
     "text": [
      "    413/600        11G     0.3146     0.2131     0.8575         12        640: 100%|██████████| 50/50 [00:40<00:00,  1.23it/s]\n",
      "                 Class     Images  Instances      Box(P          R      mAP50  mAP50-95): 100%|██████████| 13/13 [00:07<00:00,  1.85it/s]\n"
     ]
    },
    {
     "name": "stdout",
     "output_type": "stream",
     "text": [
      "                   all        397        417       0.96      0.959      0.979      0.889\n",
      "\n",
      "      Epoch    GPU_mem   box_loss   cls_loss   dfl_loss  Instances       Size\n"
     ]
    },
    {
     "name": "stderr",
     "output_type": "stream",
     "text": [
      "    414/600      11.1G     0.3133     0.2079     0.8509         13        640: 100%|██████████| 50/50 [00:40<00:00,  1.23it/s]\n",
      "                 Class     Images  Instances      Box(P          R      mAP50  mAP50-95): 100%|██████████| 13/13 [00:07<00:00,  1.85it/s]\n"
     ]
    },
    {
     "name": "stdout",
     "output_type": "stream",
     "text": [
      "                   all        397        417      0.949       0.97       0.98       0.89\n",
      "\n",
      "      Epoch    GPU_mem   box_loss   cls_loss   dfl_loss  Instances       Size\n"
     ]
    },
    {
     "name": "stderr",
     "output_type": "stream",
     "text": [
      "    415/600      11.1G     0.3069     0.2034     0.8541         10        640: 100%|██████████| 50/50 [00:40<00:00,  1.23it/s]\n",
      "                 Class     Images  Instances      Box(P          R      mAP50  mAP50-95): 100%|██████████| 13/13 [00:07<00:00,  1.86it/s]\n"
     ]
    },
    {
     "name": "stdout",
     "output_type": "stream",
     "text": [
      "                   all        397        417      0.958      0.958       0.98       0.89\n",
      "\n",
      "      Epoch    GPU_mem   box_loss   cls_loss   dfl_loss  Instances       Size\n"
     ]
    },
    {
     "name": "stderr",
     "output_type": "stream",
     "text": [
      "    416/600      11.1G     0.3153     0.2154     0.8471         11        640: 100%|██████████| 50/50 [00:40<00:00,  1.23it/s]\n",
      "                 Class     Images  Instances      Box(P          R      mAP50  mAP50-95): 100%|██████████| 13/13 [00:07<00:00,  1.84it/s]\n"
     ]
    },
    {
     "name": "stdout",
     "output_type": "stream",
     "text": [
      "                   all        397        417      0.962      0.962      0.981       0.89\n",
      "\n",
      "      Epoch    GPU_mem   box_loss   cls_loss   dfl_loss  Instances       Size\n"
     ]
    },
    {
     "name": "stderr",
     "output_type": "stream",
     "text": [
      "    417/600      11.1G     0.3022     0.2021     0.8454         12        640: 100%|██████████| 50/50 [00:40<00:00,  1.24it/s]\n",
      "                 Class     Images  Instances      Box(P          R      mAP50  mAP50-95): 100%|██████████| 13/13 [00:06<00:00,  1.86it/s]\n"
     ]
    },
    {
     "name": "stdout",
     "output_type": "stream",
     "text": [
      "                   all        397        417      0.961      0.962      0.981       0.89\n",
      "\n",
      "      Epoch    GPU_mem   box_loss   cls_loss   dfl_loss  Instances       Size\n"
     ]
    },
    {
     "name": "stderr",
     "output_type": "stream",
     "text": [
      "    418/600      11.1G     0.3063     0.2027     0.8465         21        640: 100%|██████████| 50/50 [00:40<00:00,  1.23it/s]\n",
      "                 Class     Images  Instances      Box(P          R      mAP50  mAP50-95): 100%|██████████| 13/13 [00:07<00:00,  1.85it/s]\n"
     ]
    },
    {
     "name": "stdout",
     "output_type": "stream",
     "text": [
      "                   all        397        417       0.96      0.962       0.98       0.89\n",
      "\n",
      "      Epoch    GPU_mem   box_loss   cls_loss   dfl_loss  Instances       Size\n"
     ]
    },
    {
     "name": "stderr",
     "output_type": "stream",
     "text": [
      "    419/600        11G     0.3055     0.2024     0.8492         20        640: 100%|██████████| 50/50 [00:40<00:00,  1.23it/s]\n",
      "                 Class     Images  Instances      Box(P          R      mAP50  mAP50-95): 100%|██████████| 13/13 [00:07<00:00,  1.85it/s]\n"
     ]
    },
    {
     "name": "stdout",
     "output_type": "stream",
     "text": [
      "                   all        397        417      0.971      0.954       0.98       0.89\n",
      "\n",
      "      Epoch    GPU_mem   box_loss   cls_loss   dfl_loss  Instances       Size\n"
     ]
    },
    {
     "name": "stderr",
     "output_type": "stream",
     "text": [
      "    420/600        11G     0.3246     0.2212     0.8637         11        640: 100%|██████████| 50/50 [00:40<00:00,  1.23it/s]\n",
      "                 Class     Images  Instances      Box(P          R      mAP50  mAP50-95): 100%|██████████| 13/13 [00:07<00:00,  1.85it/s]\n"
     ]
    },
    {
     "name": "stdout",
     "output_type": "stream",
     "text": [
      "                   all        397        417      0.952       0.97      0.979       0.89\n",
      "\n",
      "      Epoch    GPU_mem   box_loss   cls_loss   dfl_loss  Instances       Size\n"
     ]
    },
    {
     "name": "stderr",
     "output_type": "stream",
     "text": [
      "    421/600      11.1G      0.303     0.2082     0.8441          9        640: 100%|██████████| 50/50 [00:40<00:00,  1.23it/s]\n",
      "                 Class     Images  Instances      Box(P          R      mAP50  mAP50-95): 100%|██████████| 13/13 [00:07<00:00,  1.85it/s]\n"
     ]
    },
    {
     "name": "stdout",
     "output_type": "stream",
     "text": [
      "                   all        397        417      0.949       0.97      0.979       0.89\n",
      "\n",
      "      Epoch    GPU_mem   box_loss   cls_loss   dfl_loss  Instances       Size\n"
     ]
    },
    {
     "name": "stderr",
     "output_type": "stream",
     "text": [
      "    422/600      11.1G     0.3049     0.2109     0.8447          8        640: 100%|██████████| 50/50 [00:40<00:00,  1.24it/s]\n",
      "                 Class     Images  Instances      Box(P          R      mAP50  mAP50-95): 100%|██████████| 13/13 [00:07<00:00,  1.85it/s]\n"
     ]
    },
    {
     "name": "stdout",
     "output_type": "stream",
     "text": [
      "                   all        397        417      0.954      0.965      0.979       0.89\n",
      "\n",
      "      Epoch    GPU_mem   box_loss   cls_loss   dfl_loss  Instances       Size\n"
     ]
    },
    {
     "name": "stderr",
     "output_type": "stream",
     "text": [
      "    423/600        11G     0.3045     0.2069      0.854          8        640: 100%|██████████| 50/50 [00:40<00:00,  1.24it/s]\n",
      "                 Class     Images  Instances      Box(P          R      mAP50  mAP50-95): 100%|██████████| 13/13 [00:07<00:00,  1.84it/s]\n"
     ]
    },
    {
     "name": "stdout",
     "output_type": "stream",
     "text": [
      "                   all        397        417      0.975      0.944      0.979      0.888\n",
      "\n",
      "      Epoch    GPU_mem   box_loss   cls_loss   dfl_loss  Instances       Size\n"
     ]
    },
    {
     "name": "stderr",
     "output_type": "stream",
     "text": [
      "    424/600        11G     0.3117     0.2016     0.8464         19        640: 100%|██████████| 50/50 [00:40<00:00,  1.24it/s]\n",
      "                 Class     Images  Instances      Box(P          R      mAP50  mAP50-95): 100%|██████████| 13/13 [00:07<00:00,  1.85it/s]\n"
     ]
    },
    {
     "name": "stdout",
     "output_type": "stream",
     "text": [
      "                   all        397        417      0.969       0.95      0.979      0.887\n",
      "\n",
      "      Epoch    GPU_mem   box_loss   cls_loss   dfl_loss  Instances       Size\n"
     ]
    },
    {
     "name": "stderr",
     "output_type": "stream",
     "text": [
      "    425/600      11.1G     0.3024     0.2087     0.8418          9        640: 100%|██████████| 50/50 [00:40<00:00,  1.23it/s]\n",
      "                 Class     Images  Instances      Box(P          R      mAP50  mAP50-95): 100%|██████████| 13/13 [00:07<00:00,  1.83it/s]\n"
     ]
    },
    {
     "name": "stdout",
     "output_type": "stream",
     "text": [
      "                   all        397        417      0.971      0.953       0.98      0.887\n",
      "\n",
      "      Epoch    GPU_mem   box_loss   cls_loss   dfl_loss  Instances       Size\n"
     ]
    },
    {
     "name": "stderr",
     "output_type": "stream",
     "text": [
      "    426/600        11G     0.3151     0.2085     0.8596         10        640: 100%|██████████| 50/50 [00:40<00:00,  1.24it/s]\n",
      "                 Class     Images  Instances      Box(P          R      mAP50  mAP50-95): 100%|██████████| 13/13 [00:07<00:00,  1.82it/s]\n"
     ]
    },
    {
     "name": "stdout",
     "output_type": "stream",
     "text": [
      "                   all        397        417      0.971      0.955      0.981      0.888\n",
      "\n",
      "      Epoch    GPU_mem   box_loss   cls_loss   dfl_loss  Instances       Size\n"
     ]
    },
    {
     "name": "stderr",
     "output_type": "stream",
     "text": [
      "    427/600      11.1G      0.294     0.1979     0.8448          8        640: 100%|██████████| 50/50 [00:40<00:00,  1.23it/s]\n",
      "                 Class     Images  Instances      Box(P          R      mAP50  mAP50-95): 100%|██████████| 13/13 [00:07<00:00,  1.84it/s]\n"
     ]
    },
    {
     "name": "stdout",
     "output_type": "stream",
     "text": [
      "                   all        397        417      0.957      0.967       0.98      0.887\n",
      "\n",
      "      Epoch    GPU_mem   box_loss   cls_loss   dfl_loss  Instances       Size\n"
     ]
    },
    {
     "name": "stderr",
     "output_type": "stream",
     "text": [
      "    428/600        11G     0.2971     0.1945     0.8496         15        640: 100%|██████████| 50/50 [00:40<00:00,  1.24it/s]\n",
      "                 Class     Images  Instances      Box(P          R      mAP50  mAP50-95): 100%|██████████| 13/13 [00:07<00:00,  1.85it/s]\n"
     ]
    },
    {
     "name": "stdout",
     "output_type": "stream",
     "text": [
      "                   all        397        417      0.955       0.97       0.98       0.89\n",
      "\n",
      "      Epoch    GPU_mem   box_loss   cls_loss   dfl_loss  Instances       Size\n"
     ]
    },
    {
     "name": "stderr",
     "output_type": "stream",
     "text": [
      "    429/600      11.1G     0.2862       0.19     0.8369         14        640: 100%|██████████| 50/50 [00:40<00:00,  1.23it/s]\n",
      "                 Class     Images  Instances      Box(P          R      mAP50  mAP50-95): 100%|██████████| 13/13 [00:07<00:00,  1.85it/s]\n"
     ]
    },
    {
     "name": "stdout",
     "output_type": "stream",
     "text": [
      "                   all        397        417      0.971      0.956      0.981      0.888\n",
      "\n",
      "      Epoch    GPU_mem   box_loss   cls_loss   dfl_loss  Instances       Size\n"
     ]
    },
    {
     "name": "stderr",
     "output_type": "stream",
     "text": [
      "    430/600        11G     0.3029     0.1985     0.8451         10        640: 100%|██████████| 50/50 [00:40<00:00,  1.24it/s]\n",
      "                 Class     Images  Instances      Box(P          R      mAP50  mAP50-95): 100%|██████████| 13/13 [00:07<00:00,  1.84it/s]\n"
     ]
    },
    {
     "name": "stdout",
     "output_type": "stream",
     "text": [
      "                   all        397        417      0.965      0.964      0.981      0.888\n",
      "\n",
      "      Epoch    GPU_mem   box_loss   cls_loss   dfl_loss  Instances       Size\n"
     ]
    },
    {
     "name": "stderr",
     "output_type": "stream",
     "text": [
      "    431/600      11.1G      0.287     0.1867     0.8409         10        640: 100%|██████████| 50/50 [00:40<00:00,  1.24it/s]\n",
      "                 Class     Images  Instances      Box(P          R      mAP50  mAP50-95): 100%|██████████| 13/13 [00:07<00:00,  1.85it/s]\n"
     ]
    },
    {
     "name": "stdout",
     "output_type": "stream",
     "text": [
      "                   all        397        417      0.971      0.958      0.981      0.888\n",
      "\n",
      "      Epoch    GPU_mem   box_loss   cls_loss   dfl_loss  Instances       Size\n"
     ]
    },
    {
     "name": "stderr",
     "output_type": "stream",
     "text": [
      "    432/600        11G     0.2939     0.1973     0.8364          7        640: 100%|██████████| 50/50 [00:40<00:00,  1.24it/s]\n",
      "                 Class     Images  Instances      Box(P          R      mAP50  mAP50-95): 100%|██████████| 13/13 [00:07<00:00,  1.85it/s]\n"
     ]
    },
    {
     "name": "stdout",
     "output_type": "stream",
     "text": [
      "                   all        397        417      0.971      0.959      0.981      0.887\n",
      "\n",
      "      Epoch    GPU_mem   box_loss   cls_loss   dfl_loss  Instances       Size\n"
     ]
    },
    {
     "name": "stderr",
     "output_type": "stream",
     "text": [
      "    433/600        11G     0.3055     0.2003     0.8469         20        640: 100%|██████████| 50/50 [00:40<00:00,  1.23it/s]\n",
      "                 Class     Images  Instances      Box(P          R      mAP50  mAP50-95): 100%|██████████| 13/13 [00:06<00:00,  1.86it/s]\n"
     ]
    },
    {
     "name": "stdout",
     "output_type": "stream",
     "text": [
      "                   all        397        417      0.972      0.958      0.981      0.887\n",
      "\n",
      "      Epoch    GPU_mem   box_loss   cls_loss   dfl_loss  Instances       Size\n"
     ]
    },
    {
     "name": "stderr",
     "output_type": "stream",
     "text": [
      "    434/600      11.1G     0.3069      0.212     0.8477          9        640: 100%|██████████| 50/50 [00:40<00:00,  1.24it/s]\n",
      "                 Class     Images  Instances      Box(P          R      mAP50  mAP50-95): 100%|██████████| 13/13 [00:07<00:00,  1.85it/s]\n"
     ]
    },
    {
     "name": "stdout",
     "output_type": "stream",
     "text": [
      "                   all        397        417       0.97      0.962      0.981      0.888\n",
      "\n",
      "      Epoch    GPU_mem   box_loss   cls_loss   dfl_loss  Instances       Size\n"
     ]
    },
    {
     "name": "stderr",
     "output_type": "stream",
     "text": [
      "    435/600      11.1G     0.3005     0.1943     0.8502         10        640: 100%|██████████| 50/50 [00:40<00:00,  1.23it/s]\n",
      "                 Class     Images  Instances      Box(P          R      mAP50  mAP50-95): 100%|██████████| 13/13 [00:07<00:00,  1.85it/s]\n"
     ]
    },
    {
     "name": "stdout",
     "output_type": "stream",
     "text": [
      "                   all        397        417      0.972      0.962      0.982      0.888\n",
      "\n",
      "      Epoch    GPU_mem   box_loss   cls_loss   dfl_loss  Instances       Size\n"
     ]
    },
    {
     "name": "stderr",
     "output_type": "stream",
     "text": [
      "    436/600      11.1G     0.3004      0.206     0.8457          6        640: 100%|██████████| 50/50 [00:40<00:00,  1.24it/s]\n",
      "                 Class     Images  Instances      Box(P          R      mAP50  mAP50-95): 100%|██████████| 13/13 [00:07<00:00,  1.85it/s]\n"
     ]
    },
    {
     "name": "stdout",
     "output_type": "stream",
     "text": [
      "                   all        397        417      0.969      0.962      0.982      0.889\n",
      "\n",
      "      Epoch    GPU_mem   box_loss   cls_loss   dfl_loss  Instances       Size\n"
     ]
    },
    {
     "name": "stderr",
     "output_type": "stream",
     "text": [
      "    437/600      11.1G     0.3092     0.2019     0.8515          9        640: 100%|██████████| 50/50 [00:40<00:00,  1.24it/s]\n",
      "                 Class     Images  Instances      Box(P          R      mAP50  mAP50-95): 100%|██████████| 13/13 [00:07<00:00,  1.86it/s]\n"
     ]
    },
    {
     "name": "stdout",
     "output_type": "stream",
     "text": [
      "                   all        397        417      0.971      0.963      0.983       0.89\n",
      "\n",
      "      Epoch    GPU_mem   box_loss   cls_loss   dfl_loss  Instances       Size\n"
     ]
    },
    {
     "name": "stderr",
     "output_type": "stream",
     "text": [
      "    438/600      11.1G      0.291     0.1903     0.8427         14        640: 100%|██████████| 50/50 [00:40<00:00,  1.24it/s]\n",
      "                 Class     Images  Instances      Box(P          R      mAP50  mAP50-95): 100%|██████████| 13/13 [00:07<00:00,  1.85it/s]\n"
     ]
    },
    {
     "name": "stdout",
     "output_type": "stream",
     "text": [
      "                   all        397        417      0.972      0.963      0.983      0.893\n",
      "\n",
      "      Epoch    GPU_mem   box_loss   cls_loss   dfl_loss  Instances       Size\n"
     ]
    },
    {
     "name": "stderr",
     "output_type": "stream",
     "text": [
      "    439/600      11.1G     0.2947     0.1926     0.8418         11        640: 100%|██████████| 50/50 [00:40<00:00,  1.23it/s]\n",
      "                 Class     Images  Instances      Box(P          R      mAP50  mAP50-95): 100%|██████████| 13/13 [00:07<00:00,  1.85it/s]\n"
     ]
    },
    {
     "name": "stdout",
     "output_type": "stream",
     "text": [
      "                   all        397        417      0.967      0.972      0.983      0.894\n",
      "\n",
      "      Epoch    GPU_mem   box_loss   cls_loss   dfl_loss  Instances       Size\n"
     ]
    },
    {
     "name": "stderr",
     "output_type": "stream",
     "text": [
      "    440/600        11G     0.2918     0.1933     0.8436         10        640: 100%|██████████| 50/50 [00:40<00:00,  1.24it/s]\n",
      "                 Class     Images  Instances      Box(P          R      mAP50  mAP50-95): 100%|██████████| 13/13 [00:07<00:00,  1.84it/s]\n"
     ]
    },
    {
     "name": "stdout",
     "output_type": "stream",
     "text": [
      "                   all        397        417      0.972      0.968      0.983      0.893\n",
      "\n",
      "      Epoch    GPU_mem   box_loss   cls_loss   dfl_loss  Instances       Size\n"
     ]
    },
    {
     "name": "stderr",
     "output_type": "stream",
     "text": [
      "    441/600        11G     0.2823     0.1925      0.837         14        640: 100%|██████████| 50/50 [00:40<00:00,  1.24it/s]\n",
      "                 Class     Images  Instances      Box(P          R      mAP50  mAP50-95): 100%|██████████| 13/13 [00:07<00:00,  1.85it/s]\n"
     ]
    },
    {
     "name": "stdout",
     "output_type": "stream",
     "text": [
      "                   all        397        417      0.971       0.97      0.982      0.893\n",
      "\n",
      "      Epoch    GPU_mem   box_loss   cls_loss   dfl_loss  Instances       Size\n"
     ]
    },
    {
     "name": "stderr",
     "output_type": "stream",
     "text": [
      "    442/600        11G     0.2945     0.2011     0.8452         14        640: 100%|██████████| 50/50 [00:40<00:00,  1.23it/s]\n",
      "                 Class     Images  Instances      Box(P          R      mAP50  mAP50-95): 100%|██████████| 13/13 [00:07<00:00,  1.85it/s]\n"
     ]
    },
    {
     "name": "stdout",
     "output_type": "stream",
     "text": [
      "                   all        397        417      0.969      0.973      0.982      0.892\n",
      "\n",
      "      Epoch    GPU_mem   box_loss   cls_loss   dfl_loss  Instances       Size\n"
     ]
    },
    {
     "name": "stderr",
     "output_type": "stream",
     "text": [
      "    443/600        11G     0.3106     0.2018      0.857         14        640: 100%|██████████| 50/50 [00:40<00:00,  1.23it/s]\n",
      "                 Class     Images  Instances      Box(P          R      mAP50  mAP50-95): 100%|██████████| 13/13 [00:07<00:00,  1.85it/s]\n"
     ]
    },
    {
     "name": "stdout",
     "output_type": "stream",
     "text": [
      "                   all        397        417      0.969      0.973      0.982      0.892\n",
      "\n",
      "      Epoch    GPU_mem   box_loss   cls_loss   dfl_loss  Instances       Size\n"
     ]
    },
    {
     "name": "stderr",
     "output_type": "stream",
     "text": [
      "    444/600        11G     0.2804     0.1893     0.8364          9        640: 100%|██████████| 50/50 [00:40<00:00,  1.23it/s]\n",
      "                 Class     Images  Instances      Box(P          R      mAP50  mAP50-95): 100%|██████████| 13/13 [00:07<00:00,  1.85it/s]\n"
     ]
    },
    {
     "name": "stdout",
     "output_type": "stream",
     "text": [
      "                   all        397        417      0.968      0.973      0.981      0.891\n",
      "\n",
      "      Epoch    GPU_mem   box_loss   cls_loss   dfl_loss  Instances       Size\n"
     ]
    },
    {
     "name": "stderr",
     "output_type": "stream",
     "text": [
      "    445/600      11.1G     0.2883     0.1976     0.8447         18        640: 100%|██████████| 50/50 [00:40<00:00,  1.24it/s]\n",
      "                 Class     Images  Instances      Box(P          R      mAP50  mAP50-95): 100%|██████████| 13/13 [00:07<00:00,  1.86it/s]\n"
     ]
    },
    {
     "name": "stdout",
     "output_type": "stream",
     "text": [
      "                   all        397        417       0.97      0.972      0.982      0.891\n",
      "\n",
      "      Epoch    GPU_mem   box_loss   cls_loss   dfl_loss  Instances       Size\n"
     ]
    },
    {
     "name": "stderr",
     "output_type": "stream",
     "text": [
      "    446/600        11G     0.2842     0.1907     0.8364         12        640: 100%|██████████| 50/50 [00:40<00:00,  1.22it/s]\n",
      "                 Class     Images  Instances      Box(P          R      mAP50  mAP50-95): 100%|██████████| 13/13 [00:07<00:00,  1.85it/s]\n"
     ]
    },
    {
     "name": "stdout",
     "output_type": "stream",
     "text": [
      "                   all        397        417      0.974      0.967      0.981       0.89\n",
      "\n",
      "      Epoch    GPU_mem   box_loss   cls_loss   dfl_loss  Instances       Size\n"
     ]
    },
    {
     "name": "stderr",
     "output_type": "stream",
     "text": [
      "    447/600      11.1G     0.2849     0.1957     0.8365         12        640: 100%|██████████| 50/50 [00:40<00:00,  1.23it/s]\n",
      "                 Class     Images  Instances      Box(P          R      mAP50  mAP50-95): 100%|██████████| 13/13 [00:07<00:00,  1.85it/s]\n"
     ]
    },
    {
     "name": "stdout",
     "output_type": "stream",
     "text": [
      "                   all        397        417      0.975      0.965      0.981      0.891\n",
      "\n",
      "      Epoch    GPU_mem   box_loss   cls_loss   dfl_loss  Instances       Size\n"
     ]
    },
    {
     "name": "stderr",
     "output_type": "stream",
     "text": [
      "    448/600      11.1G     0.2968     0.1975     0.8539         19        640: 100%|██████████| 50/50 [00:40<00:00,  1.23it/s]\n",
      "                 Class     Images  Instances      Box(P          R      mAP50  mAP50-95): 100%|██████████| 13/13 [00:07<00:00,  1.84it/s]\n"
     ]
    },
    {
     "name": "stdout",
     "output_type": "stream",
     "text": [
      "                   all        397        417      0.976      0.965      0.982      0.891\n",
      "\n",
      "      Epoch    GPU_mem   box_loss   cls_loss   dfl_loss  Instances       Size\n"
     ]
    },
    {
     "name": "stderr",
     "output_type": "stream",
     "text": [
      "    449/600        11G     0.2873      0.197     0.8366          8        640: 100%|██████████| 50/50 [00:40<00:00,  1.23it/s]\n",
      "                 Class     Images  Instances      Box(P          R      mAP50  mAP50-95): 100%|██████████| 13/13 [00:07<00:00,  1.85it/s]\n"
     ]
    },
    {
     "name": "stdout",
     "output_type": "stream",
     "text": [
      "                   all        397        417      0.976      0.966      0.981      0.891\n",
      "\n",
      "      Epoch    GPU_mem   box_loss   cls_loss   dfl_loss  Instances       Size\n"
     ]
    },
    {
     "name": "stderr",
     "output_type": "stream",
     "text": [
      "    450/600      11.1G      0.301     0.1958     0.8593         15        640: 100%|██████████| 50/50 [00:40<00:00,  1.23it/s]\n",
      "                 Class     Images  Instances      Box(P          R      mAP50  mAP50-95): 100%|██████████| 13/13 [00:07<00:00,  1.85it/s]\n"
     ]
    },
    {
     "name": "stdout",
     "output_type": "stream",
     "text": [
      "                   all        397        417      0.976      0.968      0.981      0.891\n",
      "\n",
      "      Epoch    GPU_mem   box_loss   cls_loss   dfl_loss  Instances       Size\n"
     ]
    },
    {
     "name": "stderr",
     "output_type": "stream",
     "text": [
      "    451/600      11.1G     0.2828     0.1904     0.8408         12        640: 100%|██████████| 50/50 [00:40<00:00,  1.23it/s]\n",
      "                 Class     Images  Instances      Box(P          R      mAP50  mAP50-95): 100%|██████████| 13/13 [00:07<00:00,  1.85it/s]\n"
     ]
    },
    {
     "name": "stdout",
     "output_type": "stream",
     "text": [
      "                   all        397        417      0.976      0.967       0.98      0.891\n",
      "\n",
      "      Epoch    GPU_mem   box_loss   cls_loss   dfl_loss  Instances       Size\n"
     ]
    },
    {
     "name": "stderr",
     "output_type": "stream",
     "text": [
      "    452/600      11.1G     0.2896     0.1999     0.8474          7        640: 100%|██████████| 50/50 [00:40<00:00,  1.23it/s]\n",
      "                 Class     Images  Instances      Box(P          R      mAP50  mAP50-95): 100%|██████████| 13/13 [00:07<00:00,  1.85it/s]\n"
     ]
    },
    {
     "name": "stdout",
     "output_type": "stream",
     "text": [
      "                   all        397        417      0.975      0.966       0.98      0.892\n",
      "\n",
      "      Epoch    GPU_mem   box_loss   cls_loss   dfl_loss  Instances       Size\n"
     ]
    },
    {
     "name": "stderr",
     "output_type": "stream",
     "text": [
      "    453/600      11.1G     0.2831      0.187     0.8503         12        640: 100%|██████████| 50/50 [00:40<00:00,  1.23it/s]\n",
      "                 Class     Images  Instances      Box(P          R      mAP50  mAP50-95): 100%|██████████| 13/13 [00:07<00:00,  1.84it/s]\n"
     ]
    },
    {
     "name": "stdout",
     "output_type": "stream",
     "text": [
      "                   all        397        417      0.971      0.966      0.981      0.894\n",
      "\n",
      "      Epoch    GPU_mem   box_loss   cls_loss   dfl_loss  Instances       Size\n"
     ]
    },
    {
     "name": "stderr",
     "output_type": "stream",
     "text": [
      "    454/600      11.1G     0.2945     0.1952     0.8488         11        640: 100%|██████████| 50/50 [00:40<00:00,  1.23it/s]\n",
      "                 Class     Images  Instances      Box(P          R      mAP50  mAP50-95): 100%|██████████| 13/13 [00:07<00:00,  1.85it/s]\n"
     ]
    },
    {
     "name": "stdout",
     "output_type": "stream",
     "text": [
      "                   all        397        417      0.968      0.965      0.981      0.893\n",
      "\n",
      "      Epoch    GPU_mem   box_loss   cls_loss   dfl_loss  Instances       Size\n"
     ]
    },
    {
     "name": "stderr",
     "output_type": "stream",
     "text": [
      "    455/600      11.1G     0.2939     0.1929     0.8407         13        640: 100%|██████████| 50/50 [00:40<00:00,  1.23it/s]\n",
      "                 Class     Images  Instances      Box(P          R      mAP50  mAP50-95): 100%|██████████| 13/13 [00:07<00:00,  1.85it/s]\n"
     ]
    },
    {
     "name": "stdout",
     "output_type": "stream",
     "text": [
      "                   all        397        417      0.969      0.964      0.982      0.895\n",
      "\n",
      "      Epoch    GPU_mem   box_loss   cls_loss   dfl_loss  Instances       Size\n"
     ]
    },
    {
     "name": "stderr",
     "output_type": "stream",
     "text": [
      "    456/600      11.1G     0.2759     0.1862     0.8385         11        640: 100%|██████████| 50/50 [00:40<00:00,  1.23it/s]\n",
      "                 Class     Images  Instances      Box(P          R      mAP50  mAP50-95): 100%|██████████| 13/13 [00:07<00:00,  1.85it/s]\n"
     ]
    },
    {
     "name": "stdout",
     "output_type": "stream",
     "text": [
      "                   all        397        417      0.969      0.963      0.982      0.894\n",
      "\n",
      "      Epoch    GPU_mem   box_loss   cls_loss   dfl_loss  Instances       Size\n"
     ]
    },
    {
     "name": "stderr",
     "output_type": "stream",
     "text": [
      "    457/600      11.1G     0.2897      0.196     0.8448         13        640: 100%|██████████| 50/50 [00:40<00:00,  1.23it/s]\n",
      "                 Class     Images  Instances      Box(P          R      mAP50  mAP50-95): 100%|██████████| 13/13 [00:07<00:00,  1.85it/s]\n"
     ]
    },
    {
     "name": "stdout",
     "output_type": "stream",
     "text": [
      "                   all        397        417      0.969      0.963      0.982      0.894\n",
      "\n",
      "      Epoch    GPU_mem   box_loss   cls_loss   dfl_loss  Instances       Size\n"
     ]
    },
    {
     "name": "stderr",
     "output_type": "stream",
     "text": [
      "    458/600      11.1G     0.2919     0.1924     0.8378         14        640: 100%|██████████| 50/50 [00:40<00:00,  1.23it/s]\n",
      "                 Class     Images  Instances      Box(P          R      mAP50  mAP50-95): 100%|██████████| 13/13 [00:07<00:00,  1.85it/s]\n"
     ]
    },
    {
     "name": "stdout",
     "output_type": "stream",
     "text": [
      "                   all        397        417      0.968      0.964      0.982      0.894\n",
      "\n",
      "      Epoch    GPU_mem   box_loss   cls_loss   dfl_loss  Instances       Size\n"
     ]
    },
    {
     "name": "stderr",
     "output_type": "stream",
     "text": [
      "    459/600      11.1G     0.2713     0.1792     0.8349          7        640: 100%|██████████| 50/50 [00:40<00:00,  1.23it/s]\n",
      "                 Class     Images  Instances      Box(P          R      mAP50  mAP50-95): 100%|██████████| 13/13 [00:07<00:00,  1.85it/s]\n"
     ]
    },
    {
     "name": "stdout",
     "output_type": "stream",
     "text": [
      "                   all        397        417      0.963      0.969      0.982      0.895\n",
      "\n",
      "      Epoch    GPU_mem   box_loss   cls_loss   dfl_loss  Instances       Size\n"
     ]
    },
    {
     "name": "stderr",
     "output_type": "stream",
     "text": [
      "    460/600      11.1G     0.2955     0.1998     0.8473         11        640: 100%|██████████| 50/50 [00:40<00:00,  1.23it/s]\n",
      "                 Class     Images  Instances      Box(P          R      mAP50  mAP50-95): 100%|██████████| 13/13 [00:07<00:00,  1.85it/s]\n"
     ]
    },
    {
     "name": "stdout",
     "output_type": "stream",
     "text": [
      "                   all        397        417      0.963      0.969      0.982      0.894\n",
      "\n",
      "      Epoch    GPU_mem   box_loss   cls_loss   dfl_loss  Instances       Size\n"
     ]
    },
    {
     "name": "stderr",
     "output_type": "stream",
     "text": [
      "    461/600      11.1G     0.2849     0.1922     0.8436         13        640: 100%|██████████| 50/50 [00:40<00:00,  1.23it/s]\n",
      "                 Class     Images  Instances      Box(P          R      mAP50  mAP50-95): 100%|██████████| 13/13 [00:07<00:00,  1.85it/s]\n"
     ]
    },
    {
     "name": "stdout",
     "output_type": "stream",
     "text": [
      "                   all        397        417      0.964      0.969      0.982      0.894\n",
      "\n",
      "      Epoch    GPU_mem   box_loss   cls_loss   dfl_loss  Instances       Size\n"
     ]
    },
    {
     "name": "stderr",
     "output_type": "stream",
     "text": [
      "    462/600      11.1G     0.2771      0.183      0.848         11        640: 100%|██████████| 50/50 [00:40<00:00,  1.23it/s]\n",
      "                 Class     Images  Instances      Box(P          R      mAP50  mAP50-95): 100%|██████████| 13/13 [00:07<00:00,  1.83it/s]\n"
     ]
    },
    {
     "name": "stdout",
     "output_type": "stream",
     "text": [
      "                   all        397        417      0.964       0.97      0.983      0.894\n",
      "\n",
      "      Epoch    GPU_mem   box_loss   cls_loss   dfl_loss  Instances       Size\n"
     ]
    },
    {
     "name": "stderr",
     "output_type": "stream",
     "text": [
      "    463/600      11.1G     0.2787     0.1841     0.8331         14        640: 100%|██████████| 50/50 [00:40<00:00,  1.23it/s]\n",
      "                 Class     Images  Instances      Box(P          R      mAP50  mAP50-95): 100%|██████████| 13/13 [00:07<00:00,  1.85it/s]\n"
     ]
    },
    {
     "name": "stdout",
     "output_type": "stream",
     "text": [
      "                   all        397        417      0.964      0.968      0.983      0.895\n",
      "\n",
      "      Epoch    GPU_mem   box_loss   cls_loss   dfl_loss  Instances       Size\n"
     ]
    },
    {
     "name": "stderr",
     "output_type": "stream",
     "text": [
      "    464/600      11.1G     0.2746     0.1848     0.8457         11        640: 100%|██████████| 50/50 [00:40<00:00,  1.23it/s]\n",
      "                 Class     Images  Instances      Box(P          R      mAP50  mAP50-95): 100%|██████████| 13/13 [00:07<00:00,  1.81it/s]\n"
     ]
    },
    {
     "name": "stdout",
     "output_type": "stream",
     "text": [
      "                   all        397        417      0.967      0.964      0.983      0.895\n",
      "\n",
      "      Epoch    GPU_mem   box_loss   cls_loss   dfl_loss  Instances       Size\n"
     ]
    },
    {
     "name": "stderr",
     "output_type": "stream",
     "text": [
      "    465/600        11G     0.2881     0.1947     0.8532         14        640: 100%|██████████| 50/50 [00:40<00:00,  1.23it/s]\n",
      "                 Class     Images  Instances      Box(P          R      mAP50  mAP50-95): 100%|██████████| 13/13 [00:07<00:00,  1.85it/s]\n"
     ]
    },
    {
     "name": "stdout",
     "output_type": "stream",
     "text": [
      "                   all        397        417      0.972      0.962      0.983      0.896\n",
      "\n",
      "      Epoch    GPU_mem   box_loss   cls_loss   dfl_loss  Instances       Size\n"
     ]
    },
    {
     "name": "stderr",
     "output_type": "stream",
     "text": [
      "    466/600      11.1G      0.279     0.1881     0.8496         15        640: 100%|██████████| 50/50 [00:40<00:00,  1.23it/s]\n",
      "                 Class     Images  Instances      Box(P          R      mAP50  mAP50-95): 100%|██████████| 13/13 [00:07<00:00,  1.85it/s]\n"
     ]
    },
    {
     "name": "stdout",
     "output_type": "stream",
     "text": [
      "                   all        397        417       0.96      0.975      0.983      0.896\n",
      "\n",
      "      Epoch    GPU_mem   box_loss   cls_loss   dfl_loss  Instances       Size\n"
     ]
    },
    {
     "name": "stderr",
     "output_type": "stream",
     "text": [
      "    467/600      11.1G     0.2814     0.1888     0.8531         14        640: 100%|██████████| 50/50 [00:40<00:00,  1.23it/s]\n",
      "                 Class     Images  Instances      Box(P          R      mAP50  mAP50-95): 100%|██████████| 13/13 [00:07<00:00,  1.86it/s]\n"
     ]
    },
    {
     "name": "stdout",
     "output_type": "stream",
     "text": [
      "                   all        397        417      0.973      0.963      0.983      0.895\n",
      "\n",
      "      Epoch    GPU_mem   box_loss   cls_loss   dfl_loss  Instances       Size\n"
     ]
    },
    {
     "name": "stderr",
     "output_type": "stream",
     "text": [
      "    468/600        11G     0.2764     0.1859     0.8373         13        640: 100%|██████████| 50/50 [00:40<00:00,  1.23it/s]\n",
      "                 Class     Images  Instances      Box(P          R      mAP50  mAP50-95): 100%|██████████| 13/13 [00:07<00:00,  1.85it/s]\n"
     ]
    },
    {
     "name": "stdout",
     "output_type": "stream",
     "text": [
      "                   all        397        417      0.972      0.963      0.982      0.893\n",
      "\n",
      "      Epoch    GPU_mem   box_loss   cls_loss   dfl_loss  Instances       Size\n"
     ]
    },
    {
     "name": "stderr",
     "output_type": "stream",
     "text": [
      "    469/600      11.1G     0.2859     0.1899     0.8497         15        640: 100%|██████████| 50/50 [00:40<00:00,  1.23it/s]\n",
      "                 Class     Images  Instances      Box(P          R      mAP50  mAP50-95): 100%|██████████| 13/13 [00:07<00:00,  1.84it/s]\n"
     ]
    },
    {
     "name": "stdout",
     "output_type": "stream",
     "text": [
      "                   all        397        417      0.975      0.963      0.982      0.892\n",
      "\n",
      "      Epoch    GPU_mem   box_loss   cls_loss   dfl_loss  Instances       Size\n"
     ]
    },
    {
     "name": "stderr",
     "output_type": "stream",
     "text": [
      "    470/600      11.1G     0.2766     0.1879     0.8399         14        640: 100%|██████████| 50/50 [00:40<00:00,  1.23it/s]\n",
      "                 Class     Images  Instances      Box(P          R      mAP50  mAP50-95): 100%|██████████| 13/13 [00:07<00:00,  1.85it/s]\n"
     ]
    },
    {
     "name": "stdout",
     "output_type": "stream",
     "text": [
      "                   all        397        417      0.974      0.963      0.982      0.893\n",
      "\n",
      "      Epoch    GPU_mem   box_loss   cls_loss   dfl_loss  Instances       Size\n"
     ]
    },
    {
     "name": "stderr",
     "output_type": "stream",
     "text": [
      "    471/600        11G     0.2759     0.1849     0.8408         14        640: 100%|██████████| 50/50 [00:40<00:00,  1.23it/s]\n",
      "                 Class     Images  Instances      Box(P          R      mAP50  mAP50-95): 100%|██████████| 13/13 [00:07<00:00,  1.85it/s]\n"
     ]
    },
    {
     "name": "stdout",
     "output_type": "stream",
     "text": [
      "                   all        397        417      0.974      0.963      0.981      0.892\n",
      "\n",
      "      Epoch    GPU_mem   box_loss   cls_loss   dfl_loss  Instances       Size\n"
     ]
    },
    {
     "name": "stderr",
     "output_type": "stream",
     "text": [
      "    472/600        11G     0.2659     0.1811     0.8314          9        640: 100%|██████████| 50/50 [00:40<00:00,  1.23it/s]\n",
      "                 Class     Images  Instances      Box(P          R      mAP50  mAP50-95): 100%|██████████| 13/13 [00:07<00:00,  1.84it/s]\n"
     ]
    },
    {
     "name": "stdout",
     "output_type": "stream",
     "text": [
      "                   all        397        417      0.975      0.962       0.98      0.893\n",
      "\n",
      "      Epoch    GPU_mem   box_loss   cls_loss   dfl_loss  Instances       Size\n"
     ]
    },
    {
     "name": "stderr",
     "output_type": "stream",
     "text": [
      "    473/600      11.1G     0.2738     0.1831     0.8356         12        640: 100%|██████████| 50/50 [00:40<00:00,  1.24it/s]\n",
      "                 Class     Images  Instances      Box(P          R      mAP50  mAP50-95): 100%|██████████| 13/13 [00:07<00:00,  1.85it/s]\n"
     ]
    },
    {
     "name": "stdout",
     "output_type": "stream",
     "text": [
      "                   all        397        417      0.976      0.961      0.981      0.892\n",
      "\n",
      "      Epoch    GPU_mem   box_loss   cls_loss   dfl_loss  Instances       Size\n"
     ]
    },
    {
     "name": "stderr",
     "output_type": "stream",
     "text": [
      "    474/600      11.1G     0.2704      0.181     0.8415          8        640: 100%|██████████| 50/50 [00:40<00:00,  1.23it/s]\n",
      "                 Class     Images  Instances      Box(P          R      mAP50  mAP50-95): 100%|██████████| 13/13 [00:07<00:00,  1.85it/s]\n"
     ]
    },
    {
     "name": "stdout",
     "output_type": "stream",
     "text": [
      "                   all        397        417      0.972      0.966      0.981      0.891\n",
      "\n",
      "      Epoch    GPU_mem   box_loss   cls_loss   dfl_loss  Instances       Size\n"
     ]
    },
    {
     "name": "stderr",
     "output_type": "stream",
     "text": [
      "    475/600        11G      0.271     0.1892     0.8441         13        640: 100%|██████████| 50/50 [00:40<00:00,  1.23it/s]\n",
      "                 Class     Images  Instances      Box(P          R      mAP50  mAP50-95): 100%|██████████| 13/13 [00:07<00:00,  1.84it/s]\n"
     ]
    },
    {
     "name": "stdout",
     "output_type": "stream",
     "text": [
      "                   all        397        417      0.973      0.965       0.98       0.89\n",
      "\n",
      "      Epoch    GPU_mem   box_loss   cls_loss   dfl_loss  Instances       Size\n"
     ]
    },
    {
     "name": "stderr",
     "output_type": "stream",
     "text": [
      "    476/600        11G     0.2624     0.1844     0.8363         14        640: 100%|██████████| 50/50 [00:40<00:00,  1.23it/s]\n",
      "                 Class     Images  Instances      Box(P          R      mAP50  mAP50-95): 100%|██████████| 13/13 [00:07<00:00,  1.84it/s]\n"
     ]
    },
    {
     "name": "stdout",
     "output_type": "stream",
     "text": [
      "                   all        397        417      0.971      0.965       0.98       0.89\n",
      "\n",
      "      Epoch    GPU_mem   box_loss   cls_loss   dfl_loss  Instances       Size\n"
     ]
    },
    {
     "name": "stderr",
     "output_type": "stream",
     "text": [
      "    477/600      11.1G     0.2724      0.181     0.8393         13        640: 100%|██████████| 50/50 [00:40<00:00,  1.23it/s]\n",
      "                 Class     Images  Instances      Box(P          R      mAP50  mAP50-95): 100%|██████████| 13/13 [00:07<00:00,  1.85it/s]\n"
     ]
    },
    {
     "name": "stdout",
     "output_type": "stream",
     "text": [
      "                   all        397        417       0.97      0.966       0.98      0.892\n",
      "\n",
      "      Epoch    GPU_mem   box_loss   cls_loss   dfl_loss  Instances       Size\n"
     ]
    },
    {
     "name": "stderr",
     "output_type": "stream",
     "text": [
      "    478/600      11.1G     0.2763     0.1811     0.8458         10        640: 100%|██████████| 50/50 [00:40<00:00,  1.23it/s]\n",
      "                 Class     Images  Instances      Box(P          R      mAP50  mAP50-95): 100%|██████████| 13/13 [00:07<00:00,  1.85it/s]\n"
     ]
    },
    {
     "name": "stdout",
     "output_type": "stream",
     "text": [
      "                   all        397        417       0.97      0.966       0.98      0.892\n",
      "\n",
      "      Epoch    GPU_mem   box_loss   cls_loss   dfl_loss  Instances       Size\n"
     ]
    },
    {
     "name": "stderr",
     "output_type": "stream",
     "text": [
      "    479/600      11.1G     0.2744     0.1842     0.8428          7        640: 100%|██████████| 50/50 [00:40<00:00,  1.24it/s]\n",
      "                 Class     Images  Instances      Box(P          R      mAP50  mAP50-95): 100%|██████████| 13/13 [00:07<00:00,  1.83it/s]\n"
     ]
    },
    {
     "name": "stdout",
     "output_type": "stream",
     "text": [
      "                   all        397        417      0.968      0.962       0.98      0.893\n",
      "\n",
      "      Epoch    GPU_mem   box_loss   cls_loss   dfl_loss  Instances       Size\n"
     ]
    },
    {
     "name": "stderr",
     "output_type": "stream",
     "text": [
      "    480/600        11G     0.2661     0.1765     0.8455          8        640: 100%|██████████| 50/50 [00:40<00:00,  1.23it/s]\n",
      "                 Class     Images  Instances      Box(P          R      mAP50  mAP50-95): 100%|██████████| 13/13 [00:07<00:00,  1.85it/s]\n"
     ]
    },
    {
     "name": "stdout",
     "output_type": "stream",
     "text": [
      "                   all        397        417      0.966      0.965       0.98      0.894\n",
      "\n",
      "      Epoch    GPU_mem   box_loss   cls_loss   dfl_loss  Instances       Size\n"
     ]
    },
    {
     "name": "stderr",
     "output_type": "stream",
     "text": [
      "    481/600      11.1G     0.2736     0.1798     0.8412         18        640: 100%|██████████| 50/50 [00:40<00:00,  1.23it/s]\n",
      "                 Class     Images  Instances      Box(P          R      mAP50  mAP50-95): 100%|██████████| 13/13 [00:07<00:00,  1.85it/s]\n"
     ]
    },
    {
     "name": "stdout",
     "output_type": "stream",
     "text": [
      "                   all        397        417      0.966      0.964       0.98      0.894\n",
      "\n",
      "      Epoch    GPU_mem   box_loss   cls_loss   dfl_loss  Instances       Size\n"
     ]
    },
    {
     "name": "stderr",
     "output_type": "stream",
     "text": [
      "    482/600      11.1G     0.2784     0.1888     0.8394         11        640: 100%|██████████| 50/50 [00:40<00:00,  1.24it/s]\n",
      "                 Class     Images  Instances      Box(P          R      mAP50  mAP50-95): 100%|██████████| 13/13 [00:07<00:00,  1.85it/s]\n"
     ]
    },
    {
     "name": "stdout",
     "output_type": "stream",
     "text": [
      "                   all        397        417      0.969      0.965       0.98      0.894\n",
      "\n",
      "      Epoch    GPU_mem   box_loss   cls_loss   dfl_loss  Instances       Size\n"
     ]
    },
    {
     "name": "stderr",
     "output_type": "stream",
     "text": [
      "    483/600      11.1G     0.2741     0.1833     0.8347          8        640: 100%|██████████| 50/50 [00:40<00:00,  1.22it/s]\n",
      "                 Class     Images  Instances      Box(P          R      mAP50  mAP50-95): 100%|██████████| 13/13 [00:07<00:00,  1.85it/s]\n"
     ]
    },
    {
     "name": "stdout",
     "output_type": "stream",
     "text": [
      "                   all        397        417       0.97      0.963       0.98      0.896\n",
      "\n",
      "      Epoch    GPU_mem   box_loss   cls_loss   dfl_loss  Instances       Size\n"
     ]
    },
    {
     "name": "stderr",
     "output_type": "stream",
     "text": [
      "    484/600        11G     0.2513     0.1704     0.8317         16        640: 100%|██████████| 50/50 [00:40<00:00,  1.23it/s]\n",
      "                 Class     Images  Instances      Box(P          R      mAP50  mAP50-95): 100%|██████████| 13/13 [00:07<00:00,  1.85it/s]\n"
     ]
    },
    {
     "name": "stdout",
     "output_type": "stream",
     "text": [
      "                   all        397        417      0.972      0.961       0.98      0.895\n",
      "\n",
      "      Epoch    GPU_mem   box_loss   cls_loss   dfl_loss  Instances       Size\n"
     ]
    },
    {
     "name": "stderr",
     "output_type": "stream",
     "text": [
      "    485/600      11.1G     0.2541     0.1735      0.833         10        640: 100%|██████████| 50/50 [00:40<00:00,  1.23it/s]\n",
      "                 Class     Images  Instances      Box(P          R      mAP50  mAP50-95): 100%|██████████| 13/13 [00:07<00:00,  1.84it/s]\n"
     ]
    },
    {
     "name": "stdout",
     "output_type": "stream",
     "text": [
      "                   all        397        417      0.967      0.962      0.979      0.893\n",
      "\n",
      "      Epoch    GPU_mem   box_loss   cls_loss   dfl_loss  Instances       Size\n"
     ]
    },
    {
     "name": "stderr",
     "output_type": "stream",
     "text": [
      "    486/600      11.1G     0.2715     0.1807     0.8378         16        640: 100%|██████████| 50/50 [00:40<00:00,  1.23it/s]\n",
      "                 Class     Images  Instances      Box(P          R      mAP50  mAP50-95): 100%|██████████| 13/13 [00:07<00:00,  1.85it/s]\n"
     ]
    },
    {
     "name": "stdout",
     "output_type": "stream",
     "text": [
      "                   all        397        417      0.966      0.962      0.979      0.894\n",
      "\n",
      "      Epoch    GPU_mem   box_loss   cls_loss   dfl_loss  Instances       Size\n"
     ]
    },
    {
     "name": "stderr",
     "output_type": "stream",
     "text": [
      "    487/600      11.1G     0.2522     0.1718     0.8378         17        640: 100%|██████████| 50/50 [00:40<00:00,  1.23it/s]\n",
      "                 Class     Images  Instances      Box(P          R      mAP50  mAP50-95): 100%|██████████| 13/13 [00:07<00:00,  1.83it/s]\n"
     ]
    },
    {
     "name": "stdout",
     "output_type": "stream",
     "text": [
      "                   all        397        417      0.965      0.962      0.979      0.894\n",
      "\n",
      "      Epoch    GPU_mem   box_loss   cls_loss   dfl_loss  Instances       Size\n"
     ]
    },
    {
     "name": "stderr",
     "output_type": "stream",
     "text": [
      "    488/600        11G     0.2786     0.1873     0.8342         13        640: 100%|██████████| 50/50 [00:40<00:00,  1.23it/s]\n",
      "                 Class     Images  Instances      Box(P          R      mAP50  mAP50-95): 100%|██████████| 13/13 [00:07<00:00,  1.84it/s]\n"
     ]
    },
    {
     "name": "stdout",
     "output_type": "stream",
     "text": [
      "                   all        397        417      0.965      0.962      0.979      0.895\n",
      "\n",
      "      Epoch    GPU_mem   box_loss   cls_loss   dfl_loss  Instances       Size\n"
     ]
    },
    {
     "name": "stderr",
     "output_type": "stream",
     "text": [
      "    489/600        11G     0.2737     0.1833     0.8467         10        640: 100%|██████████| 50/50 [00:40<00:00,  1.23it/s]\n",
      "                 Class     Images  Instances      Box(P          R      mAP50  mAP50-95): 100%|██████████| 13/13 [00:07<00:00,  1.85it/s]\n"
     ]
    },
    {
     "name": "stdout",
     "output_type": "stream",
     "text": [
      "                   all        397        417      0.964      0.961       0.98      0.895\n",
      "\n",
      "      Epoch    GPU_mem   box_loss   cls_loss   dfl_loss  Instances       Size\n"
     ]
    },
    {
     "name": "stderr",
     "output_type": "stream",
     "text": [
      "    490/600      11.1G     0.2612     0.1768     0.8342         10        640: 100%|██████████| 50/50 [00:40<00:00,  1.23it/s]\n",
      "                 Class     Images  Instances      Box(P          R      mAP50  mAP50-95): 100%|██████████| 13/13 [00:07<00:00,  1.84it/s]\n"
     ]
    },
    {
     "name": "stdout",
     "output_type": "stream",
     "text": [
      "                   all        397        417      0.971      0.954      0.979      0.894\n",
      "\n",
      "      Epoch    GPU_mem   box_loss   cls_loss   dfl_loss  Instances       Size\n"
     ]
    },
    {
     "name": "stderr",
     "output_type": "stream",
     "text": [
      "    491/600        11G     0.2518     0.1708      0.824          9        640: 100%|██████████| 50/50 [00:40<00:00,  1.23it/s]\n",
      "                 Class     Images  Instances      Box(P          R      mAP50  mAP50-95): 100%|██████████| 13/13 [00:07<00:00,  1.84it/s]\n"
     ]
    },
    {
     "name": "stdout",
     "output_type": "stream",
     "text": [
      "                   all        397        417      0.971      0.957      0.979      0.894\n",
      "\n",
      "      Epoch    GPU_mem   box_loss   cls_loss   dfl_loss  Instances       Size\n"
     ]
    },
    {
     "name": "stderr",
     "output_type": "stream",
     "text": [
      "    492/600        11G     0.2825     0.1931     0.8439         12        640: 100%|██████████| 50/50 [00:40<00:00,  1.23it/s]\n",
      "                 Class     Images  Instances      Box(P          R      mAP50  mAP50-95): 100%|██████████| 13/13 [00:07<00:00,  1.84it/s]\n"
     ]
    },
    {
     "name": "stdout",
     "output_type": "stream",
     "text": [
      "                   all        397        417      0.958      0.969      0.979      0.894\n",
      "\n",
      "      Epoch    GPU_mem   box_loss   cls_loss   dfl_loss  Instances       Size\n"
     ]
    },
    {
     "name": "stderr",
     "output_type": "stream",
     "text": [
      "    493/600        11G     0.2672     0.1802     0.8395          8        640: 100%|██████████| 50/50 [00:40<00:00,  1.23it/s]\n",
      "                 Class     Images  Instances      Box(P          R      mAP50  mAP50-95): 100%|██████████| 13/13 [00:07<00:00,  1.84it/s]\n"
     ]
    },
    {
     "name": "stdout",
     "output_type": "stream",
     "text": [
      "                   all        397        417      0.959      0.969      0.979      0.893\n",
      "\n",
      "      Epoch    GPU_mem   box_loss   cls_loss   dfl_loss  Instances       Size\n"
     ]
    },
    {
     "name": "stderr",
     "output_type": "stream",
     "text": [
      "    494/600      11.1G     0.2574     0.1735     0.8313         12        640: 100%|██████████| 50/50 [00:40<00:00,  1.23it/s]\n",
      "                 Class     Images  Instances      Box(P          R      mAP50  mAP50-95): 100%|██████████| 13/13 [00:07<00:00,  1.84it/s]\n"
     ]
    },
    {
     "name": "stdout",
     "output_type": "stream",
     "text": [
      "                   all        397        417      0.961      0.969      0.979      0.893\n",
      "\n",
      "      Epoch    GPU_mem   box_loss   cls_loss   dfl_loss  Instances       Size\n"
     ]
    },
    {
     "name": "stderr",
     "output_type": "stream",
     "text": [
      "    495/600      11.1G     0.2478     0.1758     0.8188         17        640: 100%|██████████| 50/50 [00:40<00:00,  1.23it/s]\n",
      "                 Class     Images  Instances      Box(P          R      mAP50  mAP50-95): 100%|██████████| 13/13 [00:07<00:00,  1.85it/s]\n"
     ]
    },
    {
     "name": "stdout",
     "output_type": "stream",
     "text": [
      "                   all        397        417      0.973      0.958      0.979      0.893\n",
      "\n",
      "      Epoch    GPU_mem   box_loss   cls_loss   dfl_loss  Instances       Size\n"
     ]
    },
    {
     "name": "stderr",
     "output_type": "stream",
     "text": [
      "    496/600      11.1G     0.2694     0.1825       0.83         16        640: 100%|██████████| 50/50 [00:40<00:00,  1.23it/s]\n",
      "                 Class     Images  Instances      Box(P          R      mAP50  mAP50-95): 100%|██████████| 13/13 [00:07<00:00,  1.85it/s]\n"
     ]
    },
    {
     "name": "stdout",
     "output_type": "stream",
     "text": [
      "                   all        397        417       0.97      0.955      0.978      0.894\n",
      "\n",
      "      Epoch    GPU_mem   box_loss   cls_loss   dfl_loss  Instances       Size\n"
     ]
    },
    {
     "name": "stderr",
     "output_type": "stream",
     "text": [
      "    497/600      11.1G     0.2482     0.1695       0.83         14        640: 100%|██████████| 50/50 [00:40<00:00,  1.23it/s]\n",
      "                 Class     Images  Instances      Box(P          R      mAP50  mAP50-95): 100%|██████████| 13/13 [00:07<00:00,  1.85it/s]\n"
     ]
    },
    {
     "name": "stdout",
     "output_type": "stream",
     "text": [
      "                   all        397        417      0.971      0.954      0.978      0.894\n",
      "\n",
      "      Epoch    GPU_mem   box_loss   cls_loss   dfl_loss  Instances       Size\n"
     ]
    },
    {
     "name": "stderr",
     "output_type": "stream",
     "text": [
      "    498/600      11.1G     0.2447     0.1667     0.8313         13        640: 100%|██████████| 50/50 [00:40<00:00,  1.23it/s]\n",
      "                 Class     Images  Instances      Box(P          R      mAP50  mAP50-95): 100%|██████████| 13/13 [00:07<00:00,  1.85it/s]\n"
     ]
    },
    {
     "name": "stdout",
     "output_type": "stream",
     "text": [
      "                   all        397        417      0.971      0.954      0.976      0.892\n",
      "\n",
      "      Epoch    GPU_mem   box_loss   cls_loss   dfl_loss  Instances       Size\n"
     ]
    },
    {
     "name": "stderr",
     "output_type": "stream",
     "text": [
      "    499/600      11.1G     0.2692     0.1799     0.8375         15        640: 100%|██████████| 50/50 [00:40<00:00,  1.23it/s]\n",
      "                 Class     Images  Instances      Box(P          R      mAP50  mAP50-95): 100%|██████████| 13/13 [00:07<00:00,  1.85it/s]\n"
     ]
    },
    {
     "name": "stdout",
     "output_type": "stream",
     "text": [
      "                   all        397        417       0.97      0.954      0.976      0.892\n",
      "\n",
      "      Epoch    GPU_mem   box_loss   cls_loss   dfl_loss  Instances       Size\n"
     ]
    },
    {
     "name": "stderr",
     "output_type": "stream",
     "text": [
      "    500/600        11G     0.2595     0.1725     0.8375         13        640: 100%|██████████| 50/50 [00:40<00:00,  1.23it/s]\n",
      "                 Class     Images  Instances      Box(P          R      mAP50  mAP50-95): 100%|██████████| 13/13 [00:07<00:00,  1.85it/s]\n"
     ]
    },
    {
     "name": "stdout",
     "output_type": "stream",
     "text": [
      "                   all        397        417      0.962      0.967      0.978      0.893\n",
      "\n",
      "      Epoch    GPU_mem   box_loss   cls_loss   dfl_loss  Instances       Size\n"
     ]
    },
    {
     "name": "stderr",
     "output_type": "stream",
     "text": [
      "    501/600      11.1G     0.2573     0.1725     0.8368         11        640: 100%|██████████| 50/50 [00:40<00:00,  1.24it/s]\n",
      "                 Class     Images  Instances      Box(P          R      mAP50  mAP50-95): 100%|██████████| 13/13 [00:07<00:00,  1.85it/s]\n"
     ]
    },
    {
     "name": "stdout",
     "output_type": "stream",
     "text": [
      "                   all        397        417      0.962      0.967      0.978      0.894\n",
      "\n",
      "      Epoch    GPU_mem   box_loss   cls_loss   dfl_loss  Instances       Size\n"
     ]
    },
    {
     "name": "stderr",
     "output_type": "stream",
     "text": [
      "    502/600      11.1G     0.2609     0.1727     0.8431         15        640: 100%|██████████| 50/50 [00:40<00:00,  1.23it/s]\n",
      "                 Class     Images  Instances      Box(P          R      mAP50  mAP50-95): 100%|██████████| 13/13 [00:07<00:00,  1.85it/s]\n"
     ]
    },
    {
     "name": "stdout",
     "output_type": "stream",
     "text": [
      "                   all        397        417      0.969      0.958      0.978      0.893\n",
      "\n",
      "      Epoch    GPU_mem   box_loss   cls_loss   dfl_loss  Instances       Size\n"
     ]
    },
    {
     "name": "stderr",
     "output_type": "stream",
     "text": [
      "    503/600        11G     0.2643     0.1711       0.84         13        640: 100%|██████████| 50/50 [00:40<00:00,  1.23it/s]\n",
      "                 Class     Images  Instances      Box(P          R      mAP50  mAP50-95): 100%|██████████| 13/13 [00:07<00:00,  1.83it/s]\n"
     ]
    },
    {
     "name": "stdout",
     "output_type": "stream",
     "text": [
      "                   all        397        417      0.962      0.966      0.977      0.892\n",
      "\n",
      "      Epoch    GPU_mem   box_loss   cls_loss   dfl_loss  Instances       Size\n"
     ]
    },
    {
     "name": "stderr",
     "output_type": "stream",
     "text": [
      "    504/600        11G     0.2619     0.1654     0.8368         15        640: 100%|██████████| 50/50 [00:40<00:00,  1.23it/s]\n",
      "                 Class     Images  Instances      Box(P          R      mAP50  mAP50-95): 100%|██████████| 13/13 [00:07<00:00,  1.85it/s]\n"
     ]
    },
    {
     "name": "stdout",
     "output_type": "stream",
     "text": [
      "                   all        397        417      0.967      0.956      0.976      0.891\n",
      "\n",
      "      Epoch    GPU_mem   box_loss   cls_loss   dfl_loss  Instances       Size\n"
     ]
    },
    {
     "name": "stderr",
     "output_type": "stream",
     "text": [
      "    505/600        11G     0.2488     0.1655     0.8246          7        640: 100%|██████████| 50/50 [00:40<00:00,  1.24it/s]\n",
      "                 Class     Images  Instances      Box(P          R      mAP50  mAP50-95): 100%|██████████| 13/13 [00:07<00:00,  1.85it/s]\n"
     ]
    },
    {
     "name": "stdout",
     "output_type": "stream",
     "text": [
      "                   all        397        417      0.959      0.965      0.977      0.891\n",
      "\n",
      "      Epoch    GPU_mem   box_loss   cls_loss   dfl_loss  Instances       Size\n"
     ]
    },
    {
     "name": "stderr",
     "output_type": "stream",
     "text": [
      "    506/600        11G     0.2567     0.1735      0.827          9        640: 100%|██████████| 50/50 [00:40<00:00,  1.23it/s]\n",
      "                 Class     Images  Instances      Box(P          R      mAP50  mAP50-95): 100%|██████████| 13/13 [00:07<00:00,  1.85it/s]\n"
     ]
    },
    {
     "name": "stdout",
     "output_type": "stream",
     "text": [
      "                   all        397        417      0.959      0.964      0.976      0.891\n",
      "\n",
      "      Epoch    GPU_mem   box_loss   cls_loss   dfl_loss  Instances       Size\n"
     ]
    },
    {
     "name": "stderr",
     "output_type": "stream",
     "text": [
      "    507/600      11.1G     0.2552     0.1718     0.8312          9        640: 100%|██████████| 50/50 [00:40<00:00,  1.23it/s]\n",
      "                 Class     Images  Instances      Box(P          R      mAP50  mAP50-95): 100%|██████████| 13/13 [00:07<00:00,  1.85it/s]\n"
     ]
    },
    {
     "name": "stdout",
     "output_type": "stream",
     "text": [
      "                   all        397        417      0.968      0.955      0.976      0.891\n",
      "\n",
      "      Epoch    GPU_mem   box_loss   cls_loss   dfl_loss  Instances       Size\n"
     ]
    },
    {
     "name": "stderr",
     "output_type": "stream",
     "text": [
      "    508/600      11.1G     0.2641     0.1774     0.8346         10        640: 100%|██████████| 50/50 [00:40<00:00,  1.24it/s]\n",
      "                 Class     Images  Instances      Box(P          R      mAP50  mAP50-95): 100%|██████████| 13/13 [00:07<00:00,  1.84it/s]\n"
     ]
    },
    {
     "name": "stdout",
     "output_type": "stream",
     "text": [
      "                   all        397        417      0.971      0.955      0.977      0.891\n",
      "\n",
      "      Epoch    GPU_mem   box_loss   cls_loss   dfl_loss  Instances       Size\n"
     ]
    },
    {
     "name": "stderr",
     "output_type": "stream",
     "text": [
      "    509/600      11.1G     0.2458     0.1655     0.8292         11        640: 100%|██████████| 50/50 [00:40<00:00,  1.23it/s]\n",
      "                 Class     Images  Instances      Box(P          R      mAP50  mAP50-95): 100%|██████████| 13/13 [00:07<00:00,  1.83it/s]\n"
     ]
    },
    {
     "name": "stdout",
     "output_type": "stream",
     "text": [
      "                   all        397        417      0.971      0.955      0.976      0.891\n",
      "\n",
      "      Epoch    GPU_mem   box_loss   cls_loss   dfl_loss  Instances       Size\n"
     ]
    },
    {
     "name": "stderr",
     "output_type": "stream",
     "text": [
      "    510/600        11G     0.2533      0.174     0.8385          6        640: 100%|██████████| 50/50 [00:40<00:00,  1.24it/s]\n",
      "                 Class     Images  Instances      Box(P          R      mAP50  mAP50-95): 100%|██████████| 13/13 [00:07<00:00,  1.85it/s]\n"
     ]
    },
    {
     "name": "stdout",
     "output_type": "stream",
     "text": [
      "                   all        397        417      0.972      0.956      0.976      0.891\n",
      "\n",
      "      Epoch    GPU_mem   box_loss   cls_loss   dfl_loss  Instances       Size\n"
     ]
    },
    {
     "name": "stderr",
     "output_type": "stream",
     "text": [
      "    511/600        11G     0.2628     0.1753       0.84         16        640: 100%|██████████| 50/50 [00:40<00:00,  1.23it/s]\n",
      "                 Class     Images  Instances      Box(P          R      mAP50  mAP50-95): 100%|██████████| 13/13 [00:07<00:00,  1.85it/s]\n"
     ]
    },
    {
     "name": "stdout",
     "output_type": "stream",
     "text": [
      "                   all        397        417      0.972      0.957      0.977       0.89\n",
      "\n",
      "      Epoch    GPU_mem   box_loss   cls_loss   dfl_loss  Instances       Size\n"
     ]
    },
    {
     "name": "stderr",
     "output_type": "stream",
     "text": [
      "    512/600      11.1G      0.259     0.1688     0.8365         11        640: 100%|██████████| 50/50 [00:40<00:00,  1.23it/s]\n",
      "                 Class     Images  Instances      Box(P          R      mAP50  mAP50-95): 100%|██████████| 13/13 [00:07<00:00,  1.85it/s]\n"
     ]
    },
    {
     "name": "stdout",
     "output_type": "stream",
     "text": [
      "                   all        397        417      0.973      0.957      0.977      0.891\n",
      "\n",
      "      Epoch    GPU_mem   box_loss   cls_loss   dfl_loss  Instances       Size\n"
     ]
    },
    {
     "name": "stderr",
     "output_type": "stream",
     "text": [
      "    513/600      11.1G     0.2457     0.1663     0.8269          9        640: 100%|██████████| 50/50 [00:40<00:00,  1.23it/s]\n",
      "                 Class     Images  Instances      Box(P          R      mAP50  mAP50-95): 100%|██████████| 13/13 [00:07<00:00,  1.84it/s]\n"
     ]
    },
    {
     "name": "stdout",
     "output_type": "stream",
     "text": [
      "                   all        397        417      0.973      0.957      0.978      0.892\n",
      "\n",
      "      Epoch    GPU_mem   box_loss   cls_loss   dfl_loss  Instances       Size\n"
     ]
    },
    {
     "name": "stderr",
     "output_type": "stream",
     "text": [
      "    514/600      11.1G     0.2538     0.1756     0.8238         21        640: 100%|██████████| 50/50 [00:40<00:00,  1.23it/s]\n",
      "                 Class     Images  Instances      Box(P          R      mAP50  mAP50-95): 100%|██████████| 13/13 [00:07<00:00,  1.85it/s]\n"
     ]
    },
    {
     "name": "stdout",
     "output_type": "stream",
     "text": [
      "                   all        397        417      0.973      0.956      0.978      0.891\n",
      "\n",
      "      Epoch    GPU_mem   box_loss   cls_loss   dfl_loss  Instances       Size\n"
     ]
    },
    {
     "name": "stderr",
     "output_type": "stream",
     "text": [
      "    515/600        11G     0.2579     0.1681      0.843         14        640: 100%|██████████| 50/50 [00:40<00:00,  1.23it/s]\n",
      "                 Class     Images  Instances      Box(P          R      mAP50  mAP50-95): 100%|██████████| 13/13 [00:07<00:00,  1.85it/s]\n"
     ]
    },
    {
     "name": "stdout",
     "output_type": "stream",
     "text": [
      "                   all        397        417      0.973      0.957      0.977       0.89\n",
      "\n",
      "      Epoch    GPU_mem   box_loss   cls_loss   dfl_loss  Instances       Size\n"
     ]
    },
    {
     "name": "stderr",
     "output_type": "stream",
     "text": [
      "    516/600      11.1G     0.2543     0.1765     0.8297         13        640: 100%|██████████| 50/50 [00:40<00:00,  1.23it/s]\n",
      "                 Class     Images  Instances      Box(P          R      mAP50  mAP50-95): 100%|██████████| 13/13 [00:07<00:00,  1.84it/s]\n"
     ]
    },
    {
     "name": "stdout",
     "output_type": "stream",
     "text": [
      "                   all        397        417      0.966      0.964      0.978      0.892\n",
      "\n",
      "      Epoch    GPU_mem   box_loss   cls_loss   dfl_loss  Instances       Size\n"
     ]
    },
    {
     "name": "stderr",
     "output_type": "stream",
     "text": [
      "    517/600        11G     0.2523     0.1718     0.8281         12        640: 100%|██████████| 50/50 [00:40<00:00,  1.23it/s]\n",
      "                 Class     Images  Instances      Box(P          R      mAP50  mAP50-95): 100%|██████████| 13/13 [00:07<00:00,  1.85it/s]\n"
     ]
    },
    {
     "name": "stdout",
     "output_type": "stream",
     "text": [
      "                   all        397        417      0.968      0.965      0.979      0.892\n",
      "\n",
      "      Epoch    GPU_mem   box_loss   cls_loss   dfl_loss  Instances       Size\n"
     ]
    },
    {
     "name": "stderr",
     "output_type": "stream",
     "text": [
      "    518/600      11.1G     0.2589     0.1687     0.8362         12        640: 100%|██████████| 50/50 [00:40<00:00,  1.23it/s]\n",
      "                 Class     Images  Instances      Box(P          R      mAP50  mAP50-95): 100%|██████████| 13/13 [00:07<00:00,  1.83it/s]\n"
     ]
    },
    {
     "name": "stdout",
     "output_type": "stream",
     "text": [
      "                   all        397        417      0.962      0.967      0.979      0.891\n",
      "\n",
      "      Epoch    GPU_mem   box_loss   cls_loss   dfl_loss  Instances       Size\n"
     ]
    },
    {
     "name": "stderr",
     "output_type": "stream",
     "text": [
      "    519/600      11.1G     0.2452     0.1753     0.8185          8        640: 100%|██████████| 50/50 [00:40<00:00,  1.24it/s]\n",
      "                 Class     Images  Instances      Box(P          R      mAP50  mAP50-95): 100%|██████████| 13/13 [00:07<00:00,  1.86it/s]\n"
     ]
    },
    {
     "name": "stdout",
     "output_type": "stream",
     "text": [
      "                   all        397        417      0.975      0.951      0.979      0.893\n",
      "\n",
      "      Epoch    GPU_mem   box_loss   cls_loss   dfl_loss  Instances       Size\n"
     ]
    },
    {
     "name": "stderr",
     "output_type": "stream",
     "text": [
      "    520/600      11.1G     0.2462     0.1673     0.8278          5        640: 100%|██████████| 50/50 [00:40<00:00,  1.23it/s]\n",
      "                 Class     Images  Instances      Box(P          R      mAP50  mAP50-95): 100%|██████████| 13/13 [00:07<00:00,  1.84it/s]\n"
     ]
    },
    {
     "name": "stdout",
     "output_type": "stream",
     "text": [
      "                   all        397        417      0.976      0.951      0.979      0.892\n",
      "\n",
      "      Epoch    GPU_mem   box_loss   cls_loss   dfl_loss  Instances       Size\n"
     ]
    },
    {
     "name": "stderr",
     "output_type": "stream",
     "text": [
      "    521/600      11.1G     0.2554     0.1677     0.8398         18        640: 100%|██████████| 50/50 [00:40<00:00,  1.22it/s]\n",
      "                 Class     Images  Instances      Box(P          R      mAP50  mAP50-95): 100%|██████████| 13/13 [00:07<00:00,  1.85it/s]\n"
     ]
    },
    {
     "name": "stdout",
     "output_type": "stream",
     "text": [
      "                   all        397        417      0.977      0.951      0.977      0.891\n",
      "\n",
      "      Epoch    GPU_mem   box_loss   cls_loss   dfl_loss  Instances       Size\n"
     ]
    },
    {
     "name": "stderr",
     "output_type": "stream",
     "text": [
      "    522/600      11.1G     0.2483     0.1656     0.8287          9        640: 100%|██████████| 50/50 [00:40<00:00,  1.23it/s]\n",
      "                 Class     Images  Instances      Box(P          R      mAP50  mAP50-95): 100%|██████████| 13/13 [00:07<00:00,  1.85it/s]\n"
     ]
    },
    {
     "name": "stdout",
     "output_type": "stream",
     "text": [
      "                   all        397        417      0.978      0.951       0.98      0.893\n",
      "\n",
      "      Epoch    GPU_mem   box_loss   cls_loss   dfl_loss  Instances       Size\n"
     ]
    },
    {
     "name": "stderr",
     "output_type": "stream",
     "text": [
      "    523/600      11.1G     0.2434     0.1662     0.8296         14        640: 100%|██████████| 50/50 [00:40<00:00,  1.23it/s]\n",
      "                 Class     Images  Instances      Box(P          R      mAP50  mAP50-95): 100%|██████████| 13/13 [00:07<00:00,  1.84it/s]\n"
     ]
    },
    {
     "name": "stdout",
     "output_type": "stream",
     "text": [
      "                   all        397        417      0.963      0.964      0.979      0.894\n",
      "\n",
      "      Epoch    GPU_mem   box_loss   cls_loss   dfl_loss  Instances       Size\n"
     ]
    },
    {
     "name": "stderr",
     "output_type": "stream",
     "text": [
      "    524/600        11G      0.248     0.1631      0.831         15        640: 100%|██████████| 50/50 [00:40<00:00,  1.23it/s]\n",
      "                 Class     Images  Instances      Box(P          R      mAP50  mAP50-95): 100%|██████████| 13/13 [00:07<00:00,  1.84it/s]\n"
     ]
    },
    {
     "name": "stdout",
     "output_type": "stream",
     "text": [
      "                   all        397        417      0.963      0.964      0.979      0.894\n",
      "\n",
      "      Epoch    GPU_mem   box_loss   cls_loss   dfl_loss  Instances       Size\n"
     ]
    },
    {
     "name": "stderr",
     "output_type": "stream",
     "text": [
      "    525/600        11G     0.2505      0.164      0.833         12        640: 100%|██████████| 50/50 [00:40<00:00,  1.23it/s]\n",
      "                 Class     Images  Instances      Box(P          R      mAP50  mAP50-95): 100%|██████████| 13/13 [00:07<00:00,  1.84it/s]\n"
     ]
    },
    {
     "name": "stdout",
     "output_type": "stream",
     "text": [
      "                   all        397        417      0.963      0.964      0.979      0.895\n",
      "\n",
      "      Epoch    GPU_mem   box_loss   cls_loss   dfl_loss  Instances       Size\n"
     ]
    },
    {
     "name": "stderr",
     "output_type": "stream",
     "text": [
      "    526/600      11.1G     0.2433     0.1668     0.8296         18        640: 100%|██████████| 50/50 [00:40<00:00,  1.23it/s]\n",
      "                 Class     Images  Instances      Box(P          R      mAP50  mAP50-95): 100%|██████████| 13/13 [00:06<00:00,  1.86it/s]\n"
     ]
    },
    {
     "name": "stdout",
     "output_type": "stream",
     "text": [
      "                   all        397        417      0.966      0.963      0.979      0.893\n",
      "\n",
      "      Epoch    GPU_mem   box_loss   cls_loss   dfl_loss  Instances       Size\n"
     ]
    },
    {
     "name": "stderr",
     "output_type": "stream",
     "text": [
      "    527/600        11G     0.2459     0.1687     0.8404         15        640: 100%|██████████| 50/50 [00:40<00:00,  1.23it/s]\n",
      "                 Class     Images  Instances      Box(P          R      mAP50  mAP50-95): 100%|██████████| 13/13 [00:07<00:00,  1.85it/s]\n"
     ]
    },
    {
     "name": "stdout",
     "output_type": "stream",
     "text": [
      "                   all        397        417      0.966      0.963      0.979      0.894\n",
      "\n",
      "      Epoch    GPU_mem   box_loss   cls_loss   dfl_loss  Instances       Size\n"
     ]
    },
    {
     "name": "stderr",
     "output_type": "stream",
     "text": [
      "    528/600        11G     0.2424     0.1636     0.8274          9        640: 100%|██████████| 50/50 [00:40<00:00,  1.23it/s]\n",
      "                 Class     Images  Instances      Box(P          R      mAP50  mAP50-95): 100%|██████████| 13/13 [00:07<00:00,  1.85it/s]\n"
     ]
    },
    {
     "name": "stdout",
     "output_type": "stream",
     "text": [
      "                   all        397        417      0.966      0.964      0.979      0.893\n",
      "\n",
      "      Epoch    GPU_mem   box_loss   cls_loss   dfl_loss  Instances       Size\n"
     ]
    },
    {
     "name": "stderr",
     "output_type": "stream",
     "text": [
      "    529/600      11.1G     0.2582     0.1765     0.8343         11        640: 100%|██████████| 50/50 [00:40<00:00,  1.23it/s]\n",
      "                 Class     Images  Instances      Box(P          R      mAP50  mAP50-95): 100%|██████████| 13/13 [00:07<00:00,  1.85it/s]\n"
     ]
    },
    {
     "name": "stdout",
     "output_type": "stream",
     "text": [
      "                   all        397        417      0.965      0.964      0.979      0.894\n",
      "\n",
      "      Epoch    GPU_mem   box_loss   cls_loss   dfl_loss  Instances       Size\n"
     ]
    },
    {
     "name": "stderr",
     "output_type": "stream",
     "text": [
      "    530/600      11.1G     0.2386     0.1632     0.8284         10        640: 100%|██████████| 50/50 [00:40<00:00,  1.23it/s]\n",
      "                 Class     Images  Instances      Box(P          R      mAP50  mAP50-95): 100%|██████████| 13/13 [00:07<00:00,  1.85it/s]\n"
     ]
    },
    {
     "name": "stdout",
     "output_type": "stream",
     "text": [
      "                   all        397        417      0.965      0.964      0.979      0.895\n",
      "\n",
      "      Epoch    GPU_mem   box_loss   cls_loss   dfl_loss  Instances       Size\n"
     ]
    },
    {
     "name": "stderr",
     "output_type": "stream",
     "text": [
      "    531/600        11G     0.2354     0.1629     0.8261         16        640: 100%|██████████| 50/50 [00:40<00:00,  1.23it/s]\n",
      "                 Class     Images  Instances      Box(P          R      mAP50  mAP50-95): 100%|██████████| 13/13 [00:07<00:00,  1.85it/s]\n"
     ]
    },
    {
     "name": "stdout",
     "output_type": "stream",
     "text": [
      "                   all        397        417      0.968      0.963      0.977      0.893\n",
      "\n",
      "      Epoch    GPU_mem   box_loss   cls_loss   dfl_loss  Instances       Size\n"
     ]
    },
    {
     "name": "stderr",
     "output_type": "stream",
     "text": [
      "    532/600      11.1G     0.2334     0.1591     0.8306         13        640: 100%|██████████| 50/50 [00:40<00:00,  1.23it/s]\n",
      "                 Class     Images  Instances      Box(P          R      mAP50  mAP50-95): 100%|██████████| 13/13 [00:07<00:00,  1.85it/s]\n"
     ]
    },
    {
     "name": "stdout",
     "output_type": "stream",
     "text": [
      "                   all        397        417      0.968      0.963      0.978      0.894\n",
      "\n",
      "      Epoch    GPU_mem   box_loss   cls_loss   dfl_loss  Instances       Size\n"
     ]
    },
    {
     "name": "stderr",
     "output_type": "stream",
     "text": [
      "    533/600        11G     0.2364     0.1564     0.8358          7        640: 100%|██████████| 50/50 [00:40<00:00,  1.23it/s]\n",
      "                 Class     Images  Instances      Box(P          R      mAP50  mAP50-95): 100%|██████████| 13/13 [00:07<00:00,  1.86it/s]\n"
     ]
    },
    {
     "name": "stdout",
     "output_type": "stream",
     "text": [
      "                   all        397        417      0.968      0.964      0.978      0.894\n",
      "\n",
      "      Epoch    GPU_mem   box_loss   cls_loss   dfl_loss  Instances       Size\n"
     ]
    },
    {
     "name": "stderr",
     "output_type": "stream",
     "text": [
      "    534/600        11G     0.2243     0.1587     0.8236         10        640: 100%|██████████| 50/50 [00:40<00:00,  1.23it/s]\n",
      "                 Class     Images  Instances      Box(P          R      mAP50  mAP50-95): 100%|██████████| 13/13 [00:07<00:00,  1.85it/s]\n"
     ]
    },
    {
     "name": "stdout",
     "output_type": "stream",
     "text": [
      "                   all        397        417      0.963       0.97      0.979      0.895\n",
      "\n",
      "      Epoch    GPU_mem   box_loss   cls_loss   dfl_loss  Instances       Size\n"
     ]
    },
    {
     "name": "stderr",
     "output_type": "stream",
     "text": [
      "    535/600      11.1G     0.2293     0.1572     0.8235         15        640: 100%|██████████| 50/50 [00:40<00:00,  1.23it/s]\n",
      "                 Class     Images  Instances      Box(P          R      mAP50  mAP50-95): 100%|██████████| 13/13 [00:07<00:00,  1.84it/s]\n"
     ]
    },
    {
     "name": "stdout",
     "output_type": "stream",
     "text": [
      "                   all        397        417      0.963      0.969      0.979      0.894\n",
      "\n",
      "      Epoch    GPU_mem   box_loss   cls_loss   dfl_loss  Instances       Size\n"
     ]
    },
    {
     "name": "stderr",
     "output_type": "stream",
     "text": [
      "    536/600      11.1G     0.2342     0.1679     0.8184         13        640: 100%|██████████| 50/50 [00:40<00:00,  1.23it/s]\n",
      "                 Class     Images  Instances      Box(P          R      mAP50  mAP50-95): 100%|██████████| 13/13 [00:06<00:00,  1.86it/s]\n"
     ]
    },
    {
     "name": "stdout",
     "output_type": "stream",
     "text": [
      "                   all        397        417      0.964      0.969      0.979      0.894\n",
      "\n",
      "      Epoch    GPU_mem   box_loss   cls_loss   dfl_loss  Instances       Size\n"
     ]
    },
    {
     "name": "stderr",
     "output_type": "stream",
     "text": [
      "    537/600      11.1G     0.2295      0.156     0.8294         17        640: 100%|██████████| 50/50 [00:40<00:00,  1.23it/s]\n",
      "                 Class     Images  Instances      Box(P          R      mAP50  mAP50-95): 100%|██████████| 13/13 [00:07<00:00,  1.86it/s]\n"
     ]
    },
    {
     "name": "stdout",
     "output_type": "stream",
     "text": [
      "                   all        397        417      0.965      0.969      0.979      0.894\n",
      "\n",
      "      Epoch    GPU_mem   box_loss   cls_loss   dfl_loss  Instances       Size\n"
     ]
    },
    {
     "name": "stderr",
     "output_type": "stream",
     "text": [
      "    538/600      11.1G     0.2398     0.1565     0.8301         13        640: 100%|██████████| 50/50 [00:40<00:00,  1.23it/s]\n",
      "                 Class     Images  Instances      Box(P          R      mAP50  mAP50-95): 100%|██████████| 13/13 [00:07<00:00,  1.85it/s]\n"
     ]
    },
    {
     "name": "stdout",
     "output_type": "stream",
     "text": [
      "                   all        397        417      0.965      0.969      0.979      0.894\n",
      "\n",
      "      Epoch    GPU_mem   box_loss   cls_loss   dfl_loss  Instances       Size\n"
     ]
    },
    {
     "name": "stderr",
     "output_type": "stream",
     "text": [
      "    539/600        11G     0.2387     0.1621     0.8254         17        640: 100%|██████████| 50/50 [00:40<00:00,  1.23it/s]\n",
      "                 Class     Images  Instances      Box(P          R      mAP50  mAP50-95): 100%|██████████| 13/13 [00:07<00:00,  1.86it/s]\n"
     ]
    },
    {
     "name": "stdout",
     "output_type": "stream",
     "text": [
      "                   all        397        417      0.965       0.97      0.979      0.894\n",
      "\n",
      "      Epoch    GPU_mem   box_loss   cls_loss   dfl_loss  Instances       Size\n"
     ]
    },
    {
     "name": "stderr",
     "output_type": "stream",
     "text": [
      "    540/600      11.1G     0.2347     0.1604     0.8265         13        640: 100%|██████████| 50/50 [00:40<00:00,  1.23it/s]\n",
      "                 Class     Images  Instances      Box(P          R      mAP50  mAP50-95): 100%|██████████| 13/13 [00:07<00:00,  1.83it/s]\n"
     ]
    },
    {
     "name": "stdout",
     "output_type": "stream",
     "text": [
      "                   all        397        417      0.965       0.97      0.979      0.895\n",
      "\n",
      "      Epoch    GPU_mem   box_loss   cls_loss   dfl_loss  Instances       Size\n"
     ]
    },
    {
     "name": "stderr",
     "output_type": "stream",
     "text": [
      "    541/600        11G     0.2465     0.1707     0.8358         13        640: 100%|██████████| 50/50 [00:40<00:00,  1.23it/s]\n",
      "                 Class     Images  Instances      Box(P          R      mAP50  mAP50-95): 100%|██████████| 13/13 [00:07<00:00,  1.85it/s]\n"
     ]
    },
    {
     "name": "stdout",
     "output_type": "stream",
     "text": [
      "                   all        397        417      0.966      0.971      0.979      0.895\n",
      "\n",
      "      Epoch    GPU_mem   box_loss   cls_loss   dfl_loss  Instances       Size\n"
     ]
    },
    {
     "name": "stderr",
     "output_type": "stream",
     "text": [
      "    542/600        11G     0.2216     0.1514     0.8203         12        640: 100%|██████████| 50/50 [00:40<00:00,  1.23it/s]\n",
      "                 Class     Images  Instances      Box(P          R      mAP50  mAP50-95): 100%|██████████| 13/13 [00:07<00:00,  1.85it/s]\n"
     ]
    },
    {
     "name": "stdout",
     "output_type": "stream",
     "text": [
      "                   all        397        417      0.966      0.971      0.978      0.895\n",
      "\n",
      "      Epoch    GPU_mem   box_loss   cls_loss   dfl_loss  Instances       Size\n"
     ]
    },
    {
     "name": "stderr",
     "output_type": "stream",
     "text": [
      "    543/600        11G     0.2386     0.1589     0.8362         23        640: 100%|██████████| 50/50 [00:40<00:00,  1.23it/s]\n",
      "                 Class     Images  Instances      Box(P          R      mAP50  mAP50-95): 100%|██████████| 13/13 [00:07<00:00,  1.83it/s]\n"
     ]
    },
    {
     "name": "stdout",
     "output_type": "stream",
     "text": [
      "                   all        397        417      0.966      0.971      0.978      0.895\n",
      "\n",
      "      Epoch    GPU_mem   box_loss   cls_loss   dfl_loss  Instances       Size\n"
     ]
    },
    {
     "name": "stderr",
     "output_type": "stream",
     "text": [
      "    544/600        11G     0.2328     0.1561     0.8299         13        640: 100%|██████████| 50/50 [00:40<00:00,  1.23it/s]\n",
      "                 Class     Images  Instances      Box(P          R      mAP50  mAP50-95): 100%|██████████| 13/13 [00:07<00:00,  1.84it/s]\n"
     ]
    },
    {
     "name": "stdout",
     "output_type": "stream",
     "text": [
      "                   all        397        417      0.964      0.971      0.978      0.895\n",
      "\n",
      "      Epoch    GPU_mem   box_loss   cls_loss   dfl_loss  Instances       Size\n"
     ]
    },
    {
     "name": "stderr",
     "output_type": "stream",
     "text": [
      "    545/600        11G     0.2326     0.1652     0.8356          8        640: 100%|██████████| 50/50 [00:40<00:00,  1.23it/s]\n",
      "                 Class     Images  Instances      Box(P          R      mAP50  mAP50-95): 100%|██████████| 13/13 [00:07<00:00,  1.85it/s]\n"
     ]
    },
    {
     "name": "stdout",
     "output_type": "stream",
     "text": [
      "                   all        397        417      0.964      0.971      0.978      0.895\n",
      "\n",
      "      Epoch    GPU_mem   box_loss   cls_loss   dfl_loss  Instances       Size\n"
     ]
    },
    {
     "name": "stderr",
     "output_type": "stream",
     "text": [
      "    546/600        11G     0.2333     0.1577     0.8327         12        640: 100%|██████████| 50/50 [00:40<00:00,  1.23it/s]\n",
      "                 Class     Images  Instances      Box(P          R      mAP50  mAP50-95): 100%|██████████| 13/13 [00:07<00:00,  1.84it/s]\n"
     ]
    },
    {
     "name": "stdout",
     "output_type": "stream",
     "text": [
      "                   all        397        417      0.967      0.969      0.978      0.895\n",
      "\n",
      "      Epoch    GPU_mem   box_loss   cls_loss   dfl_loss  Instances       Size\n"
     ]
    },
    {
     "name": "stderr",
     "output_type": "stream",
     "text": [
      "    547/600      11.1G     0.2391     0.1625     0.8329         11        640: 100%|██████████| 50/50 [00:40<00:00,  1.23it/s]\n",
      "                 Class     Images  Instances      Box(P          R      mAP50  mAP50-95): 100%|██████████| 13/13 [00:07<00:00,  1.86it/s]\n"
     ]
    },
    {
     "name": "stdout",
     "output_type": "stream",
     "text": [
      "                   all        397        417      0.966       0.97      0.978      0.896\n",
      "\n",
      "      Epoch    GPU_mem   box_loss   cls_loss   dfl_loss  Instances       Size\n"
     ]
    },
    {
     "name": "stderr",
     "output_type": "stream",
     "text": [
      "    548/600      11.1G     0.2282     0.1559     0.8221         24        640: 100%|██████████| 50/50 [00:40<00:00,  1.23it/s]\n",
      "                 Class     Images  Instances      Box(P          R      mAP50  mAP50-95): 100%|██████████| 13/13 [00:07<00:00,  1.85it/s]\n"
     ]
    },
    {
     "name": "stdout",
     "output_type": "stream",
     "text": [
      "                   all        397        417      0.966      0.969      0.978      0.895\n",
      "\n",
      "      Epoch    GPU_mem   box_loss   cls_loss   dfl_loss  Instances       Size\n"
     ]
    },
    {
     "name": "stderr",
     "output_type": "stream",
     "text": [
      "    549/600        11G      0.237     0.1589     0.8247         15        640: 100%|██████████| 50/50 [00:40<00:00,  1.23it/s]\n",
      "                 Class     Images  Instances      Box(P          R      mAP50  mAP50-95): 100%|██████████| 13/13 [00:07<00:00,  1.85it/s]\n"
     ]
    },
    {
     "name": "stdout",
     "output_type": "stream",
     "text": [
      "                   all        397        417      0.966      0.969      0.978      0.896\n",
      "\n",
      "      Epoch    GPU_mem   box_loss   cls_loss   dfl_loss  Instances       Size\n"
     ]
    },
    {
     "name": "stderr",
     "output_type": "stream",
     "text": [
      "    550/600      11.1G      0.238     0.1598     0.8252          7        640: 100%|██████████| 50/50 [00:40<00:00,  1.23it/s]\n",
      "                 Class     Images  Instances      Box(P          R      mAP50  mAP50-95): 100%|██████████| 13/13 [00:07<00:00,  1.86it/s]\n"
     ]
    },
    {
     "name": "stdout",
     "output_type": "stream",
     "text": [
      "                   all        397        417      0.964      0.969      0.977      0.895\n",
      "\n",
      "      Epoch    GPU_mem   box_loss   cls_loss   dfl_loss  Instances       Size\n"
     ]
    },
    {
     "name": "stderr",
     "output_type": "stream",
     "text": [
      "    551/600        11G     0.2231     0.1518     0.8247         10        640: 100%|██████████| 50/50 [00:40<00:00,  1.24it/s]\n",
      "                 Class     Images  Instances      Box(P          R      mAP50  mAP50-95): 100%|██████████| 13/13 [00:06<00:00,  1.86it/s]\n"
     ]
    },
    {
     "name": "stdout",
     "output_type": "stream",
     "text": [
      "                   all        397        417      0.964      0.969      0.976      0.893\n",
      "\n",
      "      Epoch    GPU_mem   box_loss   cls_loss   dfl_loss  Instances       Size\n"
     ]
    },
    {
     "name": "stderr",
     "output_type": "stream",
     "text": [
      "    552/600      11.1G     0.2209     0.1531     0.8207         15        640: 100%|██████████| 50/50 [00:40<00:00,  1.23it/s]\n",
      "                 Class     Images  Instances      Box(P          R      mAP50  mAP50-95): 100%|██████████| 13/13 [00:07<00:00,  1.85it/s]\n"
     ]
    },
    {
     "name": "stdout",
     "output_type": "stream",
     "text": [
      "                   all        397        417      0.966      0.969      0.976      0.894\n",
      "\n",
      "      Epoch    GPU_mem   box_loss   cls_loss   dfl_loss  Instances       Size\n"
     ]
    },
    {
     "name": "stderr",
     "output_type": "stream",
     "text": [
      "    553/600        11G       0.22     0.1524      0.825         12        640: 100%|██████████| 50/50 [00:40<00:00,  1.23it/s]\n",
      "                 Class     Images  Instances      Box(P          R      mAP50  mAP50-95): 100%|██████████| 13/13 [00:07<00:00,  1.85it/s]\n"
     ]
    },
    {
     "name": "stdout",
     "output_type": "stream",
     "text": [
      "                   all        397        417      0.965      0.968      0.976      0.893\n",
      "\n",
      "      Epoch    GPU_mem   box_loss   cls_loss   dfl_loss  Instances       Size\n"
     ]
    },
    {
     "name": "stderr",
     "output_type": "stream",
     "text": [
      "    554/600      11.1G     0.2221     0.1508      0.822         16        640: 100%|██████████| 50/50 [00:40<00:00,  1.23it/s]\n",
      "                 Class     Images  Instances      Box(P          R      mAP50  mAP50-95): 100%|██████████| 13/13 [00:07<00:00,  1.85it/s]\n"
     ]
    },
    {
     "name": "stdout",
     "output_type": "stream",
     "text": [
      "                   all        397        417      0.965      0.968      0.978      0.896\n",
      "\n",
      "      Epoch    GPU_mem   box_loss   cls_loss   dfl_loss  Instances       Size\n"
     ]
    },
    {
     "name": "stderr",
     "output_type": "stream",
     "text": [
      "    555/600      11.1G     0.2318     0.1566     0.8232         13        640: 100%|██████████| 50/50 [00:40<00:00,  1.23it/s]\n",
      "                 Class     Images  Instances      Box(P          R      mAP50  mAP50-95): 100%|██████████| 13/13 [00:07<00:00,  1.82it/s]\n"
     ]
    },
    {
     "name": "stdout",
     "output_type": "stream",
     "text": [
      "                   all        397        417      0.965      0.968      0.977      0.895\n",
      "\n",
      "      Epoch    GPU_mem   box_loss   cls_loss   dfl_loss  Instances       Size\n"
     ]
    },
    {
     "name": "stderr",
     "output_type": "stream",
     "text": [
      "    556/600      11.1G      0.226     0.1549     0.8281         16        640: 100%|██████████| 50/50 [00:40<00:00,  1.23it/s]\n",
      "                 Class     Images  Instances      Box(P          R      mAP50  mAP50-95): 100%|██████████| 13/13 [00:07<00:00,  1.85it/s]\n"
     ]
    },
    {
     "name": "stdout",
     "output_type": "stream",
     "text": [
      "                   all        397        417      0.965      0.968      0.978      0.895\n",
      "\n",
      "      Epoch    GPU_mem   box_loss   cls_loss   dfl_loss  Instances       Size\n"
     ]
    },
    {
     "name": "stderr",
     "output_type": "stream",
     "text": [
      "    557/600      11.1G     0.2388     0.1603     0.8362         11        640: 100%|██████████| 50/50 [00:40<00:00,  1.23it/s]\n",
      "                 Class     Images  Instances      Box(P          R      mAP50  mAP50-95): 100%|██████████| 13/13 [00:07<00:00,  1.85it/s]\n"
     ]
    },
    {
     "name": "stdout",
     "output_type": "stream",
     "text": [
      "                   all        397        417      0.965      0.968      0.978      0.895\n",
      "\n",
      "      Epoch    GPU_mem   box_loss   cls_loss   dfl_loss  Instances       Size\n"
     ]
    },
    {
     "name": "stderr",
     "output_type": "stream",
     "text": [
      "    558/600        11G     0.2205     0.1485     0.8228         12        640: 100%|██████████| 50/50 [00:40<00:00,  1.23it/s]\n",
      "                 Class     Images  Instances      Box(P          R      mAP50  mAP50-95): 100%|██████████| 13/13 [00:07<00:00,  1.85it/s]\n"
     ]
    },
    {
     "name": "stdout",
     "output_type": "stream",
     "text": [
      "                   all        397        417      0.965      0.968      0.977      0.894\n",
      "\n",
      "      Epoch    GPU_mem   box_loss   cls_loss   dfl_loss  Instances       Size\n"
     ]
    },
    {
     "name": "stderr",
     "output_type": "stream",
     "text": [
      "    559/600      11.1G     0.2323     0.1576     0.8344         12        640: 100%|██████████| 50/50 [00:40<00:00,  1.23it/s]\n",
      "                 Class     Images  Instances      Box(P          R      mAP50  mAP50-95): 100%|██████████| 13/13 [00:07<00:00,  1.85it/s]\n"
     ]
    },
    {
     "name": "stdout",
     "output_type": "stream",
     "text": [
      "                   all        397        417      0.964      0.969      0.976      0.893\n",
      "\n",
      "      Epoch    GPU_mem   box_loss   cls_loss   dfl_loss  Instances       Size\n"
     ]
    },
    {
     "name": "stderr",
     "output_type": "stream",
     "text": [
      "    560/600        11G     0.2164     0.1481     0.8229         16        640: 100%|██████████| 50/50 [00:40<00:00,  1.23it/s]\n",
      "                 Class     Images  Instances      Box(P          R      mAP50  mAP50-95): 100%|██████████| 13/13 [00:07<00:00,  1.84it/s]\n"
     ]
    },
    {
     "name": "stdout",
     "output_type": "stream",
     "text": [
      "                   all        397        417      0.964      0.969      0.976      0.894\n",
      "\n",
      "      Epoch    GPU_mem   box_loss   cls_loss   dfl_loss  Instances       Size\n"
     ]
    },
    {
     "name": "stderr",
     "output_type": "stream",
     "text": [
      "    561/600      11.1G     0.2301     0.1526     0.8306         11        640: 100%|██████████| 50/50 [00:40<00:00,  1.23it/s]\n",
      "                 Class     Images  Instances      Box(P          R      mAP50  mAP50-95): 100%|██████████| 13/13 [00:07<00:00,  1.85it/s]\n"
     ]
    },
    {
     "name": "stdout",
     "output_type": "stream",
     "text": [
      "                   all        397        417      0.964       0.97      0.976      0.894\n",
      "\n",
      "      Epoch    GPU_mem   box_loss   cls_loss   dfl_loss  Instances       Size\n"
     ]
    },
    {
     "name": "stderr",
     "output_type": "stream",
     "text": [
      "    562/600      11.1G      0.227     0.1547      0.825         11        640: 100%|██████████| 50/50 [00:40<00:00,  1.23it/s]\n",
      "                 Class     Images  Instances      Box(P          R      mAP50  mAP50-95): 100%|██████████| 13/13 [00:07<00:00,  1.86it/s]\n"
     ]
    },
    {
     "name": "stdout",
     "output_type": "stream",
     "text": [
      "                   all        397        417      0.964       0.97      0.976      0.894\n",
      "\n",
      "      Epoch    GPU_mem   box_loss   cls_loss   dfl_loss  Instances       Size\n"
     ]
    },
    {
     "name": "stderr",
     "output_type": "stream",
     "text": [
      "    563/600        11G     0.2207     0.1492     0.8191         11        640: 100%|██████████| 50/50 [00:40<00:00,  1.23it/s]\n",
      "                 Class     Images  Instances      Box(P          R      mAP50  mAP50-95): 100%|██████████| 13/13 [00:07<00:00,  1.85it/s]\n"
     ]
    },
    {
     "name": "stdout",
     "output_type": "stream",
     "text": [
      "                   all        397        417      0.964       0.97      0.977      0.895\n",
      "\n",
      "      Epoch    GPU_mem   box_loss   cls_loss   dfl_loss  Instances       Size\n"
     ]
    },
    {
     "name": "stderr",
     "output_type": "stream",
     "text": [
      "    564/600      11.1G      0.224     0.1521     0.8308         10        640: 100%|██████████| 50/50 [00:40<00:00,  1.23it/s]\n",
      "                 Class     Images  Instances      Box(P          R      mAP50  mAP50-95): 100%|██████████| 13/13 [00:07<00:00,  1.84it/s]\n"
     ]
    },
    {
     "name": "stdout",
     "output_type": "stream",
     "text": [
      "                   all        397        417      0.963       0.97      0.977      0.895\n",
      "\n",
      "      Epoch    GPU_mem   box_loss   cls_loss   dfl_loss  Instances       Size\n"
     ]
    },
    {
     "name": "stderr",
     "output_type": "stream",
     "text": [
      "    565/600        11G     0.2217     0.1526      0.821         11        640: 100%|██████████| 50/50 [00:40<00:00,  1.22it/s]\n",
      "                 Class     Images  Instances      Box(P          R      mAP50  mAP50-95): 100%|██████████| 13/13 [00:07<00:00,  1.83it/s]\n"
     ]
    },
    {
     "name": "stdout",
     "output_type": "stream",
     "text": [
      "                   all        397        417      0.963      0.971      0.978      0.896\n",
      "\u001b[34m\u001b[1mEarlyStopping: \u001b[0mTraining stopped early as no improvement observed in last 100 epochs. Best results observed at epoch 465, best model saved as best.pt.\n",
      "To update EarlyStopping(patience=100) pass a new patience value, i.e. `patience=300` or use `patience=0` to disable EarlyStopping.\n",
      "\n",
      "565 epochs completed in 7.659 hours.\n",
      "Optimizer stripped from Trained_model_YOLOv9_600Epochs/train/weights/last.pt, 51.7MB\n",
      "Optimizer stripped from Trained_model_YOLOv9_600Epochs/train/weights/best.pt, 51.7MB\n",
      "\n",
      "Validating Trained_model_YOLOv9_600Epochs/train/weights/best.pt...\n",
      "Ultralytics 8.3.21 🚀 Python-3.10.14 torch-2.4.0 CUDA:0 (Tesla T4, 15095MiB)\n",
      "                                                 CUDA:1 (Tesla T4, 15095MiB)\n",
      "YOLOv9c summary (fused): 384 layers, 25,323,874 parameters, 0 gradients, 102.3 GFLOPs\n"
     ]
    },
    {
     "name": "stderr",
     "output_type": "stream",
     "text": [
      "                 Class     Images  Instances      Box(P          R      mAP50  mAP50-95): 100%|██████████| 13/13 [00:07<00:00,  1.76it/s]\n"
     ]
    },
    {
     "name": "stdout",
     "output_type": "stream",
     "text": [
      "                   all        397        417      0.972      0.962      0.983      0.897\n",
      "        axial_negative         89         91      0.998      0.989      0.994      0.907\n",
      "        axial_positive         56         62          1      0.967      0.994      0.879\n",
      "      coronal_negative         63         66      0.911      0.985      0.963       0.87\n",
      "      coronal_positive         80         86      0.987      0.888      0.984      0.878\n",
      "     sagittal_negative         51         52      0.999      0.962      0.976      0.926\n",
      "     sagittal_positive         58         60      0.936       0.98      0.986      0.921\n",
      "Speed: 0.2ms preprocess, 14.1ms inference, 0.0ms loss, 1.0ms postprocess per image\n",
      "Results saved to \u001b[1mTrained_model_YOLOv9_600Epochs/train\u001b[0m\n"
     ]
    },
    {
     "name": "stderr",
     "output_type": "stream",
     "text": [
      "wandb:                                                                                \n",
      "wandb: \n",
      "wandb: Run history:\n",
      "wandb:                  lr/pg0 █████▇▇▇▇▇▆▆▆▆▅▅▅▅▅▄▄▄▄▄▃▃▃▃▃▂▂▂▂▂▁▁▁▁▁▁\n",
      "wandb:                  lr/pg1 █████▇▇▇▇▇▆▆▆▆▆▆▆▆▅▅▅▅▄▄▄▃▃▃▃▃▃▂▂▂▂▂▂▂▂▁\n",
      "wandb:                  lr/pg2 ███▇▇▇▇▇▇▇▆▆▆▆▆▆▅▅▅▅▅▄▄▄▄▄▄▃▃▃▃▃▃▃▃▂▂▂▂▁\n",
      "wandb:        metrics/mAP50(B) ▁▂▁▃▅▆▅▇▇██▇█▇██████████████████████████\n",
      "wandb:     metrics/mAP50-95(B) ▁▃▁▅▆▆▇▇▇▇▇▇▇▇▇▇▇▇▇█████████████████████\n",
      "wandb:    metrics/precision(B) ▁▁▃▄▄▆▇▇▇▇▇▇▇▇██████████████████████████\n",
      "wandb:       metrics/recall(B) ▃▁▅▆▆▄▆▇▅��█▇█▇██████████████████████████\n",
      "wandb:            model/GFLOPs ▁\n",
      "wandb:        model/parameters ▁\n",
      "wandb: model/speed_PyTorch(ms) ▁\n",
      "wandb:          train/box_loss ██▇▆▆▅▄▄▄▄▃▃▃▃▃▃▃▃▃▃▂▂▂▂▂▂▂▂▂▁▂▂▁▁▂▁▁▁▁▁\n",
      "wandb:          train/cls_loss █▇▅▅▄▃▃▃▃▂▂▂▂▂▂▂▂▂▂▂▂▂▁▁▁▁▁▁▁▁▁▁▁▁▁▁▁▁▁▁\n",
      "wandb:          train/dfl_loss █▅▅▄▄▃▃▃▃▃▂▃▃▃▂▂▂▂▂▂▂▂▂▂▂▂▁▂▂▂▁▁▁▂▁▁▁▁▁▁\n",
      "wandb:            val/box_loss ██▇▆▇▅▇▅▆▄▄▄▄▄▆▃▃▃▃▄▃▃▃▃▃▂▂▂▂▁▁▁▁▁▁▁▁▁▁▁\n",
      "wandb:            val/cls_loss ▅█▂▄▅▂▂▁▂▁▁▁▁▁▁▁▁▁▁▁▁▁▁▁▁▁▁▁▁▁▁▁▁▁▁▁▁▁▁▁\n",
      "wandb:            val/dfl_loss ▇▆█▆▃▅▃▃▃▄▂▃▃▂▂▂▂▂▂▁▂▁▁▁▁▂▁▁▁▁▁▁▁▁▁▁▁▁▁▁\n",
      "wandb: \n",
      "wandb: Run summary:\n",
      "wandb:                  lr/pg0 0.00069\n",
      "wandb:                  lr/pg1 0.00069\n",
      "wandb:                  lr/pg2 0.00069\n",
      "wandb:        metrics/mAP50(B) 0.98299\n",
      "wandb:     metrics/mAP50-95(B) 0.89689\n",
      "wandb:    metrics/precision(B) 0.97191\n",
      "wandb:       metrics/recall(B) 0.96177\n",
      "wandb:            model/GFLOPs 103.704\n",
      "wandb:        model/parameters 25533858\n",
      "wandb: model/speed_PyTorch(ms) 13.882\n",
      "wandb:          train/box_loss 0.22168\n",
      "wandb:          train/cls_loss 0.15259\n",
      "wandb:          train/dfl_loss 0.821\n",
      "wandb:            val/box_loss 0.48948\n",
      "wandb:            val/cls_loss 0.26102\n",
      "wandb:            val/dfl_loss 0.94886\n",
      "wandb: \n",
      "wandb: 🚀 View run train at: https://wandb.ai/nguyenthituyetlan122004-tr-ng-h-c/Trained_model_YOLOv9_600Epochs/runs/jw67k4sc\n",
      "wandb: ⭐️ View project at: https://wandb.ai/nguyenthituyetlan122004-tr-ng-h-c/Trained_model_YOLOv9_600Epochs\n",
      "wandb: Synced 5 W&B file(s), 0 media file(s), 10 artifact file(s) and 21 other file(s)\n",
      "wandb: Find logs at: ./wandb/run-20241024_064521-jw67k4sc/logs\n"
     ]
    }
   ],
   "source": [
    "# Train the model on the data.yaml example dataset for 300 epochs\n",
    "results = model.train(\n",
    "    data=\"/kaggle/working/brain_tumor_object_detection_90_10_processImage/data.yaml\",\n",
    "    epochs=600,\n",
    "    batch=32,\n",
    "    imgsz=640,\n",
    "    device=[0,1],\n",
    "    plots=True,\n",
    "    project=\"Trained_model_YOLOv9_600Epochs\"\n",
    ")"
   ]
  }
 ],
 "metadata": {
  "kaggle": {
   "accelerator": "nvidiaTeslaT4",
   "dataSources": [
    {
     "datasetId": 5934050,
     "sourceId": 9703262,
     "sourceType": "datasetVersion"
    }
   ],
   "dockerImageVersionId": 30787,
   "isGpuEnabled": true,
   "isInternetEnabled": true,
   "language": "python",
   "sourceType": "notebook"
  },
  "kernelspec": {
   "display_name": "Python 3",
   "language": "python",
   "name": "python3"
  },
  "language_info": {
   "codemirror_mode": {
    "name": "ipython",
    "version": 3
   },
   "file_extension": ".py",
   "mimetype": "text/x-python",
   "name": "python",
   "nbconvert_exporter": "python",
   "pygments_lexer": "ipython3",
   "version": "3.10.14"
  },
  "papermill": {
   "default_parameters": {},
   "duration": 27736.772006,
   "end_time": "2024-10-24T14:25:41.468243",
   "environment_variables": {},
   "exception": null,
   "input_path": "__notebook__.ipynb",
   "output_path": "__notebook__.ipynb",
   "parameters": {},
   "start_time": "2024-10-24T06:43:24.696237",
   "version": "2.6.0"
  }
 },
 "nbformat": 4,
 "nbformat_minor": 5
}
